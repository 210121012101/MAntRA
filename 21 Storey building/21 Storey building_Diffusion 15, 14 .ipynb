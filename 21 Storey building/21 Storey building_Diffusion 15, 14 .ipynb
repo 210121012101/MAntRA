{
 "cells": [
  {
   "cell_type": "code",
   "execution_count": 1,
   "metadata": {},
   "outputs": [
    {
     "data": {
      "text/plain": [
       "'\\nThis code belongs to the paper:\\n-- YC Mathpati, KS More, T Tripura, R Nayek, S Chakraborty (2023)\\n   MAntRA: A framework for model agnostic reliability analysis\\n   \\n-- This code is for 21 Storey building.\\n'"
      ]
     },
     "execution_count": 1,
     "metadata": {},
     "output_type": "execute_result"
    }
   ],
   "source": [
    "\"\"\"\n",
    "This code belongs to the paper:\n",
    "-- YC Mathpati, KS More, T Tripura, R Nayek, S Chakraborty (2023)\n",
    "   MAntRA: A framework for model agnostic reliability analysis\n",
    "   \n",
    "-- This code is for 21 Storey building.\n",
    "\"\"\""
   ]
  },
  {
   "cell_type": "code",
   "execution_count": 1,
   "metadata": {},
   "outputs": [],
   "source": [
    "import numpy as np\n",
    "import matplotlib.pyplot as plt\n",
    "from scipy import linalg as LA\n",
    "from sklearn.metrics import mean_squared_error as MSE\n",
    "\n",
    "\"\"\"\n",
    "The Dictionary creation part:\n",
    "~~~~~~~~~~~~~~~~~~~~~~~~~~~~~~~~~~~~~~~~~~~~~~~~~~~~~~~~~~~~\n",
    "\"\"\"\n",
    "def library(xt, polyn, harmonic):\n",
    "    if polyn == 0:\n",
    "        polyn = 1\n",
    "    \n",
    "    # The polynomial is (x1 + x2)^p, with p is the order\n",
    "    # poly order 0\n",
    "    ind = 0\n",
    "    n = len(xt[0])\n",
    "    D = np.ones([n,1])\n",
    "    \n",
    "    if polyn >= 1:\n",
    "        # poly order 1\n",
    "        for i in range(len(xt)):\n",
    "            ind = ind+1\n",
    "            new = np.vstack(xt[i,:])\n",
    "            D = np.append(D, new, axis=1)\n",
    "     \n",
    "    if polyn >= 2: \n",
    "        # ploy order 2\n",
    "        for i in range(len(xt)):\n",
    "            for j in  range(i,len(xt)):\n",
    "                ind = ind+1\n",
    "                new = np.multiply(xt[i,:], xt[j,:])\n",
    "                new = np.vstack(new)\n",
    "                D = np.append(D, new, axis=1) \n",
    "    \n",
    "    if polyn >= 3:    \n",
    "        # ploy order 3\n",
    "        for i in range(len(xt)):\n",
    "            for j in  range(i,len(xt)):\n",
    "                for k in  range(j,len(xt)):\n",
    "                    ind = ind+1\n",
    "                    new = np.multiply(np.multiply(xt[i,:], xt[j,:]), xt[k,:])\n",
    "                    new = np.vstack(new)\n",
    "                    D = np.append(D, new, axis=1) \n",
    "    \n",
    "    if polyn >= 4:\n",
    "        # ploy order 4\n",
    "        for i in range(len(xt)):\n",
    "            for j in  range(i,len(xt)):\n",
    "                for k in  range(j,len(xt)):\n",
    "                    for l in range(k,len(xt)):\n",
    "                        ind = ind+1\n",
    "                        new = np.multiply(np.multiply(xt[i,:], xt[j,:]), xt[k,:])\n",
    "                        new = np.multiply(new, xt[l,:])\n",
    "                        new = np.vstack(new)\n",
    "                        D = np.append(D, new, axis=1) \n",
    "    \n",
    "    if polyn >= 5:\n",
    "        # ploy order 5\n",
    "        for i in range(len(xt)):\n",
    "            for j in  range(i,len(xt)):\n",
    "                for k in  range(j,len(xt)):\n",
    "                    for l in  range(k,len(xt)):\n",
    "                        for m in  range(l,len(xt)):\n",
    "                            ind = ind+1\n",
    "                            new = np.multiply(xt[i,:], xt[j,:])\n",
    "                            new = np.multiply(new, xt[k,:])\n",
    "                            new = np.multiply(new, xt[l,:])\n",
    "                            new = np.multiply(new, xt[m,:])\n",
    "                            new = np.vstack(new)\n",
    "                            D = np.append(D, new, axis=1) \n",
    "    \n",
    "    if polyn >= 6:\n",
    "        # ploy order 6\n",
    "        for i in range(len(xt)):\n",
    "            for j in  range(i,len(xt)):\n",
    "                for k in  range(j,len(xt)):\n",
    "                    for l in  range(k,len(xt)):\n",
    "                        for m in  range(l,len(xt)):\n",
    "                            for n in  range(m,len(xt)):\n",
    "                                ind = ind+1\n",
    "                                new = np.multiply(xt[i,:], xt[j,:])\n",
    "                                new = np.multiply(new, xt[k,:])\n",
    "                                new = np.multiply(new, xt[l,:])\n",
    "                                new = np.multiply(new, xt[m,:])\n",
    "                                new = np.multiply(new, xt[n,:])\n",
    "                                new = np.vstack(new)\n",
    "                                D = np.append(D, new, axis=1) \n",
    "    \n",
    "#     # for the signum or sign operator\n",
    "#     for i in range(len(xt)):\n",
    "#         ind = ind+1\n",
    "#         new = np.vstack(np.sign(xt[i,:]))+0.0001\n",
    "#         D = np.append(D, new, axis=1)\n",
    "    \n",
    "    # for the modulus operator\n",
    "    for i in range(len(xt)):\n",
    "        ind = ind+1\n",
    "        new = np.vstack(abs(xt[i,:]))\n",
    "        D = np.append(D, new, axis=1)\n",
    "      \n",
    "    # for the tensor operator\n",
    "    for i in range(len(xt)):\n",
    "        for j in  range(len(xt)):\n",
    "            ind = ind+1\n",
    "            new = np.multiply(xt[i,:],abs(xt[j,:]))\n",
    "            new = np.vstack(new)\n",
    "            D = np.append(D, new, axis=1)\n",
    "            \n",
    "    if harmonic == 1:\n",
    "        for i in range(len(xt)):\n",
    "            ind = ind+1\n",
    "            new = np.vstack(np.sin(xt[i,:]))\n",
    "            D = np.append(D, new, axis=1)\n",
    "\n",
    "        for i in range(len(xt)):\n",
    "            ind = ind+1\n",
    "            new = np.vstack(np.cos(xt[i,:]))\n",
    "            D = np.append(D, new, axis=1)\n",
    "            \n",
    "    ind = len(D[0])\n",
    "    \n",
    "    return D, ind"
   ]
  },
  {
   "cell_type": "code",
   "execution_count": 2,
   "metadata": {},
   "outputs": [],
   "source": [
    "import numpy as np\n",
    "import matplotlib.pyplot as plt\n",
    "\"\"\"\n",
    "A MDOF system excited by random noise\n",
    "----------------------------------------------------------------------\n",
    "\"\"\"\n",
    "\n",
    "def drift_mat(dof,k,c,m):\n",
    "    dim = 2 * dof\n",
    "    A = np.zeros((dim,dim))\n",
    "    \n",
    "    for i in range(dim):\n",
    "        if (i%2 == 0):\n",
    "            A[i][i+1] = 1\n",
    "    \n",
    "        elif(i==1):\n",
    "            A[i][i-1] = -(k+k)/m\n",
    "            A[i][i] = -(c+c)/m\n",
    "            A[i][i+1] = k/m\n",
    "            A[i][i+2] = c/m\n",
    "    \n",
    "        elif(i==dim-1):\n",
    "            A[i][i] = -c/m\n",
    "            A[i][i-1] = -k/m\n",
    "            A[i][i-2] = c/m\n",
    "            A[i][i-3] = k/m\n",
    "            \n",
    "        else:\n",
    "            A[i][i-3] = k/m \n",
    "            A[i][i-2] = c/m\n",
    "            A[i][i-1] = -(k+k)/m\n",
    "            A[i][i] = -(c+c)/m\n",
    "            A[i][i+1] = k/m\n",
    "            A[i][i+2] = c/m\n",
    "    return A\n",
    "\n",
    "def M_DOF_sys(x_initial, dof, T):\n",
    "    # parameters of M_DOF_sys in Equation\n",
    "    m = 1\n",
    "    c = 2\n",
    "    k = 3000\n",
    "    sigma = 1\n",
    "    \n",
    "    # solution by euler maruyama\n",
    "    # -------------------------------------------------------\n",
    "    dt = 0.0001\n",
    "    t = np.arange(0, T+dt, dt)\n",
    "    Nsamp = 200 # no. of samples in the run\n",
    "\n",
    "    y11 = []  \n",
    "    y12 = []\n",
    "    y13 = []\n",
    "    y14 = []\n",
    "    y15 = []\n",
    "    y16 = []\n",
    "    y17 = []\n",
    "    y18 = []\n",
    "    \n",
    "    xz7 = []\n",
    "    xz8 = []\n",
    "    \n",
    "    xzs77 = []\n",
    "    xzs88 = []\n",
    "    \n",
    "    # Simulation Starts Here ::\n",
    "    # -------------------------------------------------------\n",
    "    for ensemble in range(Nsamp):\n",
    "        x0 = x_initial\n",
    "        x = x0                              # initial condition.\n",
    "        for n in range(len(t)-1):\n",
    "            dW = np.sqrt(dt)*np.random.randn(2*dof)\n",
    "            \n",
    "            '''LINEAR PART DRIFT'''\n",
    "        \n",
    "            A = drift_mat(dof,k,c,m)\n",
    "            \n",
    "            '''DIFFUSION TERM  = b'''\n",
    "            diffu_arr = np.zeros(2*dof)\n",
    "            for i in range(2*dof):\n",
    "                if (i%2 != 0):\n",
    "                    diffu_arr[i] = sigma/m\n",
    "            \n",
    "            soln_arr = x0 + np.matmul(A,x0)*dt + diffu_arr*dW        \n",
    "            x0 = soln_arr\n",
    "            x = np.column_stack((x, x0))\n",
    "            \n",
    "        y11.append(x[-11,:])       \n",
    "        y12.append(x[-12,:])\n",
    "        y13.append(x[-13,:])       # Displacement\n",
    "        y14.append(x[-14,:])\n",
    "        y15.append(x[-15,:])       # Displacement     \n",
    "        y16.append(x[-16,:])\n",
    "        y17.append(x[-17,:])       \n",
    "        y18.append(x[-18,:])\n",
    "\n",
    "        \n",
    "        zint7 = x[-13, 0:-1]        # Velocity\n",
    "        xfinal7 = x[-13, 1:] \n",
    "        xmz7 = (xfinal7 - zint7)\n",
    "        \n",
    "        zint8 = x[-15, 0:-1]       # Velocity\n",
    "        xfinal8 = x[-15, 1:] \n",
    "        xmz8 = (xfinal8 - zint8) \n",
    "\n",
    "        xz7.append(xmz7)\n",
    "        xz8.append(xmz8)\n",
    "        \n",
    "        xmzsq77 = np.multiply(xmz7, xmz7)\n",
    "        xzs77.append(xmzsq77)\n",
    "        \n",
    "        xmzsq88 = np.multiply(xmz8, xmz8)\n",
    "        xzs88.append(xmzsq88)\n",
    "        \n",
    "    xz7 = pow(dt,-1)*np.mean(np.array(xz7), axis = 0)\n",
    "    xz8 = pow(dt,-1)*np.mean(np.array(xz8), axis = 0)\n",
    "\n",
    "    xzs77 = pow(dt,-1)*np.mean(np.array(xzs77), axis = 0)\n",
    "    xzs88 = pow(dt,-1)*np.mean(np.array(xzs88), axis = 0)\n",
    "\n",
    "    y11 = np.array(y11)\n",
    "    y12 = np.array(y12)\n",
    "    y13 = np.array(y13)\n",
    "    y14 = np.array(y14)\n",
    "    y15 = np.array(y15)\n",
    "    y16 = np.array(y16)\n",
    "    y17 = np.array(y17)\n",
    "    y18 = np.array(y18)\n",
    "\n",
    "    time = t[0:-1]\n",
    "    return xz7, xz8, xzs77, xzs88, y11, y12, y13, y14, y15, y16, y17, y18, time"
   ]
  },
  {
   "cell_type": "code",
   "execution_count": 3,
   "metadata": {},
   "outputs": [],
   "source": [
    "np.random.seed(2)\n",
    "T = 1\n",
    "dof = 21\n",
    "x_initial = np.zeros(2*dof)"
   ]
  },
  {
   "cell_type": "code",
   "execution_count": 4,
   "metadata": {
    "scrolled": true
   },
   "outputs": [
    {
     "name": "stdout",
     "output_type": "stream",
     "text": [
      "\n"
     ]
    },
    {
     "data": {
      "text/plain": [
       "20.859048147996265"
      ]
     },
     "execution_count": 4,
     "metadata": {},
     "output_type": "execute_result"
    }
   ],
   "source": [
    "import time\n",
    "start = time.time()\n",
    "xz7, xz8, xzs77, xzs88, y11, y12, y13, y14, y15, y16, y17, y18, time_ = M_DOF_sys(x_initial, dof, T)\n",
    "end = time.time()\n",
    "print()\n",
    "TIMES = (end - start)/60\n",
    "TIMES"
   ]
  },
  {
   "cell_type": "code",
   "execution_count": 5,
   "metadata": {},
   "outputs": [
    {
     "name": "stdout",
     "output_type": "stream",
     "text": [
      "\n"
     ]
    },
    {
     "data": {
      "text/plain": [
       "5.4062581896781925"
      ]
     },
     "execution_count": 5,
     "metadata": {},
     "output_type": "execute_result"
    }
   ],
   "source": [
    "startD = time.time()\n",
    "# Expected Dictionary Creation:\n",
    "libr = []\n",
    "for j in range(len(y11)):\n",
    "    data = np.row_stack((y11[j,0:-1], y12[j,0:-1], y13[j,0:-1], y14[j,0:-1], y15[j,0:-1], y16[j,0:-1], y17[j,0:-1], y18[j,0:-1]))\n",
    "    Dtemp, nl = library(data, 1, 0)\n",
    "    libr.append(Dtemp)\n",
    "libr = np.array(libr)\n",
    "Dictionary= np.mean(libr, axis = 0)\n",
    "print()\n",
    "endD = time.time()\n",
    "TIMED = (endD - startD)/60\n",
    "TIMED"
   ]
  },
  {
   "cell_type": "code",
   "execution_count": 6,
   "metadata": {},
   "outputs": [
    {
     "name": "stdout",
     "output_type": "stream",
     "text": [
      "Total time 26.26530633767446\n"
     ]
    }
   ],
   "source": [
    "print('Total time', TIMES+TIMED)"
   ]
  },
  {
   "cell_type": "code",
   "execution_count": 7,
   "metadata": {},
   "outputs": [],
   "source": [
    "xdts = xzs77\n",
    "D = Dictionary"
   ]
  },
  {
   "cell_type": "code",
   "execution_count": 8,
   "metadata": {},
   "outputs": [
    {
     "data": {
      "text/plain": [
       "(10000, 81)"
      ]
     },
     "execution_count": 8,
     "metadata": {},
     "output_type": "execute_result"
    }
   ],
   "source": [
    "D.shape"
   ]
  },
  {
   "cell_type": "code",
   "execution_count": 9,
   "metadata": {},
   "outputs": [
    {
     "data": {
      "text/plain": [
       "(810000,)"
      ]
     },
     "execution_count": 9,
     "metadata": {},
     "output_type": "execute_result"
    }
   ],
   "source": [
    "Dict = D.reshape(-1,order='F')\n",
    "Dict.shape"
   ]
  },
  {
   "cell_type": "code",
   "execution_count": 10,
   "metadata": {
    "scrolled": true
   },
   "outputs": [
    {
     "name": "stdout",
     "output_type": "stream",
     "text": [
      "{'Relevant': matlab.double([[1.0],[5.0],[10.0],[15.0],[16.0],[22.0],[25.0],[33.0],[36.0],[38.0],[62.0],[66.0],[76.0]]), 'Value': matlab.double([[0.9971517057741365],[-2.208784708696819],[0.08804737106915496],[1.1612198629373638],[0.03864005321671668],[-0.2710952538083632],[6.505291021506413],[-73.29105255806566],[0.16624307423825338],[-0.4635422765099648],[7.703174796530834],[-0.1503369728963538],[2.5409780686755505]])}\n"
     ]
    }
   ],
   "source": [
    "#!/usr/bin/env python\n",
    "\"\"\"\n",
    "Sample script that uses the SparseBayes module created using\n",
    "MATLAB Compiler SDK.\n",
    "\n",
    "Refer to the MATLAB Compiler SDK documentation for more information.\n",
    "\"\"\"\n",
    "\n",
    "from __future__ import print_function\n",
    "import SparseBayes\n",
    "import matlab\n",
    "\n",
    "my_SparseBayes = SparseBayes.initialize()\n",
    "\n",
    "DictIn = matlab.double(Dict, size=(D.shape[0], D.shape[1]))\n",
    "targetIn = matlab.double(xdts, size=(D.shape[0], 1))\n",
    "DMOut = my_SparseBayes.SparseBayes(DictIn, targetIn)\n",
    "print(DMOut, sep='\\n')\n",
    "\n",
    "my_SparseBayes.terminate()"
   ]
  },
  {
   "cell_type": "code",
   "execution_count": 11,
   "metadata": {},
   "outputs": [
    {
     "name": "stdout",
     "output_type": "stream",
     "text": [
      "[1. 0. 0. 0. 1. 0. 0. 0. 0. 1. 0. 0. 0. 0. 1. 1. 0. 0. 0. 0. 0. 1. 0. 0.\n",
      " 1. 0. 0. 0. 0. 0. 0. 0. 1. 0. 0. 1. 0. 1. 0. 0. 0. 0. 0. 0. 0. 0. 0. 0.\n",
      " 0. 0. 0. 0. 0. 0. 0. 0. 0. 0. 0. 0. 0. 1. 0. 0. 0. 1. 0. 0. 0. 0. 0. 0.\n",
      " 0. 0. 0. 1. 0. 0. 0. 0. 0.]\n"
     ]
    }
   ],
   "source": [
    "c = np.array(DMOut['Value'])\n",
    "d = []\n",
    "for j in c:\n",
    "    d.append(j[0])\n",
    "    \n",
    "a = np.array(DMOut['Relevant'])\n",
    "b = []\n",
    "for i in a:\n",
    "    b.append(int((i[0])-1))\n",
    "    \n",
    "initz0 = np.zeros(D.shape[1])\n",
    "for i in b:\n",
    "    initz0[i] = 1\n",
    "    \n",
    "print(initz0)"
   ]
  },
  {
   "cell_type": "code",
   "execution_count": 12,
   "metadata": {},
   "outputs": [],
   "source": [
    "import warnings\n",
    "import math\n",
    "import numpy as np\n",
    "import scipy as sp\n",
    "import sympy as smp\n",
    "from scipy import stats\n",
    "from numpy import linalg as la\n",
    "import matplotlib.pyplot as plt\n",
    "from numpy.random import gamma\n",
    "from scipy.special import loggamma\n",
    "\n",
    "def Variational_Bayes_Code(X, y, initz0, tol, verbosity):\n",
    "\n",
    "    if (len(X) == 0 or len(y) == 0):\n",
    "        raise Exception('X and or y is missing')\n",
    "        \n",
    "    if (len(X) != len(y)):\n",
    "        raise Exception('Number of observations do not match')\n",
    "        \n",
    "    # X = stats.zscore(X, ddof = 1)         \n",
    "    # X = np.c_[np.ones(len(X)),X]\n",
    "    # X = np.c_[np.ones(len(X)),X]          \n",
    "    # y = y - np.mean(y)\n",
    "    N = len(X)\n",
    "    # Prior parameters of noise variance (Inverse Gamma dist)\n",
    "    A = 1e-4\n",
    "    B = 1e-4\n",
    "    vs = 10\n",
    "    tau0 = 1000\n",
    "    \n",
    "    if (len(initz0) == 0):\n",
    "        raise Exception('No initial value of z found')\n",
    "    else:\n",
    "        p0 = expit(-0.5*(np.sqrt(N)))       \n",
    "        \n",
    "        # Adding the intercept indicator variable (slightly less than 1 to prevent log(0) values) \n",
    "        # initz = np.hstack((1,initz0))  \n",
    "        initz = initz0\n",
    "\n",
    "        DS,LLcvg  = run_VB2(X, y, vs, A, B, tau0, p0, initz, tol, verbosity)    \n",
    "        # This is function which will come first\n",
    "        \n",
    "    out_vb   = DS\n",
    "    a = DS['zmean'] > 0.5\n",
    "    count = 0\n",
    "    modelIdx = []\n",
    "    for i in a:\n",
    "        if i == True:\n",
    "            modelIdx.append(count)\n",
    "        count += 1\n",
    "            \n",
    "    modelIdx = np.setdiff1d(modelIdx,0)\n",
    "    out_vb['modelIdx'] = modelIdx-1\n",
    "    out_vb['Zmed'] = DS['zmean'][modelIdx]\n",
    "    out_vb['Wsel'] = DS['wmean'][modelIdx]\n",
    "    out_vb['Wcov'] = DS['wCOV'][modelIdx, modelIdx]\n",
    "    out_vb['sig2'] = DS['sig2']\n",
    "    \n",
    "    return out_vb\n",
    "\n",
    "DS = {}\n",
    "def run_VB2(Xc, yc, vs, A, B, tau0, p0, initz, tol, verbosity):\n",
    "    \"\"\"This function is the implementation of VB from John T. Ormerod paper (2014)\n",
    "       This implementation uses slab scaling by noise variance\n",
    "       vs    : treated as a constant\n",
    "       A,B   : constants of the IG prior over noise variance\n",
    "       tau0  : Expected value of (sigma^{-2})\n",
    "       p0    : inclusion probablility\n",
    "       initz : Initial value of z\n",
    "       Xc    : Centered and standardized dictionary except the first column\n",
    "       yc    : Centered observations \"\"\"\n",
    "    \n",
    "    Lambda    = logit(p0)\n",
    "    iter_     = 0\n",
    "    max_iter  = 100\n",
    "    LL        = np.zeros(max_iter)        \n",
    "    zm        = np.reshape(initz,(-1))            \n",
    "    taum      = tau0                      \n",
    "    invVs     = 1/vs\n",
    "    \n",
    "    X = Xc\n",
    "    y = yc\n",
    "    XtX = (X.T) @ X\n",
    "    XtX = 0.5*(XtX + (XtX).T)\n",
    "    Xty = (X.T) @ y                 \n",
    "    yty = (y.T) @ y\n",
    "\n",
    "    eyep = np.eye(len(XtX))\n",
    "    [N,p] = X.shape\n",
    "    allidx = np.arange(p)\n",
    "    zm[0] = 1                                                                   # Always include the intercept \n",
    "    Abar    = (A + 0.5*N + 0.5*p)\n",
    "    converged = 0\n",
    "    \n",
    "    while (converged==0):\n",
    "        if (iter_==100):\n",
    "            break\n",
    "        \n",
    "        Zm       = np.diag(zm)\n",
    "        Omg      = (np.reshape(zm,(-1,1)) @ np.reshape(zm,(1,-1))) + (Zm @ (eyep-Zm))\n",
    "        # Update the mean and covariance of the coefficients given mean of z\n",
    "        term1    = XtX * Omg                                                       # elementwisw multiplication\n",
    "        invSigma = taum * (term1 + invVs * eyep)\n",
    "        invSigma = 0.5*(invSigma + invSigma.T)                                     # symmetric\n",
    "        Sigma    = la.inv(invSigma) @ eyep\n",
    "        mu       = taum * (Sigma @ Zm @ Xty)                                       # @ ---> matrix multiplication\n",
    "        \n",
    "        # Update tau related to sigma\n",
    "        term2    = 2 * Xty @ Zm @ mu\n",
    "        term3    =  np.reshape(mu,(len(initz0),1)) @ np.reshape(mu,(1,len(initz0)))+ Sigma\n",
    "        term4    = yty - term2 + np.trace((term1 + invVs * eyep) @ term3)    \n",
    "        s        = B + 0.5*term4\n",
    "        \n",
    "        if s<0:\n",
    "            warnings.warn('s turned out be less than 0. Taking absolute value')\n",
    "            s = B + 0.5*abs(term4)\n",
    "        \n",
    "        taum     = Abar / s\n",
    "        zstr   = zm\n",
    "\n",
    "        order   = np.setdiff1d(np.random.permutation(p), 0, assume_unique=True)\n",
    "        for j in order: \n",
    "            muj     = mu[j]                            \n",
    "            sigmaj  = Sigma[j,j]\n",
    "            \n",
    "            remidx  = np.setdiff1d(allidx,j)\n",
    "            mu_j    = mu[remidx]\n",
    "            Sigma_jj= Sigma[remidx,j]\n",
    "            etaj    = (Lambda - 0.5 * taum * ((muj**2 + sigmaj) * XtX[j,j]) \n",
    "                       + taum * np.reshape(X[:,j],(1,-1)) @ (np.reshape(y,(-1,1))*muj \n",
    "                        -X[:,remidx] @ np.diag(zstr[remidx]) @ ((mu_j * muj + Sigma_jj).reshape(-1,1))))\n",
    "            zstr[j] = expit(etaj)\n",
    "            \n",
    "        zm = zstr\n",
    "        \n",
    "        # Calculate marginal log-likelihood\n",
    "        \n",
    "        LL[iter_] = ( 0.5*p \n",
    "                    - 0.5*N*np.log(2*np.pi) \n",
    "                    + 0.5*p*np.log(invVs) \n",
    "                    + A*np.log(B)\n",
    "                    - loggamma(A)\n",
    "                    + loggamma(Abar) \n",
    "                    - Abar*np.log(s)\n",
    "                    + 0.5*np.log(la.det(Sigma))\n",
    "                    + np.nansum(zm*(np.log(p0) - np.log(zm))) \n",
    "                    + np.nansum((1-zm)*(np.log(1-p0) - np.log(1-zm))))\n",
    "        \n",
    "        if(verbosity):\n",
    "            print(f'Iteration = {iter_}  log(Likelihood) = {LL[iter_]}')\n",
    "        \n",
    "        if(iter_>1):\n",
    "            cvg = LL[iter_] - LL[iter_-1]\n",
    "            \n",
    "            if (cvg < 0 and verbosity):\n",
    "                print('OOPS!  log(like) decreasing!!')\n",
    "            elif (cvg<tol or iter_> max_iter):\n",
    "                converged = 1\n",
    "                LL = LL[0:iter_]\n",
    "                \n",
    "        iter_    = iter_ + 1\n",
    "    DS['zmean'] = zm\n",
    "    DS['wmean'] = mu\n",
    "    DS['wCOV'] = Sigma\n",
    "    DS['sig2'] = 1/taum\n",
    "    LLcvg    = LL[-1]\n",
    "    return DS, LLcvg\n",
    "    \n",
    "def logit(C):\n",
    "    logitC = np.log(C) - np.log(1-C)\n",
    "    return logitC\n",
    "\n",
    "def expit(C):\n",
    "    expitC = 1./(1 + np.exp(-C))\n",
    "    return expitC"
   ]
  },
  {
   "cell_type": "code",
   "execution_count": 13,
   "metadata": {},
   "outputs": [
    {
     "data": {
      "text/plain": [
       "((10000, 81), (81,))"
      ]
     },
     "execution_count": 13,
     "metadata": {},
     "output_type": "execute_result"
    }
   ],
   "source": [
    "D.shape, initz0.shape"
   ]
  },
  {
   "cell_type": "code",
   "execution_count": 14,
   "metadata": {},
   "outputs": [
    {
     "name": "stderr",
     "output_type": "stream",
     "text": [
      "C:\\Users\\USER\\AppData\\Local\\Temp/ipykernel_12052/3512855728.py:147: RuntimeWarning: divide by zero encountered in log\n",
      "  + np.nansum((1-zm)*(np.log(1-p0) - np.log(1-zm))))\n",
      "C:\\Users\\USER\\AppData\\Local\\Temp/ipykernel_12052/3512855728.py:147: RuntimeWarning: invalid value encountered in multiply\n",
      "  + np.nansum((1-zm)*(np.log(1-p0) - np.log(1-zm))))\n"
     ]
    },
    {
     "name": "stdout",
     "output_type": "stream",
     "text": [
      "Iteration = 0  log(Likelihood) = 8057.727457392202\n"
     ]
    },
    {
     "name": "stderr",
     "output_type": "stream",
     "text": [
      "C:\\Users\\USER\\AppData\\Local\\Temp/ipykernel_12052/3512855728.py:174: RuntimeWarning: overflow encountered in exp\n",
      "  expitC = 1./(1 + np.exp(-C))\n",
      "C:\\Users\\USER\\AppData\\Local\\Temp/ipykernel_12052/3512855728.py:146: RuntimeWarning: divide by zero encountered in log\n",
      "  + np.nansum(zm*(np.log(p0) - np.log(zm)))\n",
      "C:\\Users\\USER\\AppData\\Local\\Temp/ipykernel_12052/3512855728.py:146: RuntimeWarning: invalid value encountered in multiply\n",
      "  + np.nansum(zm*(np.log(p0) - np.log(zm)))\n"
     ]
    },
    {
     "name": "stdout",
     "output_type": "stream",
     "text": [
      "Iteration = 1  log(Likelihood) = 8121.055347164063\n",
      "Iteration = 2  log(Likelihood) = 8121.056592107774\n",
      "Iteration = 3  log(Likelihood) = 8121.056592187508\n",
      "{'zmean': array([1.00000000e+00, 2.38498279e-47, 1.08812791e-22, 7.00824648e-46,\n",
      "       1.14856307e-22, 1.16864720e-41, 1.22184239e-22, 3.25887782e-33,\n",
      "       1.30987218e-22, 1.00000000e+00, 8.85067981e-41, 0.00000000e+00,\n",
      "       1.15476222e-39, 0.00000000e+00, 1.92065014e-38, 1.00000000e+00,\n",
      "       2.90409667e-37, 2.34453836e-33, 1.80551734e-22, 9.25262343e-27,\n",
      "       1.81662247e-22, 7.32823104e-27, 1.82288102e-22, 1.94439752e-26,\n",
      "       1.83150304e-22, 1.79650511e-22, 1.92315478e-22, 1.78270352e-22,\n",
      "       1.92370788e-22, 1.79902835e-22, 1.92433630e-22, 1.78972834e-22,\n",
      "       1.92503643e-22, 1.93707149e-26, 1.81594570e-22, 1.24594149e-30,\n",
      "       1.82447273e-22, 4.54705237e-26, 1.82948301e-22, 1.25888745e-25,\n",
      "       1.83677808e-22, 1.81259714e-22, 1.92371361e-22, 1.80092961e-22,\n",
      "       1.92413956e-22, 1.81407174e-22, 1.92470487e-22, 1.79778489e-22,\n",
      "       1.92533239e-22, 1.38785544e-24, 1.81024244e-22, 1.14882093e-25,\n",
      "       1.81864855e-22, 1.29416074e-30, 1.82677353e-22, 4.97366007e-25,\n",
      "       1.83296324e-22, 1.82568876e-22, 1.92434353e-22, 1.82100539e-22,\n",
      "       1.92471086e-22, 1.82892973e-22, 1.92510097e-22, 1.80538784e-22,\n",
      "       1.92565631e-22, 7.07464738e-24, 1.87147005e-22, 1.65255872e-24,\n",
      "       1.86531483e-22, 1.60113864e-24, 1.86719788e-22, 9.00454921e-28,\n",
      "       1.87241150e-22, 1.83456498e-22, 1.92503416e-22, 1.84184623e-22,\n",
      "       1.92533435e-22, 1.84488656e-22, 1.92565210e-22, 1.81705501e-22,\n",
      "       1.92602938e-22]), 'wmean': array([ 9.86365113e-01,  5.37439985e-47, -4.41518764e-24, -1.11400538e-45,\n",
      "       -2.08081057e-24, -7.31377580e-42, -5.72809353e-24, -4.25323697e-33,\n",
      "       -5.76897989e-24,  1.39829686e-01,  1.60230704e-41,  0.00000000e+00,\n",
      "        2.46623380e-40,  0.00000000e+00,  5.71351074e-39,  8.90231837e-02,\n",
      "        7.55069092e-38,  3.91887796e-33,  1.22797628e-23,  1.95384385e-27,\n",
      "        1.88113086e-23, -8.12917866e-27,  1.84602045e-23,  1.49008563e-26,\n",
      "        1.72826297e-23, -5.64228271e-24, -6.36023401e-25,  1.41220788e-23,\n",
      "       -5.85817476e-25,  2.75636911e-23, -5.53316810e-25, -1.87111709e-24,\n",
      "       -8.83406590e-25, -8.74202258e-27, -4.68670721e-24,  2.50701097e-32,\n",
      "       -3.57801445e-24, -7.10380428e-26, -7.18618333e-24,  6.71343388e-26,\n",
      "       -1.55008746e-23, -1.33740079e-24, -5.85584796e-25,  1.45863783e-23,\n",
      "       -4.62984714e-25,  2.57083420e-23, -3.59062404e-25, -2.98146353e-24,\n",
      "       -5.82884808e-25,  5.24533701e-25, -4.17561636e-24,  3.09398083e-26,\n",
      "       -6.00229822e-24,  8.66781108e-31, -7.99169546e-24,  3.57334324e-25,\n",
      "       -8.11834257e-24, -3.18905630e-24, -5.42883566e-25,  1.52665801e-23,\n",
      "       -3.67233166e-25,  2.51112799e-23, -2.44265245e-25, -2.78385015e-24,\n",
      "       -3.74470273e-25, -6.94636365e-24, -2.10898347e-23, -2.66333700e-24,\n",
      "       -2.35713076e-23, -3.50831434e-25, -2.55602910e-23,  7.34134872e-29,\n",
      "       -2.15519635e-23, -7.44674325e-24, -8.78406047e-25,  1.32079307e-23,\n",
      "       -6.03940255e-25,  2.25034426e-23, -3.65127846e-25, -7.78233953e-25,\n",
      "       -4.62903717e-25]), 'wCOV': array([[ 1.74548825e-05, -4.48032053e-50,  4.26545926e-26, ...,\n",
      "         3.01766802e-27,  1.30793079e-26,  2.65024115e-27],\n",
      "       [-4.48032053e-50,  1.11451795e-01, -2.20587052e-70, ...,\n",
      "        -3.89503702e-71,  2.33616602e-70, -2.98470667e-71],\n",
      "       [ 4.26545926e-26, -2.20587052e-70,  1.11451795e-01, ...,\n",
      "        -1.97903639e-47, -7.67854859e-47, -1.69252891e-47],\n",
      "       ...,\n",
      "       [ 3.01766802e-27, -3.89503702e-71, -1.97903639e-47, ...,\n",
      "         1.11451795e-01, -1.41175091e-47, -2.91238611e-48],\n",
      "       [ 1.30793079e-26,  2.33616602e-70, -7.67854859e-47, ...,\n",
      "        -1.41175091e-47,  1.11451795e-01, -1.47563768e-47],\n",
      "       [ 2.65024115e-27, -2.98470667e-71, -1.69252891e-47, ...,\n",
      "        -2.91238611e-48, -1.47563768e-47,  1.11451795e-01]]), 'sig2': 0.011145185140679323, 'modelIdx': array([ 8, 14]), 'Zmed': array([1., 1.]), 'Wsel': array([0.13982969, 0.08902318]), 'Wcov': array([0.0027763 , 0.00282879])}\n"
     ]
    }
   ],
   "source": [
    "tol = 0.0001\n",
    "verbosity = True\n",
    "initz0 = initz0\n",
    "DS = Variational_Bayes_Code(D, xdts, initz0, tol, verbosity)\n",
    "\n",
    "print(DS) "
   ]
  },
  {
   "cell_type": "code",
   "execution_count": 16,
   "metadata": {},
   "outputs": [
    {
     "data": {
      "text/plain": [
       "array([1.74548825e-05, 1.11451795e-01, 1.11451795e-01, 1.11451795e-01,\n",
       "       1.11451795e-01, 1.11451795e-01, 1.11451795e-01, 1.11451795e-01,\n",
       "       1.11451795e-01, 2.77630320e-03, 1.11451795e-01, 1.11451795e-01,\n",
       "       1.11451795e-01, 1.11451795e-01, 1.11451795e-01, 2.82879175e-03,\n",
       "       1.11451795e-01, 1.11451795e-01, 1.11451795e-01, 1.11451795e-01,\n",
       "       1.11451795e-01, 1.11451795e-01, 1.11451795e-01, 1.11451795e-01,\n",
       "       1.11451795e-01, 1.11451795e-01, 1.11451795e-01, 1.11451795e-01,\n",
       "       1.11451795e-01, 1.11451795e-01, 1.11451795e-01, 1.11451795e-01,\n",
       "       1.11451795e-01, 1.11451795e-01, 1.11451795e-01, 1.11451795e-01,\n",
       "       1.11451795e-01, 1.11451795e-01, 1.11451795e-01, 1.11451795e-01,\n",
       "       1.11451795e-01, 1.11451795e-01, 1.11451795e-01, 1.11451795e-01,\n",
       "       1.11451795e-01, 1.11451795e-01, 1.11451795e-01, 1.11451795e-01,\n",
       "       1.11451795e-01, 1.11451795e-01, 1.11451795e-01, 1.11451795e-01,\n",
       "       1.11451795e-01, 1.11451795e-01, 1.11451795e-01, 1.11451795e-01,\n",
       "       1.11451795e-01, 1.11451795e-01, 1.11451795e-01, 1.11451795e-01,\n",
       "       1.11451795e-01, 1.11451795e-01, 1.11451795e-01, 1.11451795e-01,\n",
       "       1.11451795e-01, 1.11451795e-01, 1.11451795e-01, 1.11451795e-01,\n",
       "       1.11451795e-01, 1.11451795e-01, 1.11451795e-01, 1.11451795e-01,\n",
       "       1.11451795e-01, 1.11451795e-01, 1.11451795e-01, 1.11451795e-01,\n",
       "       1.11451795e-01, 1.11451795e-01, 1.11451795e-01, 1.11451795e-01,\n",
       "       1.11451795e-01])"
      ]
     },
     "execution_count": 16,
     "metadata": {},
     "output_type": "execute_result"
    }
   ],
   "source": [
    "np.diag(DS['wCOV'])"
   ]
  },
  {
   "cell_type": "code",
   "execution_count": 17,
   "metadata": {},
   "outputs": [
    {
     "name": "stdout",
     "output_type": "stream",
     "text": [
      "\n",
      "0.9931591580867489\n"
     ]
    },
    {
     "data": {
      "image/png": "[encoded data removed]",
      "text/plain": [
       "<Figure size 432x288 with 1 Axes>"
      ]
     },
     "metadata": {
      "needs_background": "light"
     },
     "output_type": "display_data"
    }
   ],
   "source": [
    "zmean15 = DS['zmean']\n",
    "wmean15 = DS['wmean']\n",
    "zmean15[np.where(np.diag(DS['wCOV'])>5e-4)] = 0\n",
    "plt.stem(zmean15)\n",
    "wmean15[np.where(np.diag(DS['wCOV'])>5e-4)] = 0\n",
    "print()\n",
    "print(np.sqrt(wmean15[0]))"
   ]
  },
  {
   "cell_type": "code",
   "execution_count": 18,
   "metadata": {},
   "outputs": [],
   "source": [
    "xdts = xzs88"
   ]
  },
  {
   "cell_type": "code",
   "execution_count": 19,
   "metadata": {},
   "outputs": [
    {
     "name": "stdout",
     "output_type": "stream",
     "text": [
      "{'Relevant': matlab.double([[1.0],[12.0],[21.0],[29.0],[38.0],[39.0],[40.0],[48.0],[54.0],[66.0]]), 'Value': matlab.double([[0.9898238800188733],[0.1984746422085559],[-1.7640145233784053],[22.759960116207843],[0.16043836300211084],[4.804876679996905],[-0.5365290588344515],[2.621775577335877],[0.019734250831577486],[0.16141525748343863]])}\n"
     ]
    }
   ],
   "source": [
    "#!/usr/bin/env python\n",
    "\"\"\"\n",
    "Sample script that uses the SparseBayes module created using\n",
    "MATLAB Compiler SDK.\n",
    "\n",
    "Refer to the MATLAB Compiler SDK documentation for more information.\n",
    "\"\"\"\n",
    "\n",
    "from __future__ import print_function\n",
    "import SparseBayes\n",
    "import matlab\n",
    "\n",
    "my_SparseBayes = SparseBayes.initialize()\n",
    "\n",
    "DictIn = matlab.double(Dict, size=(D.shape[0], D.shape[1]))\n",
    "targetIn = matlab.double(xdts, size=(D.shape[0], 1))\n",
    "DMOut = my_SparseBayes.SparseBayes(DictIn, targetIn)\n",
    "print(DMOut, sep='\\n')\n",
    "\n",
    "my_SparseBayes.terminate()"
   ]
  },
  {
   "cell_type": "code",
   "execution_count": 20,
   "metadata": {},
   "outputs": [
    {
     "name": "stdout",
     "output_type": "stream",
     "text": [
      "[1. 0. 0. 0. 0. 0. 0. 0. 0. 0. 0. 1. 0. 0. 0. 0. 0. 0. 0. 0. 1. 0. 0. 0.\n",
      " 0. 0. 0. 0. 1. 0. 0. 0. 0. 0. 0. 0. 0. 1. 1. 1. 0. 0. 0. 0. 0. 0. 0. 1.\n",
      " 0. 0. 0. 0. 0. 1. 0. 0. 0. 0. 0. 0. 0. 0. 0. 0. 0. 1. 0. 0. 0. 0. 0. 0.\n",
      " 0. 0. 0. 0. 0. 0. 0. 0. 0.]\n"
     ]
    }
   ],
   "source": [
    "c = np.array(DMOut['Value'])\n",
    "d = []\n",
    "for j in c:\n",
    "    d.append(j[0])\n",
    "    \n",
    "a = np.array(DMOut['Relevant'])\n",
    "b = []\n",
    "for i in a:\n",
    "    b.append(int((i[0])-1))\n",
    "    \n",
    "initz0 = np.zeros(D.shape[1])\n",
    "for i in b:\n",
    "    initz0[i] = 1\n",
    "    \n",
    "print(initz0)"
   ]
  },
  {
   "cell_type": "code",
   "execution_count": 21,
   "metadata": {},
   "outputs": [
    {
     "name": "stderr",
     "output_type": "stream",
     "text": [
      "C:\\Users\\USER\\AppData\\Local\\Temp/ipykernel_12052/3512855728.py:147: RuntimeWarning: divide by zero encountered in log\n",
      "  + np.nansum((1-zm)*(np.log(1-p0) - np.log(1-zm))))\n",
      "C:\\Users\\USER\\AppData\\Local\\Temp/ipykernel_12052/3512855728.py:147: RuntimeWarning: invalid value encountered in multiply\n",
      "  + np.nansum((1-zm)*(np.log(1-p0) - np.log(1-zm))))\n",
      "C:\\Users\\USER\\AppData\\Local\\Temp/ipykernel_12052/3512855728.py:174: RuntimeWarning: overflow encountered in exp\n",
      "  expitC = 1./(1 + np.exp(-C))\n"
     ]
    },
    {
     "name": "stdout",
     "output_type": "stream",
     "text": [
      "Iteration = 0  log(Likelihood) = 8210.289564420636\n"
     ]
    },
    {
     "name": "stderr",
     "output_type": "stream",
     "text": [
      "C:\\Users\\USER\\AppData\\Local\\Temp/ipykernel_12052/3512855728.py:146: RuntimeWarning: divide by zero encountered in log\n",
      "  + np.nansum(zm*(np.log(p0) - np.log(zm)))\n",
      "C:\\Users\\USER\\AppData\\Local\\Temp/ipykernel_12052/3512855728.py:146: RuntimeWarning: invalid value encountered in multiply\n",
      "  + np.nansum(zm*(np.log(p0) - np.log(zm)))\n"
     ]
    },
    {
     "name": "stdout",
     "output_type": "stream",
     "text": [
      "Iteration = 1  log(Likelihood) = 8270.800493227316\n",
      "Iteration = 2  log(Likelihood) = 8270.80184150347\n",
      "Iteration = 3  log(Likelihood) = 8270.80184159064\n",
      "{'zmean': array([1.00000000e+00, 2.38498558e-47, 1.08812792e-22, 7.00825419e-46,\n",
      "       1.14856309e-22, 1.16864826e-41, 1.22184240e-22, 3.25887947e-33,\n",
      "       1.30987219e-22, 0.00000000e+00, 8.85068743e-41, 1.00000000e+00,\n",
      "       1.15476315e-39, 0.00000000e+00, 1.92065159e-38, 0.00000000e+00,\n",
      "       2.90409869e-37, 2.34453956e-33, 1.80551734e-22, 9.25262531e-27,\n",
      "       1.81662247e-22, 7.32823257e-27, 1.82288102e-22, 1.94439789e-26,\n",
      "       1.83150305e-22, 1.79650512e-22, 1.92315478e-22, 1.78270352e-22,\n",
      "       1.92370788e-22, 1.79902836e-22, 1.92433630e-22, 1.78972834e-22,\n",
      "       1.92503643e-22, 1.93707185e-26, 1.81594570e-22, 1.24594197e-30,\n",
      "       1.82447274e-22, 4.54705314e-26, 1.82948301e-22, 1.25888764e-25,\n",
      "       1.83677808e-22, 1.81259714e-22, 1.92371361e-22, 1.80092961e-22,\n",
      "       1.92413956e-22, 1.81407174e-22, 1.92470487e-22, 1.79778489e-22,\n",
      "       1.92533239e-22, 1.38785558e-24, 1.81024245e-22, 1.14882111e-25,\n",
      "       1.81864855e-22, 1.29416124e-30, 1.82677353e-22, 4.97366067e-25,\n",
      "       1.83296324e-22, 1.82568877e-22, 1.92434353e-22, 1.82100539e-22,\n",
      "       1.92471086e-22, 1.82892973e-22, 1.92510097e-22, 1.80538784e-22,\n",
      "       1.92565631e-22, 7.07464786e-24, 1.87147005e-22, 1.65255888e-24,\n",
      "       1.86531483e-22, 1.60113879e-24, 1.86719789e-22, 9.00455147e-28,\n",
      "       1.87241150e-22, 1.83456498e-22, 1.92503416e-22, 1.84184623e-22,\n",
      "       1.92533435e-22, 1.84488656e-22, 1.92565210e-22, 1.81705501e-22,\n",
      "       1.92602938e-22]), 'wmean': array([ 9.82107592e-01, -4.89852960e-48,  4.65563846e-23,  1.08386184e-45,\n",
      "        4.60182222e-23,  1.01225502e-41,  4.82820612e-23,  9.67406660e-33,\n",
      "        5.30653043e-23,  0.00000000e+00,  8.62550807e-41,  2.49428979e-01,\n",
      "        1.02515597e-39,  0.00000000e+00,  1.57760390e-38,  0.00000000e+00,\n",
      "        2.36756294e-37,  9.11794140e-34, -8.36233859e-24, -9.70262782e-27,\n",
      "       -1.06355296e-23,  4.06143874e-27, -8.14843509e-24,  8.99226983e-28,\n",
      "       -2.42718076e-24,  1.75223169e-23,  6.14035128e-24,  1.54412469e-23,\n",
      "        5.97699264e-24,  2.42871402e-23,  5.38874363e-24,  4.03083937e-23,\n",
      "        5.40102587e-24,  3.31386634e-27,  3.01502819e-23,  7.67872153e-31,\n",
      "        2.85388555e-23,  6.10056833e-26,  2.80177007e-23, -1.14809935e-25,\n",
      "        2.28553400e-23,  1.81250993e-23,  5.94795563e-24,  1.53859386e-23,\n",
      "        5.69604692e-24,  2.22134377e-23,  5.10583905e-24,  3.97285027e-23,\n",
      "        5.08208085e-24, -7.92688120e-26,  1.27193833e-23,  7.45460368e-26,\n",
      "        1.45907934e-23,  3.98154228e-30,  1.23639946e-23,  4.27858035e-25,\n",
      "        8.19656626e-24,  2.08075747e-23,  5.33800541e-24,  1.36357242e-23,\n",
      "        5.10766347e-24,  2.44142542e-23,  4.66593524e-24,  3.89749013e-23,\n",
      "        4.52795837e-24,  8.37249392e-24,  2.21474728e-23,  2.22372356e-24,\n",
      "        2.39481523e-23,  3.30585888e-24,  2.72235972e-23,  1.61406914e-27,\n",
      "        2.52136029e-23,  2.40774004e-23,  5.29141144e-24,  1.68469263e-23,\n",
      "        5.04708062e-24,  2.09740085e-23,  4.52059716e-24,  3.91517210e-23,\n",
      "        4.38787436e-24]), 'wCOV': array([[ 1.67776623e-05, -6.69428769e-50,  4.03632211e-26, ...,\n",
      "         2.63333928e-27,  1.12380637e-26,  2.31727134e-27],\n",
      "       [-6.69428769e-50,  1.09290934e-01, -3.02021369e-70, ...,\n",
      "        -4.66601662e-71,  1.71359063e-70, -3.78730737e-71],\n",
      "       [ 4.03632211e-26, -3.02021369e-70,  1.09290934e-01, ...,\n",
      "        -2.06799052e-47, -7.70432408e-47, -1.74956892e-47],\n",
      "       ...,\n",
      "       [ 2.63333928e-27, -4.66601662e-71, -2.06799052e-47, ...,\n",
      "         1.09290934e-01, -1.49759858e-47, -3.04004303e-48],\n",
      "       [ 1.12380637e-26,  1.71359063e-70, -7.70432408e-47, ...,\n",
      "        -1.49759858e-47,  1.09290934e-01, -1.57285666e-47],\n",
      "       [ 2.31727134e-27, -3.78730737e-71, -1.74956892e-47, ...,\n",
      "        -3.04004303e-48, -1.57285666e-47,  1.09290934e-01]]), 'sig2': 0.010929099158590748, 'modelIdx': array([10]), 'Zmed': array([1.]), 'Wsel': array([0.24942898]), 'Wcov': array([0.0002073])}\n"
     ]
    }
   ],
   "source": [
    "tol = 0.0001\n",
    "verbosity = True\n",
    "initz0 = initz0\n",
    "DS = Variational_Bayes_Code(D, xdts, initz0, tol, verbosity)\n",
    "\n",
    "print(DS) "
   ]
  },
  {
   "cell_type": "code",
   "execution_count": 22,
   "metadata": {},
   "outputs": [
    {
     "data": {
      "text/plain": [
       "array([1.67776623e-05, 1.09290934e-01, 1.09290934e-01, 1.09290934e-01,\n",
       "       1.09290934e-01, 1.09290934e-01, 1.09290934e-01, 1.09290934e-01,\n",
       "       1.09290934e-01, 1.09290934e-01, 1.09290934e-01, 2.07297493e-04,\n",
       "       1.09290934e-01, 1.09290934e-01, 1.09290934e-01, 1.09290934e-01,\n",
       "       1.09290934e-01, 1.09290934e-01, 1.09290934e-01, 1.09290934e-01,\n",
       "       1.09290934e-01, 1.09290934e-01, 1.09290934e-01, 1.09290934e-01,\n",
       "       1.09290934e-01, 1.09290934e-01, 1.09290934e-01, 1.09290934e-01,\n",
       "       1.09290934e-01, 1.09290934e-01, 1.09290934e-01, 1.09290934e-01,\n",
       "       1.09290934e-01, 1.09290934e-01, 1.09290934e-01, 1.09290934e-01,\n",
       "       1.09290934e-01, 1.09290934e-01, 1.09290934e-01, 1.09290934e-01,\n",
       "       1.09290934e-01, 1.09290934e-01, 1.09290934e-01, 1.09290934e-01,\n",
       "       1.09290934e-01, 1.09290934e-01, 1.09290934e-01, 1.09290934e-01,\n",
       "       1.09290934e-01, 1.09290934e-01, 1.09290934e-01, 1.09290934e-01,\n",
       "       1.09290934e-01, 1.09290934e-01, 1.09290934e-01, 1.09290934e-01,\n",
       "       1.09290934e-01, 1.09290934e-01, 1.09290934e-01, 1.09290934e-01,\n",
       "       1.09290934e-01, 1.09290934e-01, 1.09290934e-01, 1.09290934e-01,\n",
       "       1.09290934e-01, 1.09290934e-01, 1.09290934e-01, 1.09290934e-01,\n",
       "       1.09290934e-01, 1.09290934e-01, 1.09290934e-01, 1.09290934e-01,\n",
       "       1.09290934e-01, 1.09290934e-01, 1.09290934e-01, 1.09290934e-01,\n",
       "       1.09290934e-01, 1.09290934e-01, 1.09290934e-01, 1.09290934e-01,\n",
       "       1.09290934e-01])"
      ]
     },
     "execution_count": 22,
     "metadata": {},
     "output_type": "execute_result"
    }
   ],
   "source": [
    "np.diag(DS['wCOV'])"
   ]
  },
  {
   "cell_type": "code",
   "execution_count": 24,
   "metadata": {},
   "outputs": [
    {
     "name": "stdout",
     "output_type": "stream",
     "text": [
      "\n",
      "0.9910134166011874\n"
     ]
    },
    {
     "data": {
      "image/png": "[encoded data removed]",
      "text/plain": [
       "<Figure size 432x288 with 1 Axes>"
      ]
     },
     "metadata": {
      "needs_background": "light"
     },
     "output_type": "display_data"
    }
   ],
   "source": [
    "zmean14 = DS['zmean']\n",
    "wmean14 = DS['wmean']\n",
    "zmean14[np.where(np.diag(DS['wCOV'])>5e-5)] = 0\n",
    "plt.stem(zmean14)\n",
    "wmean14[np.where(np.diag(DS['wCOV'])>5e-5)] = 0\n",
    "print()\n",
    "print(np.sqrt(wmean14[0]))"
   ]
  },
  {
   "cell_type": "code",
   "execution_count": null,
   "metadata": {},
   "outputs": [],
   "source": []
  }
 ],
 "metadata": {
  "interpreter": {
   "hash": "3f37e94951d1aba8aea1180f8978b4824e076f548924d8dec1753cbbb0da26fd"
  },
  "kernelspec": {
   "display_name": "Python 3 (ipykernel)",
   "language": "python",
   "name": "python3"
  },
  "language_info": {
   "codemirror_mode": {
    "name": "ipython",
    "version": 3
   },
   "file_extension": ".py",
   "mimetype": "text/x-python",
   "name": "python",
   "nbconvert_exporter": "python",
   "pygments_lexer": "ipython3",
   "version": "3.9.7"
  },
  "toc": {
   "base_numbering": 1,
   "nav_menu": {},
   "number_sections": true,
   "sideBar": true,
   "skip_h1_title": false,
   "title_cell": "Table of Contents",
   "title_sidebar": "Contents",
   "toc_cell": false,
   "toc_position": {},
   "toc_section_display": true,
   "toc_window_display": false
  },
  "varInspector": {
   "cols": {
    "lenName": 16,
    "lenType": 16,
    "lenVar": 40
   },
   "kernels_config": {
    "python": {
     "delete_cmd_postfix": "",
     "delete_cmd_prefix": "del ",
     "library": "var_list.py",
     "varRefreshCmd": "print(var_dic_list())"
    },
    "r": {
     "delete_cmd_postfix": ") ",
     "delete_cmd_prefix": "rm(",
     "library": "var_list.r",
     "varRefreshCmd": "cat(var_dic_list()) "
    }
   },
   "types_to_exclude": [
    "module",
    "function",
    "builtin_function_or_method",
    "instance",
    "_Feature"
   ],
   "window_display": false
  }
 },
 "nbformat": 4,
 "nbformat_minor": 4
}
