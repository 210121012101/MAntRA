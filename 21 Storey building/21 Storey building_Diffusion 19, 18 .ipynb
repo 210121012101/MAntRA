{
 "cells": [
  {
   "cell_type": "code",
   "execution_count": 1,
   "metadata": {},
   "outputs": [
    {
     "data": {
      "text/plain": [
       "'\\nThis code belongs to the paper:\\n-- YC Mathpati, KS More, T Tripura, R Nayek, S Chakraborty (2023)\\n   MAntRA: A framework for model agnostic reliability analysis\\n   \\n-- This code is for 21 Storey building.\\n'"
      ]
     },
     "execution_count": 1,
     "metadata": {},
     "output_type": "execute_result"
    }
   ],
   "source": [
    "\"\"\"\n",
    "This code belongs to the paper:\n",
    "-- YC Mathpati, KS More, T Tripura, R Nayek, S Chakraborty (2023)\n",
    "   MAntRA: A framework for model agnostic reliability analysis\n",
    "   \n",
    "-- This code is for 21 Storey building.\n",
    "\"\"\""
   ]
  },
  {
   "cell_type": "code",
   "execution_count": 1,
   "metadata": {},
   "outputs": [],
   "source": [
    "import numpy as np\n",
    "import matplotlib.pyplot as plt\n",
    "from scipy import linalg as LA\n",
    "from sklearn.metrics import mean_squared_error as MSE\n",
    "\n",
    "\"\"\"\n",
    "The Dictionary creation part:\n",
    "~~~~~~~~~~~~~~~~~~~~~~~~~~~~~~~~~~~~~~~~~~~~~~~~~~~~~~~~~~~~\n",
    "\"\"\"\n",
    "def library(xt, polyn, harmonic):\n",
    "    if polyn == 0:\n",
    "        polyn = 1\n",
    "    \n",
    "    # The polynomial is (x1 + x2)^p, with p is the order\n",
    "    # poly order 0\n",
    "    ind = 0\n",
    "    n = len(xt[0])\n",
    "    D = np.ones([n,1])\n",
    "    \n",
    "    if polyn >= 1:\n",
    "        # poly order 1\n",
    "        for i in range(len(xt)):\n",
    "            ind = ind+1\n",
    "            new = np.vstack(xt[i,:])\n",
    "            D = np.append(D, new, axis=1)\n",
    "     \n",
    "    if polyn >= 2: \n",
    "        # ploy order 2\n",
    "        for i in range(len(xt)):\n",
    "            for j in  range(i,len(xt)):\n",
    "                ind = ind+1\n",
    "                new = np.multiply(xt[i,:], xt[j,:])\n",
    "                new = np.vstack(new)\n",
    "                D = np.append(D, new, axis=1) \n",
    "    \n",
    "    if polyn >= 3:    \n",
    "        # ploy order 3\n",
    "        for i in range(len(xt)):\n",
    "            for j in  range(i,len(xt)):\n",
    "                for k in  range(j,len(xt)):\n",
    "                    ind = ind+1\n",
    "                    new = np.multiply(np.multiply(xt[i,:], xt[j,:]), xt[k,:])\n",
    "                    new = np.vstack(new)\n",
    "                    D = np.append(D, new, axis=1) \n",
    "    \n",
    "    if polyn >= 4:\n",
    "        # ploy order 4\n",
    "        for i in range(len(xt)):\n",
    "            for j in  range(i,len(xt)):\n",
    "                for k in  range(j,len(xt)):\n",
    "                    for l in range(k,len(xt)):\n",
    "                        ind = ind+1\n",
    "                        new = np.multiply(np.multiply(xt[i,:], xt[j,:]), xt[k,:])\n",
    "                        new = np.multiply(new, xt[l,:])\n",
    "                        new = np.vstack(new)\n",
    "                        D = np.append(D, new, axis=1) \n",
    "    \n",
    "    if polyn >= 5:\n",
    "        # ploy order 5\n",
    "        for i in range(len(xt)):\n",
    "            for j in  range(i,len(xt)):\n",
    "                for k in  range(j,len(xt)):\n",
    "                    for l in  range(k,len(xt)):\n",
    "                        for m in  range(l,len(xt)):\n",
    "                            ind = ind+1\n",
    "                            new = np.multiply(xt[i,:], xt[j,:])\n",
    "                            new = np.multiply(new, xt[k,:])\n",
    "                            new = np.multiply(new, xt[l,:])\n",
    "                            new = np.multiply(new, xt[m,:])\n",
    "                            new = np.vstack(new)\n",
    "                            D = np.append(D, new, axis=1) \n",
    "    \n",
    "    if polyn >= 6:\n",
    "        # ploy order 6\n",
    "        for i in range(len(xt)):\n",
    "            for j in  range(i,len(xt)):\n",
    "                for k in  range(j,len(xt)):\n",
    "                    for l in  range(k,len(xt)):\n",
    "                        for m in  range(l,len(xt)):\n",
    "                            for n in  range(m,len(xt)):\n",
    "                                ind = ind+1\n",
    "                                new = np.multiply(xt[i,:], xt[j,:])\n",
    "                                new = np.multiply(new, xt[k,:])\n",
    "                                new = np.multiply(new, xt[l,:])\n",
    "                                new = np.multiply(new, xt[m,:])\n",
    "                                new = np.multiply(new, xt[n,:])\n",
    "                                new = np.vstack(new)\n",
    "                                D = np.append(D, new, axis=1) \n",
    "    \n",
    "#     # for the signum or sign operator\n",
    "#     for i in range(len(xt)):\n",
    "#         ind = ind+1\n",
    "#         new = np.vstack(np.sign(xt[i,:]))+0.0001\n",
    "#         D = np.append(D, new, axis=1)\n",
    "    \n",
    "    # for the modulus operator\n",
    "    for i in range(len(xt)):\n",
    "        ind = ind+1\n",
    "        new = np.vstack(abs(xt[i,:]))\n",
    "        D = np.append(D, new, axis=1)\n",
    "      \n",
    "    # for the tensor operator\n",
    "    for i in range(len(xt)):\n",
    "        for j in  range(len(xt)):\n",
    "            ind = ind+1\n",
    "            new = np.multiply(xt[i,:],abs(xt[j,:]))\n",
    "            new = np.vstack(new)\n",
    "            D = np.append(D, new, axis=1)\n",
    "            \n",
    "    if harmonic == 1:\n",
    "        for i in range(len(xt)):\n",
    "            ind = ind+1\n",
    "            new = np.vstack(np.sin(xt[i,:]))\n",
    "            D = np.append(D, new, axis=1)\n",
    "\n",
    "        for i in range(len(xt)):\n",
    "            ind = ind+1\n",
    "            new = np.vstack(np.cos(xt[i,:]))\n",
    "            D = np.append(D, new, axis=1)\n",
    "            \n",
    "    ind = len(D[0])\n",
    "    \n",
    "    return D, ind"
   ]
  },
  {
   "cell_type": "code",
   "execution_count": 2,
   "metadata": {},
   "outputs": [],
   "source": [
    "import numpy as np\n",
    "import matplotlib.pyplot as plt\n",
    "\"\"\"\n",
    "A MDOF system excited by random noise\n",
    "----------------------------------------------------------------------\n",
    "\"\"\"\n",
    "\n",
    "def drift_mat(dof,k,c,m):\n",
    "    dim = 2 * dof\n",
    "    A = np.zeros((dim,dim))\n",
    "    \n",
    "    for i in range(dim):\n",
    "        if (i%2 == 0):\n",
    "            A[i][i+1] = 1\n",
    "    \n",
    "        elif(i==1):\n",
    "            A[i][i-1] = -(k+k)/m\n",
    "            A[i][i] = -(c+c)/m\n",
    "            A[i][i+1] = k/m\n",
    "            A[i][i+2] = c/m\n",
    "    \n",
    "        elif(i==dim-1):\n",
    "            A[i][i] = -c/m\n",
    "            A[i][i-1] = -k/m\n",
    "            A[i][i-2] = c/m\n",
    "            A[i][i-3] = k/m\n",
    "            \n",
    "        else:\n",
    "            A[i][i-3] = k/m \n",
    "            A[i][i-2] = c/m\n",
    "            A[i][i-1] = -(k+k)/m\n",
    "            A[i][i] = -(c+c)/m\n",
    "            A[i][i+1] = k/m\n",
    "            A[i][i+2] = c/m\n",
    "    return A\n",
    "\n",
    "def M_DOF_sys(x_initial, dof, T):\n",
    "    # parameters of M_DOF_sys in Equation\n",
    "    m = 1\n",
    "    c = 2\n",
    "    k = 3000\n",
    "    sigma = 1\n",
    "    \n",
    "    # solution by euler maruyama\n",
    "    # -------------------------------------------------------\n",
    "    dt = 0.0001\n",
    "    t = np.arange(0, T+dt, dt)\n",
    "    Nsamp = 200 # no. of samples in the run\n",
    "    \n",
    "    y3 = []\n",
    "    y4 = []\n",
    "    y5 = []\n",
    "    y6 = []\n",
    "    y7 = []\n",
    "    y8 = []\n",
    "    y9 = []\n",
    "    y10 = []\n",
    "    \n",
    "    xz2 = []\n",
    "    xz3 = []\n",
    "    xz4 = []\n",
    "    xz5 = []\n",
    "    \n",
    "    xzs22 = []\n",
    "    xzs33 = []\n",
    "    xzs44 = []\n",
    "    xzs55 = []\n",
    "    \n",
    "    # Simulation Starts Here ::\n",
    "    # -------------------------------------------------------\n",
    "    for ensemble in range(Nsamp):\n",
    "        x0 = x_initial\n",
    "        x = x0                              # initial condition.\n",
    "        if ensemble%50==0:\n",
    "            print(ensemble)\n",
    "        for n in range(len(t)-1):\n",
    "            dW = np.sqrt(dt)*np.random.randn(2*dof)\n",
    "            \n",
    "            '''LINEAR PART DRIFT'''\n",
    "        \n",
    "            A = drift_mat(dof,k,c,m)\n",
    "            \n",
    "            \n",
    "            '''DIFFUSION TERM  = b'''\n",
    "            diffu_arr = np.zeros(2*dof)\n",
    "            for i in range(2*dof):\n",
    "                if (i%2 != 0):\n",
    "                    diffu_arr[i] = sigma/m\n",
    "            \n",
    "            soln_arr = x0 + np.matmul(A,x0)*dt + diffu_arr*dW        \n",
    "            x0 = soln_arr\n",
    "            x = np.column_stack((x, x0))\n",
    "            \n",
    "\n",
    "        y3.append(x[-3,:])\n",
    "        y4.append(x[-4,:])\n",
    "        y5.append(x[-5,:])     # Displacement\n",
    "        y6.append(x[-6,:])\n",
    "        y7.append(x[-7,:])     # Displacement\n",
    "        y8.append(x[-8,:])\n",
    "        y9.append(x[-9,:])\n",
    "        y10.append(x[-10,:])\n",
    "        \n",
    "        zint2 = x[-3, 0:-1]\n",
    "        xfinal2 = x[-3, 1:] \n",
    "        xmz2 = (xfinal2 - zint2) \n",
    "        \n",
    "        zint3 = x[-5, 0:-1]\n",
    "        xfinal3 = x[-5, 1:] \n",
    "        xmz3 = (xfinal3 - zint3) \n",
    "                  \n",
    "        zint4 = x[-7, 0:-1]\n",
    "        xfinal4 = x[-7, 1:] \n",
    "        xmz4 = (xfinal4 - zint4)\n",
    "        \n",
    "        zint5 = x[-9, 0:-1]\n",
    "        xfinal5 = x[-9, 1:] \n",
    "        xmz5 = (xfinal5 - zint5)\n",
    "        \n",
    "        xz2.append(xmz2)\n",
    "        xz3.append(xmz3)\n",
    "        xz4.append(xmz4)\n",
    "        xz5.append(xmz5)\n",
    "        \n",
    "        xmzsq22 = np.multiply(xmz2, xmz2)\n",
    "        xzs22.append(xmzsq22)\n",
    "        \n",
    "        xmzsq33 = np.multiply(xmz3, xmz3)\n",
    "        xzs33.append(xmzsq33)\n",
    "        \n",
    "        xmzsq44 = np.multiply(xmz4, xmz4)\n",
    "        xzs44.append(xmzsq44)\n",
    "        \n",
    "        xmzsq55 = np.multiply(xmz5, xmz5)\n",
    "        xzs55.append(xmzsq55)\n",
    "        \n",
    "    \n",
    "    xz2 = pow(dt,-1)*np.mean(np.array(xz2), axis = 0)\n",
    "    xz3 = pow(dt,-1)*np.mean(np.array(xz3), axis = 0)\n",
    "    xz4 = pow(dt,-1)*np.mean(np.array(xz4), axis = 0)\n",
    "    xz5 = pow(dt,-1)*np.mean(np.array(xz5), axis = 0)\n",
    "\n",
    "    xzs22 = pow(dt,-1)*np.mean(np.array(xzs22), axis = 0)\n",
    "    xzs33 = pow(dt,-1)*np.mean(np.array(xzs33), axis = 0) \n",
    "    xzs44 = pow(dt,-1)*np.mean(np.array(xzs44), axis = 0)\n",
    "    xzs55 = pow(dt,-1)*np.mean(np.array(xzs55), axis = 0)\n",
    "\n",
    "    y3 = np.array(y3)\n",
    "    y4 = np.array(y4)\n",
    "    y5 = np.array(y5)\n",
    "    y6 = np.array(y6)\n",
    "    y7 = np.array(y7)\n",
    "    y8 = np.array(y8)\n",
    "    y9 = np.array(y9)\n",
    "    y10 = np.array(y10)\n",
    "\n",
    "    time = t[0:-1]\n",
    "    return xz2, xz3, xz4, xz5, xzs22, xzs33, xzs44, xzs55, y3, y4, y5, y6, y7, y8, y9, y10, time"
   ]
  },
  {
   "cell_type": "code",
   "execution_count": 3,
   "metadata": {},
   "outputs": [],
   "source": [
    "np.random.seed(2)\n",
    "T = 1\n",
    "dof = 21\n",
    "x_initial = np.zeros(2*dof)"
   ]
  },
  {
   "cell_type": "code",
   "execution_count": 4,
   "metadata": {},
   "outputs": [
    {
     "name": "stdout",
     "output_type": "stream",
     "text": [
      "0\n",
      "50\n",
      "100\n",
      "150\n",
      "\n"
     ]
    },
    {
     "data": {
      "text/plain": [
       "23.946906622250875"
      ]
     },
     "execution_count": 4,
     "metadata": {},
     "output_type": "execute_result"
    }
   ],
   "source": [
    "import time\n",
    "start = time.time()\n",
    "xz2, xz3, xz4, xz5, xzs22, xzs33, xzs44, xzs55, y3, y4, y5, y6, y7, y8, y9, y10, time_ = M_DOF_sys(x_initial, dof, T)\n",
    "end = time.time()\n",
    "print()\n",
    "TIMES = (end - start)/60\n",
    "TIMES"
   ]
  },
  {
   "cell_type": "code",
   "execution_count": 5,
   "metadata": {},
   "outputs": [
    {
     "name": "stdout",
     "output_type": "stream",
     "text": [
      "\n"
     ]
    },
    {
     "data": {
      "text/plain": [
       "5.4169628063837685"
      ]
     },
     "execution_count": 5,
     "metadata": {},
     "output_type": "execute_result"
    }
   ],
   "source": [
    "startD = time.time()\n",
    "# Expected Dictionary Creation:\n",
    "libr = []\n",
    "for j in range(len(y3)):\n",
    "    data = np.row_stack((y3[j,0:-1], y4[j,0:-1], y5[j,0:-1], y6[j,0:-1], y7[j,0:-1], y8[j,0:-1], y9[j,0:-1], y10[j,0:-1]))\n",
    "    Dtemp, nl = library(data, 1, 0)\n",
    "    libr.append(Dtemp)\n",
    "libr = np.array(libr)\n",
    "Dictionary= np.mean(libr, axis = 0)\n",
    "print()\n",
    "endD = time.time()\n",
    "TIMED = (endD - startD)/60\n",
    "TIMED"
   ]
  },
  {
   "cell_type": "code",
   "execution_count": 6,
   "metadata": {},
   "outputs": [
    {
     "name": "stdout",
     "output_type": "stream",
     "text": [
      "Total time 29.363869428634644\n"
     ]
    }
   ],
   "source": [
    "print('Total time', TIMES+TIMED)"
   ]
  },
  {
   "cell_type": "code",
   "execution_count": 17,
   "metadata": {},
   "outputs": [],
   "source": [
    "xdts = xzs33\n",
    "D = Dictionary"
   ]
  },
  {
   "cell_type": "code",
   "execution_count": 18,
   "metadata": {},
   "outputs": [
    {
     "data": {
      "text/plain": [
       "(10000, 81)"
      ]
     },
     "execution_count": 18,
     "metadata": {},
     "output_type": "execute_result"
    }
   ],
   "source": [
    "D.shape"
   ]
  },
  {
   "cell_type": "code",
   "execution_count": 19,
   "metadata": {},
   "outputs": [
    {
     "data": {
      "text/plain": [
       "(810000,)"
      ]
     },
     "execution_count": 19,
     "metadata": {},
     "output_type": "execute_result"
    }
   ],
   "source": [
    "Dict = D.reshape(-1,order='F')\n",
    "Dict.shape"
   ]
  },
  {
   "cell_type": "code",
   "execution_count": 20,
   "metadata": {
    "scrolled": true
   },
   "outputs": [
    {
     "name": "stdout",
     "output_type": "stream",
     "text": [
      "{'Relevant': matlab.double([[1.0],[10.0],[16.0],[66.0]]), 'Value': matlab.double([[0.9902377164137997],[0.03770046080843809],[0.1735159119427114],[-0.0015400485285265032]])}\n"
     ]
    }
   ],
   "source": [
    "#!/usr/bin/env python\n",
    "\"\"\"\n",
    "Sample script that uses the SparseBayes module created using\n",
    "MATLAB Compiler SDK.\n",
    "\n",
    "Refer to the MATLAB Compiler SDK documentation for more information.\n",
    "\"\"\"\n",
    "\n",
    "from __future__ import print_function\n",
    "import SparseBayes\n",
    "import matlab\n",
    "\n",
    "my_SparseBayes = SparseBayes.initialize()\n",
    "\n",
    "DictIn = matlab.double(Dict, size=(D.shape[0], D.shape[1]))\n",
    "targetIn = matlab.double(xdts, size=(D.shape[0], 1))\n",
    "DMOut = my_SparseBayes.SparseBayes(DictIn, targetIn)\n",
    "print(DMOut, sep='\\n')\n",
    "\n",
    "my_SparseBayes.terminate()"
   ]
  },
  {
   "cell_type": "code",
   "execution_count": 21,
   "metadata": {},
   "outputs": [
    {
     "name": "stdout",
     "output_type": "stream",
     "text": [
      "[1. 0. 0. 0. 0. 0. 0. 0. 0. 1. 0. 0. 0. 0. 0. 1. 0. 0. 0. 0. 0. 0. 0. 0.\n",
      " 0. 0. 0. 0. 0. 0. 0. 0. 0. 0. 0. 0. 0. 0. 0. 0. 0. 0. 0. 0. 0. 0. 0. 0.\n",
      " 0. 0. 0. 0. 0. 0. 0. 0. 0. 0. 0. 0. 0. 0. 0. 0. 0. 1. 0. 0. 0. 0. 0. 0.\n",
      " 0. 0. 0. 0. 0. 0. 0. 0. 0.]\n"
     ]
    }
   ],
   "source": [
    "c = np.array(DMOut['Value'])\n",
    "d = []\n",
    "for j in c:\n",
    "    d.append(j[0])\n",
    "    \n",
    "a = np.array(DMOut['Relevant'])\n",
    "b = []\n",
    "for i in a:\n",
    "    b.append(int((i[0])-1))\n",
    "    \n",
    "initz0 = np.zeros(D.shape[1])\n",
    "for i in b:\n",
    "    initz0[i] = 1\n",
    "    \n",
    "print(initz0)"
   ]
  },
  {
   "cell_type": "code",
   "execution_count": 22,
   "metadata": {},
   "outputs": [],
   "source": [
    "import warnings\n",
    "import math\n",
    "import numpy as np\n",
    "import scipy as sp\n",
    "import sympy as smp\n",
    "from scipy import stats\n",
    "from numpy import linalg as la\n",
    "import matplotlib.pyplot as plt\n",
    "from numpy.random import gamma\n",
    "from scipy.special import loggamma\n",
    "\n",
    "def Variational_Bayes_Code(X, y, initz0, tol, verbosity):\n",
    "\n",
    "    if (len(X) == 0 or len(y) == 0):\n",
    "        raise Exception('X and or y is missing')\n",
    "        \n",
    "    if (len(X) != len(y)):\n",
    "        raise Exception('Number of observations do not match')\n",
    "        \n",
    "    # X = stats.zscore(X, ddof = 1)         \n",
    "    # X = np.c_[np.ones(len(X)),X]\n",
    "    # X = np.c_[np.ones(len(X)),X]          \n",
    "    # y = y - np.mean(y)\n",
    "    N = len(X)\n",
    "    # Prior parameters of noise variance (Inverse Gamma dist)\n",
    "    A = 1e-4\n",
    "    B = 1e-4\n",
    "    vs = 10\n",
    "    tau0 = 1000\n",
    "    \n",
    "    if (len(initz0) == 0):\n",
    "        raise Exception('No initial value of z found')\n",
    "    else:\n",
    "        p0 = expit(-0.5*(np.sqrt(N)))       \n",
    "        \n",
    "        # Adding the intercept indicator variable (slightly less than 1 to prevent log(0) values) \n",
    "        # initz = np.hstack((1,initz0))  \n",
    "        initz = initz0\n",
    "\n",
    "        DS,LLcvg  = run_VB2(X, y, vs, A, B, tau0, p0, initz, tol, verbosity)    \n",
    "        # This is function which will come first\n",
    "        \n",
    "    out_vb   = DS\n",
    "    a = DS['zmean'] > 0.5\n",
    "    count = 0\n",
    "    modelIdx = []\n",
    "    for i in a:\n",
    "        if i == True:\n",
    "            modelIdx.append(count)\n",
    "        count += 1\n",
    "            \n",
    "    modelIdx = np.setdiff1d(modelIdx,0)\n",
    "    out_vb['modelIdx'] = modelIdx-1\n",
    "    out_vb['Zmed'] = DS['zmean'][modelIdx]\n",
    "    out_vb['Wsel'] = DS['wmean'][modelIdx]\n",
    "    out_vb['Wcov'] = DS['wCOV'][modelIdx, modelIdx]\n",
    "    out_vb['sig2'] = DS['sig2']\n",
    "    \n",
    "    return out_vb\n",
    "\n",
    "DS = {}\n",
    "def run_VB2(Xc, yc, vs, A, B, tau0, p0, initz, tol, verbosity):\n",
    "    \"\"\"This function is the implementation of VB from John T. Ormerod paper (2014)\n",
    "       This implementation uses slab scaling by noise variance\n",
    "       vs    : treated as a constant\n",
    "       A,B   : constants of the IG prior over noise variance\n",
    "       tau0  : Expected value of (sigma^{-2})\n",
    "       p0    : inclusion probablility\n",
    "       initz : Initial value of z\n",
    "       Xc    : Centered and standardized dictionary except the first column\n",
    "       yc    : Centered observations \"\"\"\n",
    "    \n",
    "    Lambda    = logit(p0)\n",
    "    iter_     = 0\n",
    "    max_iter  = 100\n",
    "    LL        = np.zeros(max_iter)        \n",
    "    zm        = np.reshape(initz,(-1))            \n",
    "    taum      = tau0                      \n",
    "    invVs     = 1/vs\n",
    "    \n",
    "    X = Xc\n",
    "    y = yc\n",
    "    XtX = (X.T) @ X\n",
    "    XtX = 0.5*(XtX + (XtX).T)\n",
    "    Xty = (X.T) @ y                 \n",
    "    yty = (y.T) @ y\n",
    "\n",
    "    eyep = np.eye(len(XtX))\n",
    "    [N,p] = X.shape\n",
    "    allidx = np.arange(p)\n",
    "    zm[0] = 1                                                                   # Always include the intercept \n",
    "    Abar    = (A + 0.5*N + 0.5*p)\n",
    "    converged = 0\n",
    "    \n",
    "    while (converged==0):\n",
    "        if (iter_==100):\n",
    "            break\n",
    "        \n",
    "        Zm       = np.diag(zm)\n",
    "        Omg      = (np.reshape(zm,(-1,1)) @ np.reshape(zm,(1,-1))) + (Zm @ (eyep-Zm))\n",
    "        # Update the mean and covariance of the coefficients given mean of z\n",
    "        term1    = XtX * Omg                                                       # elementwisw multiplication\n",
    "        invSigma = taum * (term1 + invVs * eyep)\n",
    "        invSigma = 0.5*(invSigma + invSigma.T)                                     # symmetric\n",
    "        Sigma    = la.inv(invSigma) @ eyep\n",
    "        mu       = taum * (Sigma @ Zm @ Xty)                                       # @ ---> matrix multiplication\n",
    "        \n",
    "        # Update tau related to sigma\n",
    "        term2    = 2 * Xty @ Zm @ mu\n",
    "        term3    =  np.reshape(mu,(len(initz0),1)) @ np.reshape(mu,(1,len(initz0)))+ Sigma\n",
    "        term4    = yty - term2 + np.trace((term1 + invVs * eyep) @ term3)    \n",
    "        s        = B + 0.5*term4\n",
    "        \n",
    "        if s<0:\n",
    "            warnings.warn('s turned out be less than 0. Taking absolute value')\n",
    "            s = B + 0.5*abs(term4)\n",
    "        \n",
    "        taum     = Abar / s\n",
    "        zstr   = zm\n",
    "\n",
    "        order   = np.setdiff1d(np.random.permutation(p), 0, assume_unique=True)\n",
    "        for j in order: \n",
    "            muj     = mu[j]                            \n",
    "            sigmaj  = Sigma[j,j]\n",
    "            \n",
    "            remidx  = np.setdiff1d(allidx,j)\n",
    "            mu_j    = mu[remidx]\n",
    "            Sigma_jj= Sigma[remidx,j]\n",
    "            etaj    = (Lambda - 0.5 * taum * ((muj**2 + sigmaj) * XtX[j,j]) \n",
    "                       + taum * np.reshape(X[:,j],(1,-1)) @ (np.reshape(y,(-1,1))*muj \n",
    "                        -X[:,remidx] @ np.diag(zstr[remidx]) @ ((mu_j * muj + Sigma_jj).reshape(-1,1))))\n",
    "            zstr[j] = expit(etaj)\n",
    "            \n",
    "        zm = zstr\n",
    "        \n",
    "        # Calculate marginal log-likelihood\n",
    "        \n",
    "        LL[iter_] = ( 0.5*p \n",
    "                    - 0.5*N*np.log(2*np.pi) \n",
    "                    + 0.5*p*np.log(invVs) \n",
    "                    + A*np.log(B)\n",
    "                    - loggamma(A)\n",
    "                    + loggamma(Abar) \n",
    "                    - Abar*np.log(s)\n",
    "                    + 0.5*np.log(la.det(Sigma))\n",
    "                    + np.nansum(zm*(np.log(p0) - np.log(zm))) \n",
    "                    + np.nansum((1-zm)*(np.log(1-p0) - np.log(1-zm))))\n",
    "        \n",
    "        if(verbosity):\n",
    "            print(f'Iteration = {iter_}  log(Likelihood) = {LL[iter_]}')\n",
    "        \n",
    "        if(iter_>1):\n",
    "            cvg = LL[iter_] - LL[iter_-1]\n",
    "            \n",
    "            if (cvg < 0 and verbosity):\n",
    "                print('OOPS!  log(like) decreasing!!')\n",
    "            elif (cvg<tol or iter_> max_iter):\n",
    "                converged = 1\n",
    "                LL = LL[0:iter_]\n",
    "                \n",
    "        iter_    = iter_ + 1\n",
    "    DS['zmean'] = zm\n",
    "    DS['wmean'] = mu\n",
    "    DS['wCOV'] = Sigma\n",
    "    DS['sig2'] = 1/taum\n",
    "    LLcvg    = LL[-1]\n",
    "    return DS, LLcvg\n",
    "    \n",
    "def logit(C):\n",
    "    logitC = np.log(C) - np.log(1-C)\n",
    "    return logitC\n",
    "\n",
    "def expit(C):\n",
    "    expitC = 1./(1 + np.exp(-C))\n",
    "    return expitC"
   ]
  },
  {
   "cell_type": "code",
   "execution_count": 23,
   "metadata": {},
   "outputs": [
    {
     "data": {
      "text/plain": [
       "((81,), (10000, 81))"
      ]
     },
     "execution_count": 23,
     "metadata": {},
     "output_type": "execute_result"
    }
   ],
   "source": [
    "initz0.shape, D.shape"
   ]
  },
  {
   "cell_type": "code",
   "execution_count": 24,
   "metadata": {},
   "outputs": [
    {
     "name": "stderr",
     "output_type": "stream",
     "text": [
      "C:\\Users\\USER\\AppData\\Local\\Temp/ipykernel_6656/3512855728.py:147: RuntimeWarning: divide by zero encountered in log\n",
      "  + np.nansum((1-zm)*(np.log(1-p0) - np.log(1-zm))))\n",
      "C:\\Users\\USER\\AppData\\Local\\Temp/ipykernel_6656/3512855728.py:147: RuntimeWarning: invalid value encountered in multiply\n",
      "  + np.nansum((1-zm)*(np.log(1-p0) - np.log(1-zm))))\n",
      "C:\\Users\\USER\\AppData\\Local\\Temp/ipykernel_6656/3512855728.py:174: RuntimeWarning: overflow encountered in exp\n",
      "  expitC = 1./(1 + np.exp(-C))\n"
     ]
    },
    {
     "name": "stdout",
     "output_type": "stream",
     "text": [
      "Iteration = 0  log(Likelihood) = 8155.180473104376\n"
     ]
    },
    {
     "name": "stderr",
     "output_type": "stream",
     "text": [
      "C:\\Users\\USER\\AppData\\Local\\Temp/ipykernel_6656/3512855728.py:146: RuntimeWarning: divide by zero encountered in log\n",
      "  + np.nansum(zm*(np.log(p0) - np.log(zm)))\n",
      "C:\\Users\\USER\\AppData\\Local\\Temp/ipykernel_6656/3512855728.py:146: RuntimeWarning: invalid value encountered in multiply\n",
      "  + np.nansum(zm*(np.log(p0) - np.log(zm)))\n"
     ]
    },
    {
     "name": "stdout",
     "output_type": "stream",
     "text": [
      "Iteration = 1  log(Likelihood) = 8215.956005206643\n",
      "Iteration = 2  log(Likelihood) = 8215.957103866149\n",
      "Iteration = 3  log(Likelihood) = 8215.957103936697\n",
      "{'zmean': array([1.00000000e+00, 1.54630055e-43, 9.42941083e-23, 7.33794871e-38,\n",
      "       9.74583618e-23, 1.66730121e-38, 1.00199488e-22, 5.63100705e-44,\n",
      "       1.03734307e-22, 1.00000000e+00, 3.72808512e-45, 0.00000000e+00,\n",
      "       4.69166888e-44, 0.00000000e+00, 6.59458148e-43, 1.00000000e+00,\n",
      "       7.85266460e-42, 4.22169470e-31, 1.83787807e-22, 3.22605442e-25,\n",
      "       1.83513435e-22, 1.32592253e-25, 1.82861108e-22, 9.80201669e-26,\n",
      "       1.83270490e-22, 1.75015484e-22, 1.91961846e-22, 1.74522977e-22,\n",
      "       1.92007668e-22, 1.77216968e-22, 1.92057804e-22, 1.74964933e-22,\n",
      "       1.92117674e-22, 1.36470316e-24, 1.83749512e-22, 2.45515167e-29,\n",
      "       1.84166144e-22, 4.95780034e-26, 1.83912709e-22, 3.13241019e-25,\n",
      "       1.84113338e-22, 1.76132053e-22, 1.92007872e-22, 1.75221028e-22,\n",
      "       1.92034955e-22, 1.77708344e-22, 1.92083260e-22, 1.76726117e-22,\n",
      "       1.92139913e-22, 1.95840552e-24, 1.84151639e-22, 5.05959443e-26,\n",
      "       1.84214021e-22, 2.18517748e-30, 1.84028117e-22, 2.01876252e-25,\n",
      "       1.84626712e-22, 1.77309360e-22, 1.92056355e-22, 1.75877248e-22,\n",
      "       1.92082347e-22, 1.77838732e-22, 1.92118489e-22, 1.77997555e-22,\n",
      "       1.92166453e-22, 6.73838398e-25, 1.77310907e-22, 1.44706813e-25,\n",
      "       1.78587140e-22, 5.94449650e-26, 1.79520596e-22, 1.73123441e-31,\n",
      "       1.80385458e-22, 1.78518739e-22, 1.92113294e-22, 1.76542742e-22,\n",
      "       1.92137664e-22, 1.78036459e-22, 1.92166820e-22, 1.78703745e-22,\n",
      "       1.92200499e-22]), 'wmean': array([ 9.89705910e-01, -2.07468040e-43, -6.03322982e-24, -1.78224499e-38,\n",
      "       -5.69717519e-24,  1.42936586e-38, -3.62567380e-24, -1.63720363e-44,\n",
      "       -1.84006749e-24,  6.09881986e-02, -2.16408713e-46,  0.00000000e+00,\n",
      "       -6.12196232e-45,  0.00000000e+00, -1.19175563e-43,  1.52102939e-01,\n",
      "       -1.50531416e-42, -4.06408409e-31, -1.46402273e-23,  1.58627531e-25,\n",
      "       -1.27217691e-23, -1.49355730e-25, -9.53346338e-24, -3.28209225e-26,\n",
      "       -6.36631889e-24, -8.68507581e-24, -1.32592992e-25,  1.49706847e-25,\n",
      "       -1.40740257e-25,  1.21105613e-24, -5.77832981e-25, -1.00954041e-23,\n",
      "       -4.15209099e-25, -6.06301511e-25,  5.00251268e-25, -8.61491544e-30,\n",
      "       -5.38967227e-25, -3.87856660e-27, -2.44007105e-24,  1.89566006e-25,\n",
      "       -5.12460923e-24, -1.06875292e-23, -1.42095017e-25,  5.00775431e-24,\n",
      "       -1.21752224e-25, -3.31369021e-25, -4.89042744e-25, -1.10417934e-23,\n",
      "       -3.65263173e-25,  3.02884291e-26,  2.56218330e-24,  1.49473397e-26,\n",
      "        1.17017992e-24,  1.92204352e-30,  4.17334245e-25,  1.59048722e-25,\n",
      "        1.60164733e-24, -1.00376323e-23, -5.72222336e-25,  5.79134451e-24,\n",
      "       -4.77131359e-25, -1.36082015e-24, -7.91037671e-25, -1.08297494e-23,\n",
      "       -5.99322189e-25, -6.69202320e-25, -1.71438864e-24, -5.61086142e-26,\n",
      "       -3.56321259e-24,  5.48146178e-26, -8.50469213e-24, -7.38426138e-32,\n",
      "       -1.15431458e-23, -8.78702907e-24, -4.17077402e-25,  4.37643684e-24,\n",
      "       -3.27052225e-25,  7.53104948e-26, -6.07990922e-25, -8.79694772e-24,\n",
      "       -3.58067026e-25]), 'wCOV': array([[ 1.63994766e-05, -3.25325531e-46,  4.59394843e-26, ...,\n",
      "         5.56313044e-27,  2.41271299e-26,  5.32083639e-27],\n",
      "       [-3.25325531e-46,  1.09353827e-01, -1.05383762e-66, ...,\n",
      "        -1.24495642e-67,  7.29265637e-67, -7.51969550e-68],\n",
      "       [ 4.59394843e-26, -1.05383762e-66,  1.09353827e-01, ...,\n",
      "        -2.24984681e-47, -1.03232165e-46, -2.11992247e-47],\n",
      "       ...,\n",
      "       [ 5.56313044e-27, -1.24495642e-67, -2.24984681e-47, ...,\n",
      "         1.09353827e-01, -1.28420511e-47, -4.07627301e-48],\n",
      "       [ 2.41271299e-26,  7.29265637e-67, -1.03232165e-46, ...,\n",
      "        -1.28420511e-47,  1.09353827e-01, -1.29885388e-47],\n",
      "       [ 5.32083639e-27, -7.51969550e-68, -2.11992247e-47, ...,\n",
      "        -4.07627301e-48, -1.29885388e-47,  1.09353827e-01]]), 'sig2': 0.010935387866108355, 'modelIdx': array([ 8, 14]), 'Zmed': array([1., 1.]), 'Wsel': array([0.0609882 , 0.15210294]), 'Wcov': array([0.00224776, 0.0023276 ])}\n"
     ]
    }
   ],
   "source": [
    "tol = 0.0001\n",
    "verbosity = True\n",
    "initz0 = initz0\n",
    "DS = Variational_Bayes_Code(D, xdts, initz0, tol, verbosity)\n",
    "\n",
    "print(DS) "
   ]
  },
  {
   "cell_type": "code",
   "execution_count": 25,
   "metadata": {},
   "outputs": [
    {
     "data": {
      "text/plain": [
       "array([1.63994766e-05, 1.09353827e-01, 1.09353827e-01, 1.09353827e-01,\n",
       "       1.09353827e-01, 1.09353827e-01, 1.09353827e-01, 1.09353827e-01,\n",
       "       1.09353827e-01, 2.24775769e-03, 1.09353827e-01, 1.09353827e-01,\n",
       "       1.09353827e-01, 1.09353827e-01, 1.09353827e-01, 2.32760196e-03,\n",
       "       1.09353827e-01, 1.09353827e-01, 1.09353827e-01, 1.09353827e-01,\n",
       "       1.09353827e-01, 1.09353827e-01, 1.09353827e-01, 1.09353827e-01,\n",
       "       1.09353827e-01, 1.09353827e-01, 1.09353827e-01, 1.09353827e-01,\n",
       "       1.09353827e-01, 1.09353827e-01, 1.09353827e-01, 1.09353827e-01,\n",
       "       1.09353827e-01, 1.09353827e-01, 1.09353827e-01, 1.09353827e-01,\n",
       "       1.09353827e-01, 1.09353827e-01, 1.09353827e-01, 1.09353827e-01,\n",
       "       1.09353827e-01, 1.09353827e-01, 1.09353827e-01, 1.09353827e-01,\n",
       "       1.09353827e-01, 1.09353827e-01, 1.09353827e-01, 1.09353827e-01,\n",
       "       1.09353827e-01, 1.09353827e-01, 1.09353827e-01, 1.09353827e-01,\n",
       "       1.09353827e-01, 1.09353827e-01, 1.09353827e-01, 1.09353827e-01,\n",
       "       1.09353827e-01, 1.09353827e-01, 1.09353827e-01, 1.09353827e-01,\n",
       "       1.09353827e-01, 1.09353827e-01, 1.09353827e-01, 1.09353827e-01,\n",
       "       1.09353827e-01, 1.09353827e-01, 1.09353827e-01, 1.09353827e-01,\n",
       "       1.09353827e-01, 1.09353827e-01, 1.09353827e-01, 1.09353827e-01,\n",
       "       1.09353827e-01, 1.09353827e-01, 1.09353827e-01, 1.09353827e-01,\n",
       "       1.09353827e-01, 1.09353827e-01, 1.09353827e-01, 1.09353827e-01,\n",
       "       1.09353827e-01])"
      ]
     },
     "execution_count": 25,
     "metadata": {},
     "output_type": "execute_result"
    }
   ],
   "source": [
    "np.diag(DS['wCOV'])"
   ]
  },
  {
   "cell_type": "code",
   "execution_count": 26,
   "metadata": {},
   "outputs": [
    {
     "name": "stdout",
     "output_type": "stream",
     "text": [
      "\n",
      "0.9948396401906255\n"
     ]
    },
    {
     "data": {
      "image/png": "[encoded data removed]",
      "text/plain": [
       "<Figure size 432x288 with 1 Axes>"
      ]
     },
     "metadata": {
      "needs_background": "light"
     },
     "output_type": "display_data"
    }
   ],
   "source": [
    "# np.where(np.diag(DS['wCOV'])>5e-2)\n",
    "zmean19 = DS['zmean']\n",
    "wmean19 = DS['wmean']\n",
    "zmean19[np.where(np.diag(DS['wCOV'])>5e-4)] = 0\n",
    "plt.stem(zmean19)\n",
    "wmean19[np.where(np.diag(DS['wCOV'])>5e-4)] = 0\n",
    "print()\n",
    "print(np.sqrt(wmean19[0]))"
   ]
  },
  {
   "cell_type": "code",
   "execution_count": 27,
   "metadata": {},
   "outputs": [],
   "source": [
    "zmeans19 = DS['zmean']"
   ]
  },
  {
   "cell_type": "code",
   "execution_count": 28,
   "metadata": {},
   "outputs": [
    {
     "data": {
      "image/png": "[encoded data removed]",
      "text/plain": [
       "<Figure size 864x144 with 1 Axes>"
      ]
     },
     "metadata": {
      "needs_background": "light"
     },
     "output_type": "display_data"
    }
   ],
   "source": [
    "plt.rcParams[\"font.family\"] = \"Times New Roman\"\n",
    "plt.rcParams['font.size'] = 24\n",
    "\n",
    "figure1=plt.figure(figsize = (12, 2))\n",
    "xr = np.array(range(len(D[1,:])))\n",
    "plt.stem(xr,zmeans19, use_line_collection = True, linefmt='blue', basefmt=\"k\")\n",
    "plt.axhline(y= 0.5, color='r', linestyle='-.')\n",
    "plt.xlabel('basis functions',fontweight='bold')\n",
    "plt.ylabel('PIP', fontweight='bold');\n",
    "plt.title('(a) 21st DOF', fontweight='bold')\n",
    "plt.grid(True); plt.ylim(0,1.05)\n",
    "plt.xticks(fontweight='bold'); plt.yticks(fontweight='bold');\n",
    "figure1.savefig('MDOF_Diff_19.pdf',format='pdf',dpi=600,bbox_inches='tight')"
   ]
  },
  {
   "cell_type": "code",
   "execution_count": 22,
   "metadata": {},
   "outputs": [],
   "source": [
    "xdts = xzs44"
   ]
  },
  {
   "cell_type": "code",
   "execution_count": 23,
   "metadata": {},
   "outputs": [
    {
     "name": "stdout",
     "output_type": "stream",
     "text": [
      "{'Relevant': matlab.double([[1.0],[2.0],[8.0],[10.0],[16.0],[32.0],[44.0]]), 'Value': matlab.double([[0.9829104962907175],[0.017684805522163984],[0.07839617389488117],[0.03304306719188128],[0.23271855134551253],[-6.470732580911453],[2.3007160450505806]])}\n"
     ]
    }
   ],
   "source": [
    "#!/usr/bin/env python\n",
    "\"\"\"\n",
    "Sample script that uses the SparseBayes module created using\n",
    "MATLAB Compiler SDK.\n",
    "\n",
    "Refer to the MATLAB Compiler SDK documentation for more information.\n",
    "\"\"\"\n",
    "\n",
    "from __future__ import print_function\n",
    "import SparseBayes\n",
    "import matlab\n",
    "\n",
    "my_SparseBayes = SparseBayes.initialize()\n",
    "\n",
    "DictIn = matlab.double(Dict, size=(D.shape[0], D.shape[1]))\n",
    "targetIn = matlab.double(xdts, size=(D.shape[0], 1))\n",
    "DMOut = my_SparseBayes.SparseBayes(DictIn, targetIn)\n",
    "print(DMOut, sep='\\n')\n",
    "\n",
    "my_SparseBayes.terminate()"
   ]
  },
  {
   "cell_type": "code",
   "execution_count": 24,
   "metadata": {},
   "outputs": [
    {
     "name": "stdout",
     "output_type": "stream",
     "text": [
      "[1. 1. 0. 0. 0. 0. 0. 1. 0. 1. 0. 0. 0. 0. 0. 1. 0. 0. 0. 0. 0. 0. 0. 0.\n",
      " 0. 0. 0. 0. 0. 0. 0. 1. 0. 0. 0. 0. 0. 0. 0. 0. 0. 0. 0. 1. 0. 0. 0. 0.\n",
      " 0. 0. 0. 0. 0. 0. 0. 0. 0. 0. 0. 0. 0. 0. 0. 0. 0. 0. 0. 0. 0. 0. 0. 0.\n",
      " 0. 0. 0. 0. 0. 0. 0. 0. 0.]\n"
     ]
    }
   ],
   "source": [
    "c = np.array(DMOut['Value'])\n",
    "d = []\n",
    "for j in c:\n",
    "    d.append(j[0])\n",
    "    \n",
    "a = np.array(DMOut['Relevant'])\n",
    "b = []\n",
    "for i in a:\n",
    "    b.append(int((i[0])-1))\n",
    "    \n",
    "initz0 = np.zeros(D.shape[1])\n",
    "for i in b:\n",
    "    initz0[i] = 1\n",
    "    \n",
    "print(initz0)"
   ]
  },
  {
   "cell_type": "code",
   "execution_count": 25,
   "metadata": {},
   "outputs": [
    {
     "name": "stderr",
     "output_type": "stream",
     "text": [
      "C:\\Users\\USER\\AppData\\Local\\Temp/ipykernel_8308/3512855728.py:147: RuntimeWarning: divide by zero encountered in log\n",
      "  + np.nansum((1-zm)*(np.log(1-p0) - np.log(1-zm))))\n",
      "C:\\Users\\USER\\AppData\\Local\\Temp/ipykernel_8308/3512855728.py:147: RuntimeWarning: invalid value encountered in multiply\n",
      "  + np.nansum((1-zm)*(np.log(1-p0) - np.log(1-zm))))\n"
     ]
    },
    {
     "name": "stdout",
     "output_type": "stream",
     "text": [
      "Iteration = 0  log(Likelihood) = 8018.987274376397\n"
     ]
    },
    {
     "name": "stderr",
     "output_type": "stream",
     "text": [
      "C:\\Users\\USER\\AppData\\Local\\Temp/ipykernel_8308/3512855728.py:174: RuntimeWarning: overflow encountered in exp\n",
      "  expitC = 1./(1 + np.exp(-C))\n",
      "C:\\Users\\USER\\AppData\\Local\\Temp/ipykernel_8308/3512855728.py:146: RuntimeWarning: divide by zero encountered in log\n",
      "  + np.nansum(zm*(np.log(p0) - np.log(zm)))\n",
      "C:\\Users\\USER\\AppData\\Local\\Temp/ipykernel_8308/3512855728.py:146: RuntimeWarning: invalid value encountered in multiply\n",
      "  + np.nansum(zm*(np.log(p0) - np.log(zm)))\n"
     ]
    },
    {
     "name": "stdout",
     "output_type": "stream",
     "text": [
      "Iteration = 1  log(Likelihood) = 8080.679696471821\n",
      "Iteration = 2  log(Likelihood) = 8080.681013768153\n",
      "Iteration = 3  log(Likelihood) = 8080.681013852754\n",
      "{'zmean': array([1.00000000e+00, 1.03779976e-44, 7.55411416e-23, 9.40222294e-38,\n",
      "       7.77392759e-23, 3.06960338e-40, 7.87570967e-23, 5.40915085e-44,\n",
      "       8.02824102e-23, 1.00000000e+00, 5.17936668e-45, 0.00000000e+00,\n",
      "       6.31803465e-44, 0.00000000e+00, 8.69437121e-43, 1.00000000e+00,\n",
      "       1.05559104e-41, 1.99927977e-31, 1.83690765e-22, 3.35170308e-25,\n",
      "       1.83756451e-22, 8.82442483e-26, 1.83517237e-22, 9.99653712e-26,\n",
      "       1.83601217e-22, 1.70241695e-22, 1.91733040e-22, 1.70987811e-22,\n",
      "       1.91778638e-22, 1.73431593e-22, 1.91827727e-22, 1.72618070e-22,\n",
      "       1.91891685e-22, 2.90130405e-24, 1.83427429e-22, 8.63054035e-29,\n",
      "       1.84414650e-22, 3.92052896e-26, 1.84569960e-22, 4.06852234e-25,\n",
      "       1.84931014e-22, 1.71729764e-22, 1.91778589e-22, 1.71773995e-22,\n",
      "       1.91807153e-22, 1.73787727e-22, 1.91856160e-22, 1.74050602e-22,\n",
      "       1.91916921e-22, 1.78837715e-24, 1.82634556e-22, 2.87874845e-26,\n",
      "       1.82834521e-22, 9.16329248e-32, 1.83359503e-22, 8.63855208e-26,\n",
      "       1.84200671e-22, 1.72682198e-22, 1.91825723e-22, 1.72189051e-22,\n",
      "       1.91854975e-22, 1.73968319e-22, 1.91891050e-22, 1.75037293e-22,\n",
      "       1.91945180e-22, 4.61583594e-25, 1.77522850e-22, 1.67901645e-25,\n",
      "       1.78554238e-22, 3.22523612e-26, 1.79818899e-22, 2.48444333e-31,\n",
      "       1.80963577e-22, 1.73317973e-22, 1.91886348e-22, 1.72696056e-22,\n",
      "       1.91913342e-22, 1.74264943e-22, 1.91944808e-22, 1.75409939e-22,\n",
      "       1.91984353e-22]), 'wmean': array([ 9.90400238e-01,  7.28346270e-44, -1.50843177e-23, -1.07058773e-37,\n",
      "       -4.88574324e-24,  1.33928101e-40, -2.07328109e-24,  2.97388730e-43,\n",
      "        1.39324433e-24,  5.68461892e-02,  2.06234586e-45,  0.00000000e+00,\n",
      "        2.51838938e-44,  0.00000000e+00,  3.23979833e-43,  1.66613605e-01,\n",
      "        3.30857890e-42,  7.65484936e-31,  3.51018808e-23,  4.00068013e-25,\n",
      "        3.55350678e-23,  1.22778524e-25,  3.45555634e-23,  1.40444517e-25,\n",
      "        3.15787909e-23, -2.67122030e-23, -2.08100519e-24, -7.54881434e-24,\n",
      "       -1.25173345e-24,  7.49654927e-25, -8.71509357e-25, -5.33667385e-23,\n",
      "       -8.27257467e-25, -2.29625165e-24, -7.48943400e-24, -3.49445551e-29,\n",
      "       -5.33161775e-24, -5.46720313e-26, -6.15400982e-25, -2.37380028e-25,\n",
      "       -2.43784037e-24, -1.71719813e-23, -1.23072944e-24, -3.77188421e-24,\n",
      "       -4.62095948e-25,  4.04730066e-24, -9.38721602e-26, -4.19890615e-23,\n",
      "        1.43710890e-26,  2.38033449e-25,  1.02428698e-23, -9.74437074e-27,\n",
      "        1.52160989e-23, -1.05255455e-31,  1.70452135e-23,  3.20014570e-26,\n",
      "        1.55874095e-23, -1.60506899e-23, -8.54787514e-25, -7.59539879e-24,\n",
      "       -1.02684465e-25,  4.39908229e-24,  1.73413582e-25, -3.51720286e-23,\n",
      "        3.57976242e-25,  8.41780764e-25,  3.00370212e-23,  1.44999452e-25,\n",
      "        3.09030652e-23,  5.30404507e-26,  3.12325736e-23,  6.52660293e-31,\n",
      "        2.89774473e-23, -1.59297508e-23, -7.69599554e-25, -4.97086038e-24,\n",
      "        8.26497095e-27,  9.06867703e-24,  3.56290330e-25, -2.84200712e-23,\n",
      "        5.32747728e-25]), 'wCOV': array([[ 1.74371800e-05, -3.15334723e-47,  3.56436210e-26, ...,\n",
      "         6.55176683e-27,  2.30093103e-26,  6.21904849e-27],\n",
      "       [-3.15334723e-47,  1.12351135e-01, -7.87477376e-68, ...,\n",
      "        -1.39183149e-68,  5.32446183e-68, -1.08180246e-68],\n",
      "       [ 3.56436210e-26, -7.87477376e-68,  1.12351135e-01, ...,\n",
      "        -2.13158353e-47, -7.36774108e-47, -1.99861518e-47],\n",
      "       ...,\n",
      "       [ 6.55176683e-27, -1.39183149e-68, -2.13158353e-47, ...,\n",
      "         1.12351135e-01, -1.58529840e-47, -5.65026538e-48],\n",
      "       [ 2.30093103e-26,  5.32446183e-68, -7.36774108e-47, ...,\n",
      "        -1.58529840e-47,  1.12351135e-01, -1.58693255e-47],\n",
      "       [ 6.21904849e-27, -1.08180246e-68, -1.99861518e-47, ...,\n",
      "        -5.65026538e-48, -1.58693255e-47,  1.12351135e-01]]), 'sig2': 0.011235119270043, 'modelIdx': array([ 8, 14]), 'Zmed': array([1., 1.]), 'Wsel': array([0.05684619, 0.16661361]), 'Wcov': array([0.00200091, 0.00193611])}\n"
     ]
    }
   ],
   "source": [
    "# D_std = np.std(D[:,1:],axis = 0)\n",
    "# D_std1 = D_std.reshape(1,-1)\n",
    "# D1 = D*np.diag(1/D_std1)\n",
    "\n",
    "X = D\n",
    "y = xdts\n",
    "initz0 = initz0\n",
    "tol = 0.0001\n",
    "verbosity = True\n",
    "DS = Variational_Bayes_Code(X, y, initz0, tol, verbosity)\n",
    "print(DS)"
   ]
  },
  {
   "cell_type": "code",
   "execution_count": 26,
   "metadata": {},
   "outputs": [
    {
     "data": {
      "text/plain": [
       "array([1.74371800e-05, 1.12351135e-01, 1.12351135e-01, 1.12351135e-01,\n",
       "       1.12351135e-01, 1.12351135e-01, 1.12351135e-01, 1.12351135e-01,\n",
       "       1.12351135e-01, 2.00090633e-03, 1.12351135e-01, 1.12351135e-01,\n",
       "       1.12351135e-01, 1.12351135e-01, 1.12351135e-01, 1.93610695e-03,\n",
       "       1.12351135e-01, 1.12351135e-01, 1.12351135e-01, 1.12351135e-01,\n",
       "       1.12351135e-01, 1.12351135e-01, 1.12351135e-01, 1.12351135e-01,\n",
       "       1.12351135e-01, 1.12351135e-01, 1.12351135e-01, 1.12351135e-01,\n",
       "       1.12351135e-01, 1.12351135e-01, 1.12351135e-01, 1.12351135e-01,\n",
       "       1.12351135e-01, 1.12351135e-01, 1.12351135e-01, 1.12351135e-01,\n",
       "       1.12351135e-01, 1.12351135e-01, 1.12351135e-01, 1.12351135e-01,\n",
       "       1.12351135e-01, 1.12351135e-01, 1.12351135e-01, 1.12351135e-01,\n",
       "       1.12351135e-01, 1.12351135e-01, 1.12351135e-01, 1.12351135e-01,\n",
       "       1.12351135e-01, 1.12351135e-01, 1.12351135e-01, 1.12351135e-01,\n",
       "       1.12351135e-01, 1.12351135e-01, 1.12351135e-01, 1.12351135e-01,\n",
       "       1.12351135e-01, 1.12351135e-01, 1.12351135e-01, 1.12351135e-01,\n",
       "       1.12351135e-01, 1.12351135e-01, 1.12351135e-01, 1.12351135e-01,\n",
       "       1.12351135e-01, 1.12351135e-01, 1.12351135e-01, 1.12351135e-01,\n",
       "       1.12351135e-01, 1.12351135e-01, 1.12351135e-01, 1.12351135e-01,\n",
       "       1.12351135e-01, 1.12351135e-01, 1.12351135e-01, 1.12351135e-01,\n",
       "       1.12351135e-01, 1.12351135e-01, 1.12351135e-01, 1.12351135e-01,\n",
       "       1.12351135e-01])"
      ]
     },
     "execution_count": 26,
     "metadata": {},
     "output_type": "execute_result"
    }
   ],
   "source": [
    "np.diag(DS['wCOV'])"
   ]
  },
  {
   "cell_type": "code",
   "execution_count": 27,
   "metadata": {},
   "outputs": [
    {
     "name": "stdout",
     "output_type": "stream",
     "text": [
      "\n",
      "0.9951885440082008\n"
     ]
    },
    {
     "data": {
      "image/png": "[encoded data removed]",
      "text/plain": [
       "<Figure size 432x288 with 1 Axes>"
      ]
     },
     "metadata": {
      "needs_background": "light"
     },
     "output_type": "display_data"
    }
   ],
   "source": [
    "zmean18 = DS['zmean']\n",
    "wmean18 = DS['wmean']\n",
    "zmean18[np.where(np.diag(DS['wCOV'])>5e-4)] = 0\n",
    "plt.stem(zmean18)\n",
    "wmean18[np.where(np.diag(DS['wCOV'])>5e-4)] = 0\n",
    "print()\n",
    "print(np.sqrt(wmean18[0]))"
   ]
  },
  {
   "cell_type": "code",
   "execution_count": null,
   "metadata": {},
   "outputs": [],
   "source": []
  }
 ],
 "metadata": {
  "interpreter": {
   "hash": "3f37e94951d1aba8aea1180f8978b4824e076f548924d8dec1753cbbb0da26fd"
  },
  "kernelspec": {
   "display_name": "Python 3 (ipykernel)",
   "language": "python",
   "name": "python3"
  },
  "language_info": {
   "codemirror_mode": {
    "name": "ipython",
    "version": 3
   },
   "file_extension": ".py",
   "mimetype": "text/x-python",
   "name": "python",
   "nbconvert_exporter": "python",
   "pygments_lexer": "ipython3",
   "version": "3.9.7"
  },
  "toc": {
   "base_numbering": 1,
   "nav_menu": {},
   "number_sections": true,
   "sideBar": true,
   "skip_h1_title": false,
   "title_cell": "Table of Contents",
   "title_sidebar": "Contents",
   "toc_cell": false,
   "toc_position": {},
   "toc_section_display": true,
   "toc_window_display": false
  },
  "varInspector": {
   "cols": {
    "lenName": 16,
    "lenType": 16,
    "lenVar": 40
   },
   "kernels_config": {
    "python": {
     "delete_cmd_postfix": "",
     "delete_cmd_prefix": "del ",
     "library": "var_list.py",
     "varRefreshCmd": "print(var_dic_list())"
    },
    "r": {
     "delete_cmd_postfix": ") ",
     "delete_cmd_prefix": "rm(",
     "library": "var_list.r",
     "varRefreshCmd": "cat(var_dic_list()) "
    }
   },
   "types_to_exclude": [
    "module",
    "function",
    "builtin_function_or_method",
    "instance",
    "_Feature"
   ],
   "window_display": false
  }
 },
 "nbformat": 4,
 "nbformat_minor": 4
}
