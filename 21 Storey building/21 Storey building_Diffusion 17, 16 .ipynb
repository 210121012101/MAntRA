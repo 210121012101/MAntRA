{
 "cells": [
  {
   "cell_type": "code",
   "execution_count": 1,
   "metadata": {},
   "outputs": [
    {
     "data": {
      "text/plain": [
       "'\\nThis code belongs to the paper:\\n-- YC Mathpati, KS More, T Tripura, R Nayek, S Chakraborty (2023)\\n   MAntRA: A framework for model agnostic reliability analysis\\n   \\n-- This code is for 21 Storey building.\\n'"
      ]
     },
     "execution_count": 1,
     "metadata": {},
     "output_type": "execute_result"
    }
   ],
   "source": [
    "\"\"\"\n",
    "This code belongs to the paper:\n",
    "-- YC Mathpati, KS More, T Tripura, R Nayek, S Chakraborty (2023)\n",
    "   MAntRA: A framework for model agnostic reliability analysis\n",
    "   \n",
    "-- This code is for 21 Storey building.\n",
    "\"\"\""
   ]
  },
  {
   "cell_type": "code",
   "execution_count": 1,
   "metadata": {},
   "outputs": [],
   "source": [
    "import numpy as np\n",
    "import matplotlib.pyplot as plt\n",
    "from scipy import linalg as LA\n",
    "from sklearn.metrics import mean_squared_error as MSE\n",
    "\n",
    "\"\"\"\n",
    "The Dictionary creation part:\n",
    "~~~~~~~~~~~~~~~~~~~~~~~~~~~~~~~~~~~~~~~~~~~~~~~~~~~~~~~~~~~~\n",
    "\"\"\"\n",
    "def library(xt, polyn, harmonic):\n",
    "    if polyn == 0:\n",
    "        polyn = 1\n",
    "    \n",
    "    # The polynomial is (x1 + x2)^p, with p is the order\n",
    "    # poly order 0\n",
    "    ind = 0\n",
    "    n = len(xt[0])\n",
    "    D = np.ones([n,1])\n",
    "    \n",
    "    if polyn >= 1:\n",
    "        # poly order 1\n",
    "        for i in range(len(xt)):\n",
    "            ind = ind+1\n",
    "            new = np.vstack(xt[i,:])\n",
    "            D = np.append(D, new, axis=1)\n",
    "     \n",
    "    if polyn >= 2: \n",
    "        # ploy order 2\n",
    "        for i in range(len(xt)):\n",
    "            for j in  range(i,len(xt)):\n",
    "                ind = ind+1\n",
    "                new = np.multiply(xt[i,:], xt[j,:])\n",
    "                new = np.vstack(new)\n",
    "                D = np.append(D, new, axis=1) \n",
    "    \n",
    "    if polyn >= 3:    \n",
    "        # ploy order 3\n",
    "        for i in range(len(xt)):\n",
    "            for j in  range(i,len(xt)):\n",
    "                for k in  range(j,len(xt)):\n",
    "                    ind = ind+1\n",
    "                    new = np.multiply(np.multiply(xt[i,:], xt[j,:]), xt[k,:])\n",
    "                    new = np.vstack(new)\n",
    "                    D = np.append(D, new, axis=1) \n",
    "    \n",
    "    if polyn >= 4:\n",
    "        # ploy order 4\n",
    "        for i in range(len(xt)):\n",
    "            for j in  range(i,len(xt)):\n",
    "                for k in  range(j,len(xt)):\n",
    "                    for l in range(k,len(xt)):\n",
    "                        ind = ind+1\n",
    "                        new = np.multiply(np.multiply(xt[i,:], xt[j,:]), xt[k,:])\n",
    "                        new = np.multiply(new, xt[l,:])\n",
    "                        new = np.vstack(new)\n",
    "                        D = np.append(D, new, axis=1) \n",
    "    \n",
    "    if polyn >= 5:\n",
    "        # ploy order 5\n",
    "        for i in range(len(xt)):\n",
    "            for j in  range(i,len(xt)):\n",
    "                for k in  range(j,len(xt)):\n",
    "                    for l in  range(k,len(xt)):\n",
    "                        for m in  range(l,len(xt)):\n",
    "                            ind = ind+1\n",
    "                            new = np.multiply(xt[i,:], xt[j,:])\n",
    "                            new = np.multiply(new, xt[k,:])\n",
    "                            new = np.multiply(new, xt[l,:])\n",
    "                            new = np.multiply(new, xt[m,:])\n",
    "                            new = np.vstack(new)\n",
    "                            D = np.append(D, new, axis=1) \n",
    "    \n",
    "    if polyn >= 6:\n",
    "        # ploy order 6\n",
    "        for i in range(len(xt)):\n",
    "            for j in  range(i,len(xt)):\n",
    "                for k in  range(j,len(xt)):\n",
    "                    for l in  range(k,len(xt)):\n",
    "                        for m in  range(l,len(xt)):\n",
    "                            for n in  range(m,len(xt)):\n",
    "                                ind = ind+1\n",
    "                                new = np.multiply(xt[i,:], xt[j,:])\n",
    "                                new = np.multiply(new, xt[k,:])\n",
    "                                new = np.multiply(new, xt[l,:])\n",
    "                                new = np.multiply(new, xt[m,:])\n",
    "                                new = np.multiply(new, xt[n,:])\n",
    "                                new = np.vstack(new)\n",
    "                                D = np.append(D, new, axis=1) \n",
    "    \n",
    "#     # for the signum or sign operator\n",
    "#     for i in range(len(xt)):\n",
    "#         ind = ind+1\n",
    "#         new = np.vstack(np.sign(xt[i,:]))+0.0001\n",
    "#         D = np.append(D, new, axis=1)\n",
    "    \n",
    "    # for the modulus operator\n",
    "    for i in range(len(xt)):\n",
    "        ind = ind+1\n",
    "        new = np.vstack(abs(xt[i,:]))\n",
    "        D = np.append(D, new, axis=1)\n",
    "      \n",
    "    # for the tensor operator\n",
    "    for i in range(len(xt)):\n",
    "        for j in  range(len(xt)):\n",
    "            ind = ind+1\n",
    "            new = np.multiply(xt[i,:],abs(xt[j,:]))\n",
    "            new = np.vstack(new)\n",
    "            D = np.append(D, new, axis=1)\n",
    "            \n",
    "    if harmonic == 1:\n",
    "        for i in range(len(xt)):\n",
    "            ind = ind+1\n",
    "            new = np.vstack(np.sin(xt[i,:]))\n",
    "            D = np.append(D, new, axis=1)\n",
    "\n",
    "        for i in range(len(xt)):\n",
    "            ind = ind+1\n",
    "            new = np.vstack(np.cos(xt[i,:]))\n",
    "            D = np.append(D, new, axis=1)\n",
    "            \n",
    "    ind = len(D[0])\n",
    "    \n",
    "    return D, ind"
   ]
  },
  {
   "cell_type": "code",
   "execution_count": 2,
   "metadata": {},
   "outputs": [],
   "source": [
    "import numpy as np\n",
    "import matplotlib.pyplot as plt\n",
    "\"\"\"\n",
    "A MDOF system excited by random noise\n",
    "----------------------------------------------------------------------\n",
    "\"\"\"\n",
    "\n",
    "def drift_mat(dof,k,c,m):\n",
    "    dim = 2 * dof\n",
    "    A = np.zeros((dim,dim))\n",
    "    \n",
    "    for i in range(dim):\n",
    "        if (i%2 == 0):\n",
    "            A[i][i+1] = 1\n",
    "    \n",
    "        elif(i==1):\n",
    "            A[i][i-1] = -(k+k)/m\n",
    "            A[i][i] = -(c+c)/m\n",
    "            A[i][i+1] = k/m\n",
    "            A[i][i+2] = c/m\n",
    "    \n",
    "        elif(i==dim-1):\n",
    "            A[i][i] = -c/m\n",
    "            A[i][i-1] = -k/m\n",
    "            A[i][i-2] = c/m\n",
    "            A[i][i-3] = k/m\n",
    "            \n",
    "        else:\n",
    "            A[i][i-3] = k/m \n",
    "            A[i][i-2] = c/m\n",
    "            A[i][i-1] = -(k+k)/m\n",
    "            A[i][i] = -(c+c)/m\n",
    "            A[i][i+1] = k/m\n",
    "            A[i][i+2] = c/m\n",
    "    return A\n",
    "\n",
    "def M_DOF_sys(x_initial, dof, T):\n",
    "    # parameters of M_DOF_sys in Equation\n",
    "    m = 1\n",
    "    c = 2\n",
    "    k = 3000\n",
    "    sigma = 1\n",
    "    \n",
    "    # solution by euler maruyama\n",
    "    # -------------------------------------------------------\n",
    "    dt = 0.0001\n",
    "    t = np.arange(0, T+dt, dt)\n",
    "    Nsamp = 200 # no. of samples in the run\n",
    "    \n",
    "    y7 = [] \n",
    "    y8 = []\n",
    "    y9 = []\n",
    "    y10 = []\n",
    "    y11 = []\n",
    "    y12 = []\n",
    "    y13 = []\n",
    "    y14 = []\n",
    "    \n",
    "    xz5 = []\n",
    "    xz6 = []\n",
    "    \n",
    "    xzs55 = []\n",
    "    xzs66 = []\n",
    "    \n",
    "    # Simulation Starts Here ::\n",
    "    # -------------------------------------------------------\n",
    "    for ensemble in range(Nsamp):\n",
    "        x0 = x_initial\n",
    "        x = x0                              # initial condition.\n",
    "        for n in range(len(t)-1):\n",
    "            dW = np.sqrt(dt)*np.random.randn(2*dof)\n",
    "            \n",
    "            '''LINEAR PART DRIFT'''\n",
    "        \n",
    "            A = drift_mat(dof,k,c,m)\n",
    "            \n",
    "            '''DIFFUSION TERM  = b'''\n",
    "            diffu_arr = np.zeros(2*dof)\n",
    "            for i in range(2*dof):\n",
    "                if (i%2 != 0):\n",
    "                    diffu_arr[i] = sigma/m\n",
    "            \n",
    "            soln_arr = x0 + np.matmul(A,x0)*dt + diffu_arr*dW        \n",
    "            x0 = soln_arr\n",
    "            x = np.column_stack((x, x0))\n",
    "            \n",
    "        y7.append(x[-7,:])\n",
    "        y8.append(x[-8,:])\n",
    "        y9.append(x[-9,:])         # Displacement\n",
    "        y10.append(x[-10,:])\n",
    "        y11.append(x[-11,:])       # Displacement\n",
    "        y12.append(x[-12,:])\n",
    "        y13.append(x[-13,:])\n",
    "        y14.append(x[-14,:])\n",
    "        \n",
    "        zint5 = x[-9, 0:-1]        # Velocity\n",
    "        xfinal5 = x[-9, 1:] \n",
    "        xmz5 = (xfinal5 - zint5)\n",
    "        \n",
    "        zint6 = x[-11, 0:-1]       # Velocity\n",
    "        xfinal6 = x[-11, 1:] \n",
    "        xmz6 = (xfinal6 - zint6) \n",
    "\n",
    "        xz5.append(xmz5)\n",
    "        xz6.append(xmz6)\n",
    "        \n",
    "        xmzsq55 = np.multiply(xmz5, xmz5)\n",
    "        xzs55.append(xmzsq55)\n",
    "        \n",
    "        xmzsq66 = np.multiply(xmz6, xmz6)\n",
    "        xzs66.append(xmzsq66)\n",
    "        \n",
    "    xz5 = pow(dt,-1)*np.mean(np.array(xz5), axis = 0)\n",
    "    xz6 = pow(dt,-1)*np.mean(np.array(xz6), axis = 0)\n",
    "\n",
    "    xzs55 = pow(dt,-1)*np.mean(np.array(xzs55), axis = 0)\n",
    "    xzs66 = pow(dt,-1)*np.mean(np.array(xzs66), axis = 0)\n",
    "    \n",
    "    y7 = np.array(y7)\n",
    "    y8 = np.array(y8)\n",
    "    y9 = np.array(y9)\n",
    "    y10 = np.array(y10)\n",
    "    y11 = np.array(y11)\n",
    "    y12 = np.array(y12)\n",
    "    y13 = np.array(y13)\n",
    "    y14 = np.array(y14)\n",
    "\n",
    "    time = t[0:-1]\n",
    "    return xz5, xz6, xzs55, xzs66, y7, y8, y9, y10, y11, y12, y13, y14, time"
   ]
  },
  {
   "cell_type": "code",
   "execution_count": 3,
   "metadata": {},
   "outputs": [],
   "source": [
    "np.random.seed(2)\n",
    "T = 1\n",
    "dof = 21\n",
    "x_initial = np.zeros(2*dof)"
   ]
  },
  {
   "cell_type": "code",
   "execution_count": 4,
   "metadata": {},
   "outputs": [
    {
     "name": "stdout",
     "output_type": "stream",
     "text": [
      "\n"
     ]
    },
    {
     "data": {
      "text/plain": [
       "19.26790297428767"
      ]
     },
     "execution_count": 4,
     "metadata": {},
     "output_type": "execute_result"
    }
   ],
   "source": [
    "import time\n",
    "start = time.time()\n",
    "xz5, xz6, xzs55, xzs66, y7, y8, y9, y10, y11, y12, y13, y14, time_ = M_DOF_sys(x_initial, dof, T)\n",
    "end = time.time()\n",
    "print()\n",
    "TIMES = (end - start)/60\n",
    "TIMES"
   ]
  },
  {
   "cell_type": "code",
   "execution_count": 5,
   "metadata": {},
   "outputs": [
    {
     "name": "stdout",
     "output_type": "stream",
     "text": [
      "\n"
     ]
    },
    {
     "data": {
      "text/plain": [
       "5.142264139652252"
      ]
     },
     "execution_count": 5,
     "metadata": {},
     "output_type": "execute_result"
    }
   ],
   "source": [
    "startD = time.time()\n",
    "# Expected Dictionary Creation:\n",
    "libr = []\n",
    "for j in range(len(y7)):\n",
    "    data = np.row_stack((y7[j,0:-1], y8[j,0:-1], y9[j,0:-1], y10[j,0:-1], y11[j,0:-1], y12[j,0:-1], y13[j,0:-1], y14[j,0:-1]))\n",
    "    Dtemp, nl = library(data, 1, 0)\n",
    "    libr.append(Dtemp)\n",
    "libr = np.array(libr)\n",
    "Dictionary= np.mean(libr, axis = 0)\n",
    "print()\n",
    "endD = time.time()\n",
    "TIMED = (endD - startD)/60\n",
    "TIMED"
   ]
  },
  {
   "cell_type": "code",
   "execution_count": 7,
   "metadata": {},
   "outputs": [
    {
     "name": "stdout",
     "output_type": "stream",
     "text": [
      "Total time 24.41016711393992\n"
     ]
    }
   ],
   "source": [
    "print('Total time', TIMES+TIMED)"
   ]
  },
  {
   "cell_type": "code",
   "execution_count": 8,
   "metadata": {},
   "outputs": [],
   "source": [
    "xdts = xzs55\n",
    "D = Dictionary"
   ]
  },
  {
   "cell_type": "code",
   "execution_count": 9,
   "metadata": {},
   "outputs": [
    {
     "data": {
      "text/plain": [
       "(10000, 81)"
      ]
     },
     "execution_count": 9,
     "metadata": {},
     "output_type": "execute_result"
    }
   ],
   "source": [
    "D.shape"
   ]
  },
  {
   "cell_type": "code",
   "execution_count": 10,
   "metadata": {},
   "outputs": [
    {
     "data": {
      "text/plain": [
       "(810000,)"
      ]
     },
     "execution_count": 10,
     "metadata": {},
     "output_type": "execute_result"
    }
   ],
   "source": [
    "Dict = D.reshape(-1,order='F')\n",
    "Dict.shape"
   ]
  },
  {
   "cell_type": "code",
   "execution_count": 11,
   "metadata": {
    "scrolled": true
   },
   "outputs": [
    {
     "name": "stdout",
     "output_type": "stream",
     "text": [
      "{'Relevant': matlab.double([[1.0],[7.0],[10.0],[14.0],[17.0],[22.0],[28.0],[42.0],[57.0]]), 'Value': matlab.double([[0.9856522615091673],[-5.7769476953383165],[0.1295363697115176],[0.03147533666869072],[1.3237589182557283],[-0.06687716389813055],[-2.401986797694255],[5.998084705771243],[1.1545312026326244]])}\n"
     ]
    }
   ],
   "source": [
    "#!/usr/bin/env python\n",
    "\"\"\"\n",
    "Sample script that uses the SparseBayes module created using\n",
    "MATLAB Compiler SDK.\n",
    "\n",
    "Refer to the MATLAB Compiler SDK documentation for more information.\n",
    "\"\"\"\n",
    "\n",
    "from __future__ import print_function\n",
    "import SparseBayes\n",
    "import matlab\n",
    "\n",
    "my_SparseBayes = SparseBayes.initialize()\n",
    "\n",
    "DictIn = matlab.double(Dict, size=(D.shape[0], D.shape[1]))\n",
    "targetIn = matlab.double(xdts, size=(D.shape[0], 1))\n",
    "DMOut = my_SparseBayes.SparseBayes(DictIn, targetIn)\n",
    "print(DMOut, sep='\\n')\n",
    "\n",
    "my_SparseBayes.terminate()"
   ]
  },
  {
   "cell_type": "code",
   "execution_count": 12,
   "metadata": {},
   "outputs": [
    {
     "name": "stdout",
     "output_type": "stream",
     "text": [
      "[1. 0. 0. 0. 0. 0. 1. 0. 0. 1. 0. 0. 0. 1. 0. 0. 1. 0. 0. 0. 0. 1. 0. 0.\n",
      " 0. 0. 0. 1. 0. 0. 0. 0. 0. 0. 0. 0. 0. 0. 0. 0. 0. 1. 0. 0. 0. 0. 0. 0.\n",
      " 0. 0. 0. 0. 0. 0. 0. 0. 1. 0. 0. 0. 0. 0. 0. 0. 0. 0. 0. 0. 0. 0. 0. 0.\n",
      " 0. 0. 0. 0. 0. 0. 0. 0. 0.]\n"
     ]
    }
   ],
   "source": [
    "c = np.array(DMOut['Value'])\n",
    "d = []\n",
    "for j in c:\n",
    "    d.append(j[0])\n",
    "    \n",
    "a = np.array(DMOut['Relevant'])\n",
    "b = []\n",
    "for i in a:\n",
    "    b.append(int((i[0])-1))\n",
    "    \n",
    "initz0 = np.zeros(D.shape[1])\n",
    "for i in b:\n",
    "    initz0[i] = 1\n",
    "    \n",
    "print(initz0)"
   ]
  },
  {
   "cell_type": "code",
   "execution_count": 13,
   "metadata": {},
   "outputs": [],
   "source": [
    "import warnings\n",
    "import math\n",
    "import numpy as np\n",
    "import scipy as sp\n",
    "import sympy as smp\n",
    "from scipy import stats\n",
    "from numpy import linalg as la\n",
    "import matplotlib.pyplot as plt\n",
    "from numpy.random import gamma\n",
    "from scipy.special import loggamma\n",
    "\n",
    "def Variational_Bayes_Code(X, y, initz0, tol, verbosity):\n",
    "\n",
    "    if (len(X) == 0 or len(y) == 0):\n",
    "        raise Exception('X and or y is missing')\n",
    "        \n",
    "    if (len(X) != len(y)):\n",
    "        raise Exception('Number of observations do not match')\n",
    "        \n",
    "    # X = stats.zscore(X, ddof = 1)         \n",
    "    # X = np.c_[np.ones(len(X)),X]\n",
    "    # X = np.c_[np.ones(len(X)),X]          \n",
    "    # y = y - np.mean(y)\n",
    "    N = len(X)\n",
    "    # Prior parameters of noise variance (Inverse Gamma dist)\n",
    "    A = 1e-4\n",
    "    B = 1e-4\n",
    "    vs = 10\n",
    "    tau0 = 1000\n",
    "    \n",
    "    if (len(initz0) == 0):\n",
    "        raise Exception('No initial value of z found')\n",
    "    else:\n",
    "        p0 = expit(-0.5*(np.sqrt(N)))       \n",
    "        \n",
    "        # Adding the intercept indicator variable (slightly less than 1 to prevent log(0) values) \n",
    "        # initz = np.hstack((1,initz0))  \n",
    "        initz = initz0\n",
    "\n",
    "        DS,LLcvg  = run_VB2(X, y, vs, A, B, tau0, p0, initz, tol, verbosity)    \n",
    "        # This is function which will come first\n",
    "        \n",
    "    out_vb   = DS\n",
    "    a = DS['zmean'] > 0.5\n",
    "    count = 0\n",
    "    modelIdx = []\n",
    "    for i in a:\n",
    "        if i == True:\n",
    "            modelIdx.append(count)\n",
    "        count += 1\n",
    "            \n",
    "    modelIdx = np.setdiff1d(modelIdx,0)\n",
    "    out_vb['modelIdx'] = modelIdx-1\n",
    "    out_vb['Zmed'] = DS['zmean'][modelIdx]\n",
    "    out_vb['Wsel'] = DS['wmean'][modelIdx]\n",
    "    out_vb['Wcov'] = DS['wCOV'][modelIdx, modelIdx]\n",
    "    out_vb['sig2'] = DS['sig2']\n",
    "    \n",
    "    return out_vb\n",
    "\n",
    "DS = {}\n",
    "def run_VB2(Xc, yc, vs, A, B, tau0, p0, initz, tol, verbosity):\n",
    "    \"\"\"This function is the implementation of VB from John T. Ormerod paper (2014)\n",
    "       This implementation uses slab scaling by noise variance\n",
    "       vs    : treated as a constant\n",
    "       A,B   : constants of the IG prior over noise variance\n",
    "       tau0  : Expected value of (sigma^{-2})\n",
    "       p0    : inclusion probablility\n",
    "       initz : Initial value of z\n",
    "       Xc    : Centered and standardized dictionary except the first column\n",
    "       yc    : Centered observations \"\"\"\n",
    "    \n",
    "    Lambda    = logit(p0)\n",
    "    iter_     = 0\n",
    "    max_iter  = 100\n",
    "    LL        = np.zeros(max_iter)        \n",
    "    zm        = np.reshape(initz,(-1))            \n",
    "    taum      = tau0                      \n",
    "    invVs     = 1/vs\n",
    "    \n",
    "    X = Xc\n",
    "    y = yc\n",
    "    XtX = (X.T) @ X\n",
    "    XtX = 0.5*(XtX + (XtX).T)\n",
    "    Xty = (X.T) @ y                 \n",
    "    yty = (y.T) @ y\n",
    "\n",
    "    eyep = np.eye(len(XtX))\n",
    "    [N,p] = X.shape\n",
    "    allidx = np.arange(p)\n",
    "    zm[0] = 1                                                                   # Always include the intercept \n",
    "    Abar    = (A + 0.5*N + 0.5*p)\n",
    "    converged = 0\n",
    "    \n",
    "    while (converged==0):\n",
    "        if (iter_==100):\n",
    "            break\n",
    "        \n",
    "        Zm       = np.diag(zm)\n",
    "        Omg      = (np.reshape(zm,(-1,1)) @ np.reshape(zm,(1,-1))) + (Zm @ (eyep-Zm))\n",
    "        # Update the mean and covariance of the coefficients given mean of z\n",
    "        term1    = XtX * Omg                                                       # elementwisw multiplication\n",
    "        invSigma = taum * (term1 + invVs * eyep)\n",
    "        invSigma = 0.5*(invSigma + invSigma.T)                                     # symmetric\n",
    "        Sigma    = la.inv(invSigma) @ eyep\n",
    "        mu       = taum * (Sigma @ Zm @ Xty)                                       # @ ---> matrix multiplication\n",
    "        \n",
    "        # Update tau related to sigma\n",
    "        term2    = 2 * Xty @ Zm @ mu\n",
    "        term3    =  np.reshape(mu,(len(initz0),1)) @ np.reshape(mu,(1,len(initz0)))+ Sigma\n",
    "        term4    = yty - term2 + np.trace((term1 + invVs * eyep) @ term3)    \n",
    "        s        = B + 0.5*term4\n",
    "        \n",
    "        if s<0:\n",
    "            warnings.warn('s turned out be less than 0. Taking absolute value')\n",
    "            s = B + 0.5*abs(term4)\n",
    "        \n",
    "        taum     = Abar / s\n",
    "        zstr   = zm\n",
    "\n",
    "        order   = np.setdiff1d(np.random.permutation(p), 0, assume_unique=True)\n",
    "        for j in order: \n",
    "            muj     = mu[j]                            \n",
    "            sigmaj  = Sigma[j,j]\n",
    "            \n",
    "            remidx  = np.setdiff1d(allidx,j)\n",
    "            mu_j    = mu[remidx]\n",
    "            Sigma_jj= Sigma[remidx,j]\n",
    "            etaj    = (Lambda - 0.5 * taum * ((muj**2 + sigmaj) * XtX[j,j]) \n",
    "                       + taum * np.reshape(X[:,j],(1,-1)) @ (np.reshape(y,(-1,1))*muj \n",
    "                        -X[:,remidx] @ np.diag(zstr[remidx]) @ ((mu_j * muj + Sigma_jj).reshape(-1,1))))\n",
    "            zstr[j] = expit(etaj)\n",
    "            \n",
    "        zm = zstr\n",
    "        \n",
    "        # Calculate marginal log-likelihood\n",
    "        \n",
    "        LL[iter_] = ( 0.5*p \n",
    "                    - 0.5*N*np.log(2*np.pi) \n",
    "                    + 0.5*p*np.log(invVs) \n",
    "                    + A*np.log(B)\n",
    "                    - loggamma(A)\n",
    "                    + loggamma(Abar) \n",
    "                    - Abar*np.log(s)\n",
    "                    + 0.5*np.log(la.det(Sigma))\n",
    "                    + np.nansum(zm*(np.log(p0) - np.log(zm))) \n",
    "                    + np.nansum((1-zm)*(np.log(1-p0) - np.log(1-zm))))\n",
    "        \n",
    "        if(verbosity):\n",
    "            print(f'Iteration = {iter_}  log(Likelihood) = {LL[iter_]}')\n",
    "        \n",
    "        if(iter_>1):\n",
    "            cvg = LL[iter_] - LL[iter_-1]\n",
    "            \n",
    "            if (cvg < 0 and verbosity):\n",
    "                print('OOPS!  log(like) decreasing!!')\n",
    "            elif (cvg<tol or iter_> max_iter):\n",
    "                converged = 1\n",
    "                LL = LL[0:iter_]\n",
    "                \n",
    "        iter_    = iter_ + 1\n",
    "    DS['zmean'] = zm\n",
    "    DS['wmean'] = mu\n",
    "    DS['wCOV'] = Sigma\n",
    "    DS['sig2'] = 1/taum\n",
    "    LLcvg    = LL[-1]\n",
    "    return DS, LLcvg\n",
    "    \n",
    "def logit(C):\n",
    "    logitC = np.log(C) - np.log(1-C)\n",
    "    return logitC\n",
    "\n",
    "def expit(C):\n",
    "    expitC = 1./(1 + np.exp(-C))\n",
    "    return expitC"
   ]
  },
  {
   "cell_type": "code",
   "execution_count": 14,
   "metadata": {},
   "outputs": [
    {
     "data": {
      "text/plain": [
       "((81,), (10000, 81))"
      ]
     },
     "execution_count": 14,
     "metadata": {},
     "output_type": "execute_result"
    }
   ],
   "source": [
    "initz0.shape, D.shape"
   ]
  },
  {
   "cell_type": "code",
   "execution_count": 15,
   "metadata": {},
   "outputs": [
    {
     "name": "stderr",
     "output_type": "stream",
     "text": [
      "C:\\Users\\USER\\AppData\\Local\\Temp/ipykernel_2836/3512855728.py:147: RuntimeWarning: divide by zero encountered in log\n",
      "  + np.nansum((1-zm)*(np.log(1-p0) - np.log(1-zm))))\n",
      "C:\\Users\\USER\\AppData\\Local\\Temp/ipykernel_2836/3512855728.py:147: RuntimeWarning: invalid value encountered in multiply\n",
      "  + np.nansum((1-zm)*(np.log(1-p0) - np.log(1-zm))))\n",
      "C:\\Users\\USER\\AppData\\Local\\Temp/ipykernel_2836/3512855728.py:174: RuntimeWarning: overflow encountered in exp\n",
      "  expitC = 1./(1 + np.exp(-C))\n"
     ]
    },
    {
     "name": "stdout",
     "output_type": "stream",
     "text": [
      "Iteration = 0  log(Likelihood) = 8129.564433210797\n"
     ]
    },
    {
     "name": "stderr",
     "output_type": "stream",
     "text": [
      "C:\\Users\\USER\\AppData\\Local\\Temp/ipykernel_2836/3512855728.py:146: RuntimeWarning: divide by zero encountered in log\n",
      "  + np.nansum(zm*(np.log(p0) - np.log(zm)))\n",
      "C:\\Users\\USER\\AppData\\Local\\Temp/ipykernel_2836/3512855728.py:146: RuntimeWarning: invalid value encountered in multiply\n",
      "  + np.nansum(zm*(np.log(p0) - np.log(zm)))\n"
     ]
    },
    {
     "name": "stdout",
     "output_type": "stream",
     "text": [
      "Iteration = 1  log(Likelihood) = 8190.447440717977\n",
      "Iteration = 2  log(Likelihood) = 8190.448585261951\n",
      "Iteration = 3  log(Likelihood) = 8190.448585334923\n",
      "{'zmean': array([1.00000000e+00, 1.66730181e-38, 1.00199489e-22, 5.63100977e-44,\n",
      "       1.03734308e-22, 2.38497996e-47, 1.08812790e-22, 7.00823867e-46,\n",
      "       1.14856306e-22, 1.00000000e+00, 6.59458451e-43, 0.00000000e+00,\n",
      "       7.85266801e-42, 1.00000000e+00, 8.85067209e-41, 0.00000000e+00,\n",
      "       1.15476127e-39, 2.18517787e-30, 1.84028117e-22, 2.01876265e-25,\n",
      "       1.84626712e-22, 6.20710671e-25, 1.85024029e-22, 4.08420179e-25,\n",
      "       1.85656720e-22, 1.77838732e-22, 1.92118489e-22, 1.77997555e-22,\n",
      "       1.92166453e-22, 1.77758927e-22, 1.92234496e-22, 1.76846624e-22,\n",
      "       1.92304008e-22, 5.94449696e-26, 1.79520596e-22, 1.73123476e-31,\n",
      "       1.80385458e-22, 1.75285252e-25, 1.81391716e-22, 2.99022588e-26,\n",
      "       1.82201434e-22, 1.78036459e-22, 1.92166820e-22, 1.78703745e-22,\n",
      "       1.92200499e-22, 1.78194702e-22, 1.92265936e-22, 1.77201635e-22,\n",
      "       1.92330189e-22, 3.49646505e-26, 1.78532381e-22, 6.65341518e-27,\n",
      "       1.79532705e-22, 2.34453715e-33, 1.80551734e-22, 9.25262153e-27,\n",
      "       1.81662246e-22, 1.77696834e-22, 1.92234800e-22, 1.80155584e-22,\n",
      "       1.92265811e-22, 1.79650511e-22, 1.92315478e-22, 1.78270351e-22,\n",
      "       1.92370788e-22, 2.05284590e-25, 1.80951042e-22, 6.62727996e-26,\n",
      "       1.81140433e-22, 1.93707112e-26, 1.81594570e-22, 1.24594101e-30,\n",
      "       1.82447273e-22, 1.79216007e-22, 1.92304750e-22, 1.80601138e-22,\n",
      "       1.92330772e-22, 1.81259713e-22, 1.92371361e-22, 1.80092961e-22,\n",
      "       1.92413956e-22]), 'wmean': array([ 9.75953953e-01,  1.00620662e-38, -3.18883547e-23,  2.43199899e-44,\n",
      "       -2.96414431e-23, -3.90817752e-47, -3.15982394e-23, -3.43505413e-45,\n",
      "       -3.00922087e-23,  1.82730375e-01,  9.40141898e-44,  0.00000000e+00,\n",
      "        1.83198331e-42,  8.97140285e-02,  2.22755275e-41,  0.00000000e+00,\n",
      "        2.58695697e-40,  9.82372750e-31, -1.03143587e-23,  5.11731188e-26,\n",
      "       -8.96896038e-24, -7.41068386e-25, -1.06692921e-23,  7.69225869e-26,\n",
      "       -1.15860517e-23,  5.47975848e-24, -4.20364223e-24, -2.44078332e-23,\n",
      "       -3.54490794e-24, -3.25144491e-23, -3.25905187e-24, -2.13972383e-23,\n",
      "       -2.69562826e-24, -8.52135275e-27, -1.00825528e-24,  1.42910831e-31,\n",
      "        1.05735449e-24,  4.45016094e-26,  3.47273253e-24, -8.20522390e-27,\n",
      "        5.65568288e-24,  9.44532254e-24, -3.54902229e-24, -2.13583879e-23,\n",
      "       -3.11073320e-24, -3.08905760e-23, -2.94680114e-24, -1.99790675e-23,\n",
      "       -2.50657409e-24, -5.67229041e-26, -2.08855058e-23, -3.89552652e-27,\n",
      "       -1.86240922e-23, -1.56805886e-33, -1.33726835e-23, -2.21031338e-26,\n",
      "       -7.35396053e-24,  1.28827308e-23, -3.21308033e-24, -2.05844521e-23,\n",
      "       -2.94439140e-24, -3.08216583e-23, -2.94065881e-24, -2.06740720e-23,\n",
      "       -2.68129903e-24, -4.21111286e-25, -1.09214486e-23, -4.18521092e-26,\n",
      "       -1.58043974e-23, -4.52087052e-26, -1.40109044e-23, -3.23382392e-30,\n",
      "       -1.38257610e-23,  1.44599518e-23, -2.59707068e-24, -2.27386780e-23,\n",
      "       -2.47364003e-24, -2.87619011e-23, -2.65114935e-24, -2.17687933e-23,\n",
      "       -2.68340643e-24]), 'wCOV': array([[ 1.76450994e-05, -3.62617802e-41,  4.63291308e-26, ...,\n",
      "         4.52443996e-27,  1.90262965e-26,  4.19209753e-27],\n",
      "       [-3.62617802e-41,  1.09916589e-01, -4.87086875e-62, ...,\n",
      "        -8.09850114e-63,  3.05938301e-62, -8.87959631e-63],\n",
      "       [ 4.63291308e-26, -4.87086875e-62,  1.09916589e-01, ...,\n",
      "        -2.17981296e-47, -1.45253006e-46, -2.03175344e-47],\n",
      "       ...,\n",
      "       [ 4.52443996e-27, -8.09850114e-63, -2.17981296e-47, ...,\n",
      "         1.09916589e-01, -1.77127047e-47, -3.52263545e-48],\n",
      "       [ 1.90262965e-26,  3.05938301e-62, -1.45253006e-46, ...,\n",
      "        -1.77127047e-47,  1.09916589e-01, -1.67622232e-47],\n",
      "       [ 4.19209753e-27, -8.87959631e-63, -2.03175344e-47, ...,\n",
      "        -3.52263545e-48, -1.67622232e-47,  1.09916589e-01]]), 'sig2': 0.01099166416929316, 'modelIdx': array([ 8, 12]), 'Zmed': array([1., 1.]), 'Wsel': array([0.18273038, 0.08971403]), 'Wcov': array([0.00302225, 0.00280369])}\n"
     ]
    }
   ],
   "source": [
    "tol = 0.0001\n",
    "verbosity = True\n",
    "initz0 = initz0\n",
    "DS = Variational_Bayes_Code(D, xdts, initz0, tol, verbosity)\n",
    "\n",
    "print(DS) "
   ]
  },
  {
   "cell_type": "code",
   "execution_count": 16,
   "metadata": {},
   "outputs": [
    {
     "data": {
      "text/plain": [
       "0.9879038178340201"
      ]
     },
     "execution_count": 16,
     "metadata": {},
     "output_type": "execute_result"
    }
   ],
   "source": [
    "np.sqrt(DS['wmean'][0])"
   ]
  },
  {
   "cell_type": "code",
   "execution_count": 18,
   "metadata": {},
   "outputs": [
    {
     "name": "stdout",
     "output_type": "stream",
     "text": [
      "\n",
      "0.9879038178340201\n"
     ]
    },
    {
     "data": {
      "image/png": "[encoded data removed]",
      "text/plain": [
       "<Figure size 432x288 with 1 Axes>"
      ]
     },
     "metadata": {
      "needs_background": "light"
     },
     "output_type": "display_data"
    }
   ],
   "source": [
    "zmean17 = DS['zmean']\n",
    "wmean17 = DS['wmean']\n",
    "zmean17[np.where(np.diag(DS['wCOV'])>5e-4)] = 0\n",
    "plt.stem(zmean17)\n",
    "wmean17[np.where(np.diag(DS['wCOV'])>5e-4)] = 0\n",
    "print()\n",
    "print(np.sqrt(wmean17[0]))"
   ]
  },
  {
   "cell_type": "code",
   "execution_count": 19,
   "metadata": {},
   "outputs": [],
   "source": [
    "xdts = xzs66"
   ]
  },
  {
   "cell_type": "code",
   "execution_count": 20,
   "metadata": {},
   "outputs": [
    {
     "name": "stdout",
     "output_type": "stream",
     "text": [
      "{'Relevant': matlab.double([[1.0],[10.0],[12.0],[17.0],[22.0],[68.0],[74.0]]), 'Value': matlab.double([[0.9986686919411943],[0.06107333439196258],[0.05112997931735707],[0.9286076095842783],[-0.16636177182023776],[0.24765371476749282],[-2.0997286353123954]])}\n"
     ]
    }
   ],
   "source": [
    "#!/usr/bin/env python\n",
    "\"\"\"\n",
    "Sample script that uses the SparseBayes module created using\n",
    "MATLAB Compiler SDK.\n",
    "\n",
    "Refer to the MATLAB Compiler SDK documentation for more information.\n",
    "\"\"\"\n",
    "\n",
    "from __future__ import print_function\n",
    "import SparseBayes\n",
    "import matlab\n",
    "\n",
    "my_SparseBayes = SparseBayes.initialize()\n",
    "\n",
    "DictIn = matlab.double(Dict, size=(D.shape[0], D.shape[1]))\n",
    "targetIn = matlab.double(xdts, size=(D.shape[0], 1))\n",
    "DMOut = my_SparseBayes.SparseBayes(DictIn, targetIn)\n",
    "print(DMOut, sep='\\n')\n",
    "\n",
    "my_SparseBayes.terminate()"
   ]
  },
  {
   "cell_type": "code",
   "execution_count": 21,
   "metadata": {},
   "outputs": [
    {
     "name": "stdout",
     "output_type": "stream",
     "text": [
      "[1. 0. 0. 0. 0. 0. 0. 0. 0. 1. 0. 1. 0. 0. 0. 0. 1. 0. 0. 0. 0. 1. 0. 0.\n",
      " 0. 0. 0. 0. 0. 0. 0. 0. 0. 0. 0. 0. 0. 0. 0. 0. 0. 0. 0. 0. 0. 0. 0. 0.\n",
      " 0. 0. 0. 0. 0. 0. 0. 0. 0. 0. 0. 0. 0. 0. 0. 0. 0. 0. 0. 1. 0. 0. 0. 0.\n",
      " 0. 1. 0. 0. 0. 0. 0. 0. 0.]\n"
     ]
    }
   ],
   "source": [
    "c = np.array(DMOut['Value'])\n",
    "d = []\n",
    "for j in c:\n",
    "    d.append(j[0])\n",
    "    \n",
    "a = np.array(DMOut['Relevant'])\n",
    "b = []\n",
    "for i in a:\n",
    "    b.append(int((i[0])-1))\n",
    "    \n",
    "initz0 = np.zeros(D.shape[1])\n",
    "for i in b:\n",
    "    initz0[i] = 1\n",
    "    \n",
    "print(initz0)"
   ]
  },
  {
   "cell_type": "code",
   "execution_count": 22,
   "metadata": {},
   "outputs": [
    {
     "name": "stderr",
     "output_type": "stream",
     "text": [
      "C:\\Users\\USER\\AppData\\Local\\Temp/ipykernel_2836/3512855728.py:147: RuntimeWarning: divide by zero encountered in log\n",
      "  + np.nansum((1-zm)*(np.log(1-p0) - np.log(1-zm))))\n",
      "C:\\Users\\USER\\AppData\\Local\\Temp/ipykernel_2836/3512855728.py:147: RuntimeWarning: invalid value encountered in multiply\n",
      "  + np.nansum((1-zm)*(np.log(1-p0) - np.log(1-zm))))\n",
      "C:\\Users\\USER\\AppData\\Local\\Temp/ipykernel_2836/3512855728.py:174: RuntimeWarning: overflow encountered in exp\n",
      "  expitC = 1./(1 + np.exp(-C))\n"
     ]
    },
    {
     "name": "stdout",
     "output_type": "stream",
     "text": [
      "Iteration = 0  log(Likelihood) = 8044.968312515839\n"
     ]
    },
    {
     "name": "stderr",
     "output_type": "stream",
     "text": [
      "C:\\Users\\USER\\AppData\\Local\\Temp/ipykernel_2836/3512855728.py:146: RuntimeWarning: divide by zero encountered in log\n",
      "  + np.nansum(zm*(np.log(p0) - np.log(zm)))\n",
      "C:\\Users\\USER\\AppData\\Local\\Temp/ipykernel_2836/3512855728.py:146: RuntimeWarning: invalid value encountered in multiply\n",
      "  + np.nansum(zm*(np.log(p0) - np.log(zm)))\n"
     ]
    },
    {
     "name": "stdout",
     "output_type": "stream",
     "text": [
      "Iteration = 1  log(Likelihood) = 8103.243982444097\n",
      "Iteration = 2  log(Likelihood) = 8103.245354434419\n",
      "Iteration = 3  log(Likelihood) = 8103.245354522414\n",
      "{'zmean': array([1.00000000e+00, 1.66730462e-38, 1.00199492e-22, 5.63102250e-44,\n",
      "       1.03734311e-22, 2.38498620e-47, 1.08812793e-22, 7.00825592e-46,\n",
      "       1.14856309e-22, 1.00000000e+00, 6.59459868e-43, 1.00000000e+00,\n",
      "       7.85268401e-42, 0.00000000e+00, 8.85068914e-41, 0.00000000e+00,\n",
      "       1.00000000e+00, 2.18517969e-30, 1.84028117e-22, 2.01876328e-25,\n",
      "       1.84626713e-22, 6.20710833e-25, 1.85024030e-22, 4.08420294e-25,\n",
      "       1.85656720e-22, 1.77838733e-22, 1.92118489e-22, 1.77997556e-22,\n",
      "       1.92166453e-22, 1.77758928e-22, 1.92234496e-22, 1.76846624e-22,\n",
      "       1.92304008e-22, 5.94449916e-26, 1.79520596e-22, 1.73123640e-31,\n",
      "       1.80385459e-22, 1.75285308e-25, 1.81391716e-22, 2.99022708e-26,\n",
      "       1.82201434e-22, 1.78036460e-22, 1.92166820e-22, 1.78703746e-22,\n",
      "       1.92200499e-22, 1.78194703e-22, 1.92265936e-22, 1.77201635e-22,\n",
      "       1.92330189e-22, 3.49646642e-26, 1.78532381e-22, 6.65341830e-27,\n",
      "       1.79532706e-22, 2.34453983e-33, 1.80551734e-22, 9.25262573e-27,\n",
      "       1.81662247e-22, 1.77696834e-22, 1.92234800e-22, 1.80155584e-22,\n",
      "       1.92265811e-22, 1.79650512e-22, 1.92315478e-22, 1.78270352e-22,\n",
      "       1.92370788e-22, 2.05284654e-25, 1.80951042e-22, 6.62728237e-26,\n",
      "       1.81140434e-22, 1.93707193e-26, 1.81594570e-22, 1.24594208e-30,\n",
      "       1.82447274e-22, 1.79216007e-22, 1.92304750e-22, 1.80601139e-22,\n",
      "       1.92330772e-22, 1.81259714e-22, 1.92371361e-22, 1.80092961e-22,\n",
      "       1.92413956e-22]), 'wmean': array([ 9.91486251e-01, -3.42488150e-38,  2.04121711e-23,  1.71855217e-43,\n",
      "        1.86876742e-23,  1.16843709e-46,  9.71155840e-24,  5.95048336e-45,\n",
      "        1.28749285e-23,  1.29507495e-01,  3.04323213e-43,  4.34939389e-02,\n",
      "        3.33456194e-42,  0.00000000e+00,  4.19816575e-41,  0.00000000e+00,\n",
      "        4.80178919e-01, -2.95394658e-30, -8.70992795e-24, -1.08450253e-25,\n",
      "       -1.07740319e-23, -8.80657978e-25, -1.19525119e-23, -2.32129079e-25,\n",
      "       -1.84663482e-23, -1.17100512e-23,  3.04314263e-24,  1.06591891e-23,\n",
      "        2.59969960e-24,  7.57495655e-24,  1.87829943e-24,  2.89919389e-23,\n",
      "        2.10511445e-24,  4.85103238e-26,  1.82691835e-23,  4.28192834e-31,\n",
      "        1.24166506e-23,  1.31312720e-25,  1.01798890e-23,  2.65854204e-26,\n",
      "        6.46743460e-24, -1.23088709e-23,  2.61208580e-24,  9.19315408e-24,\n",
      "        2.23067199e-24,  3.31128983e-24,  1.70371559e-24,  2.65746315e-23,\n",
      "        1.98733345e-24,  3.92924292e-26,  2.86521954e-23,  1.51052429e-26,\n",
      "        2.34564828e-23,  5.71695719e-33,  1.90771612e-23,  1.72131452e-26,\n",
      "        1.86403605e-23, -1.88328341e-23,  1.95288894e-24,  2.47933135e-24,\n",
      "        1.71842734e-24, -2.16744789e-24,  1.36164026e-24,  2.12032950e-23,\n",
      "        1.58338135e-24,  5.05867880e-25,  3.79712819e-23,  2.09581922e-25,\n",
      "        4.27698626e-23,  6.53256549e-26,  3.92665946e-23,  6.21868547e-30,\n",
      "        3.33819612e-23, -1.82234060e-23,  2.14405995e-24,  3.76302324e-24,\n",
      "        1.98550724e-24,  5.48540734e-25,  1.58131369e-24,  2.13743452e-23,\n",
      "        1.84636090e-24]), 'wCOV': array([[ 3.30279484e-05, -6.37518685e-41,  9.94398666e-27, ...,\n",
      "        -7.80453568e-29,  2.09494225e-27, -3.81241138e-28],\n",
      "       [-6.37518685e-41,  1.10724127e-01, -4.54185961e-62, ...,\n",
      "        -3.76417915e-63,  5.12999429e-62, -4.58578229e-63],\n",
      "       [ 9.94398666e-27, -4.54185961e-62,  1.10724127e-01, ...,\n",
      "        -1.19170131e-47, -1.08754244e-46, -1.05396019e-47],\n",
      "       ...,\n",
      "       [-7.80453568e-29, -3.76417915e-63, -1.19170131e-47, ...,\n",
      "         1.10724127e-01, -1.29018095e-47, -2.21841042e-48],\n",
      "       [ 2.09494225e-27,  5.12999429e-62, -1.08754244e-46, ...,\n",
      "        -1.29018095e-47,  1.10724127e-01, -1.19552892e-47],\n",
      "       [-3.81241138e-28, -4.58578229e-63, -1.05396019e-47, ...,\n",
      "        -2.21841042e-48, -1.19552892e-47,  1.10724127e-01]]), 'sig2': 0.011072418559138852, 'modelIdx': array([ 8, 10, 15]), 'Zmed': array([1., 1., 1.]), 'Wsel': array([0.1295075 , 0.04349394, 0.48017892]), 'Wcov': array([0.00295898, 0.0026613 , 0.03854879])}\n"
     ]
    }
   ],
   "source": [
    "tol = 0.0001\n",
    "verbosity = True\n",
    "initz0 = initz0\n",
    "DS = Variational_Bayes_Code(D, xdts, initz0, tol, verbosity)\n",
    "\n",
    "print(DS) "
   ]
  },
  {
   "cell_type": "code",
   "execution_count": 23,
   "metadata": {},
   "outputs": [
    {
     "data": {
      "text/plain": [
       "0.9957340261966928"
      ]
     },
     "execution_count": 23,
     "metadata": {},
     "output_type": "execute_result"
    }
   ],
   "source": [
    "np.sqrt(DS['wmean'][0])"
   ]
  },
  {
   "cell_type": "code",
   "execution_count": 24,
   "metadata": {
    "scrolled": true
   },
   "outputs": [
    {
     "name": "stdout",
     "output_type": "stream",
     "text": [
      "\n",
      "0.9957340261966928\n"
     ]
    },
    {
     "data": {
      "image/png": "[encoded data removed]",
      "text/plain": [
       "<Figure size 432x288 with 1 Axes>"
      ]
     },
     "metadata": {
      "needs_background": "light"
     },
     "output_type": "display_data"
    }
   ],
   "source": [
    "zmean16 = DS['zmean']\n",
    "wmean16 = DS['wmean']\n",
    "zmean16[np.where(np.diag(DS['wCOV'])>5e-4)] = 0\n",
    "plt.stem(zmean16)\n",
    "wmean16[np.where(np.diag(DS['wCOV'])>5e-4)] = 0\n",
    "print()\n",
    "print(np.sqrt(wmean16[0]))"
   ]
  },
  {
   "cell_type": "code",
   "execution_count": null,
   "metadata": {},
   "outputs": [],
   "source": []
  },
  {
   "cell_type": "code",
   "execution_count": null,
   "metadata": {},
   "outputs": [],
   "source": []
  }
 ],
 "metadata": {
  "interpreter": {
   "hash": "3f37e94951d1aba8aea1180f8978b4824e076f548924d8dec1753cbbb0da26fd"
  },
  "kernelspec": {
   "display_name": "Python 3 (ipykernel)",
   "language": "python",
   "name": "python3"
  },
  "language_info": {
   "codemirror_mode": {
    "name": "ipython",
    "version": 3
   },
   "file_extension": ".py",
   "mimetype": "text/x-python",
   "name": "python",
   "nbconvert_exporter": "python",
   "pygments_lexer": "ipython3",
   "version": "3.9.7"
  },
  "toc": {
   "base_numbering": 1,
   "nav_menu": {},
   "number_sections": true,
   "sideBar": true,
   "skip_h1_title": false,
   "title_cell": "Table of Contents",
   "title_sidebar": "Contents",
   "toc_cell": false,
   "toc_position": {},
   "toc_section_display": true,
   "toc_window_display": false
  },
  "varInspector": {
   "cols": {
    "lenName": 16,
    "lenType": 16,
    "lenVar": 40
   },
   "kernels_config": {
    "python": {
     "delete_cmd_postfix": "",
     "delete_cmd_prefix": "del ",
     "library": "var_list.py",
     "varRefreshCmd": "print(var_dic_list())"
    },
    "r": {
     "delete_cmd_postfix": ") ",
     "delete_cmd_prefix": "rm(",
     "library": "var_list.r",
     "varRefreshCmd": "cat(var_dic_list()) "
    }
   },
   "types_to_exclude": [
    "module",
    "function",
    "builtin_function_or_method",
    "instance",
    "_Feature"
   ],
   "window_display": false
  }
 },
 "nbformat": 4,
 "nbformat_minor": 4
}
