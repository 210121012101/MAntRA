{
 "cells": [
  {
   "cell_type": "code",
   "execution_count": 1,
   "metadata": {},
   "outputs": [
    {
     "data": {
      "text/plain": [
       "'\\nThis code belongs to the paper:\\n-- YC Mathpati, KS More, T Tripura, R Nayek, S Chakraborty (2023)\\n   MAntRA: A framework for model agnostic reliability analysis\\n   \\n-- This code is for 21 Storey building.\\n'"
      ]
     },
     "execution_count": 1,
     "metadata": {},
     "output_type": "execute_result"
    }
   ],
   "source": [
    "\"\"\"\n",
    "This code belongs to the paper:\n",
    "-- YC Mathpati, KS More, T Tripura, R Nayek, S Chakraborty (2023)\n",
    "   MAntRA: A framework for model agnostic reliability analysis\n",
    "   \n",
    "-- This code is for 21 Storey building.\n",
    "\"\"\""
   ]
  },
  {
   "cell_type": "code",
   "execution_count": 1,
   "metadata": {},
   "outputs": [],
   "source": [
    "import numpy as np\n",
    "import matplotlib.pyplot as plt\n",
    "from scipy import linalg as LA\n",
    "from sklearn.metrics import mean_squared_error as MSE\n",
    "\n",
    "\"\"\"\n",
    "The Dictionary creation part:\n",
    "~~~~~~~~~~~~~~~~~~~~~~~~~~~~~~~~~~~~~~~~~~~~~~~~~~~~~~~~~~~~\n",
    "\"\"\"\n",
    "def library(xt, polyn, harmonic):\n",
    "    if polyn == 0:\n",
    "        polyn = 1\n",
    "    \n",
    "    # The polynomial is (x1 + x2)^p, with p is the order\n",
    "    # poly order 0\n",
    "    ind = 0\n",
    "    n = len(xt[0])\n",
    "    D = np.ones([n,1])\n",
    "    \n",
    "    if polyn >= 1:\n",
    "        # poly order 1\n",
    "        for i in range(len(xt)):\n",
    "            ind = ind+1\n",
    "            new = np.vstack(xt[i,:])\n",
    "            D = np.append(D, new, axis=1)\n",
    "     \n",
    "    if polyn >= 2: \n",
    "        # ploy order 2\n",
    "        for i in range(len(xt)):\n",
    "            for j in  range(i,len(xt)):\n",
    "                ind = ind+1\n",
    "                new = np.multiply(xt[i,:], xt[j,:])\n",
    "                new = np.vstack(new)\n",
    "                D = np.append(D, new, axis=1) \n",
    "    \n",
    "    if polyn >= 3:    \n",
    "        # ploy order 3\n",
    "        for i in range(len(xt)):\n",
    "            for j in  range(i,len(xt)):\n",
    "                for k in  range(j,len(xt)):\n",
    "                    ind = ind+1\n",
    "                    new = np.multiply(np.multiply(xt[i,:], xt[j,:]), xt[k,:])\n",
    "                    new = np.vstack(new)\n",
    "                    D = np.append(D, new, axis=1) \n",
    "    \n",
    "    if polyn >= 4:\n",
    "        # ploy order 4\n",
    "        for i in range(len(xt)):\n",
    "            for j in  range(i,len(xt)):\n",
    "                for k in  range(j,len(xt)):\n",
    "                    for l in range(k,len(xt)):\n",
    "                        ind = ind+1\n",
    "                        new = np.multiply(np.multiply(xt[i,:], xt[j,:]), xt[k,:])\n",
    "                        new = np.multiply(new, xt[l,:])\n",
    "                        new = np.vstack(new)\n",
    "                        D = np.append(D, new, axis=1) \n",
    "    \n",
    "    if polyn >= 5:\n",
    "        # ploy order 5\n",
    "        for i in range(len(xt)):\n",
    "            for j in  range(i,len(xt)):\n",
    "                for k in  range(j,len(xt)):\n",
    "                    for l in  range(k,len(xt)):\n",
    "                        for m in  range(l,len(xt)):\n",
    "                            ind = ind+1\n",
    "                            new = np.multiply(xt[i,:], xt[j,:])\n",
    "                            new = np.multiply(new, xt[k,:])\n",
    "                            new = np.multiply(new, xt[l,:])\n",
    "                            new = np.multiply(new, xt[m,:])\n",
    "                            new = np.vstack(new)\n",
    "                            D = np.append(D, new, axis=1) \n",
    "    \n",
    "    if polyn >= 6:\n",
    "        # ploy order 6\n",
    "        for i in range(len(xt)):\n",
    "            for j in  range(i,len(xt)):\n",
    "                for k in  range(j,len(xt)):\n",
    "                    for l in  range(k,len(xt)):\n",
    "                        for m in  range(l,len(xt)):\n",
    "                            for n in  range(m,len(xt)):\n",
    "                                ind = ind+1\n",
    "                                new = np.multiply(xt[i,:], xt[j,:])\n",
    "                                new = np.multiply(new, xt[k,:])\n",
    "                                new = np.multiply(new, xt[l,:])\n",
    "                                new = np.multiply(new, xt[m,:])\n",
    "                                new = np.multiply(new, xt[n,:])\n",
    "                                new = np.vstack(new)\n",
    "                                D = np.append(D, new, axis=1) \n",
    "    \n",
    "#     # for the signum or sign operator\n",
    "#     for i in range(len(xt)):\n",
    "#         ind = ind+1\n",
    "#         new = np.vstack(np.sign(xt[i,:]))+0.0001\n",
    "#         D = np.append(D, new, axis=1)\n",
    "    \n",
    "    # for the modulus operator\n",
    "    for i in range(len(xt)):\n",
    "        ind = ind+1\n",
    "        new = np.vstack(abs(xt[i,:]))\n",
    "        D = np.append(D, new, axis=1)\n",
    "      \n",
    "    # for the tensor operator\n",
    "    for i in range(len(xt)):\n",
    "        for j in  range(len(xt)):\n",
    "            ind = ind+1\n",
    "            new = np.multiply(xt[i,:],abs(xt[j,:]))\n",
    "            new = np.vstack(new)\n",
    "            D = np.append(D, new, axis=1)\n",
    "            \n",
    "    if harmonic == 1:\n",
    "        for i in range(len(xt)):\n",
    "            ind = ind+1\n",
    "            new = np.vstack(np.sin(xt[i,:]))\n",
    "            D = np.append(D, new, axis=1)\n",
    "\n",
    "        for i in range(len(xt)):\n",
    "            ind = ind+1\n",
    "            new = np.vstack(np.cos(xt[i,:]))\n",
    "            D = np.append(D, new, axis=1)\n",
    "            \n",
    "    ind = len(D[0])\n",
    "    \n",
    "    return D, ind"
   ]
  },
  {
   "cell_type": "code",
   "execution_count": 2,
   "metadata": {},
   "outputs": [],
   "source": [
    "import numpy as np\n",
    "import matplotlib.pyplot as plt\n",
    "\"\"\"\n",
    "A MDOF system excited by random noise\n",
    "----------------------------------------------------------------------\n",
    "\"\"\"\n",
    "\n",
    "def drift_mat(dof,k,c,m):\n",
    "    dim = 2 * dof\n",
    "    A = np.zeros((dim,dim))\n",
    "    \n",
    "    for i in range(dim):\n",
    "        if (i%2 == 0):\n",
    "            A[i][i+1] = 1\n",
    "    \n",
    "        elif(i==1):\n",
    "            A[i][i-1] = -(k+k)/m\n",
    "            A[i][i] = -(c+c)/m\n",
    "            A[i][i+1] = k/m\n",
    "            A[i][i+2] = c/m\n",
    "    \n",
    "        elif(i==dim-1):\n",
    "            A[i][i] = -c/m\n",
    "            A[i][i-1] = -k/m\n",
    "            A[i][i-2] = c/m\n",
    "            A[i][i-3] = k/m\n",
    "            \n",
    "        else:\n",
    "            A[i][i-3] = k/m \n",
    "            A[i][i-2] = c/m\n",
    "            A[i][i-1] = -(k+k)/m\n",
    "            A[i][i] = -(c+c)/m\n",
    "            A[i][i+1] = k/m\n",
    "            A[i][i+2] = c/m\n",
    "    return A\n",
    "\n",
    "def M_DOF_sys(x_initial, dof, T):\n",
    "    # parameters of M_DOF_sys in Equation\n",
    "    m = 1\n",
    "    c = 2\n",
    "    k = 3000\n",
    "    sigma = 1\n",
    "    \n",
    "    # solution by euler maruyama\n",
    "    # -------------------------------------------------------\n",
    "    dt = 0.0001\n",
    "    t = np.arange(0, T+dt, dt)\n",
    "    Nsamp = 200 # no. of samples in the run\n",
    "\n",
    "    y15 = []\n",
    "    y16 = []\n",
    "    y17 = []\n",
    "    y18 = []\n",
    "    y19 = []  \n",
    "    y20 = []\n",
    "    y21 = []\n",
    "    y22 = []\n",
    "    \n",
    "    xz9 = []\n",
    "    xz10 = []\n",
    "    \n",
    "    xzs9 = []\n",
    "    xzs10 = []\n",
    "    \n",
    "    # Simulation Starts Here ::\n",
    "    # -------------------------------------------------------\n",
    "    for ensemble in range(Nsamp):\n",
    "        x0 = x_initial\n",
    "        x = x0                              # initial condition.\n",
    "        for n in range(len(t)-1):\n",
    "            dW = np.sqrt(dt)*np.random.randn(2*dof)\n",
    "            \n",
    "            '''LINEAR PART DRIFT'''\n",
    "        \n",
    "            A = drift_mat(dof,k,c,m)\n",
    "            \n",
    "            '''DIFFUSION TERM  = b'''\n",
    "            diffu_arr = np.zeros(2*dof)\n",
    "            for i in range(2*dof):\n",
    "                if (i%2 != 0):\n",
    "                    diffu_arr[i] = sigma/m\n",
    "            \n",
    "            soln_arr = x0 + np.matmul(A,x0)*dt + diffu_arr*dW        \n",
    "            x0 = soln_arr\n",
    "            x = np.column_stack((x, x0))\n",
    "            \n",
    "        y15.append(x[-15,:])           \n",
    "        y16.append(x[-16,:])\n",
    "        y17.append(x[-17,:])       # Displacement \n",
    "        y18.append(x[-18,:])\n",
    "        y19.append(x[-19,:])       # Displacement         \n",
    "        y20.append(x[-20,:])\n",
    "        y21.append(x[-21,:])           \n",
    "        y22.append(x[-22,:])\n",
    "\n",
    "        \n",
    "        zint9 = x[-17, 0:-1]        # Velocity\n",
    "        xfinal9 = x[-17, 1:] \n",
    "        xmz9 = (xfinal9 - zint9)\n",
    "        \n",
    "        zint10 = x[-19, 0:-1]       # Velocity\n",
    "        xfinal10 = x[-19, 1:] \n",
    "        xmz10 = (xfinal10 - zint10) \n",
    "\n",
    "        xz9.append(xmz9)\n",
    "        xz10.append(xmz10)\n",
    "        \n",
    "        xmzsq9 = np.multiply(xmz9, xmz9)\n",
    "        xzs9.append(xmzsq9)\n",
    "        \n",
    "        xmzsq10 = np.multiply(xmz10, xmz10)\n",
    "        xzs10.append(xmzsq10)\n",
    "        \n",
    "    xz9 = pow(dt,-1)*np.mean(np.array(xz9), axis = 0)\n",
    "    xz10 = pow(dt,-1)*np.mean(np.array(xz10), axis = 0)\n",
    "\n",
    "    xzs9 = pow(dt,-1)*np.mean(np.array(xzs9), axis = 0)\n",
    "    xzs10 = pow(dt,-1)*np.mean(np.array(xzs10), axis = 0)\n",
    "\n",
    "    y15 = np.array(y15)\n",
    "    y16 = np.array(y16)\n",
    "    y17 = np.array(y17)\n",
    "    y18 = np.array(y18)\n",
    "    y19 = np.array(y19)\n",
    "    y20 = np.array(y20)\n",
    "    y21 = np.array(y21)\n",
    "    y22 = np.array(y22)\n",
    "\n",
    "    time = t[0:-1]\n",
    "    return xz9, xz10, xzs9, xzs10, y15, y16, y17, y18, y19, y20, y21, y22, time"
   ]
  },
  {
   "cell_type": "code",
   "execution_count": 3,
   "metadata": {},
   "outputs": [],
   "source": [
    "np.random.seed(2)\n",
    "T = 1\n",
    "dof = 21\n",
    "x_initial = np.zeros(2*dof)"
   ]
  },
  {
   "cell_type": "code",
   "execution_count": 4,
   "metadata": {},
   "outputs": [
    {
     "name": "stdout",
     "output_type": "stream",
     "text": [
      "\n"
     ]
    },
    {
     "data": {
      "text/plain": [
       "19.68596785068512"
      ]
     },
     "execution_count": 4,
     "metadata": {},
     "output_type": "execute_result"
    }
   ],
   "source": [
    "import time\n",
    "start = time.time()\n",
    "xz9, xz10, xzs9, xzs10, y15, y16, y17, y18, y19, y20, y21, y22, time_ = M_DOF_sys(x_initial, dof, T)\n",
    "end = time.time()\n",
    "print()\n",
    "TIMES = (end - start)/60\n",
    "TIMES"
   ]
  },
  {
   "cell_type": "code",
   "execution_count": 5,
   "metadata": {},
   "outputs": [
    {
     "name": "stdout",
     "output_type": "stream",
     "text": [
      "\n"
     ]
    },
    {
     "data": {
      "text/plain": [
       "5.870998533566793"
      ]
     },
     "execution_count": 5,
     "metadata": {},
     "output_type": "execute_result"
    }
   ],
   "source": [
    "startD = time.time()\n",
    "# Expected Dictionary Creation:\n",
    "libr = []\n",
    "for j in range(len(y15)):\n",
    "    data = np.row_stack((y15[j,0:-1], y16[j,0:-1], y17[j,0:-1], y18[j,0:-1], y19[j,0:-1], y20[j,0:-1], y21[j,0:-1], y22[j,0:-1], ))\n",
    "    Dtemp, nl = library(data, 1, 0)\n",
    "    libr.append(Dtemp)\n",
    "libr = np.array(libr)\n",
    "Dictionary= np.mean(libr, axis = 0)\n",
    "print()\n",
    "endD = time.time()\n",
    "TIMED = (endD - startD)/60\n",
    "TIMED"
   ]
  },
  {
   "cell_type": "code",
   "execution_count": 6,
   "metadata": {},
   "outputs": [
    {
     "name": "stdout",
     "output_type": "stream",
     "text": [
      "Total time 25.556966384251915\n"
     ]
    }
   ],
   "source": [
    "print('Total time', TIMES+TIMED)"
   ]
  },
  {
   "cell_type": "code",
   "execution_count": 16,
   "metadata": {},
   "outputs": [],
   "source": [
    "xdts = xzs9\n",
    "D = Dictionary"
   ]
  },
  {
   "cell_type": "code",
   "execution_count": 17,
   "metadata": {},
   "outputs": [
    {
     "data": {
      "text/plain": [
       "(10000, 81)"
      ]
     },
     "execution_count": 17,
     "metadata": {},
     "output_type": "execute_result"
    }
   ],
   "source": [
    "D.shape"
   ]
  },
  {
   "cell_type": "code",
   "execution_count": 18,
   "metadata": {},
   "outputs": [
    {
     "data": {
      "text/plain": [
       "(810000,)"
      ]
     },
     "execution_count": 18,
     "metadata": {},
     "output_type": "execute_result"
    }
   ],
   "source": [
    "Dict = D.reshape(-1,order='F')\n",
    "Dict.shape"
   ]
  },
  {
   "cell_type": "code",
   "execution_count": 19,
   "metadata": {
    "scrolled": true
   },
   "outputs": [
    {
     "name": "stdout",
     "output_type": "stream",
     "text": [
      "{'Relevant': matlab.double([[1.0],[14.0],[16.0],[17.0],[19.0],[36.0],[46.0],[48.0],[66.0],[76.0]]), 'Value': matlab.double([[0.9887861795793844],[0.16627148199625685],[0.020618577926066157],[0.6155326121163215],[0.9625336857653004],[0.18254947020856085],[2.955372415771637],[-5.0974527174618105],[0.016686824666610794],[0.2936330739605453]])}\n"
     ]
    }
   ],
   "source": [
    "#!/usr/bin/env python\n",
    "\"\"\"\n",
    "Sample script that uses the SparseBayes module created using\n",
    "MATLAB Compiler SDK.\n",
    "\n",
    "Refer to the MATLAB Compiler SDK documentation for more information.\n",
    "\"\"\"\n",
    "\n",
    "from __future__ import print_function\n",
    "import SparseBayes\n",
    "import matlab\n",
    "\n",
    "my_SparseBayes = SparseBayes.initialize()\n",
    "\n",
    "DictIn = matlab.double(Dict, size=(D.shape[0], D.shape[1]))\n",
    "targetIn = matlab.double(xdts, size=(D.shape[0], 1))\n",
    "DMOut = my_SparseBayes.SparseBayes(DictIn, targetIn)\n",
    "print(DMOut, sep='\\n')\n",
    "\n",
    "my_SparseBayes.terminate()"
   ]
  },
  {
   "cell_type": "code",
   "execution_count": 20,
   "metadata": {},
   "outputs": [
    {
     "name": "stdout",
     "output_type": "stream",
     "text": [
      "[1. 0. 0. 0. 0. 0. 0. 0. 0. 0. 0. 0. 0. 1. 0. 1. 1. 0. 1. 0. 0. 0. 0. 0.\n",
      " 0. 0. 0. 0. 0. 0. 0. 0. 0. 0. 0. 1. 0. 0. 0. 0. 0. 0. 0. 0. 0. 1. 0. 1.\n",
      " 0. 0. 0. 0. 0. 0. 0. 0. 0. 0. 0. 0. 0. 0. 0. 0. 0. 1. 0. 0. 0. 0. 0. 0.\n",
      " 0. 0. 0. 1. 0. 0. 0. 0. 0.]\n"
     ]
    }
   ],
   "source": [
    "c = np.array(DMOut['Value'])\n",
    "d = []\n",
    "for j in c:\n",
    "    d.append(j[0])\n",
    "    \n",
    "a = np.array(DMOut['Relevant'])\n",
    "b = []\n",
    "for i in a:\n",
    "    b.append(int((i[0])-1))\n",
    "    \n",
    "initz0 = np.zeros(D.shape[1])\n",
    "for i in b:\n",
    "    initz0[i] = 1\n",
    "    \n",
    "print(initz0)"
   ]
  },
  {
   "cell_type": "code",
   "execution_count": 21,
   "metadata": {},
   "outputs": [],
   "source": [
    "import warnings\n",
    "import math\n",
    "import numpy as np\n",
    "import scipy as sp\n",
    "import sympy as smp\n",
    "from scipy import stats\n",
    "from numpy import linalg as la\n",
    "import matplotlib.pyplot as plt\n",
    "from numpy.random import gamma\n",
    "from scipy.special import loggamma\n",
    "\n",
    "def Variational_Bayes_Code(X, y, initz0, tol, verbosity):\n",
    "\n",
    "    if (len(X) == 0 or len(y) == 0):\n",
    "        raise Exception('X and or y is missing')\n",
    "        \n",
    "    if (len(X) != len(y)):\n",
    "        raise Exception('Number of observations do not match')\n",
    "        \n",
    "    # X = stats.zscore(X, ddof = 1)         \n",
    "    # X = np.c_[np.ones(len(X)),X]\n",
    "    # X = np.c_[np.ones(len(X)),X]          \n",
    "    # y = y - np.mean(y)\n",
    "    N = len(X)\n",
    "    # Prior parameters of noise variance (Inverse Gamma dist)\n",
    "    A = 1e-4\n",
    "    B = 1e-4\n",
    "    vs = 10\n",
    "    tau0 = 1000\n",
    "    \n",
    "    if (len(initz0) == 0):\n",
    "        raise Exception('No initial value of z found')\n",
    "    else:\n",
    "        p0 = expit(-0.5*(np.sqrt(N)))       \n",
    "        \n",
    "        # Adding the intercept indicator variable (slightly less than 1 to prevent log(0) values) \n",
    "        # initz = np.hstack((1,initz0))  \n",
    "        initz = initz0\n",
    "\n",
    "        DS,LLcvg  = run_VB2(X, y, vs, A, B, tau0, p0, initz, tol, verbosity)    \n",
    "        # This is function which will come first\n",
    "        \n",
    "    out_vb   = DS\n",
    "    a = DS['zmean'] > 0.5\n",
    "    count = 0\n",
    "    modelIdx = []\n",
    "    for i in a:\n",
    "        if i == True:\n",
    "            modelIdx.append(count)\n",
    "        count += 1\n",
    "            \n",
    "    modelIdx = np.setdiff1d(modelIdx,0)\n",
    "    out_vb['modelIdx'] = modelIdx-1\n",
    "    out_vb['Zmed'] = DS['zmean'][modelIdx]\n",
    "    out_vb['Wsel'] = DS['wmean'][modelIdx]\n",
    "    out_vb['Wcov'] = DS['wCOV'][modelIdx, modelIdx]\n",
    "    out_vb['sig2'] = DS['sig2']\n",
    "    \n",
    "    return out_vb\n",
    "\n",
    "DS = {}\n",
    "def run_VB2(Xc, yc, vs, A, B, tau0, p0, initz, tol, verbosity):\n",
    "    \"\"\"This function is the implementation of VB from John T. Ormerod paper (2014)\n",
    "       This implementation uses slab scaling by noise variance\n",
    "       vs    : treated as a constant\n",
    "       A,B   : constants of the IG prior over noise variance\n",
    "       tau0  : Expected value of (sigma^{-2})\n",
    "       p0    : inclusion probablility\n",
    "       initz : Initial value of z\n",
    "       Xc    : Centered and standardized dictionary except the first column\n",
    "       yc    : Centered observations \"\"\"\n",
    "    \n",
    "    Lambda    = logit(p0)\n",
    "    iter_     = 0\n",
    "    max_iter  = 100\n",
    "    LL        = np.zeros(max_iter)        \n",
    "    zm        = np.reshape(initz,(-1))            \n",
    "    taum      = tau0                      \n",
    "    invVs     = 1/vs\n",
    "    \n",
    "    X = Xc\n",
    "    y = yc\n",
    "    XtX = (X.T) @ X\n",
    "    XtX = 0.5*(XtX + (XtX).T)\n",
    "    Xty = (X.T) @ y                 \n",
    "    yty = (y.T) @ y\n",
    "\n",
    "    eyep = np.eye(len(XtX))\n",
    "    [N,p] = X.shape\n",
    "    allidx = np.arange(p)\n",
    "    zm[0] = 1                                                                   # Always include the intercept \n",
    "    Abar    = (A + 0.5*N + 0.5*p)\n",
    "    converged = 0\n",
    "    \n",
    "    while (converged==0):\n",
    "        if (iter_==100):\n",
    "            break\n",
    "        \n",
    "        Zm       = np.diag(zm)\n",
    "        Omg      = (np.reshape(zm,(-1,1)) @ np.reshape(zm,(1,-1))) + (Zm @ (eyep-Zm))\n",
    "        # Update the mean and covariance of the coefficients given mean of z\n",
    "        term1    = XtX * Omg                                                       # elementwisw multiplication\n",
    "        invSigma = taum * (term1 + invVs * eyep)\n",
    "        invSigma = 0.5*(invSigma + invSigma.T)                                     # symmetric\n",
    "        Sigma    = la.inv(invSigma) @ eyep\n",
    "        mu       = taum * (Sigma @ Zm @ Xty)                                       # @ ---> matrix multiplication\n",
    "        \n",
    "        # Update tau related to sigma\n",
    "        term2    = 2 * Xty @ Zm @ mu\n",
    "        term3    =  np.reshape(mu,(len(initz0),1)) @ np.reshape(mu,(1,len(initz0)))+ Sigma\n",
    "        term4    = yty - term2 + np.trace((term1 + invVs * eyep) @ term3)    \n",
    "        s        = B + 0.5*term4\n",
    "        \n",
    "        if s<0:\n",
    "            warnings.warn('s turned out be less than 0. Taking absolute value')\n",
    "            s = B + 0.5*abs(term4)\n",
    "        \n",
    "        taum     = Abar / s\n",
    "        zstr   = zm\n",
    "\n",
    "        order   = np.setdiff1d(np.random.permutation(p), 0, assume_unique=True)\n",
    "        for j in order: \n",
    "            muj     = mu[j]                            \n",
    "            sigmaj  = Sigma[j,j]\n",
    "            \n",
    "            remidx  = np.setdiff1d(allidx,j)\n",
    "            mu_j    = mu[remidx]\n",
    "            Sigma_jj= Sigma[remidx,j]\n",
    "            etaj    = (Lambda - 0.5 * taum * ((muj**2 + sigmaj) * XtX[j,j]) \n",
    "                       + taum * np.reshape(X[:,j],(1,-1)) @ (np.reshape(y,(-1,1))*muj \n",
    "                        -X[:,remidx] @ np.diag(zstr[remidx]) @ ((mu_j * muj + Sigma_jj).reshape(-1,1))))\n",
    "            zstr[j] = expit(etaj)\n",
    "            \n",
    "        zm = zstr\n",
    "        \n",
    "        # Calculate marginal log-likelihood\n",
    "        \n",
    "        LL[iter_] = ( 0.5*p \n",
    "                    - 0.5*N*np.log(2*np.pi) \n",
    "                    + 0.5*p*np.log(invVs) \n",
    "                    + A*np.log(B)\n",
    "                    - loggamma(A)\n",
    "                    + loggamma(Abar) \n",
    "                    - Abar*np.log(s)\n",
    "                    + 0.5*np.log(la.det(Sigma))\n",
    "                    + np.nansum(zm*(np.log(p0) - np.log(zm))) \n",
    "                    + np.nansum((1-zm)*(np.log(1-p0) - np.log(1-zm))))\n",
    "        \n",
    "        if(verbosity):\n",
    "            print(f'Iteration = {iter_}  log(Likelihood) = {LL[iter_]}')\n",
    "        \n",
    "        if(iter_>1):\n",
    "            cvg = LL[iter_] - LL[iter_-1]\n",
    "            \n",
    "            if (cvg < 0 and verbosity):\n",
    "                print('OOPS!  log(like) decreasing!!')\n",
    "            elif (cvg<tol or iter_> max_iter):\n",
    "                converged = 1\n",
    "                LL = LL[0:iter_]\n",
    "                \n",
    "        iter_    = iter_ + 1\n",
    "    DS['zmean'] = zm\n",
    "    DS['wmean'] = mu\n",
    "    DS['wCOV'] = Sigma\n",
    "    DS['sig2'] = 1/taum\n",
    "    LLcvg    = LL[-1]\n",
    "    return DS, LLcvg\n",
    "    \n",
    "def logit(C):\n",
    "    logitC = np.log(C) - np.log(1-C)\n",
    "    return logitC\n",
    "\n",
    "def expit(C):\n",
    "    expitC = 1./(1 + np.exp(-C))\n",
    "    return expitC"
   ]
  },
  {
   "cell_type": "code",
   "execution_count": 22,
   "metadata": {},
   "outputs": [
    {
     "data": {
      "text/plain": [
       "((10000, 81), (81,))"
      ]
     },
     "execution_count": 22,
     "metadata": {},
     "output_type": "execute_result"
    }
   ],
   "source": [
    "D.shape, initz0.shape"
   ]
  },
  {
   "cell_type": "code",
   "execution_count": 23,
   "metadata": {},
   "outputs": [
    {
     "name": "stderr",
     "output_type": "stream",
     "text": [
      "C:\\Users\\USER\\AppData\\Local\\Temp/ipykernel_6304/3512855728.py:147: RuntimeWarning: divide by zero encountered in log\n",
      "  + np.nansum((1-zm)*(np.log(1-p0) - np.log(1-zm))))\n",
      "C:\\Users\\USER\\AppData\\Local\\Temp/ipykernel_6304/3512855728.py:147: RuntimeWarning: invalid value encountered in multiply\n",
      "  + np.nansum((1-zm)*(np.log(1-p0) - np.log(1-zm))))\n",
      "C:\\Users\\USER\\AppData\\Local\\Temp/ipykernel_6304/3512855728.py:174: RuntimeWarning: overflow encountered in exp\n",
      "  expitC = 1./(1 + np.exp(-C))\n"
     ]
    },
    {
     "name": "stdout",
     "output_type": "stream",
     "text": [
      "Iteration = 0  log(Likelihood) = 8112.337119732089\n"
     ]
    },
    {
     "name": "stderr",
     "output_type": "stream",
     "text": [
      "C:\\Users\\USER\\AppData\\Local\\Temp/ipykernel_6304/3512855728.py:146: RuntimeWarning: divide by zero encountered in log\n",
      "  + np.nansum(zm*(np.log(p0) - np.log(zm)))\n",
      "C:\\Users\\USER\\AppData\\Local\\Temp/ipykernel_6304/3512855728.py:146: RuntimeWarning: invalid value encountered in multiply\n",
      "  + np.nansum(zm*(np.log(p0) - np.log(zm)))\n"
     ]
    },
    {
     "name": "stdout",
     "output_type": "stream",
     "text": [
      "Iteration = 1  log(Likelihood) = 8169.272290926609\n",
      "Iteration = 2  log(Likelihood) = 8169.273800162908\n",
      "Iteration = 3  log(Likelihood) = 8169.273800260125\n",
      "{'zmean': array([1.00000000e+00, 1.16864982e-41, 1.22184241e-22, 3.25888192e-33,\n",
      "       1.30987221e-22, 9.86616149e-39, 1.34592433e-22, 2.33027039e-44,\n",
      "       1.35176964e-22, 0.00000000e+00, 1.92065373e-38, 0.00000000e+00,\n",
      "       2.90410169e-37, 1.00000000e+00, 4.44217154e-36, 1.00000000e+00,\n",
      "       6.46953081e-35, 1.29416198e-30, 1.82677353e-22, 4.97366157e-25,\n",
      "       1.83296324e-22, 4.53006545e-25, 1.83925622e-22, 6.80929001e-25,\n",
      "       1.84377148e-22, 1.82892973e-22, 1.92510097e-22, 1.80538784e-22,\n",
      "       1.92565631e-22, 1.81833385e-22, 1.92608333e-22, 1.81712534e-22,\n",
      "       1.92643286e-22, 1.60113903e-24, 1.86719789e-22, 9.00455481e-28,\n",
      "       1.87241150e-22, 9.93717754e-25, 1.87768366e-22, 5.86596108e-24,\n",
      "       1.88050167e-22, 1.84488656e-22, 1.92565210e-22, 1.81705502e-22,\n",
      "       1.92602939e-22, 1.83042489e-22, 1.92635672e-22, 1.83654900e-22,\n",
      "       1.92665094e-22, 4.12735752e-25, 1.86229875e-22, 4.10461723e-25,\n",
      "       1.86367417e-22, 3.67929552e-29, 1.86998014e-22, 3.41082277e-25,\n",
      "       1.87665638e-22, 1.84772838e-22, 1.92606449e-22, 1.82719798e-22,\n",
      "       1.92635319e-22, 1.83796049e-22, 1.92652434e-22, 1.84359067e-22,\n",
      "       1.92672453e-22, 7.21735177e-26, 1.81291925e-22, 1.51039758e-25,\n",
      "       1.82471584e-22, 1.38370273e-25, 1.83346666e-22, 1.15155510e-30,\n",
      "       1.84178621e-22, 1.85173556e-22, 1.92640616e-22, 1.83040260e-22,\n",
      "       1.92663691e-22, 1.83541191e-22, 1.92672486e-22, 1.84524276e-22,\n",
      "       1.92674396e-22]), 'wmean': array([ 9.83344539e-01,  5.12891741e-41,  1.00150356e-23,  2.23383223e-32,\n",
      "        1.80067021e-23,  1.30100210e-38,  2.61975292e-23, -5.38427241e-44,\n",
      "        3.94106831e-23,  0.00000000e+00,  1.69159515e-38,  0.00000000e+00,\n",
      "        2.39778488e-37,  1.94115833e-01,  3.40699415e-36,  5.60613280e-02,\n",
      "        4.75162891e-35,  5.56894846e-30,  4.38445025e-23,  1.18944008e-24,\n",
      "        4.05722799e-23,  6.34354328e-25,  3.86315603e-23,  8.76144022e-25,\n",
      "        3.40705612e-23,  3.20065325e-23,  2.19917734e-24,  9.17608336e-24,\n",
      "        2.48456035e-24,  1.80732950e-23,  2.62175884e-24, -2.38661322e-23,\n",
      "        2.91336691e-24,  3.92852736e-24,  3.95217329e-23,  5.04437597e-27,\n",
      "        3.49008918e-23,  1.79933221e-24,  3.09760810e-23,  1.23730458e-23,\n",
      "        3.23067018e-23,  3.39407600e-23,  2.51155773e-24,  1.42851037e-23,\n",
      "        2.78370152e-24,  2.38363000e-23,  2.91107394e-24, -1.80473178e-23,\n",
      "        3.20868630e-24,  2.76971469e-26, -1.28352920e-23,  7.22073602e-25,\n",
      "       -1.91237674e-23,  1.14592956e-29, -8.00107730e-24, -2.87807214e-25,\n",
      "       -2.49984399e-24,  3.35941892e-23,  2.68893852e-24,  1.53236227e-23,\n",
      "        2.89876431e-24,  2.49924578e-23,  3.01694350e-24, -1.38835054e-23,\n",
      "        3.37353600e-24, -2.96927198e-26, -3.85579964e-23, -7.01065875e-26,\n",
      "       -4.31772467e-23, -1.15036517e-25, -3.48330251e-23, -2.05450793e-30,\n",
      "       -3.48508422e-23,  3.45479597e-23,  3.01175411e-24,  2.14463026e-23,\n",
      "        3.23391253e-24,  2.36258816e-23,  3.40043177e-24, -7.69692026e-24,\n",
      "        3.77660788e-24]), 'wCOV': array([[ 1.75131707e-05, -2.38888350e-44,  3.95914018e-26, ...,\n",
      "         1.79400241e-27,  1.29166893e-26,  1.63829962e-27],\n",
      "       [-2.38888350e-44,  1.10385877e-01, -7.60881868e-65, ...,\n",
      "        -4.27550596e-66,  8.78386300e-65, -9.00803447e-67],\n",
      "       [ 3.95914018e-26, -7.60881868e-65,  1.10385877e-01, ...,\n",
      "        -1.48779780e-47, -7.49287772e-47, -1.25726785e-47],\n",
      "       ...,\n",
      "       [ 1.79400241e-27, -4.27550596e-66, -1.48779780e-47, ...,\n",
      "         1.10385877e-01, -1.57972298e-47, -3.35523019e-48],\n",
      "       [ 1.29166893e-26,  8.78386300e-65, -7.49287772e-47, ...,\n",
      "        -1.57972298e-47,  1.10385877e-01, -1.74839839e-47],\n",
      "       [ 1.63829962e-27, -9.00803447e-67, -1.25726785e-47, ...,\n",
      "        -3.35523019e-48, -1.74839839e-47,  1.10385877e-01]]), 'sig2': 0.011038593778474126, 'modelIdx': array([12, 14]), 'Zmed': array([1., 1.]), 'Wsel': array([0.19411583, 0.05606133]), 'Wcov': array([0.00391411, 0.00367183])}\n"
     ]
    }
   ],
   "source": [
    "tol = 0.0001\n",
    "verbosity = True\n",
    "initz0 = initz0\n",
    "DS = Variational_Bayes_Code(D, xdts, initz0, tol, verbosity)\n",
    "\n",
    "print(DS) "
   ]
  },
  {
   "cell_type": "code",
   "execution_count": 29,
   "metadata": {},
   "outputs": [
    {
     "name": "stdout",
     "output_type": "stream",
     "text": [
      "\n",
      "0.9916373021096109\n"
     ]
    },
    {
     "data": {
      "image/png": "[encoded data removed]",
      "text/plain": [
       "<Figure size 432x288 with 1 Axes>"
      ]
     },
     "metadata": {
      "needs_background": "light"
     },
     "output_type": "display_data"
    }
   ],
   "source": [
    "zmean13 = DS['zmean']\n",
    "wmean13 = DS['wmean']\n",
    "zmean13[np.where(np.diag(DS['wCOV'])>6.2e-4)] = 0\n",
    "plt.stem(zmean13)\n",
    "wmean13[np.where(np.diag(DS['wCOV'])>6.2e-4)] = 0\n",
    "print()\n",
    "print(np.sqrt(wmean13[0]))"
   ]
  },
  {
   "cell_type": "code",
   "execution_count": 30,
   "metadata": {},
   "outputs": [],
   "source": [
    "xdts = xzs10"
   ]
  },
  {
   "cell_type": "code",
   "execution_count": 31,
   "metadata": {},
   "outputs": [
    {
     "name": "stdout",
     "output_type": "stream",
     "text": [
      "{'Relevant': matlab.double([[1.0],[7.0],[11.0],[16.0],[20.0],[26.0],[34.0],[36.0],[38.0],[53.0],[56.0],[60.0],[66.0],[68.0],[72.0]]), 'Value': matlab.double([[0.9865209229832042],[-3.3038173413435667],[0.36279558457966843],[0.20623872242677171],[0.14510573029054788],[2.1310335062326593],[-0.24825274089512409],[0.3334672657439126],[-0.13689974391090637],[-3.9553204569491047],[0.19512895868011365],[6.021401815032007],[-0.49036459275335337],[0.5573999164587363],[0.06858133601857361]])}\n"
     ]
    }
   ],
   "source": [
    "#!/usr/bin/env python\n",
    "\"\"\"\n",
    "Sample script that uses the SparseBayes module created using\n",
    "MATLAB Compiler SDK.\n",
    "\n",
    "Refer to the MATLAB Compiler SDK documentation for more information.\n",
    "\"\"\"\n",
    "\n",
    "from __future__ import print_function\n",
    "import SparseBayes\n",
    "import matlab\n",
    "\n",
    "my_SparseBayes = SparseBayes.initialize()\n",
    "\n",
    "DictIn = matlab.double(Dict, size=(D.shape[0], D.shape[1]))\n",
    "targetIn = matlab.double(xdts, size=(D.shape[0], 1))\n",
    "DMOut = my_SparseBayes.SparseBayes(DictIn, targetIn)\n",
    "print(DMOut, sep='\\n')\n",
    "\n",
    "my_SparseBayes.terminate()"
   ]
  },
  {
   "cell_type": "code",
   "execution_count": 32,
   "metadata": {},
   "outputs": [
    {
     "name": "stdout",
     "output_type": "stream",
     "text": [
      "[1. 0. 0. 0. 0. 0. 1. 0. 0. 0. 1. 0. 0. 0. 0. 1. 0. 0. 0. 1. 0. 0. 0. 0.\n",
      " 0. 1. 0. 0. 0. 0. 0. 0. 0. 1. 0. 1. 0. 1. 0. 0. 0. 0. 0. 0. 0. 0. 0. 0.\n",
      " 0. 0. 0. 0. 1. 0. 0. 1. 0. 0. 0. 1. 0. 0. 0. 0. 0. 1. 0. 1. 0. 0. 0. 1.\n",
      " 0. 0. 0. 0. 0. 0. 0. 0. 0.]\n"
     ]
    }
   ],
   "source": [
    "c = np.array(DMOut['Value'])\n",
    "d = []\n",
    "for j in c:\n",
    "    d.append(j[0])\n",
    "    \n",
    "a = np.array(DMOut['Relevant'])\n",
    "b = []\n",
    "for i in a:\n",
    "    b.append(int((i[0])-1))\n",
    "    \n",
    "initz0 = np.zeros(D.shape[1])\n",
    "for i in b:\n",
    "    initz0[i] = 1\n",
    "    \n",
    "print(initz0)"
   ]
  },
  {
   "cell_type": "code",
   "execution_count": 33,
   "metadata": {},
   "outputs": [
    {
     "name": "stderr",
     "output_type": "stream",
     "text": [
      "C:\\Users\\USER\\AppData\\Local\\Temp/ipykernel_6304/3512855728.py:147: RuntimeWarning: divide by zero encountered in log\n",
      "  + np.nansum((1-zm)*(np.log(1-p0) - np.log(1-zm))))\n",
      "C:\\Users\\USER\\AppData\\Local\\Temp/ipykernel_6304/3512855728.py:147: RuntimeWarning: invalid value encountered in multiply\n",
      "  + np.nansum((1-zm)*(np.log(1-p0) - np.log(1-zm))))\n"
     ]
    },
    {
     "name": "stdout",
     "output_type": "stream",
     "text": [
      "Iteration = 0  log(Likelihood) = 8202.34301251808\n"
     ]
    },
    {
     "name": "stderr",
     "output_type": "stream",
     "text": [
      "C:\\Users\\USER\\AppData\\Local\\Temp/ipykernel_6304/3512855728.py:174: RuntimeWarning: overflow encountered in exp\n",
      "  expitC = 1./(1 + np.exp(-C))\n",
      "C:\\Users\\USER\\AppData\\Local\\Temp/ipykernel_6304/3512855728.py:146: RuntimeWarning: divide by zero encountered in log\n",
      "  + np.nansum(zm*(np.log(p0) - np.log(zm)))\n",
      "C:\\Users\\USER\\AppData\\Local\\Temp/ipykernel_6304/3512855728.py:146: RuntimeWarning: invalid value encountered in multiply\n",
      "  + np.nansum(zm*(np.log(p0) - np.log(zm)))\n"
     ]
    },
    {
     "name": "stdout",
     "output_type": "stream",
     "text": [
      "Iteration = 1  log(Likelihood) = 8255.128084408918\n",
      "Iteration = 2  log(Likelihood) = 8255.130318847578\n",
      "Iteration = 3  log(Likelihood) = 8255.130318990325\n",
      "{'zmean': array([1.00000000e+00, 1.16865599e-41, 1.22184248e-22, 3.25889156e-33,\n",
      "       1.30987227e-22, 9.86620563e-39, 1.34592438e-22, 2.33028442e-44,\n",
      "       1.35176970e-22, 0.00000000e+00, 1.92066217e-38, 0.00000000e+00,\n",
      "       2.90411351e-37, 0.00000000e+00, 4.44218818e-36, 1.00000000e+00,\n",
      "       6.46955297e-35, 1.29416488e-30, 1.82677354e-22, 4.97366511e-25,\n",
      "       1.83296325e-22, 4.53006872e-25, 1.83925623e-22, 6.80929460e-25,\n",
      "       1.84377149e-22, 1.82892974e-22, 1.92510097e-22, 1.80538786e-22,\n",
      "       1.92565631e-22, 1.81833387e-22, 1.92608333e-22, 1.81712535e-22,\n",
      "       1.92643286e-22, 1.60113994e-24, 1.86719789e-22, 9.00456800e-28,\n",
      "       1.87241151e-22, 9.93718378e-25, 1.87768367e-22, 5.86596353e-24,\n",
      "       1.88050167e-22, 1.84488657e-22, 1.92565210e-22, 1.81705503e-22,\n",
      "       1.92602939e-22, 1.83042490e-22, 1.92635672e-22, 1.83654901e-22,\n",
      "       1.92665094e-22, 4.12736054e-25, 1.86229876e-22, 4.10462024e-25,\n",
      "       1.86367417e-22, 3.67930232e-29, 1.86998015e-22, 3.41082535e-25,\n",
      "       1.87665639e-22, 1.84772839e-22, 1.92606449e-22, 1.82719799e-22,\n",
      "       1.92635319e-22, 1.83796050e-22, 1.92652434e-22, 1.84359068e-22,\n",
      "       1.92672453e-22, 7.21735856e-26, 1.81291926e-22, 1.51039886e-25,\n",
      "       1.82471585e-22, 1.38370392e-25, 1.83346667e-22, 1.15155770e-30,\n",
      "       1.84178622e-22, 1.85173557e-22, 1.92640616e-22, 1.83040261e-22,\n",
      "       1.92663691e-22, 1.83541193e-22, 1.92672486e-22, 1.84524277e-22,\n",
      "       1.92674396e-22]), 'wmean': array([ 9.84781455e-01,  4.91926608e-41,  2.38252288e-23,  1.80392357e-32,\n",
      "        1.79127598e-23, -8.86431889e-39,  8.35960553e-24,  4.10545131e-44,\n",
      "        1.08965565e-23,  0.00000000e+00,  2.09604561e-38,  0.00000000e+00,\n",
      "        2.82983891e-37,  0.00000000e+00,  3.91461198e-36,  2.35773404e-01,\n",
      "        5.80495693e-35,  4.34545748e-30,  2.42760383e-23,  1.27865147e-24,\n",
      "        1.92476985e-23,  2.53559410e-25,  1.79734315e-23,  1.03697192e-24,\n",
      "        1.77408134e-23,  2.85702217e-23,  1.68037096e-24,  3.69468191e-23,\n",
      "        1.13848514e-24,  1.66936431e-23,  9.51044865e-25,  1.12169872e-23,\n",
      "        1.56811035e-24,  3.18406661e-24,  2.90390779e-23,  4.76085852e-27,\n",
      "        2.17359025e-23,  9.22078003e-25,  1.91980581e-23,  1.33569722e-23,\n",
      "        2.34158702e-23,  2.55535036e-23,  1.15444470e-24,  3.91168269e-23,\n",
      "        7.19253761e-25,  1.47746798e-23,  4.86472487e-25,  1.09622076e-23,\n",
      "        9.99221885e-25, -1.59293646e-25, -3.59016631e-23,  1.69537216e-26,\n",
      "       -4.02194793e-23, -4.53952454e-29, -3.04697277e-23,  1.93524416e-25,\n",
      "       -2.61465306e-23,  1.82474724e-23,  9.16029997e-25,  3.65687402e-23,\n",
      "        4.40921672e-25,  9.62874868e-24,  1.75160164e-25,  1.34887525e-23,\n",
      "        4.89516644e-25, -9.63173568e-26, -1.69188509e-23,  1.82781657e-25,\n",
      "       -1.85259653e-23,  8.87973568e-27, -1.53834506e-23,  2.24293033e-30,\n",
      "       -9.98432547e-24,  1.63157682e-23,  1.23796880e-24,  3.21699673e-23,\n",
      "        7.72775108e-25,  9.87258522e-24,  4.80192849e-25,  1.75421438e-23,\n",
      "        6.30825880e-25]), 'wCOV': array([[ 1.65399165e-05, -2.50115142e-44,  3.73133565e-26, ...,\n",
      "         1.70348837e-27,  1.22540846e-26,  1.52702863e-27],\n",
      "       [-2.50115142e-44,  1.09633689e-01, -7.86067913e-65, ...,\n",
      "        -4.36558769e-66,  8.64429777e-65, -1.04412414e-66],\n",
      "       [ 3.73133565e-26, -7.86067913e-65,  1.09633689e-01, ...,\n",
      "        -1.49608450e-47, -7.57702841e-47, -1.27225574e-47],\n",
      "       ...,\n",
      "       [ 1.70348837e-27, -4.36558769e-66, -1.49608450e-47, ...,\n",
      "         1.09633689e-01, -1.57422761e-47, -3.34154533e-48],\n",
      "       [ 1.22540846e-26,  8.64429777e-65, -7.57702841e-47, ...,\n",
      "        -1.57422761e-47,  1.09633689e-01, -1.74322187e-47],\n",
      "       [ 1.52702863e-27, -1.04412414e-66, -1.27225574e-47, ...,\n",
      "        -3.34154533e-48, -1.74322187e-47,  1.09633689e-01]]), 'sig2': 0.010963376319814838, 'modelIdx': array([14]), 'Zmed': array([1.]), 'Wsel': array([0.2357734]), 'Wcov': array([0.00020202])}\n"
     ]
    }
   ],
   "source": [
    "tol = 0.0001\n",
    "verbosity = True\n",
    "initz0 = initz0\n",
    "DS = Variational_Bayes_Code(D, xdts, initz0, tol, verbosity)\n",
    "\n",
    "print(DS) "
   ]
  },
  {
   "cell_type": "code",
   "execution_count": 37,
   "metadata": {},
   "outputs": [
    {
     "name": "stdout",
     "output_type": "stream",
     "text": [
      "\n",
      "0.9923615546549273\n"
     ]
    },
    {
     "data": {
      "image/png": "[encoded data removed]",
      "text/plain": [
       "<Figure size 432x288 with 1 Axes>"
      ]
     },
     "metadata": {
      "needs_background": "light"
     },
     "output_type": "display_data"
    }
   ],
   "source": [
    "zmean12 = DS['zmean']\n",
    "wmean12 = DS['wmean']\n",
    "zmean12[np.where(np.diag(DS['wCOV'])>3e-5)] = 0\n",
    "plt.stem(zmean12)\n",
    "wmean12[np.where(np.diag(DS['wCOV'])>3e-5)] = 0\n",
    "print()\n",
    "print(np.sqrt(wmean12[0]))"
   ]
  },
  {
   "cell_type": "code",
   "execution_count": null,
   "metadata": {},
   "outputs": [],
   "source": []
  },
  {
   "cell_type": "code",
   "execution_count": null,
   "metadata": {},
   "outputs": [],
   "source": []
  }
 ],
 "metadata": {
  "interpreter": {
   "hash": "3f37e94951d1aba8aea1180f8978b4824e076f548924d8dec1753cbbb0da26fd"
  },
  "kernelspec": {
   "display_name": "Python 3 (ipykernel)",
   "language": "python",
   "name": "python3"
  },
  "language_info": {
   "codemirror_mode": {
    "name": "ipython",
    "version": 3
   },
   "file_extension": ".py",
   "mimetype": "text/x-python",
   "name": "python",
   "nbconvert_exporter": "python",
   "pygments_lexer": "ipython3",
   "version": "3.9.7"
  },
  "toc": {
   "base_numbering": 1,
   "nav_menu": {},
   "number_sections": true,
   "sideBar": true,
   "skip_h1_title": false,
   "title_cell": "Table of Contents",
   "title_sidebar": "Contents",
   "toc_cell": false,
   "toc_position": {},
   "toc_section_display": true,
   "toc_window_display": false
  },
  "varInspector": {
   "cols": {
    "lenName": 16,
    "lenType": 16,
    "lenVar": 40
   },
   "kernels_config": {
    "python": {
     "delete_cmd_postfix": "",
     "delete_cmd_prefix": "del ",
     "library": "var_list.py",
     "varRefreshCmd": "print(var_dic_list())"
    },
    "r": {
     "delete_cmd_postfix": ") ",
     "delete_cmd_prefix": "rm(",
     "library": "var_list.r",
     "varRefreshCmd": "cat(var_dic_list()) "
    }
   },
   "types_to_exclude": [
    "module",
    "function",
    "builtin_function_or_method",
    "instance",
    "_Feature"
   ],
   "window_display": false
  }
 },
 "nbformat": 4,
 "nbformat_minor": 4
}
