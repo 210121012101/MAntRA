{
 "cells": [
  {
   "cell_type": "code",
   "execution_count": 1,
   "metadata": {},
   "outputs": [
    {
     "data": {
      "text/plain": [
       "'\\nThis code belongs to the paper:\\n-- YC Mathpati, KS More, T Tripura, R Nayek, S Chakraborty (2023)\\n   MAntRA: A framework for model agnostic reliability analysis\\n   \\n-- This code is for 21 Storey building.\\n'"
      ]
     },
     "execution_count": 1,
     "metadata": {},
     "output_type": "execute_result"
    }
   ],
   "source": [
    "\"\"\"\n",
    "This code belongs to the paper:\n",
    "-- YC Mathpati, KS More, T Tripura, R Nayek, S Chakraborty (2023)\n",
    "   MAntRA: A framework for model agnostic reliability analysis\n",
    "   \n",
    "-- This code is for 21 Storey building.\n",
    "\"\"\""
   ]
  },
  {
   "cell_type": "code",
   "execution_count": 1,
   "metadata": {},
   "outputs": [],
   "source": [
    "import numpy as np\n",
    "import matplotlib.pyplot as plt\n",
    "from scipy import linalg as LA\n",
    "from sklearn.metrics import mean_squared_error as MSE\n",
    "\n",
    "\"\"\"\n",
    "The Dictionary creation part:\n",
    "~~~~~~~~~~~~~~~~~~~~~~~~~~~~~~~~~~~~~~~~~~~~~~~~~~~~~~~~~~~~\n",
    "\"\"\"\n",
    "def library(xt, polyn, harmonic):\n",
    "    if polyn == 0:\n",
    "        polyn = 1\n",
    "    \n",
    "    # The polynomial is (x1 + x2)^p, with p is the order\n",
    "    # poly order 0\n",
    "    ind = 0\n",
    "    n = len(xt[0])\n",
    "    D = np.ones([n,1])\n",
    "    \n",
    "    if polyn >= 1:\n",
    "        # poly order 1\n",
    "        for i in range(len(xt)):\n",
    "            ind = ind+1\n",
    "            new = np.vstack(xt[i,:])\n",
    "            D = np.append(D, new, axis=1)\n",
    "     \n",
    "    if polyn >= 2: \n",
    "        # ploy order 2\n",
    "        for i in range(len(xt)):\n",
    "            for j in  range(i,len(xt)):\n",
    "                ind = ind+1\n",
    "                new = np.multiply(xt[i,:], xt[j,:])\n",
    "                new = np.vstack(new)\n",
    "                D = np.append(D, new, axis=1) \n",
    "    \n",
    "    if polyn >= 3:    \n",
    "        # ploy order 3\n",
    "        for i in range(len(xt)):\n",
    "            for j in  range(i,len(xt)):\n",
    "                for k in  range(j,len(xt)):\n",
    "                    ind = ind+1\n",
    "                    new = np.multiply(np.multiply(xt[i,:], xt[j,:]), xt[k,:])\n",
    "                    new = np.vstack(new)\n",
    "                    D = np.append(D, new, axis=1) \n",
    "    \n",
    "    if polyn >= 4:\n",
    "        # ploy order 4\n",
    "        for i in range(len(xt)):\n",
    "            for j in  range(i,len(xt)):\n",
    "                for k in  range(j,len(xt)):\n",
    "                    for l in range(k,len(xt)):\n",
    "                        ind = ind+1\n",
    "                        new = np.multiply(np.multiply(xt[i,:], xt[j,:]), xt[k,:])\n",
    "                        new = np.multiply(new, xt[l,:])\n",
    "                        new = np.vstack(new)\n",
    "                        D = np.append(D, new, axis=1) \n",
    "    \n",
    "    if polyn >= 5:\n",
    "        # ploy order 5\n",
    "        for i in range(len(xt)):\n",
    "            for j in  range(i,len(xt)):\n",
    "                for k in  range(j,len(xt)):\n",
    "                    for l in  range(k,len(xt)):\n",
    "                        for m in  range(l,len(xt)):\n",
    "                            ind = ind+1\n",
    "                            new = np.multiply(xt[i,:], xt[j,:])\n",
    "                            new = np.multiply(new, xt[k,:])\n",
    "                            new = np.multiply(new, xt[l,:])\n",
    "                            new = np.multiply(new, xt[m,:])\n",
    "                            new = np.vstack(new)\n",
    "                            D = np.append(D, new, axis=1) \n",
    "    \n",
    "    if polyn >= 6:\n",
    "        # ploy order 6\n",
    "        for i in range(len(xt)):\n",
    "            for j in  range(i,len(xt)):\n",
    "                for k in  range(j,len(xt)):\n",
    "                    for l in  range(k,len(xt)):\n",
    "                        for m in  range(l,len(xt)):\n",
    "                            for n in  range(m,len(xt)):\n",
    "                                ind = ind+1\n",
    "                                new = np.multiply(xt[i,:], xt[j,:])\n",
    "                                new = np.multiply(new, xt[k,:])\n",
    "                                new = np.multiply(new, xt[l,:])\n",
    "                                new = np.multiply(new, xt[m,:])\n",
    "                                new = np.multiply(new, xt[n,:])\n",
    "                                new = np.vstack(new)\n",
    "                                D = np.append(D, new, axis=1) \n",
    "    \n",
    "#     # for the signum or sign operator\n",
    "#     for i in range(len(xt)):\n",
    "#         ind = ind+1\n",
    "#         new = np.vstack(np.sign(xt[i,:]))+0.0001\n",
    "#         D = np.append(D, new, axis=1)\n",
    "    \n",
    "    # for the modulus operator\n",
    "    for i in range(len(xt)):\n",
    "        ind = ind+1\n",
    "        new = np.vstack(abs(xt[i,:]))\n",
    "        D = np.append(D, new, axis=1)\n",
    "      \n",
    "    # for the tensor operator\n",
    "    for i in range(len(xt)):\n",
    "        for j in  range(len(xt)):\n",
    "            ind = ind+1\n",
    "            new = np.multiply(xt[i,:],abs(xt[j,:]))\n",
    "            new = np.vstack(new)\n",
    "            D = np.append(D, new, axis=1)\n",
    "            \n",
    "    if harmonic == 1:\n",
    "        for i in range(len(xt)):\n",
    "            ind = ind+1\n",
    "            new = np.vstack(np.sin(xt[i,:]))\n",
    "            D = np.append(D, new, axis=1)\n",
    "\n",
    "        for i in range(len(xt)):\n",
    "            ind = ind+1\n",
    "            new = np.vstack(np.cos(xt[i,:]))\n",
    "            D = np.append(D, new, axis=1)\n",
    "            \n",
    "    ind = len(D[0])\n",
    "    \n",
    "    return D, ind"
   ]
  },
  {
   "cell_type": "code",
   "execution_count": 2,
   "metadata": {},
   "outputs": [],
   "source": [
    "import numpy as np\n",
    "import matplotlib.pyplot as plt\n",
    "\"\"\"\n",
    "A MDOF system excited by random noise\n",
    "----------------------------------------------------------------------\n",
    "\"\"\"\n",
    "\n",
    "def drift_mat(dof,k,c,m):\n",
    "    dim = 2 * dof\n",
    "    A = np.zeros((dim,dim))\n",
    "    \n",
    "    for i in range(dim):\n",
    "        if (i%2 == 0):\n",
    "            A[i][i+1] = 1\n",
    "    \n",
    "        elif(i==1):\n",
    "            A[i][i-1] = -(k+k)/m\n",
    "            A[i][i] = -(c+c)/m\n",
    "            A[i][i+1] = k/m\n",
    "            A[i][i+2] = c/m\n",
    "    \n",
    "        elif(i==dim-1):\n",
    "            A[i][i] = -c/m\n",
    "            A[i][i-1] = -k/m\n",
    "            A[i][i-2] = c/m\n",
    "            A[i][i-3] = k/m\n",
    "            \n",
    "        else:\n",
    "            A[i][i-3] = k/m \n",
    "            A[i][i-2] = c/m\n",
    "            A[i][i-1] = -(k+k)/m\n",
    "            A[i][i] = -(c+c)/m\n",
    "            A[i][i+1] = k/m\n",
    "            A[i][i+2] = c/m\n",
    "    return A\n",
    "\n",
    "def M_DOF_sys(x_initial, dof, T):\n",
    "    # parameters of M_DOF_sys in Equation\n",
    "    m = 1\n",
    "    c = 2\n",
    "    k = 3000\n",
    "    sigma = 1\n",
    "    \n",
    "    # solution by euler maruyama\n",
    "    # -------------------------------------------------------\n",
    "    dt = 0.0001\n",
    "    t = np.arange(0, T+dt, dt)\n",
    "    Nsamp = 200 # no. of samples in the run\n",
    "\n",
    "    \n",
    "    y19 = []  \n",
    "    y20 = []\n",
    "    y21 = []\n",
    "    y22 = []\n",
    "    y23 = []\n",
    "    y24 = []\n",
    "    y25 = []\n",
    "    y26 = []\n",
    "    \n",
    "    xz11 = []\n",
    "    xz12 = []\n",
    "    \n",
    "    xzs11 = []\n",
    "    xzs12 = []\n",
    "    \n",
    "    # Simulation Starts Here ::\n",
    "    # -------------------------------------------------------\n",
    "    for ensemble in range(Nsamp):\n",
    "        x0 = x_initial\n",
    "        x = x0                              # initial condition.\n",
    "        for n in range(len(t)-1):\n",
    "            dW = np.sqrt(dt)*np.random.randn(2*dof)\n",
    "            \n",
    "            '''LINEAR PART DRIFT'''\n",
    "        \n",
    "            A = drift_mat(dof,k,c,m)\n",
    "            \n",
    "            '''DIFFUSION TERM  = b'''\n",
    "            diffu_arr = np.zeros(2*dof)\n",
    "            for i in range(2*dof):\n",
    "                if (i%2 != 0):\n",
    "                    diffu_arr[i] = sigma/m\n",
    "            \n",
    "            soln_arr = x0 + np.matmul(A,x0)*dt + diffu_arr*dW        \n",
    "            x0 = soln_arr\n",
    "            x = np.column_stack((x, x0))\n",
    "            \n",
    "        y19.append(x[-19,:])                \n",
    "        y20.append(x[-20,:])\n",
    "        y21.append(x[-21,:])       # Displacement    \n",
    "        y22.append(x[-22,:])\n",
    "        y23.append(x[-23,:])       # Displacement             \n",
    "        y24.append(x[-24,:])\n",
    "        y25.append(x[-25,:])                \n",
    "        y26.append(x[-26,:])\n",
    "\n",
    "        \n",
    "        zint11 = x[-21, 0:-1]        # Velocity\n",
    "        xfinal11 = x[-21, 1:] \n",
    "        xmz11 = (xfinal11 - zint11)\n",
    "        \n",
    "        zint12 = x[-23, 0:-1]       # Velocity\n",
    "        xfinal12 = x[-23, 1:] \n",
    "        xmz12 = (xfinal12 - zint12) \n",
    "\n",
    "        xz11.append(xmz11)\n",
    "        xz12.append(xmz12)\n",
    "        \n",
    "        xmzsq11 = np.multiply(xmz11, xmz11)\n",
    "        xzs11.append(xmzsq11)\n",
    "        \n",
    "        xmzsq12 = np.multiply(xmz12, xmz12)\n",
    "        xzs12.append(xmzsq12)\n",
    "        \n",
    "    xz11 = pow(dt,-1)*np.mean(np.array(xz11), axis = 0)\n",
    "    xz12 = pow(dt,-1)*np.mean(np.array(xz12), axis = 0)\n",
    "\n",
    "    xzs11 = pow(dt,-1)*np.mean(np.array(xzs11), axis = 0)\n",
    "    xzs12 = pow(dt,-1)*np.mean(np.array(xzs12), axis = 0)\n",
    "\n",
    "    y19 = np.array(y19)\n",
    "    y20 = np.array(y20)\n",
    "    y21 = np.array(y21)\n",
    "    y22 = np.array(y22)\n",
    "    y23 = np.array(y23)\n",
    "    y24 = np.array(y24)\n",
    "    y25 = np.array(y25)\n",
    "    y26 = np.array(y26)\n",
    "\n",
    "    time = t[0:-1]\n",
    "    return xz11, xz12, xzs11, xzs12, y19, y20, y21, y22, y23, y24, y25, y26, time"
   ]
  },
  {
   "cell_type": "code",
   "execution_count": 3,
   "metadata": {},
   "outputs": [],
   "source": [
    "np.random.seed(2)\n",
    "T = 1\n",
    "dof = 21\n",
    "x_initial = np.zeros(2*dof)"
   ]
  },
  {
   "cell_type": "code",
   "execution_count": 4,
   "metadata": {},
   "outputs": [
    {
     "name": "stdout",
     "output_type": "stream",
     "text": [
      "\n"
     ]
    },
    {
     "data": {
      "text/plain": [
       "21.792883121967314"
      ]
     },
     "execution_count": 4,
     "metadata": {},
     "output_type": "execute_result"
    }
   ],
   "source": [
    "import time\n",
    "start = time.time()\n",
    "xz11, xz12, xzs11, xzs12, y19, y20, y21, y22, y23, y24, y25, y26, time_ = M_DOF_sys(x_initial, dof, T)\n",
    "end = time.time()\n",
    "print()\n",
    "TIMES = (end - start)/60\n",
    "TIMES"
   ]
  },
  {
   "cell_type": "code",
   "execution_count": 5,
   "metadata": {},
   "outputs": [
    {
     "name": "stdout",
     "output_type": "stream",
     "text": [
      "\n"
     ]
    },
    {
     "data": {
      "text/plain": [
       "5.431408035755157"
      ]
     },
     "execution_count": 5,
     "metadata": {},
     "output_type": "execute_result"
    }
   ],
   "source": [
    "startD = time.time()\n",
    "# Expected Dictionary Creation:\n",
    "libr = []\n",
    "for j in range(len(y19)):\n",
    "    data = np.row_stack((y19[j,0:-1], y20[j,0:-1], y21[j,0:-1], y22[j,0:-1], y23[j,0:-1], y24[j,0:-1], y25[j,0:-1], y26[j,0:-1]))\n",
    "    Dtemp, nl = library(data, 1, 0)\n",
    "    libr.append(Dtemp)\n",
    "libr = np.array(libr)\n",
    "Dictionary= np.mean(libr, axis = 0)\n",
    "print()\n",
    "endD = time.time()\n",
    "TIMED = (endD - startD)/60\n",
    "TIMED"
   ]
  },
  {
   "cell_type": "code",
   "execution_count": 7,
   "metadata": {},
   "outputs": [
    {
     "name": "stdout",
     "output_type": "stream",
     "text": [
      "Total Time :  27.224291157722472\n"
     ]
    }
   ],
   "source": [
    "print(\"Total Time : \", TIMES+TIMED)"
   ]
  },
  {
   "cell_type": "code",
   "execution_count": 8,
   "metadata": {},
   "outputs": [],
   "source": [
    "xdts = xzs11\n",
    "D = Dictionary"
   ]
  },
  {
   "cell_type": "code",
   "execution_count": 9,
   "metadata": {},
   "outputs": [
    {
     "data": {
      "text/plain": [
       "(10000, 81)"
      ]
     },
     "execution_count": 9,
     "metadata": {},
     "output_type": "execute_result"
    }
   ],
   "source": [
    "D.shape"
   ]
  },
  {
   "cell_type": "code",
   "execution_count": 10,
   "metadata": {},
   "outputs": [
    {
     "data": {
      "text/plain": [
       "(810000,)"
      ]
     },
     "execution_count": 10,
     "metadata": {},
     "output_type": "execute_result"
    }
   ],
   "source": [
    "Dict = D.reshape(-1,order='F')\n",
    "Dict.shape"
   ]
  },
  {
   "cell_type": "code",
   "execution_count": 11,
   "metadata": {
    "scrolled": true
   },
   "outputs": [
    {
     "name": "stdout",
     "output_type": "stream",
     "text": [
      "{'Relevant': matlab.double([[1.0],[10.0],[16.0],[17.0],[41.0],[48.0],[56.0],[70.0],[81.0]]), 'Value': matlab.double([[0.9901238132330448],[0.16358128587352117],[0.016189251561629477],[0.5675585250561104],[-1.773903788783252],[10.063158752050205],[0.2885044675082408],[-0.09365842972938068],[-51.71240194306952]])}\n"
     ]
    }
   ],
   "source": [
    "#!/usr/bin/env python\n",
    "\"\"\"\n",
    "Sample script that uses the SparseBayes module created using\n",
    "MATLAB Compiler SDK.\n",
    "\n",
    "Refer to the MATLAB Compiler SDK documentation for more information.\n",
    "\"\"\"\n",
    "\n",
    "from __future__ import print_function\n",
    "import SparseBayes\n",
    "import matlab\n",
    "\n",
    "my_SparseBayes = SparseBayes.initialize()\n",
    "\n",
    "DictIn = matlab.double(Dict, size=(D.shape[0], D.shape[1]))\n",
    "targetIn = matlab.double(xdts, size=(D.shape[0], 1))\n",
    "DMOut = my_SparseBayes.SparseBayes(DictIn, targetIn)\n",
    "print(DMOut, sep='\\n')\n",
    "\n",
    "my_SparseBayes.terminate()"
   ]
  },
  {
   "cell_type": "code",
   "execution_count": 12,
   "metadata": {},
   "outputs": [
    {
     "name": "stdout",
     "output_type": "stream",
     "text": [
      "[1. 0. 0. 0. 0. 0. 0. 0. 0. 1. 0. 0. 0. 0. 0. 1. 1. 0. 0. 0. 0. 0. 0. 0.\n",
      " 0. 0. 0. 0. 0. 0. 0. 0. 0. 0. 0. 0. 0. 0. 0. 0. 1. 0. 0. 0. 0. 0. 0. 1.\n",
      " 0. 0. 0. 0. 0. 0. 0. 1. 0. 0. 0. 0. 0. 0. 0. 0. 0. 0. 0. 0. 0. 1. 0. 0.\n",
      " 0. 0. 0. 0. 0. 0. 0. 0. 1.]\n"
     ]
    }
   ],
   "source": [
    "c = np.array(DMOut['Value'])\n",
    "d = []\n",
    "for j in c:\n",
    "    d.append(j[0])\n",
    "    \n",
    "a = np.array(DMOut['Relevant'])\n",
    "b = []\n",
    "for i in a:\n",
    "    b.append(int((i[0])-1))\n",
    "    \n",
    "initz0 = np.zeros(D.shape[1])\n",
    "for i in b:\n",
    "    initz0[i] = 1\n",
    "    \n",
    "print(initz0)"
   ]
  },
  {
   "cell_type": "code",
   "execution_count": 13,
   "metadata": {},
   "outputs": [],
   "source": [
    "import warnings\n",
    "import math\n",
    "import numpy as np\n",
    "import scipy as sp\n",
    "import sympy as smp\n",
    "from scipy import stats\n",
    "from numpy import linalg as la\n",
    "import matplotlib.pyplot as plt\n",
    "from numpy.random import gamma\n",
    "from scipy.special import loggamma\n",
    "\n",
    "def Variational_Bayes_Code(X, y, initz0, tol, verbosity):\n",
    "\n",
    "    if (len(X) == 0 or len(y) == 0):\n",
    "        raise Exception('X and or y is missing')\n",
    "        \n",
    "    if (len(X) != len(y)):\n",
    "        raise Exception('Number of observations do not match')\n",
    "        \n",
    "    # X = stats.zscore(X, ddof = 1)         \n",
    "    # X = np.c_[np.ones(len(X)),X]\n",
    "    # X = np.c_[np.ones(len(X)),X]          \n",
    "    # y = y - np.mean(y)\n",
    "    N = len(X)\n",
    "    # Prior parameters of noise variance (Inverse Gamma dist)\n",
    "    A = 1e-4\n",
    "    B = 1e-4\n",
    "    vs = 10\n",
    "    tau0 = 1000\n",
    "    \n",
    "    if (len(initz0) == 0):\n",
    "        raise Exception('No initial value of z found')\n",
    "    else:\n",
    "        p0 = expit(-0.5*(np.sqrt(N)))       \n",
    "        \n",
    "        # Adding the intercept indicator variable (slightly less than 1 to prevent log(0) values) \n",
    "        # initz = np.hstack((1,initz0))  \n",
    "        initz = initz0\n",
    "\n",
    "        DS,LLcvg  = run_VB2(X, y, vs, A, B, tau0, p0, initz, tol, verbosity)    \n",
    "        # This is function which will come first\n",
    "        \n",
    "    out_vb   = DS\n",
    "    a = DS['zmean'] > 0.5\n",
    "    count = 0\n",
    "    modelIdx = []\n",
    "    for i in a:\n",
    "        if i == True:\n",
    "            modelIdx.append(count)\n",
    "        count += 1\n",
    "            \n",
    "    modelIdx = np.setdiff1d(modelIdx,0)\n",
    "    out_vb['modelIdx'] = modelIdx-1\n",
    "    out_vb['Zmed'] = DS['zmean'][modelIdx]\n",
    "    out_vb['Wsel'] = DS['wmean'][modelIdx]\n",
    "    out_vb['Wcov'] = DS['wCOV'][modelIdx, modelIdx]\n",
    "    out_vb['sig2'] = DS['sig2']\n",
    "    \n",
    "    return out_vb\n",
    "\n",
    "DS = {}\n",
    "def run_VB2(Xc, yc, vs, A, B, tau0, p0, initz, tol, verbosity):\n",
    "    \"\"\"This function is the implementation of VB from John T. Ormerod paper (2014)\n",
    "       This implementation uses slab scaling by noise variance\n",
    "       vs    : treated as a constant\n",
    "       A,B   : constants of the IG prior over noise variance\n",
    "       tau0  : Expected value of (sigma^{-2})\n",
    "       p0    : inclusion probablility\n",
    "       initz : Initial value of z\n",
    "       Xc    : Centered and standardized dictionary except the first column\n",
    "       yc    : Centered observations \"\"\"\n",
    "    \n",
    "    Lambda    = logit(p0)\n",
    "    iter_     = 0\n",
    "    max_iter  = 100\n",
    "    LL        = np.zeros(max_iter)        \n",
    "    zm        = np.reshape(initz,(-1))            \n",
    "    taum      = tau0                      \n",
    "    invVs     = 1/vs\n",
    "    \n",
    "    X = Xc\n",
    "    y = yc\n",
    "    XtX = (X.T) @ X\n",
    "    XtX = 0.5*(XtX + (XtX).T)\n",
    "    Xty = (X.T) @ y                 \n",
    "    yty = (y.T) @ y\n",
    "\n",
    "    eyep = np.eye(len(XtX))\n",
    "    [N,p] = X.shape\n",
    "    allidx = np.arange(p)\n",
    "    zm[0] = 1                                                                   # Always include the intercept \n",
    "    Abar    = (A + 0.5*N + 0.5*p)\n",
    "    converged = 0\n",
    "    \n",
    "    while (converged==0):\n",
    "        if (iter_==100):\n",
    "            break\n",
    "        \n",
    "        Zm       = np.diag(zm)\n",
    "        Omg      = (np.reshape(zm,(-1,1)) @ np.reshape(zm,(1,-1))) + (Zm @ (eyep-Zm))\n",
    "        # Update the mean and covariance of the coefficients given mean of z\n",
    "        term1    = XtX * Omg                                                       # elementwisw multiplication\n",
    "        invSigma = taum * (term1 + invVs * eyep)\n",
    "        invSigma = 0.5*(invSigma + invSigma.T)                                     # symmetric\n",
    "        Sigma    = la.inv(invSigma) @ eyep\n",
    "        mu       = taum * (Sigma @ Zm @ Xty)                                       # @ ---> matrix multiplication\n",
    "        \n",
    "        # Update tau related to sigma\n",
    "        term2    = 2 * Xty @ Zm @ mu\n",
    "        term3    =  np.reshape(mu,(len(initz0),1)) @ np.reshape(mu,(1,len(initz0)))+ Sigma\n",
    "        term4    = yty - term2 + np.trace((term1 + invVs * eyep) @ term3)    \n",
    "        s        = B + 0.5*term4\n",
    "        \n",
    "        if s<0:\n",
    "            warnings.warn('s turned out be less than 0. Taking absolute value')\n",
    "            s = B + 0.5*abs(term4)\n",
    "        \n",
    "        taum     = Abar / s\n",
    "        zstr   = zm\n",
    "\n",
    "        order   = np.setdiff1d(np.random.permutation(p), 0, assume_unique=True)\n",
    "        for j in order: \n",
    "            muj     = mu[j]                            \n",
    "            sigmaj  = Sigma[j,j]\n",
    "            \n",
    "            remidx  = np.setdiff1d(allidx,j)\n",
    "            mu_j    = mu[remidx]\n",
    "            Sigma_jj= Sigma[remidx,j]\n",
    "            etaj    = (Lambda - 0.5 * taum * ((muj**2 + sigmaj) * XtX[j,j]) \n",
    "                       + taum * np.reshape(X[:,j],(1,-1)) @ (np.reshape(y,(-1,1))*muj \n",
    "                        -X[:,remidx] @ np.diag(zstr[remidx]) @ ((mu_j * muj + Sigma_jj).reshape(-1,1))))\n",
    "            zstr[j] = expit(etaj)\n",
    "            \n",
    "        zm = zstr\n",
    "        \n",
    "        # Calculate marginal log-likelihood\n",
    "        \n",
    "        LL[iter_] = ( 0.5*p \n",
    "                    - 0.5*N*np.log(2*np.pi) \n",
    "                    + 0.5*p*np.log(invVs) \n",
    "                    + A*np.log(B)\n",
    "                    - loggamma(A)\n",
    "                    + loggamma(Abar) \n",
    "                    - Abar*np.log(s)\n",
    "                    + 0.5*np.log(la.det(Sigma))\n",
    "                    + np.nansum(zm*(np.log(p0) - np.log(zm))) \n",
    "                    + np.nansum((1-zm)*(np.log(1-p0) - np.log(1-zm))))\n",
    "        \n",
    "        if(verbosity):\n",
    "            print(f'Iteration = {iter_}  log(Likelihood) = {LL[iter_]}')\n",
    "        \n",
    "        if(iter_>1):\n",
    "            cvg = LL[iter_] - LL[iter_-1]\n",
    "            \n",
    "            if (cvg < 0 and verbosity):\n",
    "                print('OOPS!  log(like) decreasing!!')\n",
    "            elif (cvg<tol or iter_> max_iter):\n",
    "                converged = 1\n",
    "                LL = LL[0:iter_]\n",
    "                \n",
    "        iter_    = iter_ + 1\n",
    "    DS['zmean'] = zm\n",
    "    DS['wmean'] = mu\n",
    "    DS['wCOV'] = Sigma\n",
    "    DS['sig2'] = 1/taum\n",
    "    LLcvg    = LL[-1]\n",
    "    return DS, LLcvg\n",
    "    \n",
    "def logit(C):\n",
    "    logitC = np.log(C) - np.log(1-C)\n",
    "    return logitC\n",
    "\n",
    "def expit(C):\n",
    "    expitC = 1./(1 + np.exp(-C))\n",
    "    return expitC"
   ]
  },
  {
   "cell_type": "code",
   "execution_count": 14,
   "metadata": {},
   "outputs": [
    {
     "data": {
      "text/plain": [
       "((10000, 81), (81,))"
      ]
     },
     "execution_count": 14,
     "metadata": {},
     "output_type": "execute_result"
    }
   ],
   "source": [
    "D.shape, initz0.shape"
   ]
  },
  {
   "cell_type": "code",
   "execution_count": 15,
   "metadata": {},
   "outputs": [
    {
     "name": "stderr",
     "output_type": "stream",
     "text": [
      "C:\\Users\\USER\\AppData\\Local\\Temp/ipykernel_6256/3512855728.py:147: RuntimeWarning: divide by zero encountered in log\n",
      "  + np.nansum((1-zm)*(np.log(1-p0) - np.log(1-zm))))\n",
      "C:\\Users\\USER\\AppData\\Local\\Temp/ipykernel_6256/3512855728.py:147: RuntimeWarning: invalid value encountered in multiply\n",
      "  + np.nansum((1-zm)*(np.log(1-p0) - np.log(1-zm))))\n"
     ]
    },
    {
     "name": "stdout",
     "output_type": "stream",
     "text": [
      "Iteration = 0  log(Likelihood) = 8089.890506783656\n"
     ]
    },
    {
     "name": "stderr",
     "output_type": "stream",
     "text": [
      "C:\\Users\\USER\\AppData\\Local\\Temp/ipykernel_6256/3512855728.py:174: RuntimeWarning: overflow encountered in exp\n",
      "  expitC = 1./(1 + np.exp(-C))\n",
      "C:\\Users\\USER\\AppData\\Local\\Temp/ipykernel_6256/3512855728.py:146: RuntimeWarning: divide by zero encountered in log\n",
      "  + np.nansum(zm*(np.log(p0) - np.log(zm)))\n",
      "C:\\Users\\USER\\AppData\\Local\\Temp/ipykernel_6256/3512855728.py:146: RuntimeWarning: invalid value encountered in multiply\n",
      "  + np.nansum(zm*(np.log(p0) - np.log(zm)))\n"
     ]
    },
    {
     "name": "stdout",
     "output_type": "stream",
     "text": [
      "Iteration = 1  log(Likelihood) = 8149.508447649354\n",
      "Iteration = 2  log(Likelihood) = 8149.509790176409\n",
      "Iteration = 3  log(Likelihood) = 8149.509790261411\n",
      "{'zmean': array([1.00000000e+00, 9.86614786e-39, 1.34592431e-22, 2.33026606e-44,\n",
      "       1.35176962e-22, 6.42392231e-55, 1.33629069e-22, 8.09374247e-59,\n",
      "       1.35060882e-22, 1.00000000e+00, 4.44216641e-36, 0.00000000e+00,\n",
      "       6.46952397e-35, 0.00000000e+00, 7.90599869e-34, 1.00000000e+00,\n",
      "       9.64077304e-33, 3.67929343e-29, 1.86998014e-22, 3.41082197e-25,\n",
      "       1.87665638e-22, 6.88072008e-25, 1.87849755e-22, 2.92630014e-25,\n",
      "       1.88419802e-22, 1.83796049e-22, 1.92652434e-22, 1.84359067e-22,\n",
      "       1.92672453e-22, 1.84743022e-22, 1.92690442e-22, 1.86054540e-22,\n",
      "       1.92715021e-22, 1.38370236e-25, 1.83346666e-22, 1.15155430e-30,\n",
      "       1.84178621e-22, 1.01182342e-26, 1.84862015e-22, 2.71684107e-26,\n",
      "       1.85468473e-22, 1.83541191e-22, 1.92672486e-22, 1.84524276e-22,\n",
      "       1.92674396e-22, 1.84670781e-22, 1.92685697e-22, 1.86357936e-22,\n",
      "       1.92709294e-22, 6.41894524e-26, 1.81956756e-22, 2.17355035e-26,\n",
      "       1.81869837e-22, 3.10498736e-36, 1.82242833e-22, 4.38311862e-29,\n",
      "       1.82884437e-22, 1.83435744e-22, 1.92689449e-22, 1.84256628e-22,\n",
      "       1.92685617e-22, 1.84046584e-22, 1.92683852e-22, 1.86148098e-22,\n",
      "       1.92701804e-22, 4.21077191e-26, 1.80507811e-22, 1.40385054e-27,\n",
      "       1.81158106e-22, 4.20364426e-30, 1.80786660e-22, 4.19790583e-38,\n",
      "       1.80836702e-22, 1.83992432e-22, 1.92711804e-22, 1.84416191e-22,\n",
      "       1.92707705e-22, 1.84318072e-22, 1.92701707e-22, 1.86206709e-22,\n",
      "       1.92703867e-22]), 'wmean': array([ 9.79939250e-01, -3.49535514e-39,  3.14865827e-23,  2.23968021e-44,\n",
      "        1.78925139e-23,  4.71640971e-54,  2.67724529e-24,  3.00212812e-58,\n",
      "       -4.42876784e-24,  1.39482806e-01,  3.13103344e-36,  0.00000000e+00,\n",
      "        4.84617873e-35,  0.00000000e+00,  5.24868465e-34,  1.23441868e-01,\n",
      "        5.74957262e-33, -4.74998701e-29, -7.20127408e-24, -4.04816878e-25,\n",
      "       -6.81460725e-24, -6.74064996e-25, -9.57426629e-24, -3.26868907e-25,\n",
      "       -7.00983313e-24,  2.47585394e-23,  1.58905864e-24,  1.91180252e-23,\n",
      "        1.29829986e-24,  1.43847277e-23,  5.66469727e-25,  3.51981011e-23,\n",
      "        2.50455012e-25, -5.21888642e-26, -1.18157911e-23, -1.80861269e-30,\n",
      "       -7.12877781e-24,  6.59407591e-27, -8.02205521e-24,  1.16755483e-26,\n",
      "       -8.35444746e-24,  1.88616313e-23,  1.26667543e-24,  1.38030727e-23,\n",
      "        9.67187322e-25,  6.98479510e-24,  1.84643568e-25,  2.99527914e-23,\n",
      "       -2.37850918e-25,  1.05803293e-25,  3.38396050e-23,  4.12083857e-26,\n",
      "        2.71206198e-23,  1.42927914e-35,  2.17456711e-23,  1.38279886e-28,\n",
      "        1.92621095e-23,  1.37423743e-23,  5.06755640e-25,  4.76501674e-24,\n",
      "        1.67942232e-25,  5.41690607e-25, -5.36940917e-25,  1.97976089e-23,\n",
      "       -9.43793008e-25,  3.17777000e-26,  1.02391161e-23,  1.37708171e-27,\n",
      "        4.76428371e-24,  6.27346268e-30,  6.10948577e-24,  8.47305563e-38,\n",
      "        8.10780902e-24,  1.05452393e-23,  6.24039747e-26,  9.54908886e-25,\n",
      "       -2.69379442e-25, -3.26685607e-24, -9.43471436e-25,  1.56821921e-23,\n",
      "       -1.33196464e-24]), 'wCOV': array([[ 1.76292284e-05, -6.07395408e-42,  2.76195891e-26, ...,\n",
      "         1.37761381e-27,  6.29718685e-27,  1.37696590e-27],\n",
      "       [-6.07395408e-42,  1.10818277e-01, -1.05856774e-64, ...,\n",
      "        -9.40950908e-63, -5.82054136e-62, -9.90839504e-63],\n",
      "       [ 2.76195891e-26, -1.05856774e-64,  1.10818277e-01, ...,\n",
      "        -3.08435467e-47, -1.66926558e-46, -2.98313454e-47],\n",
      "       ...,\n",
      "       [ 1.37761381e-27, -9.40950908e-63, -3.08435467e-47, ...,\n",
      "         1.10818277e-01, -2.25000949e-47, -4.09184592e-48],\n",
      "       [ 6.29718685e-27, -5.82054136e-62, -1.66926558e-46, ...,\n",
      "        -2.25000949e-47,  1.10818277e-01, -2.34032724e-47],\n",
      "       [ 1.37696590e-27, -9.90839504e-63, -2.98313454e-47, ...,\n",
      "        -4.09184592e-48, -2.34032724e-47,  1.10818277e-01]]), 'sig2': 0.01108183345658153, 'modelIdx': array([ 8, 14]), 'Zmed': array([1., 1.]), 'Wsel': array([0.13948281, 0.12344187]), 'Wcov': array([0.00269806, 0.00239031])}\n"
     ]
    }
   ],
   "source": [
    "tol = 0.0001\n",
    "verbosity = True\n",
    "initz0 = initz0\n",
    "DS = Variational_Bayes_Code(D, xdts, initz0, tol, verbosity)\n",
    "\n",
    "print(DS) "
   ]
  },
  {
   "cell_type": "code",
   "execution_count": 19,
   "metadata": {},
   "outputs": [
    {
     "name": "stdout",
     "output_type": "stream",
     "text": [
      "\n",
      "0.9899188099863844\n"
     ]
    },
    {
     "data": {
      "image/png": "[encoded data removed]",
      "text/plain": [
       "<Figure size 432x288 with 1 Axes>"
      ]
     },
     "metadata": {
      "needs_background": "light"
     },
     "output_type": "display_data"
    }
   ],
   "source": [
    "zmean11 = DS['zmean']\n",
    "wmean11 = DS['wmean']\n",
    "zmean11[np.where(np.diag(DS['wCOV'])>5e-4)] = 0\n",
    "plt.stem(zmean11)\n",
    "wmean11[np.where(np.diag(DS['wCOV'])>5e-4)] = 0\n",
    "print()\n",
    "print(np.sqrt(wmean11[0]))"
   ]
  },
  {
   "cell_type": "code",
   "execution_count": 20,
   "metadata": {},
   "outputs": [],
   "source": [
    "xdts = xzs12"
   ]
  },
  {
   "cell_type": "code",
   "execution_count": 21,
   "metadata": {},
   "outputs": [
    {
     "name": "stdout",
     "output_type": "stream",
     "text": [
      "{'Relevant': matlab.double([[1.0],[4.0],[12.0],[16.0],[24.0],[32.0],[38.0],[41.0],[58.0],[73.0],[78.0]]), 'Value': matlab.double([[0.9819076967451932],[0.09140092181947508],[0.08689529174350885],[0.17319393019647966],[-0.007429900213746423],[-6.135093619475943],[-0.47396253646916475],[4.330390650614655],[5.6037754740846],[-0.6317503274629287],[-4.396070124654494]])}\n"
     ]
    }
   ],
   "source": [
    "#!/usr/bin/env python\n",
    "\"\"\"\n",
    "Sample script that uses the SparseBayes module created using\n",
    "MATLAB Compiler SDK.\n",
    "\n",
    "Refer to the MATLAB Compiler SDK documentation for more information.\n",
    "\"\"\"\n",
    "\n",
    "from __future__ import print_function\n",
    "import SparseBayes\n",
    "import matlab\n",
    "\n",
    "my_SparseBayes = SparseBayes.initialize()\n",
    "\n",
    "DictIn = matlab.double(Dict, size=(D.shape[0], D.shape[1]))\n",
    "targetIn = matlab.double(xdts, size=(D.shape[0], 1))\n",
    "DMOut = my_SparseBayes.SparseBayes(DictIn, targetIn)\n",
    "print(DMOut, sep='\\n')\n",
    "\n",
    "my_SparseBayes.terminate()"
   ]
  },
  {
   "cell_type": "code",
   "execution_count": 22,
   "metadata": {},
   "outputs": [
    {
     "name": "stdout",
     "output_type": "stream",
     "text": [
      "[1. 0. 0. 1. 0. 0. 0. 0. 0. 0. 0. 1. 0. 0. 0. 1. 0. 0. 0. 0. 0. 0. 0. 1.\n",
      " 0. 0. 0. 0. 0. 0. 0. 1. 0. 0. 0. 0. 0. 1. 0. 0. 1. 0. 0. 0. 0. 0. 0. 0.\n",
      " 0. 0. 0. 0. 0. 0. 0. 0. 0. 1. 0. 0. 0. 0. 0. 0. 0. 0. 0. 0. 0. 0. 0. 0.\n",
      " 1. 0. 0. 0. 0. 1. 0. 0. 0.]\n"
     ]
    }
   ],
   "source": [
    "c = np.array(DMOut['Value'])\n",
    "d = []\n",
    "for j in c:\n",
    "    d.append(j[0])\n",
    "    \n",
    "a = np.array(DMOut['Relevant'])\n",
    "b = []\n",
    "for i in a:\n",
    "    b.append(int((i[0])-1))\n",
    "    \n",
    "initz0 = np.zeros(D.shape[1])\n",
    "for i in b:\n",
    "    initz0[i] = 1\n",
    "    \n",
    "print(initz0)"
   ]
  },
  {
   "cell_type": "code",
   "execution_count": 23,
   "metadata": {},
   "outputs": [
    {
     "name": "stderr",
     "output_type": "stream",
     "text": [
      "C:\\Users\\USER\\AppData\\Local\\Temp/ipykernel_6256/3512855728.py:147: RuntimeWarning: divide by zero encountered in log\n",
      "  + np.nansum((1-zm)*(np.log(1-p0) - np.log(1-zm))))\n",
      "C:\\Users\\USER\\AppData\\Local\\Temp/ipykernel_6256/3512855728.py:147: RuntimeWarning: invalid value encountered in multiply\n",
      "  + np.nansum((1-zm)*(np.log(1-p0) - np.log(1-zm))))\n",
      "C:\\Users\\USER\\AppData\\Local\\Temp/ipykernel_6256/3512855728.py:174: RuntimeWarning: overflow encountered in exp\n",
      "  expitC = 1./(1 + np.exp(-C))\n"
     ]
    },
    {
     "name": "stdout",
     "output_type": "stream",
     "text": [
      "Iteration = 0  log(Likelihood) = 8025.978872508883\n"
     ]
    },
    {
     "name": "stderr",
     "output_type": "stream",
     "text": [
      "C:\\Users\\USER\\AppData\\Local\\Temp/ipykernel_6256/3512855728.py:146: RuntimeWarning: divide by zero encountered in log\n",
      "  + np.nansum(zm*(np.log(p0) - np.log(zm)))\n",
      "C:\\Users\\USER\\AppData\\Local\\Temp/ipykernel_6256/3512855728.py:146: RuntimeWarning: invalid value encountered in multiply\n",
      "  + np.nansum(zm*(np.log(p0) - np.log(zm)))\n"
     ]
    },
    {
     "name": "stdout",
     "output_type": "stream",
     "text": [
      "Iteration = 1  log(Likelihood) = 8083.320257596184\n",
      "Iteration = 2  log(Likelihood) = 8083.321853418955\n",
      "Iteration = 3  log(Likelihood) = 8083.321853521626\n",
      "{'zmean': array([1.00000000e+00, 9.86616726e-39, 1.34592433e-22, 2.33027223e-44,\n",
      "       1.35176965e-22, 6.42394750e-55, 1.33629072e-22, 8.09377801e-59,\n",
      "       1.35060885e-22, 0.00000000e+00, 4.44217372e-36, 1.00000000e+00,\n",
      "       6.46953371e-35, 0.00000000e+00, 7.90600956e-34, 1.00000000e+00,\n",
      "       9.64078503e-33, 3.67929641e-29, 1.86998014e-22, 3.41082311e-25,\n",
      "       1.87665638e-22, 6.88072211e-25, 1.87849755e-22, 2.92630113e-25,\n",
      "       1.88419802e-22, 1.83796049e-22, 1.92652434e-22, 1.84359067e-22,\n",
      "       1.92672453e-22, 1.84743023e-22, 1.92690442e-22, 1.86054540e-22,\n",
      "       1.92715021e-22, 1.38370288e-25, 1.83346667e-22, 1.15155544e-30,\n",
      "       1.84178621e-22, 1.01182394e-26, 1.84862015e-22, 2.71684233e-26,\n",
      "       1.85468474e-22, 1.83541192e-22, 1.92672486e-22, 1.84524276e-22,\n",
      "       1.92674396e-22, 1.84670782e-22, 1.92685697e-22, 1.86357936e-22,\n",
      "       1.92709294e-22, 6.41894793e-26, 1.81956756e-22, 2.17355139e-26,\n",
      "       1.81869837e-22, 3.10499253e-36, 1.82242833e-22, 4.38312214e-29,\n",
      "       1.82884438e-22, 1.83435744e-22, 1.92689449e-22, 1.84256628e-22,\n",
      "       1.92685617e-22, 1.84046585e-22, 1.92683852e-22, 1.86148098e-22,\n",
      "       1.92701804e-22, 4.21077377e-26, 1.80507812e-22, 1.40385141e-27,\n",
      "       1.81158107e-22, 4.20364814e-30, 1.80786661e-22, 4.19791376e-38,\n",
      "       1.80836702e-22, 1.83992433e-22, 1.92711804e-22, 1.84416192e-22,\n",
      "       1.92707705e-22, 1.84318072e-22, 1.92701707e-22, 1.86206709e-22,\n",
      "       1.92703867e-22]), 'wmean': array([ 9.86404833e-01, -3.87526637e-38, -2.85956673e-23,  3.65403956e-44,\n",
      "       -2.79535503e-23, -4.08360244e-55, -2.90911508e-23, -4.26976658e-58,\n",
      "       -3.80461322e-23,  0.00000000e+00,  9.75271032e-37,  1.25973867e-01,\n",
      "        1.28643746e-35,  0.00000000e+00,  9.66906595e-35,  1.08426920e-01,\n",
      "        7.46061781e-34, -6.93201157e-29, -2.11677876e-23, -3.86498461e-25,\n",
      "       -2.26596549e-23, -1.22856733e-24, -2.04506610e-23, -6.99987248e-25,\n",
      "       -1.86101064e-23,  7.16838885e-24, -2.17760348e-24, -1.35050590e-23,\n",
      "       -2.13060052e-24, -1.92885151e-23, -1.65592475e-24, -3.11171929e-23,\n",
      "       -1.91347709e-24,  4.09861258e-26,  1.95910961e-23,  1.07256544e-31,\n",
      "        1.86335065e-23, -1.81697439e-26,  2.04719168e-23,  4.90160728e-28,\n",
      "        2.45132940e-23,  9.57154170e-24, -2.10360202e-24, -1.26320205e-23,\n",
      "       -2.12364605e-24, -1.91958175e-23, -1.64942563e-24, -2.69518807e-23,\n",
      "       -1.95882784e-24,  5.08553162e-26, -3.97257948e-24, -4.13524205e-26,\n",
      "       -8.66074209e-25, -6.20611797e-36, -5.29715241e-24, -2.52395840e-29,\n",
      "       -6.49028207e-24,  7.48641821e-24, -1.73122867e-24, -1.30042151e-23,\n",
      "       -1.68694233e-24, -2.12611282e-23, -1.44157153e-24, -2.74319716e-23,\n",
      "       -1.99479261e-24, -1.51696878e-26, -2.83942401e-23, -1.86555238e-27,\n",
      "       -3.17891990e-23, -1.01511717e-29, -3.63147761e-23, -1.21094732e-37,\n",
      "       -3.77704787e-23,  8.84258604e-25, -2.02316344e-24, -1.64264039e-23,\n",
      "       -1.98481911e-24, -2.72176030e-23, -1.97539194e-24, -3.13389542e-23,\n",
      "       -2.64488755e-24]), 'wCOV': array([[ 1.69708562e-05, -1.23578986e-42,  2.70647954e-26, ...,\n",
      "         1.22388445e-27,  6.81436827e-27,  1.16926343e-27],\n",
      "       [-1.23578986e-42,  1.12293683e-01,  1.75664871e-62, ...,\n",
      "        -7.99022129e-63, -5.48905070e-62, -8.46207786e-63],\n",
      "       [ 2.70647954e-26,  1.75664871e-62,  1.12293683e-01, ...,\n",
      "        -3.12096601e-47, -1.66291327e-46, -3.03375755e-47],\n",
      "       ...,\n",
      "       [ 1.22388445e-27, -7.99022129e-63, -3.12096601e-47, ...,\n",
      "         1.12293683e-01, -2.26015208e-47, -4.18395194e-48],\n",
      "       [ 6.81436827e-27, -5.48905070e-62, -1.66291327e-46, ...,\n",
      "        -2.26015208e-47,  1.12293683e-01, -2.35409896e-47],\n",
      "       [ 1.16926343e-27, -8.46207786e-63, -3.03375755e-47, ...,\n",
      "        -4.18395194e-48, -2.35409896e-47,  1.12293683e-01]]), 'sig2': 0.011229374641764196, 'modelIdx': array([10, 14]), 'Zmed': array([1., 1.]), 'Wsel': array([0.12597387, 0.10842692]), 'Wcov': array([0.00243337, 0.00229806])}\n"
     ]
    }
   ],
   "source": [
    "tol = 0.0001\n",
    "verbosity = True\n",
    "initz0 = initz0\n",
    "DS = Variational_Bayes_Code(D, xdts, initz0, tol, verbosity)\n",
    "\n",
    "print(DS) "
   ]
  },
  {
   "cell_type": "code",
   "execution_count": 26,
   "metadata": {},
   "outputs": [
    {
     "data": {
      "text/plain": [
       "array([1.69708562e-05, 1.12293683e-01, 1.12293683e-01, 1.12293683e-01,\n",
       "       1.12293683e-01, 1.12293683e-01, 1.12293683e-01, 1.12293683e-01,\n",
       "       1.12293683e-01, 1.12293683e-01, 1.12293683e-01, 2.43337411e-03,\n",
       "       1.12293683e-01, 1.12293683e-01, 1.12293683e-01, 2.29806284e-03,\n",
       "       1.12293683e-01, 1.12293683e-01, 1.12293683e-01, 1.12293683e-01,\n",
       "       1.12293683e-01, 1.12293683e-01, 1.12293683e-01, 1.12293683e-01,\n",
       "       1.12293683e-01, 1.12293683e-01, 1.12293683e-01, 1.12293683e-01,\n",
       "       1.12293683e-01, 1.12293683e-01, 1.12293683e-01, 1.12293683e-01,\n",
       "       1.12293683e-01, 1.12293683e-01, 1.12293683e-01, 1.12293683e-01,\n",
       "       1.12293683e-01, 1.12293683e-01, 1.12293683e-01, 1.12293683e-01,\n",
       "       1.12293683e-01, 1.12293683e-01, 1.12293683e-01, 1.12293683e-01,\n",
       "       1.12293683e-01, 1.12293683e-01, 1.12293683e-01, 1.12293683e-01,\n",
       "       1.12293683e-01, 1.12293683e-01, 1.12293683e-01, 1.12293683e-01,\n",
       "       1.12293683e-01, 1.12293683e-01, 1.12293683e-01, 1.12293683e-01,\n",
       "       1.12293683e-01, 1.12293683e-01, 1.12293683e-01, 1.12293683e-01,\n",
       "       1.12293683e-01, 1.12293683e-01, 1.12293683e-01, 1.12293683e-01,\n",
       "       1.12293683e-01, 1.12293683e-01, 1.12293683e-01, 1.12293683e-01,\n",
       "       1.12293683e-01, 1.12293683e-01, 1.12293683e-01, 1.12293683e-01,\n",
       "       1.12293683e-01, 1.12293683e-01, 1.12293683e-01, 1.12293683e-01,\n",
       "       1.12293683e-01, 1.12293683e-01, 1.12293683e-01, 1.12293683e-01,\n",
       "       1.12293683e-01])"
      ]
     },
     "execution_count": 26,
     "metadata": {},
     "output_type": "execute_result"
    }
   ],
   "source": [
    "np.diag(DS['wCOV'])"
   ]
  },
  {
   "cell_type": "code",
   "execution_count": 27,
   "metadata": {},
   "outputs": [
    {
     "name": "stdout",
     "output_type": "stream",
     "text": [
      "\n",
      "0.9931791546845723\n"
     ]
    },
    {
     "data": {
      "image/png": "[encoded data removed]",
      "text/plain": [
       "<Figure size 432x288 with 1 Axes>"
      ]
     },
     "metadata": {
      "needs_background": "light"
     },
     "output_type": "display_data"
    }
   ],
   "source": [
    "zmean10 = DS['zmean']\n",
    "wmean10 = DS['wmean']\n",
    "zmean10[np.where(np.diag(DS['wCOV'])>5e-4)] = 0\n",
    "plt.stem(zmean10)\n",
    "wmean10[np.where(np.diag(DS['wCOV'])>5e-4)] = 0\n",
    "print()\n",
    "print(np.sqrt(wmean10[0]))"
   ]
  },
  {
   "cell_type": "code",
   "execution_count": null,
   "metadata": {},
   "outputs": [],
   "source": []
  }
 ],
 "metadata": {
  "interpreter": {
   "hash": "3f37e94951d1aba8aea1180f8978b4824e076f548924d8dec1753cbbb0da26fd"
  },
  "kernelspec": {
   "display_name": "Python 3 (ipykernel)",
   "language": "python",
   "name": "python3"
  },
  "language_info": {
   "codemirror_mode": {
    "name": "ipython",
    "version": 3
   },
   "file_extension": ".py",
   "mimetype": "text/x-python",
   "name": "python",
   "nbconvert_exporter": "python",
   "pygments_lexer": "ipython3",
   "version": "3.9.7"
  },
  "toc": {
   "base_numbering": 1,
   "nav_menu": {},
   "number_sections": true,
   "sideBar": true,
   "skip_h1_title": false,
   "title_cell": "Table of Contents",
   "title_sidebar": "Contents",
   "toc_cell": false,
   "toc_position": {},
   "toc_section_display": true,
   "toc_window_display": false
  },
  "varInspector": {
   "cols": {
    "lenName": 16,
    "lenType": 16,
    "lenVar": 40
   },
   "kernels_config": {
    "python": {
     "delete_cmd_postfix": "",
     "delete_cmd_prefix": "del ",
     "library": "var_list.py",
     "varRefreshCmd": "print(var_dic_list())"
    },
    "r": {
     "delete_cmd_postfix": ") ",
     "delete_cmd_prefix": "rm(",
     "library": "var_list.r",
     "varRefreshCmd": "cat(var_dic_list()) "
    }
   },
   "types_to_exclude": [
    "module",
    "function",
    "builtin_function_or_method",
    "instance",
    "_Feature"
   ],
   "window_display": false
  }
 },
 "nbformat": 4,
 "nbformat_minor": 4
}
