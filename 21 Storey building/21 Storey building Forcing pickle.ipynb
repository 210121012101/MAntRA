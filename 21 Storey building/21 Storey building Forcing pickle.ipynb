{
 "cells": [
  {
   "cell_type": "code",
   "execution_count": 1,
   "id": "15cb62bd",
   "metadata": {},
   "outputs": [
    {
     "data": {
      "text/plain": [
       "'\\nThis code belongs to the paper:\\n-- YC Mathpati, KS More, T Tripura, R Nayek, S Chakraborty (2023)\\n   MAntRA: A framework for model agnostic reliability analysis\\n   \\n-- This code is for 21 Storey building.\\n'"
      ]
     },
     "execution_count": 1,
     "metadata": {},
     "output_type": "execute_result"
    }
   ],
   "source": [
    "\"\"\"\n",
    "This code belongs to the paper:\n",
    "-- YC Mathpati, KS More, T Tripura, R Nayek, S Chakraborty (2023)\n",
    "   MAntRA: A framework for model agnostic reliability analysis\n",
    "   \n",
    "-- This code is for 21 Storey building.\n",
    "\"\"\""
   ]
  },
  {
   "cell_type": "code",
   "execution_count": 1,
   "id": "03d367fe",
   "metadata": {},
   "outputs": [],
   "source": [
    "import numpy as np\n",
    "import pickle \n",
    "\n",
    "Nsamp = 10000\n",
    "dt = 0.001\n",
    "T = 3\n",
    "dof = 21\n",
    "t = np.arange(0, T+dt, dt)\n",
    "dW = np.sqrt(dt)*np.random.randn(Nsamp, t.shape[0], 2*dof)\n",
    "\n",
    "pickle.dump(dW, open('Forcing_Term_MDOF.p', 'wb'))"
   ]
  },
  {
   "cell_type": "code",
   "execution_count": 2,
   "id": "cd064261",
   "metadata": {},
   "outputs": [
    {
     "data": {
      "text/plain": [
       "(10000, 3001, 42)"
      ]
     },
     "execution_count": 2,
     "metadata": {},
     "output_type": "execute_result"
    }
   ],
   "source": [
    "dW.shape"
   ]
  },
  {
   "cell_type": "code",
   "execution_count": 3,
   "id": "a1cd73b5",
   "metadata": {},
   "outputs": [
    {
     "data": {
      "text/plain": [
       "(42,)"
      ]
     },
     "execution_count": 3,
     "metadata": {},
     "output_type": "execute_result"
    }
   ],
   "source": [
    "dW[9999][1].shape"
   ]
  },
  {
   "cell_type": "code",
   "execution_count": null,
   "id": "de34e177",
   "metadata": {},
   "outputs": [],
   "source": []
  }
 ],
 "metadata": {
  "kernelspec": {
   "display_name": "Python 3 (ipykernel)",
   "language": "python",
   "name": "python3"
  },
  "language_info": {
   "codemirror_mode": {
    "name": "ipython",
    "version": 3
   },
   "file_extension": ".py",
   "mimetype": "text/x-python",
   "name": "python",
   "nbconvert_exporter": "python",
   "pygments_lexer": "ipython3",
   "version": "3.9.7"
  }
 },
 "nbformat": 4,
 "nbformat_minor": 5
}
