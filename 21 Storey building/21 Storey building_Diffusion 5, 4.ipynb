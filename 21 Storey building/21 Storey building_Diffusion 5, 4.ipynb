{
 "cells": [
  {
   "cell_type": "code",
   "execution_count": 1,
   "metadata": {},
   "outputs": [
    {
     "data": {
      "text/plain": [
       "'\\nThis code belongs to the paper:\\n-- YC Mathpati, KS More, T Tripura, R Nayek, S Chakraborty (2023)\\n   MAntRA: A framework for model agnostic reliability analysis\\n   \\n-- This code is for 21 Storey building.\\n'"
      ]
     },
     "execution_count": 1,
     "metadata": {},
     "output_type": "execute_result"
    }
   ],
   "source": [
    "\"\"\"\n",
    "This code belongs to the paper:\n",
    "-- YC Mathpati, KS More, T Tripura, R Nayek, S Chakraborty (2023)\n",
    "   MAntRA: A framework for model agnostic reliability analysis\n",
    "   \n",
    "-- This code is for 21 Storey building.\n",
    "\"\"\""
   ]
  },
  {
   "cell_type": "code",
   "execution_count": 1,
   "metadata": {},
   "outputs": [],
   "source": [
    "import numpy as np\n",
    "import matplotlib.pyplot as plt\n",
    "from scipy import linalg as LA\n",
    "from sklearn.metrics import mean_squared_error as MSE\n",
    "\n",
    "\"\"\"\n",
    "The Dictionary creation part:\n",
    "~~~~~~~~~~~~~~~~~~~~~~~~~~~~~~~~~~~~~~~~~~~~~~~~~~~~~~~~~~~~\n",
    "\"\"\"\n",
    "def library(xt, polyn, harmonic):\n",
    "    if polyn == 0:\n",
    "        polyn = 1\n",
    "    \n",
    "    # The polynomial is (x1 + x2)^p, with p is the order\n",
    "    # poly order 0\n",
    "    ind = 0\n",
    "    n = len(xt[0])\n",
    "    D = np.ones([n,1])\n",
    "    \n",
    "    if polyn >= 1:\n",
    "        # poly order 1\n",
    "        for i in range(len(xt)):\n",
    "            ind = ind+1\n",
    "            new = np.vstack(xt[i,:])\n",
    "            D = np.append(D, new, axis=1)\n",
    "     \n",
    "    if polyn >= 2: \n",
    "        # ploy order 2\n",
    "        for i in range(len(xt)):\n",
    "            for j in  range(i,len(xt)):\n",
    "                ind = ind+1\n",
    "                new = np.multiply(xt[i,:], xt[j,:])\n",
    "                new = np.vstack(new)\n",
    "                D = np.append(D, new, axis=1) \n",
    "    \n",
    "    if polyn >= 3:    \n",
    "        # ploy order 3\n",
    "        for i in range(len(xt)):\n",
    "            for j in  range(i,len(xt)):\n",
    "                for k in  range(j,len(xt)):\n",
    "                    ind = ind+1\n",
    "                    new = np.multiply(np.multiply(xt[i,:], xt[j,:]), xt[k,:])\n",
    "                    new = np.vstack(new)\n",
    "                    D = np.append(D, new, axis=1) \n",
    "    \n",
    "    if polyn >= 4:\n",
    "        # ploy order 4\n",
    "        for i in range(len(xt)):\n",
    "            for j in  range(i,len(xt)):\n",
    "                for k in  range(j,len(xt)):\n",
    "                    for l in range(k,len(xt)):\n",
    "                        ind = ind+1\n",
    "                        new = np.multiply(np.multiply(xt[i,:], xt[j,:]), xt[k,:])\n",
    "                        new = np.multiply(new, xt[l,:])\n",
    "                        new = np.vstack(new)\n",
    "                        D = np.append(D, new, axis=1) \n",
    "    \n",
    "    if polyn >= 5:\n",
    "        # ploy order 5\n",
    "        for i in range(len(xt)):\n",
    "            for j in  range(i,len(xt)):\n",
    "                for k in  range(j,len(xt)):\n",
    "                    for l in  range(k,len(xt)):\n",
    "                        for m in  range(l,len(xt)):\n",
    "                            ind = ind+1\n",
    "                            new = np.multiply(xt[i,:], xt[j,:])\n",
    "                            new = np.multiply(new, xt[k,:])\n",
    "                            new = np.multiply(new, xt[l,:])\n",
    "                            new = np.multiply(new, xt[m,:])\n",
    "                            new = np.vstack(new)\n",
    "                            D = np.append(D, new, axis=1) \n",
    "    \n",
    "    if polyn >= 6:\n",
    "        # ploy order 6\n",
    "        for i in range(len(xt)):\n",
    "            for j in  range(i,len(xt)):\n",
    "                for k in  range(j,len(xt)):\n",
    "                    for l in  range(k,len(xt)):\n",
    "                        for m in  range(l,len(xt)):\n",
    "                            for n in  range(m,len(xt)):\n",
    "                                ind = ind+1\n",
    "                                new = np.multiply(xt[i,:], xt[j,:])\n",
    "                                new = np.multiply(new, xt[k,:])\n",
    "                                new = np.multiply(new, xt[l,:])\n",
    "                                new = np.multiply(new, xt[m,:])\n",
    "                                new = np.multiply(new, xt[n,:])\n",
    "                                new = np.vstack(new)\n",
    "                                D = np.append(D, new, axis=1) \n",
    "    \n",
    "#     # for the signum or sign operator\n",
    "#     for i in range(len(xt)):\n",
    "#         ind = ind+1\n",
    "#         new = np.vstack(np.sign(xt[i,:]))+0.0001\n",
    "#         D = np.append(D, new, axis=1)\n",
    "    \n",
    "    # for the modulus operator\n",
    "    for i in range(len(xt)):\n",
    "        ind = ind+1\n",
    "        new = np.vstack(abs(xt[i,:]))\n",
    "        D = np.append(D, new, axis=1)\n",
    "      \n",
    "    # for the tensor operator\n",
    "    for i in range(len(xt)):\n",
    "        for j in  range(len(xt)):\n",
    "            ind = ind+1\n",
    "            new = np.multiply(xt[i,:],abs(xt[j,:]))\n",
    "            new = np.vstack(new)\n",
    "            D = np.append(D, new, axis=1)\n",
    "            \n",
    "    if harmonic == 1:\n",
    "        for i in range(len(xt)):\n",
    "            ind = ind+1\n",
    "            new = np.vstack(np.sin(xt[i,:]))\n",
    "            D = np.append(D, new, axis=1)\n",
    "\n",
    "        for i in range(len(xt)):\n",
    "            ind = ind+1\n",
    "            new = np.vstack(np.cos(xt[i,:]))\n",
    "            D = np.append(D, new, axis=1)\n",
    "            \n",
    "    ind = len(D[0])\n",
    "    \n",
    "    return D, ind"
   ]
  },
  {
   "cell_type": "code",
   "execution_count": 2,
   "metadata": {},
   "outputs": [],
   "source": [
    "import numpy as np\n",
    "import matplotlib.pyplot as plt\n",
    "\"\"\"\n",
    "A MDOF system excited by random noise\n",
    "----------------------------------------------------------------------\n",
    "\"\"\"\n",
    "\n",
    "def drift_mat(dof,k,c,m):\n",
    "    dim = 2 * dof\n",
    "    A = np.zeros((dim,dim))\n",
    "    \n",
    "    for i in range(dim):\n",
    "        if (i%2 == 0):\n",
    "            A[i][i+1] = 1\n",
    "    \n",
    "        elif(i==1):\n",
    "            A[i][i-1] = -(k+k)/m\n",
    "            A[i][i] = -(c+c)/m\n",
    "            A[i][i+1] = k/m\n",
    "            A[i][i+2] = c/m\n",
    "    \n",
    "        elif(i==dim-1):\n",
    "            A[i][i] = -c/m\n",
    "            A[i][i-1] = -k/m\n",
    "            A[i][i-2] = c/m\n",
    "            A[i][i-3] = k/m\n",
    "            \n",
    "        else:\n",
    "            A[i][i-3] = k/m \n",
    "            A[i][i-2] = c/m\n",
    "            A[i][i-1] = -(k+k)/m\n",
    "            A[i][i] = -(c+c)/m\n",
    "            A[i][i+1] = k/m\n",
    "            A[i][i+2] = c/m\n",
    "    return A\n",
    "\n",
    "def M_DOF_sys(x_initial, dof, T):\n",
    "    # parameters of M_DOF_sys in Equation\n",
    "    m = 1\n",
    "    c = 2\n",
    "    k = 3000\n",
    "    sigma = 1\n",
    "    \n",
    "    # solution by euler maruyama\n",
    "    # -------------------------------------------------------\n",
    "    dt = 0.0001\n",
    "    t = np.arange(0, T+dt, dt)\n",
    "    Nsamp = 200 # no. of samples in the run\n",
    "\n",
    "    y31 = []\n",
    "    y32 = []\n",
    "    y33 = []\n",
    "    y34 = []\n",
    "    y35 = []\n",
    "    y36 = []\n",
    "    y37 = []\n",
    "    y38 = []\n",
    "    \n",
    "    xz17 = []\n",
    "    xz18 = []\n",
    "    \n",
    "    xzs17 = []\n",
    "    xzs18 = []\n",
    "    \n",
    "    # Simulation Starts Here :\n",
    "    # -------------------------------------------------------\n",
    "    for ensemble in range(Nsamp):\n",
    "        x0 = x_initial\n",
    "        x = x0                              # initial condition.\n",
    "        for n in range(len(t)-1):\n",
    "            dW = np.sqrt(dt)*np.random.randn(2*dof)\n",
    "            \n",
    "            '''LINEAR PART DRIFT'''\n",
    "        \n",
    "            A = drift_mat(dof,k,c,m)\n",
    "            \n",
    "            '''DIFFUSION TERM  = b'''\n",
    "            diffu_arr = np.zeros(2*dof)\n",
    "            for i in range(2*dof):\n",
    "                if (i%2 != 0):\n",
    "                    diffu_arr[i] = sigma/m\n",
    "            \n",
    "            soln_arr = x0 + np.matmul(A,x0)*dt + diffu_arr*dW        \n",
    "            x0 = soln_arr\n",
    "            x = np.column_stack((x, x0))\n",
    "            \n",
    "        y31.append(x[-31,:])            \n",
    "        y32.append(x[-32,:])\n",
    "        y33.append(x[-33,:])         # Displacement     \n",
    "        y34.append(x[-34,:])\n",
    "        y35.append(x[-35,:])         # \n",
    "        y36.append(x[-36,:])              \n",
    "        y37.append(x[-37,:])\n",
    "        y38.append(x[-38,:])\n",
    "        \n",
    "        zint17 = x[-33, 0:-1]        # Velocity\n",
    "        xfinal17 = x[-33, 1:] \n",
    "        xmz17 = (xfinal17 - zint17)\n",
    "        \n",
    "        zint18 = x[-35, 0:-1]        # Velocity\n",
    "        xfinal18 = x[-35, 1:] \n",
    "        xmz18 = (xfinal18 - zint18) \n",
    "\n",
    "        xz17.append(xmz17)\n",
    "        xz18.append(xmz18)\n",
    "        \n",
    "        xmzsq17 = np.multiply(xmz17, xmz17)\n",
    "        xzs17.append(xmzsq17)\n",
    "        \n",
    "        xmzsq18 = np.multiply(xmz18, xmz18)\n",
    "        xzs18.append(xmzsq18)\n",
    "        \n",
    "    xz17 = pow(dt,-1)*np.mean(np.array(xz17), axis = 0)\n",
    "    xz18 = pow(dt,-1)*np.mean(np.array(xz18), axis = 0)\n",
    "\n",
    "    xzs17 = pow(dt,-1)*np.mean(np.array(xzs17), axis = 0)\n",
    "    xzs18 = pow(dt,-1)*np.mean(np.array(xzs18), axis = 0)\n",
    "\n",
    "    y31 = np.array(y31)\n",
    "    y32 = np.array(y32)\n",
    "    y33 = np.array(y33)\n",
    "    y34 = np.array(y34)\n",
    "    y35 = np.array(y35)\n",
    "    y36 = np.array(y36)\n",
    "    y37 = np.array(y37)\n",
    "    y38 = np.array(y38)\n",
    "\n",
    "    time = t[0:-1]\n",
    "    return xz17, xz18, xzs17, xzs18, y31, y32, y33, y34, y35, y36, y37, y38, time"
   ]
  },
  {
   "cell_type": "code",
   "execution_count": 3,
   "metadata": {},
   "outputs": [],
   "source": [
    "np.random.seed(9)\n",
    "T = 1\n",
    "dof = 21\n",
    "x_initial = np.zeros(2*dof)"
   ]
  },
  {
   "cell_type": "code",
   "execution_count": 6,
   "metadata": {},
   "outputs": [
    {
     "name": "stdout",
     "output_type": "stream",
     "text": [
      "\n"
     ]
    },
    {
     "data": {
      "text/plain": [
       "19.931245609124502"
      ]
     },
     "execution_count": 6,
     "metadata": {},
     "output_type": "execute_result"
    }
   ],
   "source": [
    "import time\n",
    "start = time.time()\n",
    "xz17, xz18, xzs17, xzs18, y31, y32, y33, y34, y35, y36, y37, y38, time_ = M_DOF_sys(x_initial, dof, T)\n",
    "end = time.time()\n",
    "print()\n",
    "TIMES = (end - start)/60\n",
    "TIMES"
   ]
  },
  {
   "cell_type": "code",
   "execution_count": 7,
   "metadata": {},
   "outputs": [
    {
     "name": "stdout",
     "output_type": "stream",
     "text": [
      "\n"
     ]
    },
    {
     "data": {
      "text/plain": [
       "5.3630574186642965"
      ]
     },
     "execution_count": 7,
     "metadata": {},
     "output_type": "execute_result"
    }
   ],
   "source": [
    "startD = time.time()\n",
    "# Expected Dictionary Creation:\n",
    "libr = []\n",
    "for j in range(len(y31)):\n",
    "    data = np.row_stack((y31[j,0:-1], y32[j,0:-1], y33[j,0:-1], y34[j,0:-1], y35[j,0:-1], y36[j,0:-1], y37[j,0:-1], y38[j,0:-1]))\n",
    "    Dtemp, nl = library(data, 1, 0)\n",
    "    libr.append(Dtemp)\n",
    "libr = np.array(libr)\n",
    "Dictionary= np.mean(libr, axis = 0)\n",
    "print()\n",
    "endD = time.time()\n",
    "TIMED = (endD - startD)/60\n",
    "TIMED"
   ]
  },
  {
   "cell_type": "code",
   "execution_count": 8,
   "metadata": {},
   "outputs": [
    {
     "name": "stdout",
     "output_type": "stream",
     "text": [
      "Total Time :  25.2943030277888\n"
     ]
    }
   ],
   "source": [
    "print(\"Total Time : \", TIMES+TIMED)"
   ]
  },
  {
   "cell_type": "code",
   "execution_count": 10,
   "metadata": {},
   "outputs": [],
   "source": [
    "xdts = xzs17\n",
    "D = Dictionary"
   ]
  },
  {
   "cell_type": "code",
   "execution_count": 11,
   "metadata": {},
   "outputs": [
    {
     "data": {
      "text/plain": [
       "(10000, 81)"
      ]
     },
     "execution_count": 11,
     "metadata": {},
     "output_type": "execute_result"
    }
   ],
   "source": [
    "D.shape"
   ]
  },
  {
   "cell_type": "code",
   "execution_count": 12,
   "metadata": {},
   "outputs": [
    {
     "data": {
      "text/plain": [
       "(810000,)"
      ]
     },
     "execution_count": 12,
     "metadata": {},
     "output_type": "execute_result"
    }
   ],
   "source": [
    "Dict = D.reshape(-1,order='F')\n",
    "Dict.shape"
   ]
  },
  {
   "cell_type": "code",
   "execution_count": 13,
   "metadata": {
    "scrolled": true
   },
   "outputs": [
    {
     "name": "stdout",
     "output_type": "stream",
     "text": [
      "{'Relevant': matlab.double([[1.0],[6.0],[9.0],[10.0],[13.0],[23.0],[24.0],[40.0],[60.0],[66.0],[68.0]]), 'Value': matlab.double([[1.0016807730353334],[0.013072647804788002],[-0.6057617180505847],[0.06970042916874226],[2.098301547018932],[-3.6468439048969015],[0.5003017632994207],[-0.33739058061783406],[-1.578768031065037],[-0.2958160341481349],[0.38074201478010244]])}\n"
     ]
    }
   ],
   "source": [
    "#!/usr/bin/env python\n",
    "\"\"\"\n",
    "Sample script that uses the SparseBayes module created using\n",
    "MATLAB Compiler SDK.\n",
    "\n",
    "Refer to the MATLAB Compiler SDK documentation for more information.\n",
    "\"\"\"\n",
    "\n",
    "from __future__ import print_function\n",
    "import SparseBayes\n",
    "import matlab\n",
    "\n",
    "my_SparseBayes = SparseBayes.initialize()\n",
    "\n",
    "DictIn = matlab.double(Dict, size=(D.shape[0], D.shape[1]))\n",
    "targetIn = matlab.double(xdts, size=(D.shape[0], 1))\n",
    "DMOut = my_SparseBayes.SparseBayes(DictIn, targetIn)\n",
    "print(DMOut, sep='\\n')\n",
    "\n",
    "my_SparseBayes.terminate()"
   ]
  },
  {
   "cell_type": "code",
   "execution_count": 14,
   "metadata": {},
   "outputs": [
    {
     "name": "stdout",
     "output_type": "stream",
     "text": [
      "[1. 0. 0. 0. 0. 1. 0. 0. 1. 1. 0. 0. 1. 0. 0. 0. 0. 0. 0. 0. 0. 0. 1. 1.\n",
      " 0. 0. 0. 0. 0. 0. 0. 0. 0. 0. 0. 0. 0. 0. 0. 1. 0. 0. 0. 0. 0. 0. 0. 0.\n",
      " 0. 0. 0. 0. 0. 0. 0. 0. 0. 0. 0. 1. 0. 0. 0. 0. 0. 1. 0. 1. 0. 0. 0. 0.\n",
      " 0. 0. 0. 0. 0. 0. 0. 0. 0.]\n"
     ]
    }
   ],
   "source": [
    "c = np.array(DMOut['Value'])\n",
    "d = []\n",
    "for j in c:\n",
    "    d.append(j[0])\n",
    "    \n",
    "a = np.array(DMOut['Relevant'])\n",
    "b = []\n",
    "for i in a:\n",
    "    b.append(int((i[0])-1))\n",
    "    \n",
    "initz0 = np.zeros(D.shape[1])\n",
    "for i in b:\n",
    "    initz0[i] = 1\n",
    "    \n",
    "print(initz0)"
   ]
  },
  {
   "cell_type": "code",
   "execution_count": 22,
   "metadata": {},
   "outputs": [],
   "source": [
    "import warnings\n",
    "import math\n",
    "import numpy as np\n",
    "import scipy as sp\n",
    "import sympy as smp\n",
    "from scipy import stats\n",
    "from numpy import linalg as la\n",
    "import matplotlib.pyplot as plt\n",
    "from numpy.random import gamma\n",
    "from scipy.special import loggamma\n",
    "\n",
    "def Variational_Bayes_Code(X, y, initz0, tol, verbosity):\n",
    "\n",
    "    if (len(X) == 0 or len(y) == 0):\n",
    "        raise Exception('X and or y is missing')\n",
    "        \n",
    "    if (len(X) != len(y)):\n",
    "        raise Exception('Number of observations do not match')\n",
    "        \n",
    "    # X = stats.zscore(X, ddof = 1)         \n",
    "    # X = np.c_[np.ones(len(X)),X]\n",
    "    # X = np.c_[np.ones(len(X)),X]          \n",
    "    # y = y - np.mean(y)\n",
    "    N = len(X)\n",
    "    # Prior parameters of noise variance (Inverse Gamma dist)\n",
    "    A = 1e-4\n",
    "    B = 1e-4\n",
    "    vs = 10\n",
    "    tau0 = 1000\n",
    "    \n",
    "    if (len(initz0) == 0):\n",
    "        raise Exception('No initial value of z found')\n",
    "    else:\n",
    "        p0 = expit(-0.5*(np.sqrt(N)))       \n",
    "        \n",
    "        # Adding the intercept indicator variable (slightly less than 1 to prevent log(0) values) \n",
    "        # initz = np.hstack((1,initz0))  \n",
    "        initz = initz0\n",
    "\n",
    "        DS,LLcvg  = run_VB2(X, y, vs, A, B, tau0, p0, initz, tol, verbosity)    \n",
    "        # This is function which will come first\n",
    "        \n",
    "    out_vb   = DS\n",
    "    a = DS['zmean'] > 0.5\n",
    "    count = 0\n",
    "    modelIdx = []\n",
    "    for i in a:\n",
    "        if i == True:\n",
    "            modelIdx.append(count)\n",
    "        count += 1\n",
    "            \n",
    "    modelIdx = np.setdiff1d(modelIdx,0)\n",
    "    out_vb['modelIdx'] = modelIdx-1\n",
    "    out_vb['Zmed'] = DS['zmean'][modelIdx]\n",
    "    out_vb['Wsel'] = DS['wmean'][modelIdx]\n",
    "    out_vb['Wcov'] = DS['wCOV'][modelIdx, modelIdx]\n",
    "    out_vb['sig2'] = DS['sig2']\n",
    "    \n",
    "    return out_vb\n",
    "\n",
    "DS = {}\n",
    "def run_VB2(Xc, yc, vs, A, B, tau0, p0, initz, tol, verbosity):\n",
    "    \"\"\"This function is the implementation of VB from John T. Ormerod paper (2014)\n",
    "       This implementation uses slab scaling by noise variance\n",
    "       vs    : treated as a constant\n",
    "       A,B   : constants of the IG prior over noise variance\n",
    "       tau0  : Expected value of (sigma^{-2})\n",
    "       p0    : inclusion probablility\n",
    "       initz : Initial value of z\n",
    "       Xc    : Centered and standardized dictionary except the first column\n",
    "       yc    : Centered observations \"\"\"\n",
    "    \n",
    "    Lambda    = logit(p0)\n",
    "    iter_     = 0\n",
    "    max_iter  = 100\n",
    "    LL        = np.zeros(max_iter)        \n",
    "    zm        = np.reshape(initz,(-1))            \n",
    "    taum      = tau0                      \n",
    "    invVs     = 1/vs\n",
    "    \n",
    "    X = Xc\n",
    "    y = yc\n",
    "    XtX = (X.T) @ X\n",
    "    XtX = 0.5*(XtX + (XtX).T)\n",
    "    Xty = (X.T) @ y                 \n",
    "    yty = (y.T) @ y\n",
    "\n",
    "    eyep = np.eye(len(XtX))\n",
    "    [N,p] = X.shape\n",
    "    allidx = np.arange(p)\n",
    "    zm[0] = 1                                                                   # Always include the intercept \n",
    "    Abar    = (A + 0.5*N + 0.5*p)\n",
    "    converged = 0\n",
    "    \n",
    "    while (converged==0):\n",
    "        if (iter_==100):\n",
    "            break\n",
    "        \n",
    "        Zm       = np.diag(zm)\n",
    "        Omg      = (np.reshape(zm,(-1,1)) @ np.reshape(zm,(1,-1))) + (Zm @ (eyep-Zm))\n",
    "        # Update the mean and covariance of the coefficients given mean of z\n",
    "        term1    = XtX * Omg                                                       # elementwisw multiplication\n",
    "        invSigma = taum * (term1 + invVs * eyep)\n",
    "        invSigma = 0.5*(invSigma + invSigma.T)                                     # symmetric\n",
    "        Sigma    = la.inv(invSigma) @ eyep\n",
    "        mu       = taum * (Sigma @ Zm @ Xty)                                       # @ ---> matrix multiplication\n",
    "        \n",
    "        # Update tau related to sigma\n",
    "        term2    = 2 * Xty @ Zm @ mu\n",
    "        term3    =  np.reshape(mu,(len(initz0),1)) @ np.reshape(mu,(1,len(initz0)))+ Sigma\n",
    "        term4    = yty - term2 + np.trace((term1 + invVs * eyep) @ term3)    \n",
    "        s        = B + 0.5*term4\n",
    "        \n",
    "        if s<0:\n",
    "            warnings.warn('s turned out be less than 0. Taking absolute value')\n",
    "            s = B + 0.5*abs(term4)\n",
    "        \n",
    "        taum     = Abar / s\n",
    "        zstr   = zm\n",
    "\n",
    "        order   = np.setdiff1d(np.random.permutation(p), 0, assume_unique=True)\n",
    "        for j in order: \n",
    "            muj     = mu[j]                            \n",
    "            sigmaj  = Sigma[j,j]\n",
    "            \n",
    "            remidx  = np.setdiff1d(allidx,j)\n",
    "            mu_j    = mu[remidx]\n",
    "            Sigma_jj= Sigma[remidx,j]\n",
    "            etaj    = (Lambda - 0.5 * taum * ((muj**2 + sigmaj) * XtX[j,j]) \n",
    "                       + taum * np.reshape(X[:,j],(1,-1)) @ (np.reshape(y,(-1,1))*muj \n",
    "                        -X[:,remidx] @ np.diag(zstr[remidx]) @ ((mu_j * muj + Sigma_jj).reshape(-1,1))))\n",
    "            zstr[j] = expit(etaj)\n",
    "            \n",
    "        zm = zstr\n",
    "        \n",
    "        # Calculate marginal log-likelihood\n",
    "        \n",
    "        LL[iter_] = ( 0.5*p \n",
    "                    - 0.5*N*np.log(2*np.pi) \n",
    "                    + 0.5*p*np.log(invVs) \n",
    "                    + A*np.log(B)\n",
    "                    - loggamma(A)\n",
    "                    + loggamma(Abar) \n",
    "                    - Abar*np.log(s)\n",
    "                    + 0.5*np.log(la.det(Sigma))\n",
    "                    + np.nansum(zm*(np.log(p0) - np.log(zm))) \n",
    "                    + np.nansum((1-zm)*(np.log(1-p0) - np.log(1-zm))))\n",
    "        \n",
    "        if(verbosity):\n",
    "            print(f'Iteration = {iter_}  log(Likelihood) = {LL[iter_]}')\n",
    "        \n",
    "        if(iter_>1):\n",
    "            cvg = LL[iter_] - LL[iter_-1]\n",
    "            \n",
    "            if (cvg < 0 and verbosity):\n",
    "                print('OOPS!  log(like) decreasing!!')\n",
    "            elif (cvg<tol or iter_> max_iter):\n",
    "                converged = 1\n",
    "                LL = LL[0:iter_]\n",
    "                \n",
    "        iter_    = iter_ + 1\n",
    "    DS['zmean'] = zm\n",
    "    DS['wmean'] = mu\n",
    "    DS['wCOV'] = Sigma\n",
    "    DS['sig2'] = 1/taum\n",
    "    LLcvg    = LL[-1]\n",
    "    return DS, LLcvg\n",
    "    \n",
    "def logit(C):\n",
    "    logitC = np.log(C) - np.log(1-C)\n",
    "    return logitC\n",
    "\n",
    "def expit(C):\n",
    "    expitC = 1./(1 + np.exp(-C))\n",
    "    return expitC"
   ]
  },
  {
   "cell_type": "code",
   "execution_count": 23,
   "metadata": {},
   "outputs": [
    {
     "data": {
      "text/plain": [
       "((10000, 81), (81,))"
      ]
     },
     "execution_count": 23,
     "metadata": {},
     "output_type": "execute_result"
    }
   ],
   "source": [
    "D.shape, initz0.shape"
   ]
  },
  {
   "cell_type": "code",
   "execution_count": 24,
   "metadata": {},
   "outputs": [
    {
     "name": "stderr",
     "output_type": "stream",
     "text": [
      "C:\\Users\\USER\\AppData\\Local\\Temp/ipykernel_14004/3512855728.py:147: RuntimeWarning: divide by zero encountered in log\n",
      "  + np.nansum((1-zm)*(np.log(1-p0) - np.log(1-zm))))\n",
      "C:\\Users\\USER\\AppData\\Local\\Temp/ipykernel_14004/3512855728.py:147: RuntimeWarning: invalid value encountered in multiply\n",
      "  + np.nansum((1-zm)*(np.log(1-p0) - np.log(1-zm))))\n",
      "C:\\Users\\USER\\AppData\\Local\\Temp/ipykernel_14004/3512855728.py:174: RuntimeWarning: overflow encountered in exp\n",
      "  expitC = 1./(1 + np.exp(-C))\n"
     ]
    },
    {
     "name": "stdout",
     "output_type": "stream",
     "text": [
      "Iteration = 0  log(Likelihood) = 7960.982574775339\n"
     ]
    },
    {
     "name": "stderr",
     "output_type": "stream",
     "text": [
      "C:\\Users\\USER\\AppData\\Local\\Temp/ipykernel_14004/3512855728.py:146: RuntimeWarning: divide by zero encountered in log\n",
      "  + np.nansum(zm*(np.log(p0) - np.log(zm)))\n",
      "C:\\Users\\USER\\AppData\\Local\\Temp/ipykernel_14004/3512855728.py:146: RuntimeWarning: invalid value encountered in multiply\n",
      "  + np.nansum(zm*(np.log(p0) - np.log(zm)))\n"
     ]
    },
    {
     "name": "stdout",
     "output_type": "stream",
     "text": [
      "Iteration = 1  log(Likelihood) = 8023.123711004848\n",
      "Iteration = 2  log(Likelihood) = 8023.1247993069865\n",
      "Iteration = 3  log(Likelihood) = 8023.124799377193\n",
      "{'zmean': array([1.00000000e+00, 7.35667155e-38, 1.81228466e-22, 2.87396066e-35,\n",
      "       1.81812949e-22, 1.43484038e-38, 1.82338938e-22, 4.04435653e-37,\n",
      "       1.83870819e-22, 0.00000000e+00, 6.28325592e-29, 0.00000000e+00,\n",
      "       8.85443598e-28, 0.00000000e+00, 1.22997406e-26, 0.00000000e+00,\n",
      "       1.80050924e-25, 4.95982463e-31, 1.89214404e-22, 1.69017871e-26,\n",
      "       1.89585909e-22, 3.70131384e-25, 1.90389877e-22, 3.02874425e-24,\n",
      "       1.91325479e-22, 1.90167807e-22, 1.92842930e-22, 1.89629242e-22,\n",
      "       1.92847279e-22, 1.89365434e-22, 1.92853356e-22, 1.89888722e-22,\n",
      "       1.92860889e-22, 5.77979328e-27, 1.89304303e-22, 4.04223850e-29,\n",
      "       1.89757181e-22, 4.13137652e-25, 1.90398479e-22, 1.13664855e-24,\n",
      "       1.91065519e-22, 1.90441618e-22, 1.92847197e-22, 1.89714054e-22,\n",
      "       1.92847796e-22, 1.89634121e-22, 1.92852848e-22, 1.90320569e-22,\n",
      "       1.92860744e-22, 8.87402481e-25, 1.89240218e-22, 3.57172800e-25,\n",
      "       1.89906161e-22, 1.10704195e-28, 1.90423738e-22, 7.36853508e-26,\n",
      "       1.90930512e-22, 1.90454123e-22, 1.92853504e-22, 1.89952194e-22,\n",
      "       1.92852900e-22, 1.90283567e-22, 1.92855765e-22, 1.90468298e-22,\n",
      "       1.92862659e-22, 1.30112491e-25, 1.89639608e-22, 6.33860381e-25,\n",
      "       1.90536416e-22, 1.12975480e-25, 1.90812471e-22, 1.00999024e-30,\n",
      "       1.91105097e-22, 1.90738743e-22, 1.92860520e-22, 1.90308575e-22,\n",
      "       1.92860186e-22, 1.90844120e-22, 1.92862396e-22, 1.91042866e-22,\n",
      "       1.92865747e-22]), 'wmean': array([ 1.05157699e+00,  3.07999604e-37, -1.26644149e-22, -3.13722825e-35,\n",
      "       -1.22096505e-22,  8.09660121e-38, -1.00993077e-22,  1.57241253e-36,\n",
      "       -8.03970434e-23,  0.00000000e+00,  6.66543872e-28,  0.00000000e+00,\n",
      "        8.35166798e-27,  0.00000000e+00,  9.95766021e-26,  0.00000000e+00,\n",
      "        1.21876132e-24,  4.15725428e-31, -1.96387818e-23,  6.75721709e-26,\n",
      "       -2.27475807e-23,  7.24123430e-25, -2.10424720e-23,  3.00658222e-24,\n",
      "       -1.27545680e-23, -2.76492752e-23, -6.74429504e-24, -4.37187326e-23,\n",
      "       -6.10747497e-24, -5.13575917e-23, -5.29092733e-24, -3.27987902e-23,\n",
      "       -3.99045965e-24,  1.75482972e-26, -2.58273514e-23,  3.03678622e-29,\n",
      "       -2.32079369e-23,  5.89116979e-25, -2.51515707e-23, -1.55264851e-24,\n",
      "       -2.04461376e-23, -2.78149454e-23, -6.12796153e-24, -4.22581684e-23,\n",
      "       -5.95673354e-24, -4.98058659e-23, -5.00880999e-24, -2.90425161e-23,\n",
      "       -3.61193974e-24,  4.13612335e-24,  2.99553711e-24,  1.51970397e-24,\n",
      "        6.15358517e-24,  4.91056287e-28,  2.02370911e-24,  1.22690303e-25,\n",
      "       -3.99067125e-24, -1.90730739e-23, -5.18957013e-24, -3.58785780e-23,\n",
      "       -5.03814284e-24, -4.24406153e-23, -4.10957852e-24, -2.50607235e-23,\n",
      "       -2.69789568e-24,  5.22343492e-25,  5.78669245e-25,  2.47684200e-24,\n",
      "        6.12271399e-24,  3.53159265e-26,  5.03122399e-24,  1.72406145e-30,\n",
      "        1.97183451e-24, -1.88933765e-23, -3.89117609e-24, -3.45236186e-23,\n",
      "       -3.67148501e-24, -3.25587437e-23, -2.73224628e-24, -1.77963989e-23,\n",
      "       -1.79879435e-24]), 'wCOV': array([[ 1.16066775e-06,  1.70059234e-42,  3.97616335e-27, ...,\n",
      "         3.13422542e-29,  5.57601412e-28,  6.96843165e-30],\n",
      "       [ 1.70059234e-42,  1.16067936e-01,  8.26826894e-63, ...,\n",
      "         3.02857713e-62,  7.25339842e-62,  2.31658490e-62],\n",
      "       [ 3.97616335e-27,  8.26826894e-63,  1.16067936e-01, ...,\n",
      "        -1.05788108e-47, -1.14896740e-46, -8.66634586e-48],\n",
      "       ...,\n",
      "       [ 3.13422542e-29,  3.02857713e-62, -1.05788108e-47, ...,\n",
      "         1.16067936e-01, -5.15773909e-48, -4.71475881e-49],\n",
      "       [ 5.57601412e-28,  7.25339842e-62, -1.14896740e-46, ...,\n",
      "        -5.15773909e-48,  1.16067936e-01, -4.48531853e-48],\n",
      "       [ 6.96843165e-30,  2.31658490e-62, -8.66634586e-48, ...,\n",
      "        -4.71475881e-49, -4.48531853e-48,  1.16067936e-01]]), 'sig2': 0.0116067990183545, 'modelIdx': array([], dtype=int32), 'Zmed': array([], dtype=float64), 'Wsel': array([], dtype=float64), 'Wcov': array([], dtype=float64)}\n"
     ]
    }
   ],
   "source": [
    "tol = 0.0001\n",
    "verbosity = True\n",
    "initz0 = initz0\n",
    "DS = Variational_Bayes_Code(D, xdts, initz0, tol, verbosity)\n",
    "\n",
    "print(DS) "
   ]
  },
  {
   "cell_type": "code",
   "execution_count": 25,
   "metadata": {},
   "outputs": [
    {
     "name": "stdout",
     "output_type": "stream",
     "text": [
      "[1.16066775e-06 1.16067936e-01 1.16067936e-01 1.16067936e-01\n",
      " 1.16067936e-01 1.16067936e-01 1.16067936e-01 1.16067936e-01\n",
      " 1.16067936e-01 1.16067936e-01 1.16067936e-01 1.16067936e-01\n",
      " 1.16067936e-01 1.16067936e-01 1.16067936e-01 1.16067936e-01\n",
      " 1.16067936e-01 1.16067936e-01 1.16067936e-01 1.16067936e-01\n",
      " 1.16067936e-01 1.16067936e-01 1.16067936e-01 1.16067936e-01\n",
      " 1.16067936e-01 1.16067936e-01 1.16067936e-01 1.16067936e-01\n",
      " 1.16067936e-01 1.16067936e-01 1.16067936e-01 1.16067936e-01\n",
      " 1.16067936e-01 1.16067936e-01 1.16067936e-01 1.16067936e-01\n",
      " 1.16067936e-01 1.16067936e-01 1.16067936e-01 1.16067936e-01\n",
      " 1.16067936e-01 1.16067936e-01 1.16067936e-01 1.16067936e-01\n",
      " 1.16067936e-01 1.16067936e-01 1.16067936e-01 1.16067936e-01\n",
      " 1.16067936e-01 1.16067936e-01 1.16067936e-01 1.16067936e-01\n",
      " 1.16067936e-01 1.16067936e-01 1.16067936e-01 1.16067936e-01\n",
      " 1.16067936e-01 1.16067936e-01 1.16067936e-01 1.16067936e-01\n",
      " 1.16067936e-01 1.16067936e-01 1.16067936e-01 1.16067936e-01\n",
      " 1.16067936e-01 1.16067936e-01 1.16067936e-01 1.16067936e-01\n",
      " 1.16067936e-01 1.16067936e-01 1.16067936e-01 1.16067936e-01\n",
      " 1.16067936e-01 1.16067936e-01 1.16067936e-01 1.16067936e-01\n",
      " 1.16067936e-01 1.16067936e-01 1.16067936e-01 1.16067936e-01\n",
      " 1.16067936e-01]\n"
     ]
    }
   ],
   "source": [
    "print(np.diag(DS['wCOV']))"
   ]
  },
  {
   "cell_type": "code",
   "execution_count": 26,
   "metadata": {},
   "outputs": [
    {
     "name": "stdout",
     "output_type": "stream",
     "text": [
      "\n",
      "1.0254642808547945\n"
     ]
    },
    {
     "data": {
      "image/png": "[encoded data removed]",
      "text/plain": [
       "<Figure size 432x288 with 1 Axes>"
      ]
     },
     "metadata": {
      "needs_background": "light"
     },
     "output_type": "display_data"
    }
   ],
   "source": [
    "zmean5 = DS['zmean']\n",
    "wmean5 = DS['wmean']\n",
    "zmean5[np.where(np.diag(DS['wCOV'])>2e-5)] = 0\n",
    "plt.stem(zmean5)\n",
    "wmean5[np.where(np.diag(DS['wCOV'])>2e-5)] = 0\n",
    "print()\n",
    "print(np.sqrt(wmean5[0]))"
   ]
  },
  {
   "cell_type": "code",
   "execution_count": 33,
   "metadata": {},
   "outputs": [],
   "source": [
    "xdts = xzs18"
   ]
  },
  {
   "cell_type": "code",
   "execution_count": 34,
   "metadata": {},
   "outputs": [
    {
     "name": "stdout",
     "output_type": "stream",
     "text": [
      "{'Relevant': matlab.double([[1.0],[14.0],[15.0],[28.0],[32.0],[39.0],[51.0],[62.0],[66.0],[67.0],[68.0],[70.0],[73.0]]), 'Value': matlab.double([[1.0032862048098872],[0.016253418600523338],[3.526279990043914],[7.123822225893731],[-7.45176274109187],[3.3795995416030897],[3.563219347335504],[2.4216844147637526],[-0.4365576745901151],[1.9891473198417193],[0.16654464890226187],[-0.2788701688923499],[0.26423980768792615]])}\n"
     ]
    }
   ],
   "source": [
    "#!/usr/bin/env python\n",
    "\"\"\"\n",
    "Sample script that uses the SparseBayes module created using\n",
    "MATLAB Compiler SDK.\n",
    "\n",
    "Refer to the MATLAB Compiler SDK documentation for more information.\n",
    "\"\"\"\n",
    "\n",
    "from __future__ import print_function\n",
    "import SparseBayes\n",
    "import matlab\n",
    "\n",
    "my_SparseBayes = SparseBayes.initialize()\n",
    "\n",
    "DictIn = matlab.double(Dict, size=(D.shape[0], D.shape[1]))\n",
    "targetIn = matlab.double(xdts, size=(D.shape[0], 1))\n",
    "DMOut = my_SparseBayes.SparseBayes(DictIn, targetIn)\n",
    "print(DMOut, sep='\\n')\n",
    "\n",
    "my_SparseBayes.terminate()"
   ]
  },
  {
   "cell_type": "code",
   "execution_count": 35,
   "metadata": {},
   "outputs": [
    {
     "name": "stdout",
     "output_type": "stream",
     "text": [
      "[1. 0. 0. 0. 0. 0. 0. 0. 0. 0. 0. 0. 0. 1. 1. 0. 0. 0. 0. 0. 0. 0. 0. 0.\n",
      " 0. 0. 0. 1. 0. 0. 0. 1. 0. 0. 0. 0. 0. 0. 1. 0. 0. 0. 0. 0. 0. 0. 0. 0.\n",
      " 0. 0. 1. 0. 0. 0. 0. 0. 0. 0. 0. 0. 0. 1. 0. 0. 0. 1. 1. 1. 0. 1. 0. 0.\n",
      " 1. 0. 0. 0. 0. 0. 0. 0. 0.]\n"
     ]
    }
   ],
   "source": [
    "c = np.array(DMOut['Value'])\n",
    "d = []\n",
    "for j in c:\n",
    "    d.append(j[0])\n",
    "    \n",
    "a = np.array(DMOut['Relevant'])\n",
    "b = []\n",
    "for i in a:\n",
    "    b.append(int((i[0])-1))\n",
    "    \n",
    "initz0 = np.zeros(D.shape[1])\n",
    "for i in b:\n",
    "    initz0[i] = 1\n",
    "    \n",
    "print(initz0)"
   ]
  },
  {
   "cell_type": "code",
   "execution_count": 36,
   "metadata": {},
   "outputs": [
    {
     "name": "stderr",
     "output_type": "stream",
     "text": [
      "C:\\Users\\USER\\AppData\\Local\\Temp/ipykernel_14004/3512855728.py:147: RuntimeWarning: divide by zero encountered in log\n",
      "  + np.nansum((1-zm)*(np.log(1-p0) - np.log(1-zm))))\n",
      "C:\\Users\\USER\\AppData\\Local\\Temp/ipykernel_14004/3512855728.py:147: RuntimeWarning: invalid value encountered in multiply\n",
      "  + np.nansum((1-zm)*(np.log(1-p0) - np.log(1-zm))))\n",
      "C:\\Users\\USER\\AppData\\Local\\Temp/ipykernel_14004/3512855728.py:174: RuntimeWarning: overflow encountered in exp\n",
      "  expitC = 1./(1 + np.exp(-C))\n"
     ]
    },
    {
     "name": "stdout",
     "output_type": "stream",
     "text": [
      "Iteration = 0  log(Likelihood) = 8189.139514218443\n"
     ]
    },
    {
     "name": "stderr",
     "output_type": "stream",
     "text": [
      "C:\\Users\\USER\\AppData\\Local\\Temp/ipykernel_14004/3512855728.py:146: RuntimeWarning: divide by zero encountered in log\n",
      "  + np.nansum(zm*(np.log(p0) - np.log(zm)))\n",
      "C:\\Users\\USER\\AppData\\Local\\Temp/ipykernel_14004/3512855728.py:146: RuntimeWarning: invalid value encountered in multiply\n",
      "  + np.nansum(zm*(np.log(p0) - np.log(zm)))\n"
     ]
    },
    {
     "name": "stdout",
     "output_type": "stream",
     "text": [
      "Iteration = 1  log(Likelihood) = 8240.256414030031\n",
      "Iteration = 2  log(Likelihood) = 8240.258340970531\n",
      "Iteration = 3  log(Likelihood) = 8240.258341094088\n",
      "{'zmean': array([1.00000000e+00, 7.35671202e-38, 1.81228468e-22, 2.87397382e-35,\n",
      "       1.81812951e-22, 1.43484864e-38, 1.82338939e-22, 4.04437771e-37,\n",
      "       1.83870820e-22, 0.00000000e+00, 6.28327046e-29, 0.00000000e+00,\n",
      "       8.85445285e-28, 1.00000000e+00, 1.22997590e-26, 0.00000000e+00,\n",
      "       1.80051119e-25, 4.95983984e-31, 1.89214405e-22, 1.69018116e-26,\n",
      "       1.89585909e-22, 3.70131743e-25, 1.90389878e-22, 3.02874620e-24,\n",
      "       1.91325480e-22, 1.90167808e-22, 1.92842930e-22, 1.89629242e-22,\n",
      "       1.92847279e-22, 1.89365435e-22, 1.92853356e-22, 1.89888723e-22,\n",
      "       1.92860889e-22, 5.77980261e-27, 1.89304303e-22, 4.04224813e-29,\n",
      "       1.89757182e-22, 4.13138045e-25, 1.90398479e-22, 1.13664945e-24,\n",
      "       1.91065520e-22, 1.90441618e-22, 1.92847197e-22, 1.89714054e-22,\n",
      "       1.92847796e-22, 1.89634121e-22, 1.92852848e-22, 1.90320569e-22,\n",
      "       1.92860744e-22, 8.87403221e-25, 1.89240218e-22, 3.57173148e-25,\n",
      "       1.89906161e-22, 1.10704441e-28, 1.90423739e-22, 7.36854406e-26,\n",
      "       1.90930513e-22, 1.90454123e-22, 1.92853504e-22, 1.89952194e-22,\n",
      "       1.92852900e-22, 1.90283567e-22, 1.92855765e-22, 1.90468299e-22,\n",
      "       1.92862659e-22, 1.30112639e-25, 1.89639609e-22, 6.33860943e-25,\n",
      "       1.90536416e-22, 1.12975610e-25, 1.90812471e-22, 1.00999322e-30,\n",
      "       1.91105097e-22, 1.90738743e-22, 1.92860520e-22, 1.90308575e-22,\n",
      "       1.92860186e-22, 1.90844120e-22, 1.92862396e-22, 1.91042867e-22,\n",
      "       1.92865747e-22]), 'wmean': array([ 9.90457838e-01,  9.78172867e-38,  3.00105583e-23, -3.25851459e-35,\n",
      "        5.78902971e-23, -6.39346981e-39,  7.25943073e-23, -1.89754838e-36,\n",
      "        8.08297259e-23,  0.00000000e+00,  3.39495705e-29,  0.00000000e+00,\n",
      "        4.73722326e-28,  2.21544830e-01,  5.86684994e-27,  0.00000000e+00,\n",
      "        5.98733019e-26, -3.61432640e-31,  2.48355682e-23, -8.36304538e-27,\n",
      "        2.17212664e-23,  2.26086711e-25,  2.13293990e-23, -6.32578492e-25,\n",
      "        1.71615940e-23,  2.69435882e-23,  2.17887675e-24,  4.78860206e-23,\n",
      "        2.59011237e-24,  3.37121465e-23,  2.67614934e-24,  8.17748085e-24,\n",
      "        2.54005919e-24, -8.83984081e-27,  2.61604098e-23,  9.89226932e-30,\n",
      "        2.29475436e-23,  1.92948426e-25,  2.00542892e-23,  4.11406658e-26,\n",
      "        1.71535355e-23,  4.00154871e-23,  2.62370934e-24,  5.49610621e-23,\n",
      "        2.96727972e-24,  4.48859063e-23,  3.07945073e-24,  1.63535755e-23,\n",
      "        2.92273478e-24, -4.58331969e-25,  2.90729679e-23,  5.19818080e-25,\n",
      "        2.56567202e-23, -2.97597111e-29,  1.84639563e-23,  4.43474878e-26,\n",
      "        1.03943316e-23,  4.46918811e-23,  2.83333016e-24,  5.45809646e-23,\n",
      "        3.08075180e-24,  4.61943530e-23,  3.15426788e-24,  2.38530379e-23,\n",
      "        2.97180946e-24, -4.43368060e-25, -1.98226780e-24,  5.27723223e-25,\n",
      "       -3.67607250e-24, -3.59245255e-25, -1.17916506e-24, -2.45946927e-30,\n",
      "        5.08912586e-25,  4.15840591e-23,  2.83935578e-24,  5.12796159e-23,\n",
      "        3.00419964e-24,  4.01851897e-23,  3.00484017e-24,  2.58673129e-23,\n",
      "        2.96086248e-24]), 'wCOV': array([[ 1.58504531e-05,  5.98078101e-42, -1.87142627e-26, ...,\n",
      "        -4.13418032e-28, -2.60452643e-27, -2.69440717e-28],\n",
      "       [ 5.98078101e-42,  1.09959567e-01,  1.18053224e-63, ...,\n",
      "         2.85803277e-62,  6.78359820e-62,  2.18799678e-62],\n",
      "       [-1.87142627e-26,  1.18053224e-63,  1.09959567e-01, ...,\n",
      "        -9.34675966e-48, -1.04075617e-46, -7.78956276e-48],\n",
      "       ...,\n",
      "       [-4.13418032e-28,  2.85803277e-62, -9.34675966e-48, ...,\n",
      "         1.09959567e-01, -4.79219324e-48, -4.38371054e-49],\n",
      "       [-2.60452643e-27,  6.78359820e-62, -1.04075617e-46, ...,\n",
      "        -4.79219324e-48,  1.09959567e-01, -4.19064231e-48],\n",
      "       [-2.69440717e-28,  2.18799678e-62, -7.78956276e-48, ...,\n",
      "        -4.38371054e-49, -4.19064231e-48,  1.09959567e-01]]), 'sig2': 0.010995963530782612, 'modelIdx': array([12]), 'Zmed': array([1.]), 'Wsel': array([0.22154483]), 'Wcov': array([0.00019])}\n"
     ]
    }
   ],
   "source": [
    "tol = 0.0001\n",
    "verbosity = True\n",
    "initz0 = initz0\n",
    "DS = Variational_Bayes_Code(D, xdts, initz0, tol, verbosity)\n",
    "\n",
    "print(DS) "
   ]
  },
  {
   "cell_type": "code",
   "execution_count": 37,
   "metadata": {},
   "outputs": [
    {
     "data": {
      "text/plain": [
       "array([1.58504531e-05, 1.09959567e-01, 1.09959567e-01, 1.09959567e-01,\n",
       "       1.09959567e-01, 1.09959567e-01, 1.09959567e-01, 1.09959567e-01,\n",
       "       1.09959567e-01, 1.09959567e-01, 1.09959567e-01, 1.09959567e-01,\n",
       "       1.09959567e-01, 1.89996079e-04, 1.09959567e-01, 1.09959567e-01,\n",
       "       1.09959567e-01, 1.09959567e-01, 1.09959567e-01, 1.09959567e-01,\n",
       "       1.09959567e-01, 1.09959567e-01, 1.09959567e-01, 1.09959567e-01,\n",
       "       1.09959567e-01, 1.09959567e-01, 1.09959567e-01, 1.09959567e-01,\n",
       "       1.09959567e-01, 1.09959567e-01, 1.09959567e-01, 1.09959567e-01,\n",
       "       1.09959567e-01, 1.09959567e-01, 1.09959567e-01, 1.09959567e-01,\n",
       "       1.09959567e-01, 1.09959567e-01, 1.09959567e-01, 1.09959567e-01,\n",
       "       1.09959567e-01, 1.09959567e-01, 1.09959567e-01, 1.09959567e-01,\n",
       "       1.09959567e-01, 1.09959567e-01, 1.09959567e-01, 1.09959567e-01,\n",
       "       1.09959567e-01, 1.09959567e-01, 1.09959567e-01, 1.09959567e-01,\n",
       "       1.09959567e-01, 1.09959567e-01, 1.09959567e-01, 1.09959567e-01,\n",
       "       1.09959567e-01, 1.09959567e-01, 1.09959567e-01, 1.09959567e-01,\n",
       "       1.09959567e-01, 1.09959567e-01, 1.09959567e-01, 1.09959567e-01,\n",
       "       1.09959567e-01, 1.09959567e-01, 1.09959567e-01, 1.09959567e-01,\n",
       "       1.09959567e-01, 1.09959567e-01, 1.09959567e-01, 1.09959567e-01,\n",
       "       1.09959567e-01, 1.09959567e-01, 1.09959567e-01, 1.09959567e-01,\n",
       "       1.09959567e-01, 1.09959567e-01, 1.09959567e-01, 1.09959567e-01,\n",
       "       1.09959567e-01])"
      ]
     },
     "execution_count": 37,
     "metadata": {},
     "output_type": "execute_result"
    }
   ],
   "source": [
    "np.diag(DS['wCOV'])"
   ]
  },
  {
   "cell_type": "code",
   "execution_count": 38,
   "metadata": {},
   "outputs": [
    {
     "name": "stdout",
     "output_type": "stream",
     "text": [
      "\n",
      "0.9952174826668923\n"
     ]
    },
    {
     "data": {
      "image/png": "[encoded data removed]",
      "text/plain": [
       "<Figure size 432x288 with 1 Axes>"
      ]
     },
     "metadata": {
      "needs_background": "light"
     },
     "output_type": "display_data"
    }
   ],
   "source": [
    "zmean4 = DS['zmean']\n",
    "wmean4 = DS['wmean']\n",
    "zmean4[np.where(np.diag(DS['wCOV'])>5e-5)] = 0\n",
    "plt.stem(zmean4)\n",
    "wmean4[np.where(np.diag(DS['wCOV'])>5e-5)] = 0\n",
    "print()\n",
    "print(np.sqrt(wmean4[0]))"
   ]
  },
  {
   "cell_type": "code",
   "execution_count": null,
   "metadata": {},
   "outputs": [],
   "source": []
  }
 ],
 "metadata": {
  "interpreter": {
   "hash": "3f37e94951d1aba8aea1180f8978b4824e076f548924d8dec1753cbbb0da26fd"
  },
  "kernelspec": {
   "display_name": "Python 3 (ipykernel)",
   "language": "python",
   "name": "python3"
  },
  "language_info": {
   "codemirror_mode": {
    "name": "ipython",
    "version": 3
   },
   "file_extension": ".py",
   "mimetype": "text/x-python",
   "name": "python",
   "nbconvert_exporter": "python",
   "pygments_lexer": "ipython3",
   "version": "3.9.7"
  },
  "toc": {
   "base_numbering": 1,
   "nav_menu": {},
   "number_sections": true,
   "sideBar": true,
   "skip_h1_title": false,
   "title_cell": "Table of Contents",
   "title_sidebar": "Contents",
   "toc_cell": false,
   "toc_position": {},
   "toc_section_display": true,
   "toc_window_display": false
  },
  "varInspector": {
   "cols": {
    "lenName": 16,
    "lenType": 16,
    "lenVar": 40
   },
   "kernels_config": {
    "python": {
     "delete_cmd_postfix": "",
     "delete_cmd_prefix": "del ",
     "library": "var_list.py",
     "varRefreshCmd": "print(var_dic_list())"
    },
    "r": {
     "delete_cmd_postfix": ") ",
     "delete_cmd_prefix": "rm(",
     "library": "var_list.r",
     "varRefreshCmd": "cat(var_dic_list()) "
    }
   },
   "types_to_exclude": [
    "module",
    "function",
    "builtin_function_or_method",
    "instance",
    "_Feature"
   ],
   "window_display": false
  }
 },
 "nbformat": 4,
 "nbformat_minor": 4
}
