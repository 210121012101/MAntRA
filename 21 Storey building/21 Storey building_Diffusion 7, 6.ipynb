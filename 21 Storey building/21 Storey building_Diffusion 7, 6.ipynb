{
 "cells": [
  {
   "cell_type": "code",
   "execution_count": 1,
   "metadata": {},
   "outputs": [
    {
     "data": {
      "text/plain": [
       "'\\nThis code belongs to the paper:\\n-- YC Mathpati, KS More, T Tripura, R Nayek, S Chakraborty (2023)\\n   MAntRA: A framework for model agnostic reliability analysis\\n   \\n-- This code is for 21 Storey building.\\n'"
      ]
     },
     "execution_count": 1,
     "metadata": {},
     "output_type": "execute_result"
    }
   ],
   "source": [
    "\"\"\"\n",
    "This code belongs to the paper:\n",
    "-- YC Mathpati, KS More, T Tripura, R Nayek, S Chakraborty (2023)\n",
    "   MAntRA: A framework for model agnostic reliability analysis\n",
    "   \n",
    "-- This code is for 21 Storey building.\n",
    "\"\"\""
   ]
  },
  {
   "cell_type": "code",
   "execution_count": 5,
   "metadata": {},
   "outputs": [],
   "source": [
    "import numpy as np\n",
    "import matplotlib.pyplot as plt\n",
    "from scipy import linalg as LA\n",
    "from sklearn.metrics import mean_squared_error as MSE\n",
    "\n",
    "\"\"\"\n",
    "The Dictionary creation part:\n",
    "~~~~~~~~~~~~~~~~~~~~~~~~~~~~~~~~~~~~~~~~~~~~~~~~~~~~~~~~~~~~\n",
    "\"\"\"\n",
    "def library(xt, polyn, harmonic):\n",
    "    if polyn == 0:\n",
    "        polyn = 1\n",
    "    \n",
    "    # The polynomial is (x1 + x2)^p, with p is the order\n",
    "    # poly order 0\n",
    "    ind = 0\n",
    "    n = len(xt[0])\n",
    "    D = np.ones([n,1])\n",
    "    \n",
    "    if polyn >= 1:\n",
    "        # poly order 1\n",
    "        for i in range(len(xt)):\n",
    "            ind = ind+1\n",
    "            new = np.vstack(xt[i,:])\n",
    "            D = np.append(D, new, axis=1)\n",
    "     \n",
    "    if polyn >= 2: \n",
    "        # ploy order 2\n",
    "        for i in range(len(xt)):\n",
    "            for j in  range(i,len(xt)):\n",
    "                ind = ind+1\n",
    "                new = np.multiply(xt[i,:], xt[j,:])\n",
    "                new = np.vstack(new)\n",
    "                D = np.append(D, new, axis=1) \n",
    "    \n",
    "    if polyn >= 3:    \n",
    "        # ploy order 3\n",
    "        for i in range(len(xt)):\n",
    "            for j in  range(i,len(xt)):\n",
    "                for k in  range(j,len(xt)):\n",
    "                    ind = ind+1\n",
    "                    new = np.multiply(np.multiply(xt[i,:], xt[j,:]), xt[k,:])\n",
    "                    new = np.vstack(new)\n",
    "                    D = np.append(D, new, axis=1) \n",
    "    \n",
    "    if polyn >= 4:\n",
    "        # ploy order 4\n",
    "        for i in range(len(xt)):\n",
    "            for j in  range(i,len(xt)):\n",
    "                for k in  range(j,len(xt)):\n",
    "                    for l in range(k,len(xt)):\n",
    "                        ind = ind+1\n",
    "                        new = np.multiply(np.multiply(xt[i,:], xt[j,:]), xt[k,:])\n",
    "                        new = np.multiply(new, xt[l,:])\n",
    "                        new = np.vstack(new)\n",
    "                        D = np.append(D, new, axis=1) \n",
    "    \n",
    "    if polyn >= 5:\n",
    "        # ploy order 5\n",
    "        for i in range(len(xt)):\n",
    "            for j in  range(i,len(xt)):\n",
    "                for k in  range(j,len(xt)):\n",
    "                    for l in  range(k,len(xt)):\n",
    "                        for m in  range(l,len(xt)):\n",
    "                            ind = ind+1\n",
    "                            new = np.multiply(xt[i,:], xt[j,:])\n",
    "                            new = np.multiply(new, xt[k,:])\n",
    "                            new = np.multiply(new, xt[l,:])\n",
    "                            new = np.multiply(new, xt[m,:])\n",
    "                            new = np.vstack(new)\n",
    "                            D = np.append(D, new, axis=1) \n",
    "    \n",
    "    if polyn >= 6:\n",
    "        # ploy order 6\n",
    "        for i in range(len(xt)):\n",
    "            for j in  range(i,len(xt)):\n",
    "                for k in  range(j,len(xt)):\n",
    "                    for l in  range(k,len(xt)):\n",
    "                        for m in  range(l,len(xt)):\n",
    "                            for n in  range(m,len(xt)):\n",
    "                                ind = ind+1\n",
    "                                new = np.multiply(xt[i,:], xt[j,:])\n",
    "                                new = np.multiply(new, xt[k,:])\n",
    "                                new = np.multiply(new, xt[l,:])\n",
    "                                new = np.multiply(new, xt[m,:])\n",
    "                                new = np.multiply(new, xt[n,:])\n",
    "                                new = np.vstack(new)\n",
    "                                D = np.append(D, new, axis=1) \n",
    "    \n",
    "#     # for the signum or sign operator\n",
    "#     for i in range(len(xt)):\n",
    "#         ind = ind+1\n",
    "#         new = np.vstack(np.sign(xt[i,:]))+0.0001\n",
    "#         D = np.append(D, new, axis=1)\n",
    "    \n",
    "    # for the modulus operator\n",
    "    for i in range(len(xt)):\n",
    "        ind = ind+1\n",
    "        new = np.vstack(abs(xt[i,:]))\n",
    "        D = np.append(D, new, axis=1)\n",
    "      \n",
    "    # for the tensor operator\n",
    "    for i in range(len(xt)):\n",
    "        for j in  range(len(xt)):\n",
    "            ind = ind+1\n",
    "            new = np.multiply(xt[i,:],abs(xt[j,:]))\n",
    "            new = np.vstack(new)\n",
    "            D = np.append(D, new, axis=1)\n",
    "            \n",
    "    if harmonic == 1:\n",
    "        for i in range(len(xt)):\n",
    "            ind = ind+1\n",
    "            new = np.vstack(np.sin(xt[i,:]))\n",
    "            D = np.append(D, new, axis=1)\n",
    "\n",
    "        for i in range(len(xt)):\n",
    "            ind = ind+1\n",
    "            new = np.vstack(np.cos(xt[i,:]))\n",
    "            D = np.append(D, new, axis=1)\n",
    "            \n",
    "    ind = len(D[0])\n",
    "    \n",
    "    return D, ind"
   ]
  },
  {
   "cell_type": "code",
   "execution_count": 1,
   "metadata": {},
   "outputs": [],
   "source": [
    "import numpy as np\n",
    "import matplotlib.pyplot as plt\n",
    "\"\"\"\n",
    "A MDOF system excited by random noise\n",
    "----------------------------------------------------------------------\n",
    "\"\"\"\n",
    "\n",
    "def drift_mat(dof,k,c,m):\n",
    "    dim = 2 * dof\n",
    "    A = np.zeros((dim,dim))\n",
    "    \n",
    "    for i in range(dim):\n",
    "        if (i%2 == 0):\n",
    "            A[i][i+1] = 1\n",
    "    \n",
    "        elif(i==1):\n",
    "            A[i][i-1] = -(k+k)/m\n",
    "            A[i][i] = -(c+c)/m\n",
    "            A[i][i+1] = k/m\n",
    "            A[i][i+2] = c/m\n",
    "    \n",
    "        elif(i==dim-1):\n",
    "            A[i][i] = -c/m\n",
    "            A[i][i-1] = -k/m\n",
    "            A[i][i-2] = c/m\n",
    "            A[i][i-3] = k/m\n",
    "            \n",
    "        else:\n",
    "            A[i][i-3] = k/m \n",
    "            A[i][i-2] = c/m\n",
    "            A[i][i-1] = -(k+k)/m\n",
    "            A[i][i] = -(c+c)/m\n",
    "            A[i][i+1] = k/m\n",
    "            A[i][i+2] = c/m\n",
    "    return A\n",
    "\n",
    "def M_DOF_sys(x_initial, dof, T):\n",
    "    # parameters of M_DOF_sys in Equation\n",
    "    m = 1\n",
    "    c = 2\n",
    "    k = 3000\n",
    "    sigma = 1\n",
    "    \n",
    "    # solution by euler maruyama\n",
    "    # -------------------------------------------------------\n",
    "    dt = 0.0001\n",
    "    t = np.arange(0, T+dt, dt)\n",
    "    Nsamp = 200 # no. of samples in the run\n",
    "\n",
    "    y27 = []\n",
    "    y28 = []\n",
    "    y29 = []\n",
    "    y30 = []\n",
    "    y31 = []\n",
    "    y32 = []\n",
    "    y33 = []\n",
    "    y34 = []\n",
    "    \n",
    "    xz15 = []\n",
    "    xz16 = []\n",
    "    \n",
    "    xzs15 = []\n",
    "    xzs16 = []\n",
    "    \n",
    "    # Simulation Starts Here :\n",
    "    # -------------------------------------------------------\n",
    "    for ensemble in range(Nsamp):\n",
    "        x0 = x_initial\n",
    "        x = x0                              # initial condition.\n",
    "        for n in range(len(t)-1):\n",
    "            dW = np.sqrt(dt)*np.random.randn(2*dof)\n",
    "            \n",
    "            '''LINEAR PART DRIFT'''\n",
    "        \n",
    "            A = drift_mat(dof,k,c,m)\n",
    "            \n",
    "            '''DIFFUSION TERM  = b'''\n",
    "            diffu_arr = np.zeros(2*dof)\n",
    "            for i in range(2*dof):\n",
    "                if (i%2 != 0):\n",
    "                    diffu_arr[i] = sigma/m\n",
    "            \n",
    "            soln_arr = x0 + np.matmul(A,x0)*dt + diffu_arr*dW        \n",
    "            x0 = soln_arr\n",
    "            x = np.column_stack((x, x0))\n",
    "            \n",
    "        y27.append(x[-27,:])               \n",
    "        y28.append(x[-28,:])\n",
    "        y29.append(x[-29,:])         # Displacement     \n",
    "        y30.append(x[-30,:])\n",
    "        y31.append(x[-31,:])         # Displacement       \n",
    "        y32.append(x[-32,:])\n",
    "        y33.append(x[-33,:])               \n",
    "        y34.append(x[-34,:])\n",
    "\n",
    "        \n",
    "        zint15 = x[-29, 0:-1]        # Velocity\n",
    "        xfinal15 = x[-29, 1:] \n",
    "        xmz15 = (xfinal15 - zint15)\n",
    "        \n",
    "        zint16 = x[-31, 0:-1]        # Velocity\n",
    "        xfinal16 = x[-31, 1:] \n",
    "        xmz16 = (xfinal16 - zint16) \n",
    "\n",
    "        xz15.append(xmz15)\n",
    "        xz16.append(xmz16)\n",
    "        \n",
    "        xmzsq15 = np.multiply(xmz15, xmz15)\n",
    "        xzs15.append(xmzsq15)\n",
    "        \n",
    "        xmzsq16 = np.multiply(xmz16, xmz16)\n",
    "        xzs16.append(xmzsq16)\n",
    "        \n",
    "    xz15 = pow(dt,-1)*np.mean(np.array(xz15), axis = 0)\n",
    "    xz16 = pow(dt,-1)*np.mean(np.array(xz16), axis = 0)\n",
    "\n",
    "    xzs15 = pow(dt,-1)*np.mean(np.array(xzs15), axis = 0)\n",
    "    xzs16 = pow(dt,-1)*np.mean(np.array(xzs16), axis = 0)\n",
    "\n",
    "    y27 = np.array(y27)\n",
    "    y28 = np.array(y28)\n",
    "    y29 = np.array(y29)\n",
    "    y30 = np.array(y30)\n",
    "    y31 = np.array(y31)\n",
    "    y32 = np.array(y32)\n",
    "    y33 = np.array(y33)\n",
    "    y34 = np.array(y34)\n",
    "\n",
    "    time = t[0:-1]\n",
    "    return xz15, xz16, xzs15, xzs16, y27, y28, y29, y30, y31, y32, y33, y34, time"
   ]
  },
  {
   "cell_type": "code",
   "execution_count": 2,
   "metadata": {},
   "outputs": [],
   "source": [
    "np.random.seed(9)\n",
    "T = 1\n",
    "dof = 21\n",
    "x_initial = np.zeros(2*dof)"
   ]
  },
  {
   "cell_type": "code",
   "execution_count": 3,
   "metadata": {
    "scrolled": true
   },
   "outputs": [
    {
     "name": "stdout",
     "output_type": "stream",
     "text": [
      "\n"
     ]
    },
    {
     "data": {
      "text/plain": [
       "20.050825802485146"
      ]
     },
     "execution_count": 3,
     "metadata": {},
     "output_type": "execute_result"
    }
   ],
   "source": [
    "import time\n",
    "start = time.time()\n",
    "xz15, xz16, xzs15, xzs16, y27, y28, y29, y30, y31, y32, y33, y34, time_ = M_DOF_sys(x_initial, dof, T)\n",
    "end = time.time()\n",
    "print()\n",
    "TIMES = (end - start)/60\n",
    "TIMES"
   ]
  },
  {
   "cell_type": "code",
   "execution_count": 6,
   "metadata": {},
   "outputs": [
    {
     "name": "stdout",
     "output_type": "stream",
     "text": [
      "\n"
     ]
    },
    {
     "data": {
      "text/plain": [
       "5.349144506454468"
      ]
     },
     "execution_count": 6,
     "metadata": {},
     "output_type": "execute_result"
    }
   ],
   "source": [
    "startD = time.time()\n",
    "# Expected Dictionary Creation:\n",
    "libr = []\n",
    "for j in range(len(y27)):\n",
    "    data = np.row_stack((y27[j,0:-1], y28[j,0:-1], y29[j,0:-1], y30[j,0:-1], y31[j,0:-1], y32[j,0:-1], y33[j,0:-1], y34[j,0:-1]))\n",
    "    Dtemp, nl = library(data, 1, 0)\n",
    "    libr.append(Dtemp)\n",
    "libr = np.array(libr)\n",
    "Dictionary= np.mean(libr, axis = 0)\n",
    "print()\n",
    "endD = time.time()\n",
    "TIMED = (endD - startD)/60\n",
    "TIMED"
   ]
  },
  {
   "cell_type": "code",
   "execution_count": 7,
   "metadata": {},
   "outputs": [
    {
     "name": "stdout",
     "output_type": "stream",
     "text": [
      "Total Time :  25.399970308939615\n"
     ]
    }
   ],
   "source": [
    "print('Total Time : ', TIMES+TIMED)"
   ]
  },
  {
   "cell_type": "code",
   "execution_count": 18,
   "metadata": {},
   "outputs": [],
   "source": [
    "xdts = xzs15\n",
    "D = Dictionary"
   ]
  },
  {
   "cell_type": "code",
   "execution_count": 19,
   "metadata": {},
   "outputs": [
    {
     "data": {
      "text/plain": [
       "(10000, 81)"
      ]
     },
     "execution_count": 19,
     "metadata": {},
     "output_type": "execute_result"
    }
   ],
   "source": [
    "D.shape"
   ]
  },
  {
   "cell_type": "code",
   "execution_count": 20,
   "metadata": {},
   "outputs": [
    {
     "data": {
      "text/plain": [
       "(810000,)"
      ]
     },
     "execution_count": 20,
     "metadata": {},
     "output_type": "execute_result"
    }
   ],
   "source": [
    "Dict = D.reshape(-1,order='F')\n",
    "Dict.shape"
   ]
  },
  {
   "cell_type": "code",
   "execution_count": 21,
   "metadata": {
    "scrolled": true
   },
   "outputs": [
    {
     "name": "stdout",
     "output_type": "stream",
     "text": [
      "{'Relevant': matlab.double([[1.0],[3.0],[10.0],[12.0],[13.0],[22.0],[64.0],[67.0],[68.0],[70.0],[74.0],[78.0]]), 'Value': matlab.double([[1.0004032275859442],[-2.272613032658588],[0.11947487685297736],[0.013417110925138392],[0.8218598011363294],[-0.20657964253455396],[-3.3376659400769877],[-1.2427217047199552],[0.23149533892618385],[-0.2606254604006703],[4.727761285888223],[6.188931023747849]])}\n"
     ]
    }
   ],
   "source": [
    "#!/usr/bin/env python\n",
    "\"\"\"\n",
    "Sample script that uses the SparseBayes module created using\n",
    "MATLAB Compiler SDK.\n",
    "\n",
    "Refer to the MATLAB Compiler SDK documentation for more information.\n",
    "\"\"\"\n",
    "\n",
    "from __future__ import print_function\n",
    "import SparseBayes\n",
    "import matlab\n",
    "\n",
    "my_SparseBayes = SparseBayes.initialize()\n",
    "\n",
    "DictIn = matlab.double(Dict, size=(D.shape[0], D.shape[1]))\n",
    "targetIn = matlab.double(xdts, size=(D.shape[0], 1))\n",
    "DMOut = my_SparseBayes.SparseBayes(DictIn, targetIn)\n",
    "print(DMOut, sep='\\n')\n",
    "\n",
    "my_SparseBayes.terminate()"
   ]
  },
  {
   "cell_type": "code",
   "execution_count": 22,
   "metadata": {},
   "outputs": [
    {
     "name": "stdout",
     "output_type": "stream",
     "text": [
      "[1. 0. 1. 0. 0. 0. 0. 0. 0. 1. 0. 1. 1. 0. 0. 0. 0. 0. 0. 0. 0. 1. 0. 0.\n",
      " 0. 0. 0. 0. 0. 0. 0. 0. 0. 0. 0. 0. 0. 0. 0. 0. 0. 0. 0. 0. 0. 0. 0. 0.\n",
      " 0. 0. 0. 0. 0. 0. 0. 0. 0. 0. 0. 0. 0. 0. 0. 1. 0. 0. 1. 1. 0. 1. 0. 0.\n",
      " 0. 1. 0. 0. 0. 1. 0. 0. 0.]\n"
     ]
    }
   ],
   "source": [
    "c = np.array(DMOut['Value'])\n",
    "d = []\n",
    "for j in c:\n",
    "    d.append(j[0])\n",
    "    \n",
    "a = np.array(DMOut['Relevant'])\n",
    "b = []\n",
    "for i in a:\n",
    "    b.append(int((i[0])-1))\n",
    "    \n",
    "initz0 = np.zeros(D.shape[1])\n",
    "for i in b:\n",
    "    initz0[i] = 1\n",
    "    \n",
    "print(initz0)"
   ]
  },
  {
   "cell_type": "code",
   "execution_count": 23,
   "metadata": {},
   "outputs": [],
   "source": [
    "import warnings\n",
    "import math\n",
    "import numpy as np\n",
    "import scipy as sp\n",
    "import sympy as smp\n",
    "from scipy import stats\n",
    "from numpy import linalg as la\n",
    "import matplotlib.pyplot as plt\n",
    "from numpy.random import gamma\n",
    "from scipy.special import loggamma\n",
    "\n",
    "def Variational_Bayes_Code(X, y, initz0, tol, verbosity):\n",
    "\n",
    "    if (len(X) == 0 or len(y) == 0):\n",
    "        raise Exception('X and or y is missing')\n",
    "        \n",
    "    if (len(X) != len(y)):\n",
    "        raise Exception('Number of observations do not match')\n",
    "        \n",
    "    # X = stats.zscore(X, ddof = 1)         \n",
    "    # X = np.c_[np.ones(len(X)),X]\n",
    "    # X = np.c_[np.ones(len(X)),X]          \n",
    "    # y = y - np.mean(y)\n",
    "    N = len(X)\n",
    "    # Prior parameters of noise variance (Inverse Gamma dist)\n",
    "    A = 1e-4\n",
    "    B = 1e-4\n",
    "    vs = 10\n",
    "    tau0 = 1000\n",
    "    \n",
    "    if (len(initz0) == 0):\n",
    "        raise Exception('No initial value of z found')\n",
    "    else:\n",
    "        p0 = expit(-0.5*(np.sqrt(N)))       \n",
    "        \n",
    "        # Adding the intercept indicator variable (slightly less than 1 to prevent log(0) values) \n",
    "        # initz = np.hstack((1,initz0))  \n",
    "        initz = initz0\n",
    "\n",
    "        DS,LLcvg  = run_VB2(X, y, vs, A, B, tau0, p0, initz, tol, verbosity)    \n",
    "        # This is function which will come first\n",
    "        \n",
    "    out_vb   = DS\n",
    "    a = DS['zmean'] > 0.5\n",
    "    count = 0\n",
    "    modelIdx = []\n",
    "    for i in a:\n",
    "        if i == True:\n",
    "            modelIdx.append(count)\n",
    "        count += 1\n",
    "            \n",
    "    modelIdx = np.setdiff1d(modelIdx,0)\n",
    "    out_vb['modelIdx'] = modelIdx-1\n",
    "    out_vb['Zmed'] = DS['zmean'][modelIdx]\n",
    "    out_vb['Wsel'] = DS['wmean'][modelIdx]\n",
    "    out_vb['Wcov'] = DS['wCOV'][modelIdx, modelIdx]\n",
    "    out_vb['sig2'] = DS['sig2']\n",
    "    \n",
    "    return out_vb\n",
    "\n",
    "DS = {}\n",
    "def run_VB2(Xc, yc, vs, A, B, tau0, p0, initz, tol, verbosity):\n",
    "    \"\"\"This function is the implementation of VB from John T. Ormerod paper (2014)\n",
    "       This implementation uses slab scaling by noise variance\n",
    "       vs    : treated as a constant\n",
    "       A,B   : constants of the IG prior over noise variance\n",
    "       tau0  : Expected value of (sigma^{-2})\n",
    "       p0    : inclusion probablility\n",
    "       initz : Initial value of z\n",
    "       Xc    : Centered and standardized dictionary except the first column\n",
    "       yc    : Centered observations \"\"\"\n",
    "    \n",
    "    Lambda    = logit(p0)\n",
    "    iter_     = 0\n",
    "    max_iter  = 100\n",
    "    LL        = np.zeros(max_iter)        \n",
    "    zm        = np.reshape(initz,(-1))            \n",
    "    taum      = tau0                      \n",
    "    invVs     = 1/vs\n",
    "    \n",
    "    X = Xc\n",
    "    y = yc\n",
    "    XtX = (X.T) @ X\n",
    "    XtX = 0.5*(XtX + (XtX).T)\n",
    "    Xty = (X.T) @ y                 \n",
    "    yty = (y.T) @ y\n",
    "\n",
    "    eyep = np.eye(len(XtX))\n",
    "    [N,p] = X.shape\n",
    "    allidx = np.arange(p)\n",
    "    zm[0] = 1                                                                   # Always include the intercept \n",
    "    Abar    = (A + 0.5*N + 0.5*p)\n",
    "    converged = 0\n",
    "    \n",
    "    while (converged==0):\n",
    "        if (iter_==100):\n",
    "            break\n",
    "        \n",
    "        Zm       = np.diag(zm)\n",
    "        Omg      = (np.reshape(zm,(-1,1)) @ np.reshape(zm,(1,-1))) + (Zm @ (eyep-Zm))\n",
    "        # Update the mean and covariance of the coefficients given mean of z\n",
    "        term1    = XtX * Omg                                                       # elementwisw multiplication\n",
    "        invSigma = taum * (term1 + invVs * eyep)\n",
    "        invSigma = 0.5*(invSigma + invSigma.T)                                     # symmetric\n",
    "        Sigma    = la.inv(invSigma) @ eyep\n",
    "        mu       = taum * (Sigma @ Zm @ Xty)                                       # @ ---> matrix multiplication\n",
    "        \n",
    "        # Update tau related to sigma\n",
    "        term2    = 2 * Xty @ Zm @ mu\n",
    "        term3    =  np.reshape(mu,(len(initz0),1)) @ np.reshape(mu,(1,len(initz0)))+ Sigma\n",
    "        term4    = yty - term2 + np.trace((term1 + invVs * eyep) @ term3)    \n",
    "        s        = B + 0.5*term4\n",
    "        \n",
    "        if s<0:\n",
    "            warnings.warn('s turned out be less than 0. Taking absolute value')\n",
    "            s = B + 0.5*abs(term4)\n",
    "        \n",
    "        taum     = Abar / s\n",
    "        zstr   = zm\n",
    "\n",
    "        order   = np.setdiff1d(np.random.permutation(p), 0, assume_unique=True)\n",
    "        for j in order: \n",
    "            muj     = mu[j]                            \n",
    "            sigmaj  = Sigma[j,j]\n",
    "            \n",
    "            remidx  = np.setdiff1d(allidx,j)\n",
    "            mu_j    = mu[remidx]\n",
    "            Sigma_jj= Sigma[remidx,j]\n",
    "            etaj    = (Lambda - 0.5 * taum * ((muj**2 + sigmaj) * XtX[j,j]) \n",
    "                       + taum * np.reshape(X[:,j],(1,-1)) @ (np.reshape(y,(-1,1))*muj \n",
    "                        -X[:,remidx] @ np.diag(zstr[remidx]) @ ((mu_j * muj + Sigma_jj).reshape(-1,1))))\n",
    "            zstr[j] = expit(etaj)\n",
    "            \n",
    "        zm = zstr\n",
    "        \n",
    "        # Calculate marginal log-likelihood\n",
    "        \n",
    "        LL[iter_] = ( 0.5*p \n",
    "                    - 0.5*N*np.log(2*np.pi) \n",
    "                    + 0.5*p*np.log(invVs) \n",
    "                    + A*np.log(B)\n",
    "                    - loggamma(A)\n",
    "                    + loggamma(Abar) \n",
    "                    - Abar*np.log(s)\n",
    "                    + 0.5*np.log(la.det(Sigma))\n",
    "                    + np.nansum(zm*(np.log(p0) - np.log(zm))) \n",
    "                    + np.nansum((1-zm)*(np.log(1-p0) - np.log(1-zm))))\n",
    "        \n",
    "        if(verbosity):\n",
    "            print(f'Iteration = {iter_}  log(Likelihood) = {LL[iter_]}')\n",
    "        \n",
    "        if(iter_>1):\n",
    "            cvg = LL[iter_] - LL[iter_-1]\n",
    "            \n",
    "            if (cvg < 0 and verbosity):\n",
    "                print('OOPS!  log(like) decreasing!!')\n",
    "            elif (cvg<tol or iter_> max_iter):\n",
    "                converged = 1\n",
    "                LL = LL[0:iter_]\n",
    "                \n",
    "        iter_    = iter_ + 1\n",
    "    DS['zmean'] = zm\n",
    "    DS['wmean'] = mu\n",
    "    DS['wCOV'] = Sigma\n",
    "    DS['sig2'] = 1/taum\n",
    "    LLcvg    = LL[-1]\n",
    "    return DS, LLcvg\n",
    "    \n",
    "def logit(C):\n",
    "    logitC = np.log(C) - np.log(1-C)\n",
    "    return logitC\n",
    "\n",
    "def expit(C):\n",
    "    expitC = 1./(1 + np.exp(-C))\n",
    "    return expitC"
   ]
  },
  {
   "cell_type": "code",
   "execution_count": 24,
   "metadata": {},
   "outputs": [
    {
     "data": {
      "text/plain": [
       "((10000, 81), (81,))"
      ]
     },
     "execution_count": 24,
     "metadata": {},
     "output_type": "execute_result"
    }
   ],
   "source": [
    "D.shape, initz0.shape"
   ]
  },
  {
   "cell_type": "code",
   "execution_count": 25,
   "metadata": {},
   "outputs": [
    {
     "name": "stderr",
     "output_type": "stream",
     "text": [
      "C:\\Users\\USER\\AppData\\Local\\Temp/ipykernel_3228/3512855728.py:147: RuntimeWarning: divide by zero encountered in log\n",
      "  + np.nansum((1-zm)*(np.log(1-p0) - np.log(1-zm))))\n",
      "C:\\Users\\USER\\AppData\\Local\\Temp/ipykernel_3228/3512855728.py:147: RuntimeWarning: invalid value encountered in multiply\n",
      "  + np.nansum((1-zm)*(np.log(1-p0) - np.log(1-zm))))\n",
      "C:\\Users\\USER\\AppData\\Local\\Temp/ipykernel_3228/3512855728.py:174: RuntimeWarning: overflow encountered in exp\n",
      "  expitC = 1./(1 + np.exp(-C))\n"
     ]
    },
    {
     "name": "stdout",
     "output_type": "stream",
     "text": [
      "Iteration = 0  log(Likelihood) = 8088.407640553125\n"
     ]
    },
    {
     "name": "stderr",
     "output_type": "stream",
     "text": [
      "C:\\Users\\USER\\AppData\\Local\\Temp/ipykernel_3228/3512855728.py:146: RuntimeWarning: divide by zero encountered in log\n",
      "  + np.nansum(zm*(np.log(p0) - np.log(zm)))\n",
      "C:\\Users\\USER\\AppData\\Local\\Temp/ipykernel_3228/3512855728.py:146: RuntimeWarning: invalid value encountered in multiply\n",
      "  + np.nansum(zm*(np.log(p0) - np.log(zm)))\n"
     ]
    },
    {
     "name": "stdout",
     "output_type": "stream",
     "text": [
      "Iteration = 1  log(Likelihood) = 8146.642464666629\n",
      "Iteration = 2  log(Likelihood) = 8146.643916647268\n",
      "Iteration = 3  log(Likelihood) = 8146.6439167410135\n",
      "{'zmean': array([1.00000000e+00, 4.30463172e-41, 1.34930309e-22, 1.15179266e-33,\n",
      "       1.46530857e-22, 8.66125559e-40, 1.56745779e-22, 4.74801633e-38,\n",
      "       1.65335262e-22, 1.00000000e+00, 4.66488250e-31, 1.00000000e+00,\n",
      "       4.82902926e-30, 0.00000000e+00, 5.04095181e-29, 0.00000000e+00,\n",
      "       6.48906212e-28, 1.88104754e-31, 1.87017069e-22, 1.41420666e-25,\n",
      "       1.87611408e-22, 6.35828435e-25, 1.88836383e-22, 4.56838900e-25,\n",
      "       1.89534943e-22, 1.82501269e-22, 1.92645709e-22, 1.81744357e-22,\n",
      "       1.92692808e-22, 1.83148847e-22, 1.92737580e-22, 1.82594495e-22,\n",
      "       1.92772270e-22, 1.57548845e-24, 1.89618296e-22, 1.73131272e-28,\n",
      "       1.89962253e-22, 6.98140203e-25, 1.90244415e-22, 4.33576466e-25,\n",
      "       1.91110645e-22, 1.84529603e-22, 1.92693027e-22, 1.83908999e-22,\n",
      "       1.92720708e-22, 1.85018572e-22, 1.92754335e-22, 1.84808623e-22,\n",
      "       1.92784117e-22, 2.26269158e-24, 1.88585065e-22, 1.57481854e-25,\n",
      "       1.89176955e-22, 4.76714054e-32, 1.89062216e-22, 2.42222746e-26,\n",
      "       1.89312644e-22, 1.85786715e-22, 1.92738815e-22, 1.85560106e-22,\n",
      "       1.92754721e-22, 1.86482931e-22, 1.92773478e-22, 1.86379242e-22,\n",
      "       1.92796964e-22, 1.03997312e-23, 1.87680758e-22, 1.64933578e-24,\n",
      "       1.88574609e-22, 1.82485048e-25, 1.89018889e-22, 5.32694498e-31,\n",
      "       1.89263495e-22, 1.87505527e-22, 1.92776786e-22, 1.87473027e-22,\n",
      "       1.92785755e-22, 1.87879458e-22, 1.92797001e-22, 1.88013676e-22,\n",
      "       1.92811681e-22]), 'wmean': array([ 9.95190343e-01, -8.06873348e-41, -2.48336498e-23, -1.10607092e-33,\n",
      "       -1.36304718e-23, -3.85701478e-39, -7.73585617e-24, -1.90049227e-37,\n",
      "        5.32300132e-24,  1.06492628e-01,  2.00358975e-31,  1.01920401e-01,\n",
      "        1.76901764e-30,  0.00000000e+00,  1.40813350e-29,  0.00000000e+00,\n",
      "        1.72433679e-28, -1.05433941e-31, -2.63123651e-24, -1.02662271e-26,\n",
      "       -4.41962325e-24, -8.62602076e-25, -5.17138973e-24, -6.66975190e-26,\n",
      "       -4.84073484e-24,  3.27211412e-24, -2.28214607e-24, -1.18268060e-23,\n",
      "       -1.96496834e-24,  4.30141308e-25, -1.81112783e-24, -1.88718750e-23,\n",
      "       -1.30192772e-24,  4.90223190e-25,  4.26127882e-25,  2.45053013e-28,\n",
      "       -1.51585845e-24, -3.56003914e-25, -1.44525895e-24, -4.31093933e-25,\n",
      "       -5.99222703e-24,  9.17571638e-24, -1.97157335e-24, -6.00962793e-24,\n",
      "       -1.56827143e-24,  5.27897495e-24, -1.26328681e-24, -2.18328147e-23,\n",
      "       -7.48502514e-25,  2.84967179e-25, -1.73050352e-23,  6.75881913e-28,\n",
      "       -1.66727783e-23, -9.11878506e-32, -1.22341617e-23, -3.82511182e-26,\n",
      "       -9.53886763e-24,  1.32755251e-23, -1.66554940e-24, -2.85290652e-24,\n",
      "       -1.26504371e-24,  7.37012299e-24, -8.46030717e-25, -1.89163705e-23,\n",
      "       -4.20672972e-25, -9.58161580e-24, -2.16889215e-23,  1.47712023e-24,\n",
      "       -1.72750129e-23, -3.91194059e-25, -9.61587267e-24, -1.55405707e-30,\n",
      "       -4.73891000e-24,  1.67022749e-23, -1.18507738e-24,  3.10767500e-24,\n",
      "       -8.03148419e-25,  1.16619318e-23, -4.24674574e-25, -1.12676928e-23,\n",
      "       -9.71158687e-26]), 'wCOV': array([[ 1.68468567e-05,  1.12686248e-43, -2.08094682e-26, ...,\n",
      "        -1.37815226e-27, -8.82174282e-27, -1.29772294e-27],\n",
      "       [ 1.12686248e-43,  1.10885205e-01, -4.72614603e-64, ...,\n",
      "        -2.17851829e-65, -2.83333015e-64, -1.84098329e-65],\n",
      "       [-2.08094682e-26, -4.72614603e-64,  1.10885205e-01, ...,\n",
      "        -9.48006892e-48, -5.34584669e-47, -7.90236240e-48],\n",
      "       ...,\n",
      "       [-1.37815226e-27, -2.17851829e-65, -9.48006892e-48, ...,\n",
      "         1.10885205e-01, -3.77084949e-48, -8.15255122e-49],\n",
      "       [-8.82174282e-27, -2.83333015e-64, -5.34584669e-47, ...,\n",
      "        -3.77084949e-48,  1.10885205e-01, -3.35390457e-48],\n",
      "       [-1.29772294e-27, -1.84098329e-65, -7.90236240e-48, ...,\n",
      "        -8.15255122e-49, -3.35390457e-48,  1.10885205e-01]]), 'sig2': 0.011088526503887329, 'modelIdx': array([ 8, 10]), 'Zmed': array([1., 1.]), 'Wsel': array([0.10649263, 0.1019204 ]), 'Wcov': array([0.0035274 , 0.00367841])}\n"
     ]
    }
   ],
   "source": [
    "tol = 0.0001\n",
    "verbosity = True\n",
    "initz0 = initz0\n",
    "DS = Variational_Bayes_Code(D, xdts, initz0, tol, verbosity)\n",
    "\n",
    "print(DS) "
   ]
  },
  {
   "cell_type": "code",
   "execution_count": 26,
   "metadata": {},
   "outputs": [
    {
     "name": "stdout",
     "output_type": "stream",
     "text": [
      "[1.68468567e-05 1.10885205e-01 1.10885205e-01 1.10885205e-01\n",
      " 1.10885205e-01 1.10885205e-01 1.10885205e-01 1.10885205e-01\n",
      " 1.10885205e-01 3.52739767e-03 1.10885205e-01 3.67841292e-03\n",
      " 1.10885205e-01 1.10885205e-01 1.10885205e-01 1.10885205e-01\n",
      " 1.10885205e-01 1.10885205e-01 1.10885205e-01 1.10885205e-01\n",
      " 1.10885205e-01 1.10885205e-01 1.10885205e-01 1.10885205e-01\n",
      " 1.10885205e-01 1.10885205e-01 1.10885205e-01 1.10885205e-01\n",
      " 1.10885205e-01 1.10885205e-01 1.10885205e-01 1.10885205e-01\n",
      " 1.10885205e-01 1.10885205e-01 1.10885205e-01 1.10885205e-01\n",
      " 1.10885205e-01 1.10885205e-01 1.10885205e-01 1.10885205e-01\n",
      " 1.10885205e-01 1.10885205e-01 1.10885205e-01 1.10885205e-01\n",
      " 1.10885205e-01 1.10885205e-01 1.10885205e-01 1.10885205e-01\n",
      " 1.10885205e-01 1.10885205e-01 1.10885205e-01 1.10885205e-01\n",
      " 1.10885205e-01 1.10885205e-01 1.10885205e-01 1.10885205e-01\n",
      " 1.10885205e-01 1.10885205e-01 1.10885205e-01 1.10885205e-01\n",
      " 1.10885205e-01 1.10885205e-01 1.10885205e-01 1.10885205e-01\n",
      " 1.10885205e-01 1.10885205e-01 1.10885205e-01 1.10885205e-01\n",
      " 1.10885205e-01 1.10885205e-01 1.10885205e-01 1.10885205e-01\n",
      " 1.10885205e-01 1.10885205e-01 1.10885205e-01 1.10885205e-01\n",
      " 1.10885205e-01 1.10885205e-01 1.10885205e-01 1.10885205e-01\n",
      " 1.10885205e-01]\n"
     ]
    }
   ],
   "source": [
    "print(np.diag(DS['wCOV']))"
   ]
  },
  {
   "cell_type": "code",
   "execution_count": 27,
   "metadata": {
    "scrolled": true
   },
   "outputs": [
    {
     "name": "stdout",
     "output_type": "stream",
     "text": [
      "\n",
      "0.9975922728729321\n"
     ]
    },
    {
     "data": {
      "image/png": "[encoded data removed]",
      "text/plain": [
       "<Figure size 432x288 with 1 Axes>"
      ]
     },
     "metadata": {
      "needs_background": "light"
     },
     "output_type": "display_data"
    }
   ],
   "source": [
    "zmean7 = DS['zmean']\n",
    "wmean7 = DS['wmean']\n",
    "zmean7[np.where(np.diag(DS['wCOV'])>5e-4)] = 0\n",
    "plt.stem(zmean7)\n",
    "wmean7[np.where(np.diag(DS['wCOV'])>5e-4)] = 0\n",
    "print()\n",
    "print(np.sqrt(wmean7[0]))"
   ]
  },
  {
   "cell_type": "code",
   "execution_count": 28,
   "metadata": {},
   "outputs": [],
   "source": [
    "xdts = xzs16"
   ]
  },
  {
   "cell_type": "code",
   "execution_count": 29,
   "metadata": {},
   "outputs": [
    {
     "name": "stdout",
     "output_type": "stream",
     "text": [
      "{'Relevant': matlab.double([[1.0],[7.0],[10.0],[12.0],[16.0],[23.0],[24.0],[26.0],[38.0],[72.0]]), 'Value': matlab.double([[0.9811435974614764],[-1.6860734313341124],[0.12000279381386893],[0.04198295454068612],[0.07839602636114816],[2.8290756293326247],[-0.2650175506186837],[1.3013933797444013],[-0.08931130839189087],[-0.05096229255460393]])}\n"
     ]
    }
   ],
   "source": [
    "#!/usr/bin/env python\n",
    "\"\"\"\n",
    "Sample script that uses the SparseBayes module created using\n",
    "MATLAB Compiler SDK.\n",
    "\n",
    "Refer to the MATLAB Compiler SDK documentation for more information.\n",
    "\"\"\"\n",
    "\n",
    "from __future__ import print_function\n",
    "import SparseBayes\n",
    "import matlab\n",
    "\n",
    "my_SparseBayes = SparseBayes.initialize()\n",
    "\n",
    "DictIn = matlab.double(Dict, size=(D.shape[0], D.shape[1]))\n",
    "targetIn = matlab.double(xdts, size=(D.shape[0], 1))\n",
    "DMOut = my_SparseBayes.SparseBayes(DictIn, targetIn)\n",
    "print(DMOut, sep='\\n')\n",
    "\n",
    "my_SparseBayes.terminate()"
   ]
  },
  {
   "cell_type": "code",
   "execution_count": 30,
   "metadata": {},
   "outputs": [
    {
     "name": "stdout",
     "output_type": "stream",
     "text": [
      "[1. 0. 0. 0. 0. 0. 1. 0. 0. 1. 0. 1. 0. 0. 0. 1. 0. 0. 0. 0. 0. 0. 1. 1.\n",
      " 0. 1. 0. 0. 0. 0. 0. 0. 0. 0. 0. 0. 0. 1. 0. 0. 0. 0. 0. 0. 0. 0. 0. 0.\n",
      " 0. 0. 0. 0. 0. 0. 0. 0. 0. 0. 0. 0. 0. 0. 0. 0. 0. 0. 0. 0. 0. 0. 0. 1.\n",
      " 0. 0. 0. 0. 0. 0. 0. 0. 0.]\n"
     ]
    }
   ],
   "source": [
    "c = np.array(DMOut['Value'])\n",
    "d = []\n",
    "for j in c:\n",
    "    d.append(j[0])\n",
    "    \n",
    "a = np.array(DMOut['Relevant'])\n",
    "b = []\n",
    "for i in a:\n",
    "    b.append(int((i[0])-1))\n",
    "    \n",
    "initz0 = np.zeros(D.shape[1])\n",
    "for i in b:\n",
    "    initz0[i] = 1\n",
    "    \n",
    "print(initz0)"
   ]
  },
  {
   "cell_type": "code",
   "execution_count": 31,
   "metadata": {},
   "outputs": [
    {
     "name": "stderr",
     "output_type": "stream",
     "text": [
      "C:\\Users\\USER\\AppData\\Local\\Temp/ipykernel_3228/3512855728.py:147: RuntimeWarning: divide by zero encountered in log\n",
      "  + np.nansum((1-zm)*(np.log(1-p0) - np.log(1-zm))))\n",
      "C:\\Users\\USER\\AppData\\Local\\Temp/ipykernel_3228/3512855728.py:147: RuntimeWarning: invalid value encountered in multiply\n",
      "  + np.nansum((1-zm)*(np.log(1-p0) - np.log(1-zm))))\n",
      "C:\\Users\\USER\\AppData\\Local\\Temp/ipykernel_3228/3512855728.py:174: RuntimeWarning: overflow encountered in exp\n",
      "  expitC = 1./(1 + np.exp(-C))\n"
     ]
    },
    {
     "name": "stdout",
     "output_type": "stream",
     "text": [
      "Iteration = 0  log(Likelihood) = 8082.745209854\n"
     ]
    },
    {
     "name": "stderr",
     "output_type": "stream",
     "text": [
      "C:\\Users\\USER\\AppData\\Local\\Temp/ipykernel_3228/3512855728.py:146: RuntimeWarning: divide by zero encountered in log\n",
      "  + np.nansum(zm*(np.log(p0) - np.log(zm)))\n",
      "C:\\Users\\USER\\AppData\\Local\\Temp/ipykernel_3228/3512855728.py:146: RuntimeWarning: invalid value encountered in multiply\n",
      "  + np.nansum(zm*(np.log(p0) - np.log(zm)))\n"
     ]
    },
    {
     "name": "stdout",
     "output_type": "stream",
     "text": [
      "Iteration = 1  log(Likelihood) = 8141.2604512078815\n",
      "Iteration = 2  log(Likelihood) = 8141.2618981047235\n",
      "Iteration = 3  log(Likelihood) = 8141.261898196926\n",
      "{'zmean': array([1.00000000e+00, 4.30463155e-41, 1.34930309e-22, 1.15179263e-33,\n",
      "       1.46530857e-22, 8.66125526e-40, 1.56745779e-22, 4.74801617e-38,\n",
      "       1.65335262e-22, 1.00000000e+00, 4.66488242e-31, 1.00000000e+00,\n",
      "       4.82902917e-30, 0.00000000e+00, 5.04095174e-29, 1.00000000e+00,\n",
      "       6.48906205e-28, 1.88104750e-31, 1.87017069e-22, 1.41420665e-25,\n",
      "       1.87611408e-22, 6.35828432e-25, 1.88836383e-22, 4.56838898e-25,\n",
      "       1.89534943e-22, 1.82501269e-22, 1.92645709e-22, 1.81744357e-22,\n",
      "       1.92692808e-22, 1.83148847e-22, 1.92737580e-22, 1.82594495e-22,\n",
      "       1.92772270e-22, 1.57548845e-24, 1.89618296e-22, 1.73131270e-28,\n",
      "       1.89962253e-22, 6.98140199e-25, 1.90244415e-22, 4.33576463e-25,\n",
      "       1.91110645e-22, 1.84529603e-22, 1.92693027e-22, 1.83908999e-22,\n",
      "       1.92720708e-22, 1.85018572e-22, 1.92754335e-22, 1.84808623e-22,\n",
      "       1.92784117e-22, 2.26269157e-24, 1.88585065e-22, 1.57481853e-25,\n",
      "       1.89176955e-22, 4.76714044e-32, 1.89062216e-22, 2.42222744e-26,\n",
      "       1.89312644e-22, 1.85786715e-22, 1.92738815e-22, 1.85560106e-22,\n",
      "       1.92754721e-22, 1.86482931e-22, 1.92773478e-22, 1.86379242e-22,\n",
      "       1.92796964e-22, 1.03997312e-23, 1.87680758e-22, 1.64933577e-24,\n",
      "       1.88574609e-22, 1.82485047e-25, 1.89018889e-22, 5.32694488e-31,\n",
      "       1.89263495e-22, 1.87505527e-22, 1.92776786e-22, 1.87473027e-22,\n",
      "       1.92785755e-22, 1.87879458e-22, 1.92797001e-22, 1.88013676e-22,\n",
      "       1.92811681e-22]), 'wmean': array([ 9.82386095e-01, -3.59775992e-41, -1.51293143e-23, -4.80357759e-33,\n",
      "       -2.13973726e-23, -1.55643177e-39, -2.87882210e-23, -3.13778151e-37,\n",
      "       -2.81740952e-23,  1.13371985e-01,  8.93807745e-32,  4.30174510e-02,\n",
      "        6.09152307e-31,  0.00000000e+00,  5.03926238e-30,  8.42465691e-02,\n",
      "        9.29590347e-29,  3.33319520e-32,  8.14937563e-26, -2.53871100e-26,\n",
      "        3.59671140e-24, -8.34092475e-25,  6.47178807e-24, -9.29114277e-25,\n",
      "        3.29777351e-24,  2.47014725e-24, -1.40200978e-24, -1.63551159e-23,\n",
      "       -1.46929246e-24, -1.84425997e-23, -1.57201665e-24, -7.70622540e-24,\n",
      "       -1.59116857e-24, -2.20674651e-24, -6.99376470e-24, -3.27193101e-28,\n",
      "       -1.09918563e-23, -1.62245868e-24, -1.36652759e-23, -1.11382848e-24,\n",
      "       -1.17300230e-23,  9.47197067e-25, -1.46005754e-24, -2.03844790e-23,\n",
      "       -1.50600480e-24, -1.88909065e-23, -1.53640879e-24, -6.80350500e-24,\n",
      "       -1.50726327e-24, -1.23193207e-24, -1.31648894e-23, -2.08157841e-25,\n",
      "       -1.23312853e-23, -3.69255126e-32, -1.65067538e-23, -6.46338739e-26,\n",
      "       -1.62963296e-23, -1.62831212e-24, -1.60986866e-24, -2.49982760e-23,\n",
      "       -1.53166424e-24, -1.85650554e-23, -1.50959847e-24, -6.06956088e-24,\n",
      "       -1.39273494e-24, -1.54100261e-23, -1.32983375e-23, -2.44471914e-24,\n",
      "       -1.38719075e-23, -3.56624830e-25, -1.27776420e-23, -2.78636004e-30,\n",
      "       -1.38897641e-23, -4.41590383e-24, -1.59232497e-24, -2.22366101e-23,\n",
      "       -1.46543369e-24, -1.90784646e-23, -1.37828898e-24, -4.07248080e-24,\n",
      "       -1.33804256e-24]), 'wCOV': array([[ 1.66953331e-05,  1.12453661e-43, -2.04512729e-26, ...,\n",
      "        -1.35895516e-27, -8.57501636e-27, -1.28183097e-27],\n",
      "       [ 1.12453661e-43,  1.09864930e-01, -4.29787828e-64, ...,\n",
      "        -2.00807717e-65, -2.42518095e-64, -1.73284609e-65],\n",
      "       [-2.04512729e-26, -4.29787828e-64,  1.09864930e-01, ...,\n",
      "        -9.08131167e-48, -4.50519553e-47, -7.64074990e-48],\n",
      "       ...,\n",
      "       [-1.35895516e-27, -2.00807717e-65, -9.08131167e-48, ...,\n",
      "         1.09864930e-01, -3.42680441e-48, -8.00370479e-49],\n",
      "       [-8.57501636e-27, -2.42518095e-64, -4.50519553e-47, ...,\n",
      "        -3.42680441e-48,  1.09864930e-01, -3.13546560e-48],\n",
      "       [-1.28183097e-27, -1.73284609e-65, -7.64074990e-48, ...,\n",
      "        -8.00370479e-49, -3.13546560e-48,  1.09864930e-01]]), 'sig2': 0.010986498924702746, 'modelIdx': array([ 8, 10, 14]), 'Zmed': array([1., 1., 1.]), 'Wsel': array([0.11337198, 0.04301745, 0.08424657]), 'Wcov': array([0.0046642 , 0.00468666, 0.00447024])}\n"
     ]
    }
   ],
   "source": [
    "tol = 0.0001\n",
    "verbosity = True\n",
    "initz0 = initz0\n",
    "DS = Variational_Bayes_Code(D, xdts, initz0, tol, verbosity)\n",
    "\n",
    "print(DS) "
   ]
  },
  {
   "cell_type": "code",
   "execution_count": 32,
   "metadata": {},
   "outputs": [
    {
     "data": {
      "text/plain": [
       "array([1.66953331e-05, 1.09864930e-01, 1.09864930e-01, 1.09864930e-01,\n",
       "       1.09864930e-01, 1.09864930e-01, 1.09864930e-01, 1.09864930e-01,\n",
       "       1.09864930e-01, 4.66420495e-03, 1.09864930e-01, 4.68665553e-03,\n",
       "       1.09864930e-01, 1.09864930e-01, 1.09864930e-01, 4.47024458e-03,\n",
       "       1.09864930e-01, 1.09864930e-01, 1.09864930e-01, 1.09864930e-01,\n",
       "       1.09864930e-01, 1.09864930e-01, 1.09864930e-01, 1.09864930e-01,\n",
       "       1.09864930e-01, 1.09864930e-01, 1.09864930e-01, 1.09864930e-01,\n",
       "       1.09864930e-01, 1.09864930e-01, 1.09864930e-01, 1.09864930e-01,\n",
       "       1.09864930e-01, 1.09864930e-01, 1.09864930e-01, 1.09864930e-01,\n",
       "       1.09864930e-01, 1.09864930e-01, 1.09864930e-01, 1.09864930e-01,\n",
       "       1.09864930e-01, 1.09864930e-01, 1.09864930e-01, 1.09864930e-01,\n",
       "       1.09864930e-01, 1.09864930e-01, 1.09864930e-01, 1.09864930e-01,\n",
       "       1.09864930e-01, 1.09864930e-01, 1.09864930e-01, 1.09864930e-01,\n",
       "       1.09864930e-01, 1.09864930e-01, 1.09864930e-01, 1.09864930e-01,\n",
       "       1.09864930e-01, 1.09864930e-01, 1.09864930e-01, 1.09864930e-01,\n",
       "       1.09864930e-01, 1.09864930e-01, 1.09864930e-01, 1.09864930e-01,\n",
       "       1.09864930e-01, 1.09864930e-01, 1.09864930e-01, 1.09864930e-01,\n",
       "       1.09864930e-01, 1.09864930e-01, 1.09864930e-01, 1.09864930e-01,\n",
       "       1.09864930e-01, 1.09864930e-01, 1.09864930e-01, 1.09864930e-01,\n",
       "       1.09864930e-01, 1.09864930e-01, 1.09864930e-01, 1.09864930e-01,\n",
       "       1.09864930e-01])"
      ]
     },
     "execution_count": 32,
     "metadata": {},
     "output_type": "execute_result"
    }
   ],
   "source": [
    "np.diag(DS['wCOV'])"
   ]
  },
  {
   "cell_type": "code",
   "execution_count": 34,
   "metadata": {},
   "outputs": [
    {
     "name": "stdout",
     "output_type": "stream",
     "text": [
      "\n",
      "0.991153920774372\n"
     ]
    },
    {
     "data": {
      "image/png": "[encoded data removed]",
      "text/plain": [
       "<Figure size 432x288 with 1 Axes>"
      ]
     },
     "metadata": {
      "needs_background": "light"
     },
     "output_type": "display_data"
    }
   ],
   "source": [
    "zmean6 = DS['zmean']\n",
    "wmean6 = DS['wmean']\n",
    "zmean6[np.where(np.diag(DS['wCOV'])>5e-4)] = 0\n",
    "plt.stem(zmean6)\n",
    "wmean6[np.where(np.diag(DS['wCOV'])>5e-4)] = 0\n",
    "print()\n",
    "print(np.sqrt(wmean6[0]))"
   ]
  },
  {
   "cell_type": "code",
   "execution_count": null,
   "metadata": {},
   "outputs": [],
   "source": []
  }
 ],
 "metadata": {
  "interpreter": {
   "hash": "3f37e94951d1aba8aea1180f8978b4824e076f548924d8dec1753cbbb0da26fd"
  },
  "kernelspec": {
   "display_name": "Python 3 (ipykernel)",
   "language": "python",
   "name": "python3"
  },
  "language_info": {
   "codemirror_mode": {
    "name": "ipython",
    "version": 3
   },
   "file_extension": ".py",
   "mimetype": "text/x-python",
   "name": "python",
   "nbconvert_exporter": "python",
   "pygments_lexer": "ipython3",
   "version": "3.9.7"
  },
  "toc": {
   "base_numbering": 1,
   "nav_menu": {},
   "number_sections": true,
   "sideBar": true,
   "skip_h1_title": false,
   "title_cell": "Table of Contents",
   "title_sidebar": "Contents",
   "toc_cell": false,
   "toc_position": {},
   "toc_section_display": true,
   "toc_window_display": false
  },
  "varInspector": {
   "cols": {
    "lenName": 16,
    "lenType": 16,
    "lenVar": 40
   },
   "kernels_config": {
    "python": {
     "delete_cmd_postfix": "",
     "delete_cmd_prefix": "del ",
     "library": "var_list.py",
     "varRefreshCmd": "print(var_dic_list())"
    },
    "r": {
     "delete_cmd_postfix": ") ",
     "delete_cmd_prefix": "rm(",
     "library": "var_list.r",
     "varRefreshCmd": "cat(var_dic_list()) "
    }
   },
   "types_to_exclude": [
    "module",
    "function",
    "builtin_function_or_method",
    "instance",
    "_Feature"
   ],
   "window_display": false
  }
 },
 "nbformat": 4,
 "nbformat_minor": 4
}
