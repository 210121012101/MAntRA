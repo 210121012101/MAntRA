{
 "cells": [
  {
   "cell_type": "code",
   "execution_count": 1,
   "metadata": {},
   "outputs": [
    {
     "data": {
      "text/plain": [
       "'\\nThis code belongs to the paper:\\n-- YC Mathpati, KS More, T Tripura, R Nayek, S Chakraborty (2023)\\n   MAntRA: A framework for model agnostic reliability analysis\\n   \\n-- This code is for 21 Storey building.\\n'"
      ]
     },
     "execution_count": 1,
     "metadata": {},
     "output_type": "execute_result"
    }
   ],
   "source": [
    "\"\"\"\n",
    "This code belongs to the paper:\n",
    "-- YC Mathpati, KS More, T Tripura, R Nayek, S Chakraborty (2023)\n",
    "   MAntRA: A framework for model agnostic reliability analysis\n",
    "   \n",
    "-- This code is for 21 Storey building.\n",
    "\"\"\""
   ]
  },
  {
   "cell_type": "code",
   "execution_count": 1,
   "metadata": {},
   "outputs": [],
   "source": [
    "import numpy as np\n",
    "import matplotlib.pyplot as plt\n",
    "from scipy import linalg as LA\n",
    "from sklearn.metrics import mean_squared_error as MSE\n",
    "\n",
    "\"\"\"\n",
    "The Dictionary creation part:\n",
    "~~~~~~~~~~~~~~~~~~~~~~~~~~~~~~~~~~~~~~~~~~~~~~~~~~~~~~~~~~~~\n",
    "\"\"\"\n",
    "def library(xt, polyn, harmonic):\n",
    "    if polyn == 0:\n",
    "        polyn = 1\n",
    "    \n",
    "    # The polynomial is (x1 + x2)^p, with p is the order\n",
    "    # poly order 0\n",
    "    ind = 0\n",
    "    n = len(xt[0])\n",
    "    D = np.ones([n,1])\n",
    "    \n",
    "    if polyn >= 1:\n",
    "        # poly order 1\n",
    "        for i in range(len(xt)):\n",
    "            ind = ind+1\n",
    "            new = np.vstack(xt[i,:])\n",
    "            D = np.append(D, new, axis=1)\n",
    "     \n",
    "    if polyn >= 2: \n",
    "        # ploy order 2\n",
    "        for i in range(len(xt)):\n",
    "            for j in  range(i,len(xt)):\n",
    "                ind = ind+1\n",
    "                new = np.multiply(xt[i,:], xt[j,:])\n",
    "                new = np.vstack(new)\n",
    "                D = np.append(D, new, axis=1) \n",
    "    \n",
    "    if polyn >= 3:    \n",
    "        # ploy order 3\n",
    "        for i in range(len(xt)):\n",
    "            for j in  range(i,len(xt)):\n",
    "                for k in  range(j,len(xt)):\n",
    "                    ind = ind+1\n",
    "                    new = np.multiply(np.multiply(xt[i,:], xt[j,:]), xt[k,:])\n",
    "                    new = np.vstack(new)\n",
    "                    D = np.append(D, new, axis=1) \n",
    "    \n",
    "    if polyn >= 4:\n",
    "        # ploy order 4\n",
    "        for i in range(len(xt)):\n",
    "            for j in  range(i,len(xt)):\n",
    "                for k in  range(j,len(xt)):\n",
    "                    for l in range(k,len(xt)):\n",
    "                        ind = ind+1\n",
    "                        new = np.multiply(np.multiply(xt[i,:], xt[j,:]), xt[k,:])\n",
    "                        new = np.multiply(new, xt[l,:])\n",
    "                        new = np.vstack(new)\n",
    "                        D = np.append(D, new, axis=1) \n",
    "    \n",
    "    if polyn >= 5:\n",
    "        # ploy order 5\n",
    "        for i in range(len(xt)):\n",
    "            for j in  range(i,len(xt)):\n",
    "                for k in  range(j,len(xt)):\n",
    "                    for l in  range(k,len(xt)):\n",
    "                        for m in  range(l,len(xt)):\n",
    "                            ind = ind+1\n",
    "                            new = np.multiply(xt[i,:], xt[j,:])\n",
    "                            new = np.multiply(new, xt[k,:])\n",
    "                            new = np.multiply(new, xt[l,:])\n",
    "                            new = np.multiply(new, xt[m,:])\n",
    "                            new = np.vstack(new)\n",
    "                            D = np.append(D, new, axis=1) \n",
    "    \n",
    "    if polyn >= 6:\n",
    "        # ploy order 6\n",
    "        for i in range(len(xt)):\n",
    "            for j in  range(i,len(xt)):\n",
    "                for k in  range(j,len(xt)):\n",
    "                    for l in  range(k,len(xt)):\n",
    "                        for m in  range(l,len(xt)):\n",
    "                            for n in  range(m,len(xt)):\n",
    "                                ind = ind+1\n",
    "                                new = np.multiply(xt[i,:], xt[j,:])\n",
    "                                new = np.multiply(new, xt[k,:])\n",
    "                                new = np.multiply(new, xt[l,:])\n",
    "                                new = np.multiply(new, xt[m,:])\n",
    "                                new = np.multiply(new, xt[n,:])\n",
    "                                new = np.vstack(new)\n",
    "                                D = np.append(D, new, axis=1) \n",
    "    \n",
    "#     # for the signum or sign operator\n",
    "#     for i in range(len(xt)):\n",
    "#         ind = ind+1\n",
    "#         new = np.vstack(np.sign(xt[i,:]))+0.0001\n",
    "#         D = np.append(D, new, axis=1)\n",
    "    \n",
    "    # for the modulus operator\n",
    "    for i in range(len(xt)):\n",
    "        ind = ind+1\n",
    "        new = np.vstack(abs(xt[i,:]))\n",
    "        D = np.append(D, new, axis=1)\n",
    "      \n",
    "    # for the tensor operator\n",
    "    for i in range(len(xt)):\n",
    "        for j in  range(len(xt)):\n",
    "            ind = ind+1\n",
    "            new = np.multiply(xt[i,:],abs(xt[j,:]))\n",
    "            new = np.vstack(new)\n",
    "            D = np.append(D, new, axis=1)\n",
    "            \n",
    "    if harmonic == 1:\n",
    "        for i in range(len(xt)):\n",
    "            ind = ind+1\n",
    "            new = np.vstack(np.sin(xt[i,:]))\n",
    "            D = np.append(D, new, axis=1)\n",
    "\n",
    "        for i in range(len(xt)):\n",
    "            ind = ind+1\n",
    "            new = np.vstack(np.cos(xt[i,:]))\n",
    "            D = np.append(D, new, axis=1)\n",
    "            \n",
    "    ind = len(D[0])\n",
    "    \n",
    "    return D, ind"
   ]
  },
  {
   "cell_type": "code",
   "execution_count": 2,
   "metadata": {},
   "outputs": [],
   "source": [
    "import numpy as np\n",
    "import matplotlib.pyplot as plt\n",
    "\"\"\"\n",
    "A MDOF system excited by random noise\n",
    "----------------------------------------------------------------------\n",
    "\"\"\"\n",
    "\n",
    "def drift_mat(dof,k,c,m):\n",
    "    dim = 2 * dof\n",
    "    A = np.zeros((dim,dim))\n",
    "    \n",
    "    for i in range(dim):\n",
    "        if (i%2 == 0):\n",
    "            A[i][i+1] = 1\n",
    "    \n",
    "        elif(i==1):\n",
    "            A[i][i-1] = -(k+k)/m\n",
    "            A[i][i] = -(c+c)/m\n",
    "            A[i][i+1] = k/m\n",
    "            A[i][i+2] = c/m\n",
    "    \n",
    "        elif(i==dim-1):\n",
    "            A[i][i] = -c/m\n",
    "            A[i][i-1] = -k/m\n",
    "            A[i][i-2] = c/m\n",
    "            A[i][i-3] = k/m\n",
    "            \n",
    "        else:\n",
    "            A[i][i-3] = k/m \n",
    "            A[i][i-2] = c/m\n",
    "            A[i][i-1] = -(k+k)/m\n",
    "            A[i][i] = -(c+c)/m\n",
    "            A[i][i+1] = k/m\n",
    "            A[i][i+2] = c/m\n",
    "    return A\n",
    "\n",
    "def M_DOF_sys(x_initial, dof, T):\n",
    "    # parameters of M_DOF_sys in Equation\n",
    "    m = 1\n",
    "    c = 2\n",
    "    k = 3000\n",
    "\n",
    "    sigma = 1\n",
    "    \n",
    "    # solution by euler maruyama\n",
    "    # -------------------------------------------------------\n",
    "    dt = 0.0001\n",
    "    t = np.arange(0, T+dt, dt)\n",
    "    Nsamp = 200 # no. of samples in the run\n",
    "\n",
    "    y23 = []\n",
    "    y24 = []\n",
    "    y25 = []\n",
    "    y26 = []\n",
    "    y27 = []\n",
    "    y28 = []\n",
    "    y29 = []\n",
    "    y30 = []\n",
    "    \n",
    "    xz13 = []\n",
    "    xz14 = []\n",
    "    \n",
    "    xzs13 = []\n",
    "    xzs14 = []\n",
    "    \n",
    "    # Simulation Starts Here :\n",
    "    # -------------------------------------------------------\n",
    "    for ensemble in range(Nsamp):\n",
    "        x0 = x_initial\n",
    "        x = x0                              # initial condition.\n",
    "        for n in range(len(t)-1):\n",
    "            dW = np.sqrt(dt)*np.random.randn(2*dof)\n",
    "            \n",
    "            '''LINEAR PART DRIFT'''\n",
    "        \n",
    "            A = drift_mat(dof,k,c,m)\n",
    "            \n",
    "            '''DIFFUSION TERM  = b'''\n",
    "            diffu_arr = np.zeros(2*dof)\n",
    "            for i in range(2*dof):\n",
    "                if (i%2 != 0):\n",
    "                    diffu_arr[i] = sigma/m\n",
    "            \n",
    "            soln_arr = x0 + np.matmul(A,x0)*dt + diffu_arr*dW        \n",
    "            x0 = soln_arr\n",
    "            x = np.column_stack((x, x0))\n",
    "            \n",
    "        y23.append(x[-23,:])                \n",
    "        y24.append(x[-24,:])\n",
    "        y25.append(x[-25,:])         # Displacement      \n",
    "        y26.append(x[-26,:])\n",
    "        y27.append(x[-27,:])         # Displacement       \n",
    "        y28.append(x[-28,:])\n",
    "        y29.append(x[-29,:])                \n",
    "        y30.append(x[-30,:])\n",
    "\n",
    "        \n",
    "        zint13 = x[-25, 0:-1]        # Velocity\n",
    "        xfinal13 = x[-25, 1:] \n",
    "        xmz13 = (xfinal13 - zint13)\n",
    "        \n",
    "        zint14 = x[-27, 0:-1]        # Velocity\n",
    "        xfinal14 = x[-27, 1:] \n",
    "        xmz14 = (xfinal14 - zint14) \n",
    "\n",
    "        xz13.append(xmz13)\n",
    "        xz14.append(xmz14)\n",
    "        \n",
    "        xmzsq13 = np.multiply(xmz13, xmz13)\n",
    "        xzs13.append(xmzsq13)\n",
    "        \n",
    "        xmzsq14 = np.multiply(xmz14, xmz14)\n",
    "        xzs14.append(xmzsq14)\n",
    "        \n",
    "    xz13 = pow(dt,-1)*np.mean(np.array(xz13), axis = 0)\n",
    "    xz14 = pow(dt,-1)*np.mean(np.array(xz14), axis = 0)\n",
    "\n",
    "    xzs13 = pow(dt,-1)*np.mean(np.array(xzs13), axis = 0)\n",
    "    xzs14 = pow(dt,-1)*np.mean(np.array(xzs14), axis = 0)\n",
    "\n",
    "    y23 = np.array(y23)\n",
    "    y24 = np.array(y24)\n",
    "    y25 = np.array(y25)\n",
    "    y26 = np.array(y26)\n",
    "    y27 = np.array(y27)\n",
    "    y28 = np.array(y28)\n",
    "    y29 = np.array(y29)\n",
    "    y30 = np.array(y30)\n",
    "\n",
    "    time = t[0:-1]\n",
    "    return xz13, xz14, xzs13, xzs14, y23, y24, y25, y26, y27, y28, y29, y30, time"
   ]
  },
  {
   "cell_type": "code",
   "execution_count": 3,
   "metadata": {},
   "outputs": [],
   "source": [
    "np.random.seed(0)\n",
    "T = 1\n",
    "dof = 21\n",
    "x_initial = np.zeros(2*dof)"
   ]
  },
  {
   "cell_type": "code",
   "execution_count": 4,
   "metadata": {},
   "outputs": [
    {
     "name": "stdout",
     "output_type": "stream",
     "text": [
      "\n"
     ]
    },
    {
     "data": {
      "text/plain": [
       "19.836947782834372"
      ]
     },
     "execution_count": 4,
     "metadata": {},
     "output_type": "execute_result"
    }
   ],
   "source": [
    "import time\n",
    "start = time.time()\n",
    "xz13, xz14, xzs13, xzs14, y23, y24, y25, y26, y27, y28, y29, y30, time_ = M_DOF_sys(x_initial, dof, T)\n",
    "end = time.time()\n",
    "print()\n",
    "TIMES = (end - start)/60\n",
    "TIMES"
   ]
  },
  {
   "cell_type": "code",
   "execution_count": 5,
   "metadata": {},
   "outputs": [
    {
     "name": "stdout",
     "output_type": "stream",
     "text": [
      "\n"
     ]
    },
    {
     "data": {
      "text/plain": [
       "5.348912453651428"
      ]
     },
     "execution_count": 5,
     "metadata": {},
     "output_type": "execute_result"
    }
   ],
   "source": [
    "startD = time.time()\n",
    "# Expected Dictionary Creation:\n",
    "libr = []\n",
    "for j in range(len(y23)):\n",
    "    data = np.row_stack((y23[j,0:-1], y24[j,0:-1], y25[j,0:-1], y26[j,0:-1], y27[j,0:-1], y28[j,0:-1], y29[j,0:-1], y30[j,0:-1]))\n",
    "    Dtemp, nl = library(data, 1, 0)\n",
    "    libr.append(Dtemp)\n",
    "libr = np.array(libr)\n",
    "Dictionary= np.mean(libr, axis = 0)\n",
    "print()\n",
    "endD = time.time()\n",
    "TIMED = (endD - startD)/60\n",
    "TIMED"
   ]
  },
  {
   "cell_type": "code",
   "execution_count": 6,
   "metadata": {},
   "outputs": [],
   "source": [
    "xdts = xzs13\n",
    "D = Dictionary"
   ]
  },
  {
   "cell_type": "code",
   "execution_count": 7,
   "metadata": {},
   "outputs": [
    {
     "data": {
      "text/plain": [
       "(10000, 81)"
      ]
     },
     "execution_count": 7,
     "metadata": {},
     "output_type": "execute_result"
    }
   ],
   "source": [
    "D.shape"
   ]
  },
  {
   "cell_type": "code",
   "execution_count": 8,
   "metadata": {},
   "outputs": [
    {
     "data": {
      "text/plain": [
       "(810000,)"
      ]
     },
     "execution_count": 8,
     "metadata": {},
     "output_type": "execute_result"
    }
   ],
   "source": [
    "Dict = D.reshape(-1,order='F')\n",
    "Dict.shape"
   ]
  },
  {
   "cell_type": "code",
   "execution_count": 9,
   "metadata": {
    "scrolled": true
   },
   "outputs": [
    {
     "name": "stdout",
     "output_type": "stream",
     "text": [
      "{'Relevant': matlab.double([[1.0],[3.0],[14.0],[16.0],[44.0],[50.0],[52.0],[57.0],[68.0],[70.0]]), 'Value': matlab.double([[0.9953315641323672],[-2.578008394338965],[0.0804756041164806],[0.11949452233700361],[4.374260860132828],[0.017914940504955748],[-0.1987055707212403],[5.830412920022909],[0.0989211611745288],[-0.25998742837331373]])}\n"
     ]
    }
   ],
   "source": [
    "#!/usr/bin/env python\n",
    "\"\"\"\n",
    "Sample script that uses the SparseBayes module created using\n",
    "MATLAB Compiler SDK.\n",
    "\n",
    "Refer to the MATLAB Compiler SDK documentation for more information.\n",
    "\"\"\"\n",
    "\n",
    "from __future__ import print_function\n",
    "import SparseBayes\n",
    "import matlab\n",
    "\n",
    "my_SparseBayes = SparseBayes.initialize()\n",
    "\n",
    "DictIn = matlab.double(Dict, size=(D.shape[0], D.shape[1]))\n",
    "targetIn = matlab.double(xdts, size=(D.shape[0], 1))\n",
    "DMOut = my_SparseBayes.SparseBayes(DictIn, targetIn)\n",
    "print(DMOut, sep='\\n')\n",
    "\n",
    "my_SparseBayes.terminate()"
   ]
  },
  {
   "cell_type": "code",
   "execution_count": 10,
   "metadata": {},
   "outputs": [
    {
     "name": "stdout",
     "output_type": "stream",
     "text": [
      "[1. 0. 1. 0. 0. 0. 0. 0. 0. 0. 0. 0. 0. 1. 0. 1. 0. 0. 0. 0. 0. 0. 0. 0.\n",
      " 0. 0. 0. 0. 0. 0. 0. 0. 0. 0. 0. 0. 0. 0. 0. 0. 0. 0. 0. 1. 0. 0. 0. 0.\n",
      " 0. 1. 0. 1. 0. 0. 0. 0. 1. 0. 0. 0. 0. 0. 0. 0. 0. 0. 0. 1. 0. 1. 0. 0.\n",
      " 0. 0. 0. 0. 0. 0. 0. 0. 0.]\n"
     ]
    }
   ],
   "source": [
    "c = np.array(DMOut['Value'])\n",
    "d = []\n",
    "for j in c:\n",
    "    d.append(j[0])\n",
    "    \n",
    "a = np.array(DMOut['Relevant'])\n",
    "b = []\n",
    "for i in a:\n",
    "    b.append(int((i[0])-1))\n",
    "    \n",
    "initz0 = np.zeros(D.shape[1])\n",
    "for i in b:\n",
    "    initz0[i] = 1\n",
    "    \n",
    "print(initz0)"
   ]
  },
  {
   "cell_type": "code",
   "execution_count": 11,
   "metadata": {},
   "outputs": [],
   "source": [
    "import warnings\n",
    "import math\n",
    "import numpy as np\n",
    "import scipy as sp\n",
    "import sympy as smp\n",
    "from scipy import stats\n",
    "from numpy import linalg as la\n",
    "import matplotlib.pyplot as plt\n",
    "from numpy.random import gamma\n",
    "from scipy.special import loggamma\n",
    "\n",
    "def Variational_Bayes_Code(X, y, initz0, tol, verbosity):\n",
    "\n",
    "    if (len(X) == 0 or len(y) == 0):\n",
    "        raise Exception('X and or y is missing')\n",
    "        \n",
    "    if (len(X) != len(y)):\n",
    "        raise Exception('Number of observations do not match')\n",
    "        \n",
    "    # X = stats.zscore(X, ddof = 1)         \n",
    "    # X = np.c_[np.ones(len(X)),X]\n",
    "    # X = np.c_[np.ones(len(X)),X]          \n",
    "    # y = y - np.mean(y)\n",
    "    N = len(X)\n",
    "    # Prior parameters of noise variance (Inverse Gamma dist)\n",
    "    A = 1e-4\n",
    "    B = 1e-4\n",
    "    vs = 10\n",
    "    tau0 = 1000\n",
    "    \n",
    "    if (len(initz0) == 0):\n",
    "        raise Exception('No initial value of z found')\n",
    "    else:\n",
    "        p0 = expit(-0.5*(np.sqrt(N)))       \n",
    "        \n",
    "        # Adding the intercept indicator variable (slightly less than 1 to prevent log(0) values) \n",
    "        # initz = np.hstack((1,initz0))  \n",
    "        initz = initz0\n",
    "\n",
    "        DS,LLcvg  = run_VB2(X, y, vs, A, B, tau0, p0, initz, tol, verbosity)    \n",
    "        # This is function which will come first\n",
    "        \n",
    "    out_vb   = DS\n",
    "    a = DS['zmean'] > 0.5\n",
    "    count = 0\n",
    "    modelIdx = []\n",
    "    for i in a:\n",
    "        if i == True:\n",
    "            modelIdx.append(count)\n",
    "        count += 1\n",
    "            \n",
    "    modelIdx = np.setdiff1d(modelIdx,0)\n",
    "    out_vb['modelIdx'] = modelIdx-1\n",
    "    out_vb['Zmed'] = DS['zmean'][modelIdx]\n",
    "    out_vb['Wsel'] = DS['wmean'][modelIdx]\n",
    "    out_vb['Wcov'] = DS['wCOV'][modelIdx, modelIdx]\n",
    "    out_vb['sig2'] = DS['sig2']\n",
    "    \n",
    "    return out_vb\n",
    "\n",
    "DS = {}\n",
    "def run_VB2(Xc, yc, vs, A, B, tau0, p0, initz, tol, verbosity):\n",
    "    \"\"\"This function is the implementation of VB from John T. Ormerod paper (2014)\n",
    "       This implementation uses slab scaling by noise variance\n",
    "       vs    : treated as a constant\n",
    "       A,B   : constants of the IG prior over noise variance\n",
    "       tau0  : Expected value of (sigma^{-2})\n",
    "       p0    : inclusion probablility\n",
    "       initz : Initial value of z\n",
    "       Xc    : Centered and standardized dictionary except the first column\n",
    "       yc    : Centered observations \"\"\"\n",
    "    \n",
    "    Lambda    = logit(p0)\n",
    "    iter_     = 0\n",
    "    max_iter  = 100\n",
    "    LL        = np.zeros(max_iter)        \n",
    "    zm        = np.reshape(initz,(-1))            \n",
    "    taum      = tau0                      \n",
    "    invVs     = 1/vs\n",
    "    \n",
    "    X = Xc\n",
    "    y = yc\n",
    "    XtX = (X.T) @ X\n",
    "    XtX = 0.5*(XtX + (XtX).T)\n",
    "    Xty = (X.T) @ y                 \n",
    "    yty = (y.T) @ y\n",
    "\n",
    "    eyep = np.eye(len(XtX))\n",
    "    [N,p] = X.shape\n",
    "    allidx = np.arange(p)\n",
    "    zm[0] = 1                                                                   # Always include the intercept \n",
    "    Abar    = (A + 0.5*N + 0.5*p)\n",
    "    converged = 0\n",
    "    \n",
    "    while (converged==0):\n",
    "        if (iter_==100):\n",
    "            break\n",
    "        \n",
    "        Zm       = np.diag(zm)\n",
    "        Omg      = (np.reshape(zm,(-1,1)) @ np.reshape(zm,(1,-1))) + (Zm @ (eyep-Zm))\n",
    "        # Update the mean and covariance of the coefficients given mean of z\n",
    "        term1    = XtX * Omg                                                       # elementwisw multiplication\n",
    "        invSigma = taum * (term1 + invVs * eyep)\n",
    "        invSigma = 0.5*(invSigma + invSigma.T)                                     # symmetric\n",
    "        Sigma    = la.inv(invSigma) @ eyep\n",
    "        mu       = taum * (Sigma @ Zm @ Xty)                                       # @ ---> matrix multiplication\n",
    "        \n",
    "        # Update tau related to sigma\n",
    "        term2    = 2 * Xty @ Zm @ mu\n",
    "        term3    =  np.reshape(mu,(len(initz0),1)) @ np.reshape(mu,(1,len(initz0)))+ Sigma\n",
    "        term4    = yty - term2 + np.trace((term1 + invVs * eyep) @ term3)    \n",
    "        s        = B + 0.5*term4\n",
    "        \n",
    "        if s<0:\n",
    "            warnings.warn('s turned out be less than 0. Taking absolute value')\n",
    "            s = B + 0.5*abs(term4)\n",
    "        \n",
    "        taum     = Abar / s\n",
    "        zstr   = zm\n",
    "\n",
    "        order   = np.setdiff1d(np.random.permutation(p), 0, assume_unique=True)\n",
    "        for j in order: \n",
    "            muj     = mu[j]                            \n",
    "            sigmaj  = Sigma[j,j]\n",
    "            \n",
    "            remidx  = np.setdiff1d(allidx,j)\n",
    "            mu_j    = mu[remidx]\n",
    "            Sigma_jj= Sigma[remidx,j]\n",
    "            etaj    = (Lambda - 0.5 * taum * ((muj**2 + sigmaj) * XtX[j,j]) \n",
    "                       + taum * np.reshape(X[:,j],(1,-1)) @ (np.reshape(y,(-1,1))*muj \n",
    "                        -X[:,remidx] @ np.diag(zstr[remidx]) @ ((mu_j * muj + Sigma_jj).reshape(-1,1))))\n",
    "            zstr[j] = expit(etaj)\n",
    "            \n",
    "        zm = zstr\n",
    "        \n",
    "        # Calculate marginal log-likelihood\n",
    "        \n",
    "        LL[iter_] = ( 0.5*p \n",
    "                    - 0.5*N*np.log(2*np.pi) \n",
    "                    + 0.5*p*np.log(invVs) \n",
    "                    + A*np.log(B)\n",
    "                    - loggamma(A)\n",
    "                    + loggamma(Abar) \n",
    "                    - Abar*np.log(s)\n",
    "                    + 0.5*np.log(la.det(Sigma))\n",
    "                    + np.nansum(zm*(np.log(p0) - np.log(zm))) \n",
    "                    + np.nansum((1-zm)*(np.log(1-p0) - np.log(1-zm))))\n",
    "        \n",
    "        if(verbosity):\n",
    "            print(f'Iteration = {iter_}  log(Likelihood) = {LL[iter_]}')\n",
    "        \n",
    "        if(iter_>1):\n",
    "            cvg = LL[iter_] - LL[iter_-1]\n",
    "            \n",
    "            if (cvg < 0 and verbosity):\n",
    "                print('OOPS!  log(like) decreasing!!')\n",
    "            elif (cvg<tol or iter_> max_iter):\n",
    "                converged = 1\n",
    "                LL = LL[0:iter_]\n",
    "                \n",
    "        iter_    = iter_ + 1\n",
    "    DS['zmean'] = zm\n",
    "    DS['wmean'] = mu\n",
    "    DS['wCOV'] = Sigma\n",
    "    DS['sig2'] = 1/taum\n",
    "    LLcvg    = LL[-1]\n",
    "    return DS, LLcvg\n",
    "    \n",
    "def logit(C):\n",
    "    logitC = np.log(C) - np.log(1-C)\n",
    "    return logitC\n",
    "\n",
    "def expit(C):\n",
    "    expitC = 1./(1 + np.exp(-C))\n",
    "    return expitC"
   ]
  },
  {
   "cell_type": "code",
   "execution_count": 12,
   "metadata": {},
   "outputs": [
    {
     "data": {
      "text/plain": [
       "((10000, 81), (81,))"
      ]
     },
     "execution_count": 12,
     "metadata": {},
     "output_type": "execute_result"
    }
   ],
   "source": [
    "D.shape, initz0.shape"
   ]
  },
  {
   "cell_type": "code",
   "execution_count": 13,
   "metadata": {},
   "outputs": [
    {
     "name": "stderr",
     "output_type": "stream",
     "text": [
      "C:\\Users\\USER\\AppData\\Local\\Temp/ipykernel_9824/3512855728.py:147: RuntimeWarning: divide by zero encountered in log\n",
      "  + np.nansum((1-zm)*(np.log(1-p0) - np.log(1-zm))))\n",
      "C:\\Users\\USER\\AppData\\Local\\Temp/ipykernel_9824/3512855728.py:147: RuntimeWarning: invalid value encountered in multiply\n",
      "  + np.nansum((1-zm)*(np.log(1-p0) - np.log(1-zm))))\n"
     ]
    },
    {
     "name": "stdout",
     "output_type": "stream",
     "text": [
      "Iteration = 0  log(Likelihood) = 8194.486307619763\n"
     ]
    },
    {
     "name": "stderr",
     "output_type": "stream",
     "text": [
      "C:\\Users\\USER\\AppData\\Local\\Temp/ipykernel_9824/3512855728.py:174: RuntimeWarning: overflow encountered in exp\n",
      "  expitC = 1./(1 + np.exp(-C))\n",
      "C:\\Users\\USER\\AppData\\Local\\Temp/ipykernel_9824/3512855728.py:146: RuntimeWarning: divide by zero encountered in log\n",
      "  + np.nansum(zm*(np.log(p0) - np.log(zm)))\n",
      "C:\\Users\\USER\\AppData\\Local\\Temp/ipykernel_9824/3512855728.py:146: RuntimeWarning: invalid value encountered in multiply\n",
      "  + np.nansum(zm*(np.log(p0) - np.log(zm)))\n"
     ]
    },
    {
     "name": "stdout",
     "output_type": "stream",
     "text": [
      "Iteration = 1  log(Likelihood) = 8251.31955597997\n",
      "Iteration = 2  log(Likelihood) = 8251.32106427982\n",
      "Iteration = 3  log(Likelihood) = 8251.321064376001\n",
      "{'zmean': array([1.00000000e+00, 1.17116222e-40, 1.80720737e-22, 1.38085758e-39,\n",
      "       1.80709647e-22, 1.34396546e-34, 1.82219860e-22, 8.45708960e-33,\n",
      "       1.83459373e-22, 0.00000000e+00, 1.13152006e-33, 0.00000000e+00,\n",
      "       1.83894332e-32, 1.00000000e+00, 2.62931241e-31, 1.00000000e+00,\n",
      "       3.48434459e-30, 5.48593320e-31, 1.85478135e-22, 3.28405913e-26,\n",
      "       1.86198797e-22, 3.84979798e-25, 1.86690656e-22, 1.48719801e-24,\n",
      "       1.87700057e-22, 1.89382571e-22, 1.92840815e-22, 1.89521157e-22,\n",
      "       1.92845450e-22, 1.89374754e-22, 1.92852085e-22, 1.90143503e-22,\n",
      "       1.92855893e-22, 1.41085993e-26, 1.86627005e-22, 6.19329843e-30,\n",
      "       1.87098278e-22, 7.85074174e-26, 1.88061080e-22, 4.06938270e-25,\n",
      "       1.88857854e-22, 1.89740250e-22, 1.92845438e-22, 1.89959734e-22,\n",
      "       1.92846975e-22, 1.89218370e-22, 1.92852197e-22, 1.90424340e-22,\n",
      "       1.92855352e-22, 2.47547557e-24, 1.88237199e-22, 3.56296260e-25,\n",
      "       1.88457239e-22, 2.84716797e-27, 1.88702233e-22, 1.24662298e-25,\n",
      "       1.89342610e-22, 1.90353084e-22, 1.92852109e-22, 1.90455963e-22,\n",
      "       1.92852153e-22, 1.89932503e-22, 1.92853071e-22, 1.90558024e-22,\n",
      "       1.92855388e-22, 3.33220556e-24, 1.85244352e-22, 1.04063256e-23,\n",
      "       1.86734408e-22, 1.19642178e-24, 1.87671361e-22, 3.76620608e-28,\n",
      "       1.88039763e-22, 1.90651663e-22, 1.92856094e-22, 1.91005373e-22,\n",
      "       1.92855400e-22, 1.90495483e-22, 1.92855439e-22, 1.90964410e-22,\n",
      "       1.92855128e-22]), 'wmean': array([ 9.95700942e-01, -4.03306141e-40, -4.14116935e-23, -7.87196640e-39,\n",
      "       -2.61077542e-23, -3.40485512e-34, -2.39387261e-23, -3.35358057e-32,\n",
      "       -1.57080061e-23,  0.00000000e+00, -4.02012992e-36,  0.00000000e+00,\n",
      "       -1.68666044e-33,  9.25694117e-02, -6.13834074e-32,  1.09090126e-01,\n",
      "       -6.48359508e-31, -8.98634657e-31, -2.16828453e-23, -1.40110110e-26,\n",
      "       -1.86580989e-23, -3.95004606e-25, -1.51879702e-23, -1.60464528e-24,\n",
      "       -1.83256874e-23,  1.82780645e-24, -1.47438899e-24,  1.18590729e-23,\n",
      "       -1.54868003e-24, -1.28849505e-23, -1.64071008e-24, -2.45585615e-23,\n",
      "       -1.58875641e-24, -2.19486316e-26, -2.21847075e-23, -2.29018342e-29,\n",
      "       -1.89997539e-23, -1.89520669e-25, -1.84878641e-23, -1.07212598e-24,\n",
      "       -1.66467193e-23,  4.33580886e-24, -1.52723783e-24,  1.76063248e-23,\n",
      "       -1.59931068e-24, -8.35158576e-24, -1.67469030e-24, -2.01459961e-23,\n",
      "       -1.55813003e-24,  1.17645393e-24,  1.68982598e-24, -8.84212378e-25,\n",
      "        6.64571204e-24, -2.72836755e-27,  5.66954353e-24, -3.00639010e-25,\n",
      "        1.00620595e-23,  3.54539566e-24, -1.67033610e-24,  1.32828754e-23,\n",
      "       -1.68135963e-24, -6.30599746e-24, -1.86377855e-24, -1.83864867e-23,\n",
      "       -1.69165039e-24, -3.94674581e-24, -2.62504644e-23, -5.69014912e-24,\n",
      "       -2.55690789e-23, -2.87790654e-24, -2.40655383e-23, -1.37440846e-27,\n",
      "       -2.00649829e-23,  3.29630820e-24, -1.55451645e-24,  1.31581695e-23,\n",
      "       -1.49557091e-24, -1.97832636e-24, -1.68483084e-24, -1.21582390e-23,\n",
      "       -1.47432348e-24]), 'wCOV': array([[ 1.59962456e-05,  1.48153768e-43,  8.20790896e-27, ...,\n",
      "         1.85888444e-28,  3.90561180e-27,  1.00485511e-28],\n",
      "       [ 1.48153768e-43,  1.08584450e-01, -7.35936197e-64, ...,\n",
      "        -2.68719918e-65, -6.64919570e-64, -1.45683967e-65],\n",
      "       [ 8.20790896e-27, -7.35936197e-64,  1.08584450e-01, ...,\n",
      "        -1.05776534e-47, -5.21054042e-47, -7.94481589e-48],\n",
      "       ...,\n",
      "       [ 1.85888444e-28, -2.68719918e-65, -1.05776534e-47, ...,\n",
      "         1.08584450e-01, -3.62667435e-48, -7.12419110e-49],\n",
      "       [ 3.90561180e-27, -6.64919570e-64, -5.21054042e-47, ...,\n",
      "        -3.62667435e-48,  1.08584450e-01, -3.65995731e-48],\n",
      "       [ 1.00485511e-28, -1.45683967e-65, -7.94481589e-48, ...,\n",
      "        -7.12419110e-49, -3.65995731e-48,  1.08584450e-01]]), 'sig2': 0.010858451043328483, 'modelIdx': array([12, 14]), 'Zmed': array([1., 1.]), 'Wsel': array([0.09256941, 0.10909013]), 'Wcov': array([0.00263008, 0.00243275])}\n"
     ]
    }
   ],
   "source": [
    "tol = 0.0001\n",
    "verbosity = True\n",
    "initz0 = initz0\n",
    "DS = Variational_Bayes_Code(D, xdts, initz0, tol, verbosity)\n",
    "\n",
    "print(DS) "
   ]
  },
  {
   "cell_type": "code",
   "execution_count": 14,
   "metadata": {
    "scrolled": true
   },
   "outputs": [
    {
     "data": {
      "text/plain": [
       "<StemContainer object of 3 artists>"
      ]
     },
     "execution_count": 14,
     "metadata": {},
     "output_type": "execute_result"
    },
    {
     "data": {
      "image/png": "[encoded data removed]",
      "text/plain": [
       "<Figure size 432x288 with 1 Axes>"
      ]
     },
     "metadata": {
      "needs_background": "light"
     },
     "output_type": "display_data"
    }
   ],
   "source": [
    "plt.stem(DS['zmean'])   "
   ]
  },
  {
   "cell_type": "code",
   "execution_count": 16,
   "metadata": {},
   "outputs": [
    {
     "data": {
      "text/plain": [
       "array([1.59962456e-05, 1.08584450e-01, 1.08584450e-01, 1.08584450e-01,\n",
       "       1.08584450e-01, 1.08584450e-01, 1.08584450e-01, 1.08584450e-01,\n",
       "       1.08584450e-01, 1.08584450e-01, 1.08584450e-01, 1.08584450e-01,\n",
       "       1.08584450e-01, 2.63007688e-03, 1.08584450e-01, 2.43275330e-03,\n",
       "       1.08584450e-01, 1.08584450e-01, 1.08584450e-01, 1.08584450e-01,\n",
       "       1.08584450e-01, 1.08584450e-01, 1.08584450e-01, 1.08584450e-01,\n",
       "       1.08584450e-01, 1.08584450e-01, 1.08584450e-01, 1.08584450e-01,\n",
       "       1.08584450e-01, 1.08584450e-01, 1.08584450e-01, 1.08584450e-01,\n",
       "       1.08584450e-01, 1.08584450e-01, 1.08584450e-01, 1.08584450e-01,\n",
       "       1.08584450e-01, 1.08584450e-01, 1.08584450e-01, 1.08584450e-01,\n",
       "       1.08584450e-01, 1.08584450e-01, 1.08584450e-01, 1.08584450e-01,\n",
       "       1.08584450e-01, 1.08584450e-01, 1.08584450e-01, 1.08584450e-01,\n",
       "       1.08584450e-01, 1.08584450e-01, 1.08584450e-01, 1.08584450e-01,\n",
       "       1.08584450e-01, 1.08584450e-01, 1.08584450e-01, 1.08584450e-01,\n",
       "       1.08584450e-01, 1.08584450e-01, 1.08584450e-01, 1.08584450e-01,\n",
       "       1.08584450e-01, 1.08584450e-01, 1.08584450e-01, 1.08584450e-01,\n",
       "       1.08584450e-01, 1.08584450e-01, 1.08584450e-01, 1.08584450e-01,\n",
       "       1.08584450e-01, 1.08584450e-01, 1.08584450e-01, 1.08584450e-01,\n",
       "       1.08584450e-01, 1.08584450e-01, 1.08584450e-01, 1.08584450e-01,\n",
       "       1.08584450e-01, 1.08584450e-01, 1.08584450e-01, 1.08584450e-01,\n",
       "       1.08584450e-01])"
      ]
     },
     "execution_count": 16,
     "metadata": {},
     "output_type": "execute_result"
    }
   ],
   "source": [
    "np.diag(DS['wCOV'])"
   ]
  },
  {
   "cell_type": "code",
   "execution_count": 17,
   "metadata": {},
   "outputs": [
    {
     "name": "stdout",
     "output_type": "stream",
     "text": [
      "\n",
      "0.997848155581177\n"
     ]
    },
    {
     "data": {
      "image/png": "[encoded data removed]",
      "text/plain": [
       "<Figure size 432x288 with 1 Axes>"
      ]
     },
     "metadata": {
      "needs_background": "light"
     },
     "output_type": "display_data"
    }
   ],
   "source": [
    "zmean11 = DS['zmean']\n",
    "wmean11 = DS['wmean']\n",
    "zmean11[np.where(np.diag(DS['wCOV'])>5e-4)] = 0\n",
    "plt.stem(zmean11)\n",
    "wmean11[np.where(np.diag(DS['wCOV'])>5e-4)] = 0\n",
    "print()\n",
    "print(np.sqrt(wmean11[0]))"
   ]
  },
  {
   "cell_type": "code",
   "execution_count": 18,
   "metadata": {},
   "outputs": [],
   "source": [
    "xdts = xzs14"
   ]
  },
  {
   "cell_type": "code",
   "execution_count": 19,
   "metadata": {},
   "outputs": [
    {
     "name": "stdout",
     "output_type": "stream",
     "text": [
      "{'Relevant': matlab.double([[1.0],[8.0],[13.0],[35.0],[40.0],[43.0],[46.0],[64.0],[70.0],[72.0]]), 'Value': matlab.double([[1.0135729600244339],[-0.09887217872972166],[1.8562282044459353],[3.338671944468147],[-0.10557163554245222],[63.75725469730531],[0.40621090518523056],[-5.690473548031185],[0.16630413064128968],[-0.25557364028914115]])}\n"
     ]
    }
   ],
   "source": [
    "#!/usr/bin/env python\n",
    "\"\"\"\n",
    "Sample script that uses the SparseBayes module created using\n",
    "MATLAB Compiler SDK.\n",
    "\n",
    "Refer to the MATLAB Compiler SDK documentation for more information.\n",
    "\"\"\"\n",
    "\n",
    "from __future__ import print_function\n",
    "import SparseBayes\n",
    "import matlab\n",
    "\n",
    "my_SparseBayes = SparseBayes.initialize()\n",
    "\n",
    "DictIn = matlab.double(Dict, size=(D.shape[0], D.shape[1]))\n",
    "targetIn = matlab.double(xdts, size=(D.shape[0], 1))\n",
    "DMOut = my_SparseBayes.SparseBayes(DictIn, targetIn)\n",
    "print(DMOut, sep='\\n')\n",
    "\n",
    "my_SparseBayes.terminate()"
   ]
  },
  {
   "cell_type": "code",
   "execution_count": 20,
   "metadata": {},
   "outputs": [
    {
     "name": "stdout",
     "output_type": "stream",
     "text": [
      "[1. 0. 0. 0. 0. 0. 0. 1. 0. 0. 0. 0. 1. 0. 0. 0. 0. 0. 0. 0. 0. 0. 0. 0.\n",
      " 0. 0. 0. 0. 0. 0. 0. 0. 0. 0. 1. 0. 0. 0. 0. 1. 0. 0. 1. 0. 0. 1. 0. 0.\n",
      " 0. 0. 0. 0. 0. 0. 0. 0. 0. 0. 0. 0. 0. 0. 0. 1. 0. 0. 0. 0. 0. 1. 0. 1.\n",
      " 0. 0. 0. 0. 0. 0. 0. 0. 0.]\n"
     ]
    }
   ],
   "source": [
    "c = np.array(DMOut['Value'])\n",
    "d = []\n",
    "for j in c:\n",
    "    d.append(j[0])\n",
    "    \n",
    "a = np.array(DMOut['Relevant'])\n",
    "b = []\n",
    "for i in a:\n",
    "    b.append(int((i[0])-1))\n",
    "    \n",
    "initz0 = np.zeros(D.shape[1])\n",
    "for i in b:\n",
    "    initz0[i] = 1\n",
    "    \n",
    "print(initz0)"
   ]
  },
  {
   "cell_type": "code",
   "execution_count": 21,
   "metadata": {},
   "outputs": [
    {
     "name": "stderr",
     "output_type": "stream",
     "text": [
      "C:\\Users\\USER\\AppData\\Local\\Temp/ipykernel_9824/3512855728.py:147: RuntimeWarning: divide by zero encountered in log\n",
      "  + np.nansum((1-zm)*(np.log(1-p0) - np.log(1-zm))))\n",
      "C:\\Users\\USER\\AppData\\Local\\Temp/ipykernel_9824/3512855728.py:147: RuntimeWarning: invalid value encountered in multiply\n",
      "  + np.nansum((1-zm)*(np.log(1-p0) - np.log(1-zm))))\n",
      "C:\\Users\\USER\\AppData\\Local\\Temp/ipykernel_9824/3512855728.py:174: RuntimeWarning: overflow encountered in exp\n",
      "  expitC = 1./(1 + np.exp(-C))\n"
     ]
    },
    {
     "name": "stdout",
     "output_type": "stream",
     "text": [
      "Iteration = 0  log(Likelihood) = 8173.222017658047\n"
     ]
    },
    {
     "name": "stderr",
     "output_type": "stream",
     "text": [
      "C:\\Users\\USER\\AppData\\Local\\Temp/ipykernel_9824/3512855728.py:146: RuntimeWarning: divide by zero encountered in log\n",
      "  + np.nansum(zm*(np.log(p0) - np.log(zm)))\n",
      "C:\\Users\\USER\\AppData\\Local\\Temp/ipykernel_9824/3512855728.py:146: RuntimeWarning: invalid value encountered in multiply\n",
      "  + np.nansum(zm*(np.log(p0) - np.log(zm)))\n"
     ]
    },
    {
     "name": "stdout",
     "output_type": "stream",
     "text": [
      "Iteration = 1  log(Likelihood) = 8231.275376270867\n",
      "Iteration = 2  log(Likelihood) = 8231.276891251578\n",
      "Iteration = 3  log(Likelihood) = 8231.27689134871\n",
      "{'zmean': array([1.00000000e+00, 1.17116228e-40, 1.80720737e-22, 1.38085765e-39,\n",
      "       1.80709647e-22, 1.34396551e-34, 1.82219860e-22, 8.45708984e-33,\n",
      "       1.83459373e-22, 0.00000000e+00, 1.13152010e-33, 0.00000000e+00,\n",
      "       1.00000000e+00, 0.00000000e+00, 2.62931247e-31, 0.00000000e+00,\n",
      "       3.48434467e-30, 5.48593333e-31, 1.85478135e-22, 3.28405917e-26,\n",
      "       1.86198797e-22, 3.84979801e-25, 1.86690656e-22, 1.48719801e-24,\n",
      "       1.87700057e-22, 1.89382571e-22, 1.92840815e-22, 1.89521157e-22,\n",
      "       1.92845450e-22, 1.89374754e-22, 1.92852085e-22, 1.90143503e-22,\n",
      "       1.92855893e-22, 1.41085995e-26, 1.86627005e-22, 6.19329856e-30,\n",
      "       1.87098278e-22, 7.85074182e-26, 1.88061080e-22, 4.06938273e-25,\n",
      "       1.88857854e-22, 1.89740250e-22, 1.92845438e-22, 1.89959734e-22,\n",
      "       1.92846975e-22, 1.89218370e-22, 1.92852197e-22, 1.90424340e-22,\n",
      "       1.92855352e-22, 2.47547558e-24, 1.88237199e-22, 3.56296263e-25,\n",
      "       1.88457239e-22, 2.84716800e-27, 1.88702233e-22, 1.24662299e-25,\n",
      "       1.89342610e-22, 1.90353084e-22, 1.92852109e-22, 1.90455963e-22,\n",
      "       1.92852153e-22, 1.89932503e-22, 1.92853071e-22, 1.90558024e-22,\n",
      "       1.92855388e-22, 3.33220558e-24, 1.85244352e-22, 1.04063257e-23,\n",
      "       1.86734408e-22, 1.19642179e-24, 1.87671361e-22, 3.76620614e-28,\n",
      "       1.88039763e-22, 1.90651663e-22, 1.92856094e-22, 1.91005373e-22,\n",
      "       1.92855400e-22, 1.90495483e-22, 1.92855439e-22, 1.90964410e-22,\n",
      "       1.92855128e-22]), 'wmean': array([ 1.01779620e+00,  4.91631913e-40,  5.42167150e-24,  3.72824126e-39,\n",
      "        7.11552262e-24,  1.08030753e-34,  4.90337828e-24, -5.87117640e-32,\n",
      "       -1.47760593e-24,  0.00000000e+00,  1.95237802e-33,  0.00000000e+00,\n",
      "        1.62180635e+00,  0.00000000e+00,  4.01103946e-31,  0.00000000e+00,\n",
      "        4.44812067e-30,  7.86395648e-31,  2.51298836e-23,  7.58710628e-26,\n",
      "        2.27429222e-23,  3.73345563e-25,  2.08182228e-23,  8.62518390e-25,\n",
      "        1.80602006e-23,  2.05114486e-23,  1.37543803e-24,  9.95803853e-24,\n",
      "        1.15793964e-24,  2.59476265e-23,  7.07747248e-25, -6.01392542e-24,\n",
      "        3.63207384e-25,  3.53738732e-26,  3.07684543e-23,  1.34419286e-29,\n",
      "        2.20518576e-23, -2.42233431e-26,  1.83626015e-23, -3.84435433e-25,\n",
      "        1.95035990e-23,  2.44281398e-23,  1.17475555e-24,  1.05687082e-23,\n",
      "        8.25714957e-25,  2.77847566e-23,  5.06436031e-25, -7.07387795e-24,\n",
      "        2.28529023e-25,  3.27338114e-24, -7.47311579e-24, -1.83797808e-25,\n",
      "       -1.98317750e-24,  2.11980755e-27, -7.05011602e-25, -1.11513203e-25,\n",
      "        3.78732639e-24,  2.16567709e-23,  6.93855521e-25,  5.72878498e-24,\n",
      "        4.92291167e-25,  1.99348618e-23,  3.44789690e-25, -1.02458479e-23,\n",
      "        4.80763492e-26, -6.40205894e-24, -3.08212629e-23, -2.24825433e-23,\n",
      "       -3.44471145e-23, -1.76941568e-24, -3.64806111e-23, -2.05137019e-27,\n",
      "       -3.83241879e-23,  1.51022825e-23,  2.93746408e-25, -2.29396691e-24,\n",
      "        2.36499370e-25,  1.17634456e-23,  4.89896969e-26, -1.08745084e-23,\n",
      "       -3.07886086e-25]), 'wCOV': array([[ 5.53852231e-06,  9.49566967e-44,  9.19131811e-27, ...,\n",
      "         3.43990372e-28,  3.54979483e-27,  3.14669676e-28],\n",
      "       [ 9.49566967e-44,  1.10202689e-01, -7.37039785e-64, ...,\n",
      "        -2.40985490e-65, -6.30986843e-64, -1.13616132e-65],\n",
      "       [ 9.19131811e-27, -7.37039785e-64,  1.10202689e-01, ...,\n",
      "        -1.10431567e-47, -5.16139022e-47, -8.39068227e-48],\n",
      "       ...,\n",
      "       [ 3.43990372e-28, -2.40985490e-65, -1.10431567e-47, ...,\n",
      "         1.10202689e-01, -3.50099687e-48, -7.53498568e-49],\n",
      "       [ 3.54979483e-27, -6.30986843e-64, -5.16139022e-47, ...,\n",
      "        -3.50099687e-48,  1.10202689e-01, -3.52883822e-48],\n",
      "       [ 3.14669676e-28, -1.13616132e-65, -8.39068227e-48, ...,\n",
      "        -7.53498568e-49, -3.52883822e-48,  1.10202689e-01]]), 'sig2': 0.011020275044462747, 'modelIdx': array([11]), 'Zmed': array([1.]), 'Wsel': array([1.62180635]), 'Wcov': array([0.01174744])}\n"
     ]
    }
   ],
   "source": [
    "tol = 0.0001\n",
    "verbosity = True\n",
    "initz0 = initz0\n",
    "DS = Variational_Bayes_Code(D, xdts, initz0, tol, verbosity)\n",
    "\n",
    "print(DS) "
   ]
  },
  {
   "cell_type": "code",
   "execution_count": 22,
   "metadata": {},
   "outputs": [
    {
     "data": {
      "text/plain": [
       "<StemContainer object of 3 artists>"
      ]
     },
     "execution_count": 22,
     "metadata": {},
     "output_type": "execute_result"
    },
    {
     "data": {
      "image/png": "[encoded data removed]",
      "text/plain": [
       "<Figure size 432x288 with 1 Axes>"
      ]
     },
     "metadata": {
      "needs_background": "light"
     },
     "output_type": "display_data"
    }
   ],
   "source": [
    "plt.stem(DS['zmean'])   "
   ]
  },
  {
   "cell_type": "code",
   "execution_count": 24,
   "metadata": {},
   "outputs": [
    {
     "data": {
      "text/plain": [
       "array([5.53852231e-06, 1.10202689e-01, 1.10202689e-01, 1.10202689e-01,\n",
       "       1.10202689e-01, 1.10202689e-01, 1.10202689e-01, 1.10202689e-01,\n",
       "       1.10202689e-01, 1.10202689e-01, 1.10202689e-01, 1.10202689e-01,\n",
       "       1.17474435e-02, 1.10202689e-01, 1.10202689e-01, 1.10202689e-01,\n",
       "       1.10202689e-01, 1.10202689e-01, 1.10202689e-01, 1.10202689e-01,\n",
       "       1.10202689e-01, 1.10202689e-01, 1.10202689e-01, 1.10202689e-01,\n",
       "       1.10202689e-01, 1.10202689e-01, 1.10202689e-01, 1.10202689e-01,\n",
       "       1.10202689e-01, 1.10202689e-01, 1.10202689e-01, 1.10202689e-01,\n",
       "       1.10202689e-01, 1.10202689e-01, 1.10202689e-01, 1.10202689e-01,\n",
       "       1.10202689e-01, 1.10202689e-01, 1.10202689e-01, 1.10202689e-01,\n",
       "       1.10202689e-01, 1.10202689e-01, 1.10202689e-01, 1.10202689e-01,\n",
       "       1.10202689e-01, 1.10202689e-01, 1.10202689e-01, 1.10202689e-01,\n",
       "       1.10202689e-01, 1.10202689e-01, 1.10202689e-01, 1.10202689e-01,\n",
       "       1.10202689e-01, 1.10202689e-01, 1.10202689e-01, 1.10202689e-01,\n",
       "       1.10202689e-01, 1.10202689e-01, 1.10202689e-01, 1.10202689e-01,\n",
       "       1.10202689e-01, 1.10202689e-01, 1.10202689e-01, 1.10202689e-01,\n",
       "       1.10202689e-01, 1.10202689e-01, 1.10202689e-01, 1.10202689e-01,\n",
       "       1.10202689e-01, 1.10202689e-01, 1.10202689e-01, 1.10202689e-01,\n",
       "       1.10202689e-01, 1.10202689e-01, 1.10202689e-01, 1.10202689e-01,\n",
       "       1.10202689e-01, 1.10202689e-01, 1.10202689e-01, 1.10202689e-01,\n",
       "       1.10202689e-01])"
      ]
     },
     "execution_count": 24,
     "metadata": {},
     "output_type": "execute_result"
    }
   ],
   "source": [
    "np.diag(DS['wCOV'])"
   ]
  },
  {
   "cell_type": "code",
   "execution_count": 25,
   "metadata": {},
   "outputs": [
    {
     "name": "stdout",
     "output_type": "stream",
     "text": [
      "\n",
      "1.0088588591108991\n"
     ]
    },
    {
     "data": {
      "image/png": "[encoded data removed]",
      "text/plain": [
       "<Figure size 432x288 with 1 Axes>"
      ]
     },
     "metadata": {
      "needs_background": "light"
     },
     "output_type": "display_data"
    }
   ],
   "source": [
    "zmean10 = DS['zmean']\n",
    "wmean10 = DS['wmean']\n",
    "zmean10[np.where(np.diag(DS['wCOV'])>5e-3)] = 0\n",
    "plt.stem(zmean10)\n",
    "wmean10[np.where(np.diag(DS['wCOV'])>5e-3)] = 0\n",
    "print()\n",
    "print(np.sqrt(wmean10[0]))"
   ]
  },
  {
   "cell_type": "code",
   "execution_count": null,
   "metadata": {},
   "outputs": [],
   "source": []
  }
 ],
 "metadata": {
  "interpreter": {
   "hash": "3f37e94951d1aba8aea1180f8978b4824e076f548924d8dec1753cbbb0da26fd"
  },
  "kernelspec": {
   "display_name": "Python 3 (ipykernel)",
   "language": "python",
   "name": "python3"
  },
  "language_info": {
   "codemirror_mode": {
    "name": "ipython",
    "version": 3
   },
   "file_extension": ".py",
   "mimetype": "text/x-python",
   "name": "python",
   "nbconvert_exporter": "python",
   "pygments_lexer": "ipython3",
   "version": "3.9.7"
  },
  "toc": {
   "base_numbering": 1,
   "nav_menu": {},
   "number_sections": true,
   "sideBar": true,
   "skip_h1_title": false,
   "title_cell": "Table of Contents",
   "title_sidebar": "Contents",
   "toc_cell": false,
   "toc_position": {},
   "toc_section_display": true,
   "toc_window_display": false
  },
  "varInspector": {
   "cols": {
    "lenName": 16,
    "lenType": 16,
    "lenVar": 40
   },
   "kernels_config": {
    "python": {
     "delete_cmd_postfix": "",
     "delete_cmd_prefix": "del ",
     "library": "var_list.py",
     "varRefreshCmd": "print(var_dic_list())"
    },
    "r": {
     "delete_cmd_postfix": ") ",
     "delete_cmd_prefix": "rm(",
     "library": "var_list.r",
     "varRefreshCmd": "cat(var_dic_list()) "
    }
   },
   "types_to_exclude": [
    "module",
    "function",
    "builtin_function_or_method",
    "instance",
    "_Feature"
   ],
   "window_display": false
  }
 },
 "nbformat": 4,
 "nbformat_minor": 4
}
