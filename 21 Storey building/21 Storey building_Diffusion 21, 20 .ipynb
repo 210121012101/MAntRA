{
 "cells": [
  {
   "cell_type": "code",
   "execution_count": 1,
   "metadata": {},
   "outputs": [
    {
     "data": {
      "text/plain": [
       "'\\nThis code belongs to the paper:\\n-- YC Mathpati, KS More, T Tripura, R Nayek, S Chakraborty (2023)\\n   MAntRA: A framework for model agnostic reliability analysis\\n   \\n-- This code is for 21 Storey building.\\n'"
      ]
     },
     "execution_count": 1,
     "metadata": {},
     "output_type": "execute_result"
    }
   ],
   "source": [
    "\"\"\"\n",
    "This code belongs to the paper:\n",
    "-- YC Mathpati, KS More, T Tripura, R Nayek, S Chakraborty (2023)\n",
    "   MAntRA: A framework for model agnostic reliability analysis\n",
    "   \n",
    "-- This code is for 21 Storey building.\n",
    "\"\"\""
   ]
  },
  {
   "cell_type": "code",
   "execution_count": 37,
   "metadata": {},
   "outputs": [],
   "source": [
    "import numpy as np\n",
    "import matplotlib.pyplot as plt\n",
    "from scipy import linalg as LA\n",
    "from sklearn.metrics import mean_squared_error as MSE\n",
    "\n",
    "\"\"\"\n",
    "The Dictionary creation part:\n",
    "~~~~~~~~~~~~~~~~~~~~~~~~~~~~~~~~~~~~~~~~~~~~~~~~~~~~~~~~~~~~\n",
    "\"\"\"\n",
    "def library(xt, polyn, harmonic):\n",
    "    if polyn == 0:\n",
    "        polyn = 1\n",
    "    \n",
    "    # The polynomial is (x1 + x2)^p, with p is the order\n",
    "    # poly order 0\n",
    "    ind = 0\n",
    "    n = len(xt[0])\n",
    "    D = np.ones([n,1])\n",
    "    \n",
    "    if polyn >= 1:\n",
    "        # poly order 1\n",
    "        for i in range(len(xt)):\n",
    "            ind = ind+1\n",
    "            new = np.vstack(xt[i,:])\n",
    "            D = np.append(D, new, axis=1)\n",
    "     \n",
    "    if polyn >= 2: \n",
    "        # ploy order 2\n",
    "        for i in range(len(xt)):\n",
    "            for j in  range(i,len(xt)):\n",
    "                ind = ind+1\n",
    "                new = np.multiply(xt[i,:], xt[j,:])\n",
    "                new = np.vstack(new)\n",
    "                D = np.append(D, new, axis=1) \n",
    "    \n",
    "    if polyn >= 3:    \n",
    "        # ploy order 3\n",
    "        for i in range(len(xt)):\n",
    "            for j in  range(i,len(xt)):\n",
    "                for k in  range(j,len(xt)):\n",
    "                    ind = ind+1\n",
    "                    new = np.multiply(np.multiply(xt[i,:], xt[j,:]), xt[k,:])\n",
    "                    new = np.vstack(new)\n",
    "                    D = np.append(D, new, axis=1) \n",
    "    \n",
    "    if polyn >= 4:\n",
    "        # ploy order 4\n",
    "        for i in range(len(xt)):\n",
    "            for j in  range(i,len(xt)):\n",
    "                for k in  range(j,len(xt)):\n",
    "                    for l in range(k,len(xt)):\n",
    "                        ind = ind+1\n",
    "                        new = np.multiply(np.multiply(xt[i,:], xt[j,:]), xt[k,:])\n",
    "                        new = np.multiply(new, xt[l,:])\n",
    "                        new = np.vstack(new)\n",
    "                        D = np.append(D, new, axis=1) \n",
    "    \n",
    "    if polyn >= 5:\n",
    "        # ploy order 5\n",
    "        for i in range(len(xt)):\n",
    "            for j in  range(i,len(xt)):\n",
    "                for k in  range(j,len(xt)):\n",
    "                    for l in  range(k,len(xt)):\n",
    "                        for m in  range(l,len(xt)):\n",
    "                            ind = ind+1\n",
    "                            new = np.multiply(xt[i,:], xt[j,:])\n",
    "                            new = np.multiply(new, xt[k,:])\n",
    "                            new = np.multiply(new, xt[l,:])\n",
    "                            new = np.multiply(new, xt[m,:])\n",
    "                            new = np.vstack(new)\n",
    "                            D = np.append(D, new, axis=1) \n",
    "    \n",
    "    if polyn >= 6:\n",
    "        # ploy order 6\n",
    "        for i in range(len(xt)):\n",
    "            for j in  range(i,len(xt)):\n",
    "                for k in  range(j,len(xt)):\n",
    "                    for l in  range(k,len(xt)):\n",
    "                        for m in  range(l,len(xt)):\n",
    "                            for n in  range(m,len(xt)):\n",
    "                                ind = ind+1\n",
    "                                new = np.multiply(xt[i,:], xt[j,:])\n",
    "                                new = np.multiply(new, xt[k,:])\n",
    "                                new = np.multiply(new, xt[l,:])\n",
    "                                new = np.multiply(new, xt[m,:])\n",
    "                                new = np.multiply(new, xt[n,:])\n",
    "                                new = np.vstack(new)\n",
    "                                D = np.append(D, new, axis=1) \n",
    "    \n",
    "#     # for the signum or sign operator\n",
    "#     for i in range(len(xt)):\n",
    "#         ind = ind+1\n",
    "#         new = np.vstack(np.sign(xt[i,:]))+0.0001\n",
    "#         D = np.append(D, new, axis=1)\n",
    "    \n",
    "    # for the modulus operator\n",
    "    for i in range(len(xt)):\n",
    "        ind = ind+1\n",
    "        new = np.vstack(abs(xt[i,:]))\n",
    "        D = np.append(D, new, axis=1)\n",
    "      \n",
    "    # for the tensor operator\n",
    "    for i in range(len(xt)):\n",
    "        for j in  range(len(xt)):\n",
    "            ind = ind+1\n",
    "            new = np.multiply(xt[i,:],abs(xt[j,:]))\n",
    "            new = np.vstack(new)\n",
    "            D = np.append(D, new, axis=1)\n",
    "            \n",
    "    if harmonic == 1:\n",
    "        for i in range(len(xt)):\n",
    "            ind = ind+1\n",
    "            new = np.vstack(np.sin(xt[i,:]))\n",
    "            D = np.append(D, new, axis=1)\n",
    "\n",
    "        for i in range(len(xt)):\n",
    "            ind = ind+1\n",
    "            new = np.vstack(np.cos(xt[i,:]))\n",
    "            D = np.append(D, new, axis=1)\n",
    "            \n",
    "    ind = len(D[0])\n",
    "    \n",
    "    return D, ind"
   ]
  },
  {
   "cell_type": "code",
   "execution_count": 38,
   "metadata": {},
   "outputs": [],
   "source": [
    "import numpy as np\n",
    "import matplotlib.pyplot as plt\n",
    "\"\"\"\n",
    "A MDOF system excited by random noise\n",
    "----------------------------------------------------------------------\n",
    "\"\"\"\n",
    "\n",
    "def drift_mat(dof,k,c,m):\n",
    "    dim = 2 * dof\n",
    "    A = np.zeros((dim,dim))\n",
    "    \n",
    "    for i in range(dim):\n",
    "        if (i%2 == 0):\n",
    "            A[i][i+1] = 1\n",
    "    \n",
    "        elif(i==1):\n",
    "            A[i][i-1] = -(k+k)/m\n",
    "            A[i][i] = -(c+c)/m\n",
    "            A[i][i+1] = k/m\n",
    "            A[i][i+2] = c/m\n",
    "    \n",
    "        elif(i==dim-1):\n",
    "            A[i][i] = -c/m\n",
    "            A[i][i-1] = -k/m\n",
    "            A[i][i-2] = c/m\n",
    "            A[i][i-3] = k/m\n",
    "            \n",
    "        else:\n",
    "            A[i][i-3] = k/m \n",
    "            A[i][i-2] = c/m\n",
    "            A[i][i-1] = -(k+k)/m\n",
    "            A[i][i] = -(c+c)/m\n",
    "            A[i][i+1] = k/m\n",
    "            A[i][i+2] = c/m\n",
    "    return A\n",
    "\n",
    "def M_DOF_sys(x_initial, dof, T):\n",
    "    # parameters of M_DOF_sys in Equation\n",
    "    m = 1\n",
    "    c = 2\n",
    "    k = 3000\n",
    "    sigma = 1\n",
    "    \n",
    "    # solution by euler maruyama\n",
    "    # -------------------------------------------------------\n",
    "    dt = 0.0001\n",
    "    t = np.arange(0, T+dt, dt)\n",
    "    Nsamp = 200 # no. of samples in the run\n",
    "    \n",
    "    y1 = []\n",
    "    y2 = []\n",
    "    y3 = []\n",
    "    y4 = []\n",
    "    y5 = []\n",
    "    y6 = []\n",
    "    y7 = []\n",
    "    y8 = []\n",
    "    xz1 = []\n",
    "    xz2 = []\n",
    "    xz3 = []\n",
    "    xzs11 = []\n",
    "    xzs22 = []\n",
    "    xzs33 = []\n",
    "    \n",
    "    # Simulation Starts Here ::\n",
    "    # -------------------------------------------------------\n",
    "    for ensemble in range(Nsamp):\n",
    "        x0 = x_initial\n",
    "        x = x0                              # initial condition.\n",
    "        for n in range(len(t)-1):\n",
    "            dW = np.sqrt(dt)*np.random.randn(2*dof)\n",
    "            \n",
    "            '''LINEAR PART DRIFT'''\n",
    "        \n",
    "            A = drift_mat(dof,k,c,m)\n",
    "            \n",
    "            '''DIFFUSION TERM  = b'''\n",
    "            diffu_arr = np.zeros(2*dof)\n",
    "            for i in range(2*dof):\n",
    "                if (i%2 != 0):\n",
    "                    diffu_arr[i] = sigma/m\n",
    "            \n",
    "            soln_arr = x0 + np.matmul(A,x0)*dt + diffu_arr*dW        \n",
    "            x0 = soln_arr\n",
    "            x = np.column_stack((x, x0))\n",
    "            \n",
    "  \n",
    "        y1.append(x[-1,:])     # Displacement\n",
    "        y2.append(x[-2,:])      \n",
    "        y3.append(x[-3,:])     # Displacement\n",
    "        y4.append(x[-4,:])\n",
    "        y5.append(x[-5,:])\n",
    "        y6.append(x[-6,:])\n",
    "        y7.append(x[-7,:])\n",
    "        y8.append(x[-8,:])\n",
    "        \n",
    "\n",
    "        zint1 = x[-1,0:-1]\n",
    "        xfinal1 = x[-1,1:] \n",
    "        xmz1 = (xfinal1 - zint1)\n",
    "        \n",
    "        zint2 = x[-3, 0:-1]\n",
    "        xfinal2 = x[-3, 1:] \n",
    "        xmz2 = (xfinal2 - zint2) \n",
    "        \n",
    "        zint3 = x[-5, 0:-1]\n",
    "        xfinal3 = x[-5, 1:] \n",
    "        xmz3 = (xfinal3 - zint3) \n",
    "        \n",
    "        xz1.append(xmz1)\n",
    "        xz2.append(xmz2)\n",
    "        xz3.append(xmz3)\n",
    "        \n",
    "        xmzsq11 = np.multiply(xmz1, xmz1)\n",
    "        xzs11.append(xmzsq11)\n",
    "        \n",
    "        xmzsq22 = np.multiply(xmz2, xmz2)\n",
    "        xzs22.append(xmzsq22)\n",
    "        \n",
    "        xmzsq33 = np.multiply(xmz3, xmz3)\n",
    "        xzs33.append(xmzsq33)\n",
    "        \n",
    "    xz1 = pow(dt,-1)*np.mean(np.array(xz1), axis = 0)\n",
    "    xz2 = pow(dt,-1)*np.mean(np.array(xz2), axis = 0)\n",
    "    xz3 = pow(dt,-1)*np.mean(np.array(xz3), axis = 0)\n",
    "\n",
    "    xzs11 = pow(dt,-1)*np.mean(np.array(xzs11), axis = 0)\n",
    "    xzs22 = pow(dt,-1)*np.mean(np.array(xzs22), axis = 0)\n",
    "    xzs33 = pow(dt,-1)*np.mean(np.array(xzs33), axis = 0) \n",
    "\n",
    "    y1 = np.array(y1)\n",
    "    y2 = np.array(y2)\n",
    "    y3 = np.array(y3)\n",
    "    y4 = np.array(y4)\n",
    "    y5 = np.array(y5)\n",
    "    y6 = np.array(y6)\n",
    "    y7 = np.array(y7)\n",
    "    y8 = np.array(y8)\n",
    "    \n",
    "    time = t[0:-1]\n",
    "    return xz1, xz2, xz3, xzs11, xzs22, xzs33, y1, y2, y3, y4, y5, y6, y7, y8, time"
   ]
  },
  {
   "cell_type": "code",
   "execution_count": 39,
   "metadata": {},
   "outputs": [],
   "source": [
    "T = 1\n",
    "dof = 21\n",
    "x_initial = np.zeros(2*dof)\n",
    "# x_initial[0]=0.0001\n",
    "# x_initial[2]=9.800000000000001e-05\n",
    "# x_initial[4]=9.600000000000002e-05\n",
    "# x_initial[6]=9.400000000000002e-05\n",
    "# x_initial[8]=9.200000000000003e-05\n",
    "# x_initial[10]=9.000000000000003e-05\n",
    "# x_initial[12]=8.800000000000004e-05\n",
    "# x_initial[14]=8.600000000000004e-05\n",
    "# x_initial[16]=8.400000000000005e-05\n",
    "# x_initial[18]=8.200000000000006e-05\n",
    "# x_initial[20]=8.000000000000006e-05\n",
    "# x_initial[22]=7.800000000000007e-05\n",
    "# x_initial[24]=7.600000000000007e-05\n",
    "# x_initial[26]=7.400000000000008e-05\n",
    "# x_initial[28]=7.200000000000008e-05\n",
    "# x_initial[30]=7.000000000000009e-05\n",
    "# x_initial[32]=6.80000000000001e-05\n",
    "# x_initial[34]=6.60000000000001e-05\n",
    "# x_initial[36]=6.40000000000001e-05\n",
    "# x_initial[38]=6.200000000000011e-05"
   ]
  },
  {
   "cell_type": "code",
   "execution_count": 40,
   "metadata": {
    "scrolled": true
   },
   "outputs": [],
   "source": [
    "# p = 0.0001\n",
    "# for i in range(40):\n",
    "#     if i%2==0:\n",
    "#         print(f'x_initial{[i]}={0}')\n",
    "#         p = p - 0.000002"
   ]
  },
  {
   "cell_type": "code",
   "execution_count": 41,
   "metadata": {},
   "outputs": [],
   "source": [
    "xz1, xz2, xz3, xzs11, xzs22, xzs33, y1, y2, y3, y4, y5, y6, y7, y8, time_ = M_DOF_sys(x_initial, dof, T)"
   ]
  },
  {
   "cell_type": "code",
   "execution_count": 42,
   "metadata": {},
   "outputs": [
    {
     "data": {
      "text/plain": [
       "[<matplotlib.lines.Line2D at 0x224c55ad910>]"
      ]
     },
     "execution_count": 42,
     "metadata": {},
     "output_type": "execute_result"
    },
    {
     "data": {
      "image/png": "[encoded data removed]",
      "text/plain": [
       "<Figure size 432x288 with 1 Axes>"
      ]
     },
     "metadata": {
      "needs_background": "light"
     },
     "output_type": "display_data"
    }
   ],
   "source": [
    "plt.plot(np.mean(y1, axis=0))"
   ]
  },
  {
   "cell_type": "code",
   "execution_count": 43,
   "metadata": {},
   "outputs": [],
   "source": [
    "# Expected Dictionary Creation:\n",
    "libr = []\n",
    "for j in range(len(y1)):\n",
    "    data = np.row_stack((y1[j,0:-1], y2[j,0:-1], y3[j,0:-1], y4[j,0:-1], y5[j,0:-1], y6[j,0:-1], y7[j,0:-1], y8[j,0:-1]))\n",
    "    Dtemp, nl = library(data, 1, 0)\n",
    "    libr.append(Dtemp)\n",
    "libr = np.array(libr)\n",
    "Dictionary= np.mean(libr, axis = 0)"
   ]
  },
  {
   "cell_type": "code",
   "execution_count": 44,
   "metadata": {},
   "outputs": [],
   "source": [
    "xdts = xzs11\n",
    "D = Dictionary"
   ]
  },
  {
   "cell_type": "code",
   "execution_count": 45,
   "metadata": {},
   "outputs": [
    {
     "data": {
      "text/plain": [
       "((10000, 81), (10000,))"
      ]
     },
     "execution_count": 45,
     "metadata": {},
     "output_type": "execute_result"
    }
   ],
   "source": [
    "D.shape, xdts.shape"
   ]
  },
  {
   "cell_type": "code",
   "execution_count": 46,
   "metadata": {},
   "outputs": [
    {
     "data": {
      "text/plain": [
       "(810000,)"
      ]
     },
     "execution_count": 46,
     "metadata": {},
     "output_type": "execute_result"
    }
   ],
   "source": [
    "Dict = D.reshape(-1,order='F')\n",
    "Dict.shape"
   ]
  },
  {
   "cell_type": "code",
   "execution_count": 47,
   "metadata": {},
   "outputs": [
    {
     "name": "stdout",
     "output_type": "stream",
     "text": [
      "{'Relevant': matlab.double([[1.0],[8.0],[11.0],[25.0],[30.0],[34.0],[36.0],[40.0],[44.0],[50.0],[68.0],[70.0],[74.0],[81.0]]), 'Value': matlab.double([[1.0047808356643277],[0.06833581299706867],[0.8638284659695521],[-2.041101286100316],[-2.362997691764869],[0.15396010652952816],[-0.22035578525958419],[0.33357230552705275],[-0.2679695239600998],[0.300930393053831],[-0.2804027566179254],[-0.2904220501070378],[1.3161912608157038],[-22.39637936251321]])}\n"
     ]
    }
   ],
   "source": [
    "#!/usr/bin/env python\n",
    "\"\"\"\n",
    "Sample script that uses the SparseBayes module created using\n",
    "MATLAB Compiler SDK.\n",
    "\n",
    "Refer to the MATLAB Compiler SDK documentation for more information.\n",
    "\"\"\"\n",
    "\n",
    "from __future__ import print_function\n",
    "import SparseBayes\n",
    "import matlab\n",
    "\n",
    "my_SparseBayes = SparseBayes.initialize()\n",
    "\n",
    "DictIn = matlab.double(Dict, size=(D.shape[0], D.shape[1]))\n",
    "targetIn = matlab.double(xdts, size=(D.shape[0], 1))\n",
    "DMOut = my_SparseBayes.SparseBayes(DictIn, targetIn)\n",
    "print(DMOut, sep='\\n')\n",
    "\n",
    "my_SparseBayes.terminate()"
   ]
  },
  {
   "cell_type": "code",
   "execution_count": 48,
   "metadata": {},
   "outputs": [
    {
     "name": "stdout",
     "output_type": "stream",
     "text": [
      "1.0047808356643277\n"
     ]
    }
   ],
   "source": [
    "print(abs(DMOut['Value'][0][0]))"
   ]
  },
  {
   "cell_type": "code",
   "execution_count": 49,
   "metadata": {},
   "outputs": [
    {
     "name": "stdout",
     "output_type": "stream",
     "text": [
      "[1. 0. 0. 0. 0. 0. 0. 1. 0. 0. 1. 0. 0. 0. 0. 0. 0. 0. 0. 0. 0. 0. 0. 0.\n",
      " 1. 0. 0. 0. 0. 1. 0. 0. 0. 1. 0. 1. 0. 0. 0. 1. 0. 0. 0. 1. 0. 0. 0. 0.\n",
      " 0. 1. 0. 0. 0. 0. 0. 0. 0. 0. 0. 0. 0. 0. 0. 0. 0. 0. 0. 1. 0. 1. 0. 0.\n",
      " 0. 1. 0. 0. 0. 0. 0. 0. 1.]\n"
     ]
    }
   ],
   "source": [
    "c = np.array(DMOut['Value'])\n",
    "d = []\n",
    "for j in c:\n",
    "    d.append(j[0])\n",
    "    \n",
    "a = np.array(DMOut['Relevant'])\n",
    "b = []\n",
    "for i in a:\n",
    "    b.append(int((i[0])-1))\n",
    "    \n",
    "initz0 = np.zeros(D.shape[1])\n",
    "for i in b:\n",
    "    initz0[i] = 1\n",
    "    \n",
    "print(initz0)"
   ]
  },
  {
   "cell_type": "code",
   "execution_count": 50,
   "metadata": {},
   "outputs": [],
   "source": [
    "import warnings\n",
    "import math\n",
    "import numpy as np\n",
    "import scipy as sp\n",
    "import sympy as smp\n",
    "from scipy import stats\n",
    "from numpy import linalg as la\n",
    "import matplotlib.pyplot as plt\n",
    "from numpy.random import gamma\n",
    "from scipy.special import loggamma\n",
    "\n",
    "def Variational_Bayes_Code(X, y, initz0, tol, verbosity):\n",
    "\n",
    "    if (len(X) == 0 or len(y) == 0):\n",
    "        raise Exception('X and or y is missing')\n",
    "        \n",
    "    if (len(X) != len(y)):\n",
    "        raise Exception('Number of observations do not match')\n",
    "        \n",
    "    # X = stats.zscore(X, ddof = 1)         \n",
    "    # X = np.c_[np.ones(len(X)),X]\n",
    "    # X = np.c_[np.ones(len(X)),X]          \n",
    "    # y = y - np.mean(y)\n",
    "    N = len(X)\n",
    "    # Prior parameters of noise variance (Inverse Gamma dist)\n",
    "    A = 1e-4\n",
    "    B = 1e-4\n",
    "    vs = 10\n",
    "    tau0 = 1000\n",
    "    \n",
    "    if (len(initz0) == 0):\n",
    "        raise Exception('No initial value of z found')\n",
    "    else:\n",
    "        p0 = expit(-0.5*(np.sqrt(N)))       \n",
    "        \n",
    "        # Adding the intercept indicator variable (slightly less than 1 to prevent log(0) values) \n",
    "        # initz = np.hstack((1,initz0))  \n",
    "        initz = initz0\n",
    "\n",
    "        DS,LLcvg  = run_VB2(X, y, vs, A, B, tau0, p0, initz, tol, verbosity)    \n",
    "        # This is function which will come first\n",
    "        \n",
    "    out_vb   = DS\n",
    "    a = DS['zmean'] > 0.5\n",
    "    count = 0\n",
    "    modelIdx = []\n",
    "    for i in a:\n",
    "        if i == True:\n",
    "            modelIdx.append(count)\n",
    "        count += 1\n",
    "            \n",
    "    modelIdx = np.setdiff1d(modelIdx,0)\n",
    "    out_vb['modelIdx'] = modelIdx-1\n",
    "    out_vb['Zmed'] = DS['zmean'][modelIdx]\n",
    "    out_vb['Wsel'] = DS['wmean'][modelIdx]\n",
    "    out_vb['Wcov'] = DS['wCOV'][modelIdx, modelIdx]\n",
    "    out_vb['sig2'] = DS['sig2']\n",
    "    \n",
    "    return out_vb\n",
    "\n",
    "DS = {}\n",
    "def run_VB2(Xc, yc, vs, A, B, tau0, p0, initz, tol, verbosity):\n",
    "    \"\"\"This function is the implementation of VB from John T. Ormerod paper (2014)\n",
    "       This implementation uses slab scaling by noise variance\n",
    "       vs    : treated as a constant\n",
    "       A,B   : constants of the IG prior over noise variance\n",
    "       tau0  : Expected value of (sigma^{-2})\n",
    "       p0    : inclusion probablility\n",
    "       initz : Initial value of z\n",
    "       Xc    : Centered and standardized dictionary except the first column\n",
    "       yc    : Centered observations \"\"\"\n",
    "    \n",
    "    Lambda    = logit(p0)\n",
    "    iter_     = 0\n",
    "    max_iter  = 100\n",
    "    LL        = np.zeros(max_iter)        \n",
    "    zm        = np.reshape(initz,(-1))            \n",
    "    taum      = tau0                      \n",
    "    invVs     = 1/vs\n",
    "    \n",
    "    X = Xc\n",
    "    y = yc\n",
    "    XtX = (X.T) @ X\n",
    "    XtX = 0.5*(XtX + (XtX).T)\n",
    "    Xty = (X.T) @ y                 \n",
    "    yty = (y.T) @ y\n",
    "\n",
    "    eyep = np.eye(len(XtX))\n",
    "    [N,p] = X.shape\n",
    "    allidx = np.arange(p)\n",
    "    zm[0] = 1                                                                   # Always include the intercept \n",
    "    Abar    = (A + 0.5*N + 0.5*p)\n",
    "    converged = 0\n",
    "    \n",
    "    while (converged==0):\n",
    "        if (iter_==100):\n",
    "            break\n",
    "        \n",
    "        Zm       = np.diag(zm)\n",
    "        Omg      = (np.reshape(zm,(-1,1)) @ np.reshape(zm,(1,-1))) + (Zm @ (eyep-Zm))\n",
    "        # Update the mean and covariance of the coefficients given mean of z\n",
    "        term1    = XtX * Omg                                                       # elementwisw multiplication\n",
    "        invSigma = taum * (term1 + invVs * eyep)\n",
    "        invSigma = 0.5*(invSigma + invSigma.T)                                     # symmetric\n",
    "        Sigma    = la.inv(invSigma) @ eyep\n",
    "        mu       = taum * (Sigma @ Zm @ Xty)                                       # @ ---> matrix multiplication\n",
    "        \n",
    "        # Update tau related to sigma\n",
    "        term2    = 2 * Xty @ Zm @ mu\n",
    "        term3    =  np.reshape(mu,(len(initz0),1)) @ np.reshape(mu,(1,len(initz0)))+ Sigma\n",
    "        term4    = yty - term2 + np.trace((term1 + invVs * eyep) @ term3)    \n",
    "        s        = B + 0.5*term4\n",
    "        \n",
    "        if s<0:\n",
    "            warnings.warn('s turned out be less than 0. Taking absolute value')\n",
    "            s = B + 0.5*abs(term4)\n",
    "        \n",
    "        taum     = Abar / s\n",
    "        zstr   = zm\n",
    "\n",
    "        order   = np.setdiff1d(np.random.permutation(p), 0, assume_unique=True)\n",
    "        for j in order: \n",
    "            muj     = mu[j]                            \n",
    "            sigmaj  = Sigma[j,j]\n",
    "            \n",
    "            remidx  = np.setdiff1d(allidx,j)\n",
    "            mu_j    = mu[remidx]\n",
    "            Sigma_jj= Sigma[remidx,j]\n",
    "            etaj    = (Lambda - 0.5 * taum * ((muj**2 + sigmaj) * XtX[j,j]) \n",
    "                       + taum * np.reshape(X[:,j],(1,-1)) @ (np.reshape(y,(-1,1))*muj \n",
    "                        -X[:,remidx] @ np.diag(zstr[remidx]) @ ((mu_j * muj + Sigma_jj).reshape(-1,1))))\n",
    "            zstr[j] = expit(etaj)\n",
    "            \n",
    "        zm = zstr\n",
    "        \n",
    "        # Calculate marginal log-likelihood\n",
    "        \n",
    "        LL[iter_] = ( 0.5*p \n",
    "                    - 0.5*N*np.log(2*np.pi) \n",
    "                    + 0.5*p*np.log(invVs) \n",
    "                    + A*np.log(B)\n",
    "                    - loggamma(A)\n",
    "                    + loggamma(Abar) \n",
    "                    - Abar*np.log(s)\n",
    "                    + 0.5*np.log(la.det(Sigma))\n",
    "                    + np.nansum(zm*(np.log(p0) - np.log(zm))) \n",
    "                    + np.nansum((1-zm)*(np.log(1-p0) - np.log(1-zm))))\n",
    "        \n",
    "        if(verbosity):\n",
    "            print(f'Iteration = {iter_}  log(Likelihood) = {LL[iter_]}')\n",
    "        \n",
    "        if(iter_>1):\n",
    "            cvg = LL[iter_] - LL[iter_-1]\n",
    "            \n",
    "            if (cvg < 0 and verbosity):\n",
    "                print('OOPS!  log(like) decreasing!!')\n",
    "            elif (cvg<tol or iter_> max_iter):\n",
    "                converged = 1\n",
    "                LL = LL[0:iter_]\n",
    "                \n",
    "        iter_    = iter_ + 1\n",
    "    DS['zmean'] = zm\n",
    "    DS['wmean'] = mu\n",
    "    DS['wCOV'] = Sigma\n",
    "    DS['sig2'] = 1/taum\n",
    "    LLcvg    = LL[-1]\n",
    "    return DS, LLcvg\n",
    "    \n",
    "def logit(C):\n",
    "    logitC = np.log(C) - np.log(1-C)\n",
    "    return logitC\n",
    "\n",
    "def expit(C):\n",
    "    expitC = 1./(1 + np.exp(-C))\n",
    "    return expitC"
   ]
  },
  {
   "cell_type": "code",
   "execution_count": 51,
   "metadata": {},
   "outputs": [
    {
     "name": "stderr",
     "output_type": "stream",
     "text": [
      "C:\\Users\\USER\\AppData\\Local\\Temp/ipykernel_3928/3512855728.py:147: RuntimeWarning: divide by zero encountered in log\n",
      "  + np.nansum((1-zm)*(np.log(1-p0) - np.log(1-zm))))\n",
      "C:\\Users\\USER\\AppData\\Local\\Temp/ipykernel_3928/3512855728.py:147: RuntimeWarning: invalid value encountered in multiply\n",
      "  + np.nansum((1-zm)*(np.log(1-p0) - np.log(1-zm))))\n",
      "C:\\Users\\USER\\AppData\\Local\\Temp/ipykernel_3928/3512855728.py:174: RuntimeWarning: overflow encountered in exp\n",
      "  expitC = 1./(1 + np.exp(-C))\n"
     ]
    },
    {
     "name": "stdout",
     "output_type": "stream",
     "text": [
      "Iteration = 0  log(Likelihood) = 8387.552411317283\n"
     ]
    },
    {
     "name": "stderr",
     "output_type": "stream",
     "text": [
      "C:\\Users\\USER\\AppData\\Local\\Temp/ipykernel_3928/3512855728.py:146: RuntimeWarning: divide by zero encountered in log\n",
      "  + np.nansum(zm*(np.log(p0) - np.log(zm)))\n",
      "C:\\Users\\USER\\AppData\\Local\\Temp/ipykernel_3928/3512855728.py:146: RuntimeWarning: invalid value encountered in multiply\n",
      "  + np.nansum(zm*(np.log(p0) - np.log(zm)))\n"
     ]
    },
    {
     "name": "stdout",
     "output_type": "stream",
     "text": [
      "Iteration = 1  log(Likelihood) = 8441.432533370387\n",
      "Iteration = 2  log(Likelihood) = 8441.434425858524\n",
      "Iteration = 3  log(Likelihood) = 8441.434425979962\n",
      "{'zmean': array([1.00000000e+00, 6.19655993e-29, 1.74923742e-22, 1.57723171e-28,\n",
      "       1.75808444e-22, 2.92723714e-31, 1.75908353e-22, 3.10614431e-28,\n",
      "       1.75881470e-22, 0.00000000e+00, 1.00000000e+00, 0.00000000e+00,\n",
      "       5.82647159e-44, 0.00000000e+00, 5.73644207e-43, 0.00000000e+00,\n",
      "       6.06168578e-42, 3.39127099e-27, 1.81202831e-22, 1.23582169e-24,\n",
      "       1.80856143e-22, 5.09325308e-24, 1.81014186e-22, 8.40388378e-24,\n",
      "       1.80920070e-22, 1.84830233e-22, 1.92766776e-22, 1.87347314e-22,\n",
      "       1.92779380e-22, 1.85110074e-22, 1.92793198e-22, 1.87674819e-22,\n",
      "       1.92807126e-22, 4.06681047e-24, 1.84392629e-22, 1.23362828e-26,\n",
      "       1.84695628e-22, 5.17318959e-24, 1.85058332e-22, 4.59844239e-24,\n",
      "       1.85792432e-22, 1.85952284e-22, 1.92779263e-22, 1.87434494e-22,\n",
      "       1.92784495e-22, 1.86063466e-22, 1.92797615e-22, 1.87981345e-22,\n",
      "       1.92809457e-22, 8.05002148e-25, 1.82161497e-22, 2.62768548e-24,\n",
      "       1.83017518e-22, 6.35529442e-27, 1.83340901e-22, 1.34592862e-23,\n",
      "       1.83284034e-22, 1.86659991e-22, 1.92792608e-22, 1.87815816e-22,\n",
      "       1.92797335e-22, 1.86376758e-22, 1.92801483e-22, 1.88195862e-22,\n",
      "       1.92811036e-22, 1.23853125e-24, 1.84614271e-22, 1.62012443e-23,\n",
      "       1.85533170e-22, 2.79312718e-23, 1.86230794e-22, 6.20168140e-25,\n",
      "       1.86547941e-22, 1.87402046e-22, 1.92805863e-22, 1.87772210e-22,\n",
      "       1.92808613e-22, 1.86571578e-22, 1.92811244e-22, 1.88214386e-22,\n",
      "       1.92811524e-22]), 'wmean': array([ 1.00705638e+00, -8.82589469e-29, -6.22479270e-24,  1.58986699e-28,\n",
      "       -7.10165513e-24,  8.16415774e-31, -6.66271639e-24, -1.37686850e-28,\n",
      "       -1.89106381e-24,  0.00000000e+00,  8.75907417e-01,  0.00000000e+00,\n",
      "        4.96427127e-44,  0.00000000e+00,  4.79734749e-43,  0.00000000e+00,\n",
      "        5.24570750e-42, -4.31632192e-27, -2.85556311e-23,  1.15203023e-24,\n",
      "       -2.18925789e-23,  5.10099478e-25, -3.16502847e-23,  3.29379129e-24,\n",
      "       -3.75777493e-23,  1.40980998e-23,  3.43211843e-25, -1.36596137e-23,\n",
      "       -9.63204545e-26, -3.00238919e-23, -6.52508718e-25, -6.54314986e-24,\n",
      "       -1.12518182e-24,  8.89730877e-24, -1.08692646e-23, -3.73346050e-27,\n",
      "       -5.59585276e-24,  8.23404470e-24, -1.35893092e-24,  7.78711422e-24,\n",
      "       -2.64632451e-24,  1.59850462e-23, -8.74377060e-26, -1.51389822e-23,\n",
      "       -4.90691882e-25, -2.88269571e-23, -9.51592826e-25, -1.07231856e-23,\n",
      "       -1.28242041e-24,  2.29413698e-24, -1.79790080e-24,  3.43236635e-24,\n",
      "        2.37591442e-25,  1.14623831e-26,  4.16948667e-25,  1.51536272e-23,\n",
      "       -6.03048806e-25,  1.91109712e-23, -6.07306158e-25, -1.29140325e-23,\n",
      "       -9.33615901e-25, -2.42491785e-23, -1.27062051e-24, -1.66611851e-23,\n",
      "       -1.45429357e-24, -1.47857658e-24,  5.69217470e-24, -1.99397872e-23,\n",
      "        5.69946053e-24, -1.76051374e-23,  2.38606032e-25, -9.92197051e-26,\n",
      "       -7.61652578e-25,  2.14885515e-23, -1.07544295e-24, -1.55936074e-23,\n",
      "       -1.25266755e-24, -2.35519747e-23, -1.44464492e-24, -1.88303641e-23,\n",
      "       -1.62525480e-24]), 'wCOV': array([[ 5.99302215e-06,  4.17015578e-32,  3.62771677e-27, ...,\n",
      "         1.11817797e-27, -4.77625418e-28,  1.09521471e-27],\n",
      "       [ 4.17015578e-32,  1.05659587e-01, -9.33103688e-53, ...,\n",
      "        -2.41657203e-53, -8.05556778e-53, -2.35056562e-53],\n",
      "       [ 3.62771677e-27, -9.33103688e-53,  1.05659587e-01, ...,\n",
      "        -9.04802274e-48,  3.44527770e-48, -8.70950111e-48],\n",
      "       ...,\n",
      "       [ 1.11817797e-27, -2.41657203e-53, -9.04802274e-48, ...,\n",
      "         1.05659587e-01, -2.14846825e-49, -2.09581627e-48],\n",
      "       [-4.77625418e-28, -8.05556778e-53,  3.44527770e-48, ...,\n",
      "        -2.14846825e-49,  1.05659587e-01, -9.55340287e-49],\n",
      "       [ 1.09521471e-27, -2.35056562e-53, -8.70950111e-48, ...,\n",
      "        -2.09581627e-48, -9.55340287e-49,  1.05659587e-01]]), 'sig2': 0.010565965294093711, 'modelIdx': array([9]), 'Zmed': array([1.]), 'Wsel': array([0.87590742]), 'Wcov': array([0.00574956])}\n"
     ]
    }
   ],
   "source": [
    "tol = 0.0001\n",
    "verbosity = True\n",
    "initz0 = initz0\n",
    "DS = Variational_Bayes_Code(D, xdts, initz0, tol, verbosity)\n",
    "\n",
    "print(DS) "
   ]
  },
  {
   "cell_type": "code",
   "execution_count": 52,
   "metadata": {},
   "outputs": [
    {
     "data": {
      "text/plain": [
       "array([5.99302215e-06, 1.05659587e-01, 1.05659587e-01, 1.05659587e-01,\n",
       "       1.05659587e-01, 1.05659587e-01, 1.05659587e-01, 1.05659587e-01,\n",
       "       1.05659587e-01, 1.05659587e-01, 5.74955680e-03, 1.05659587e-01,\n",
       "       1.05659587e-01, 1.05659587e-01, 1.05659587e-01, 1.05659587e-01,\n",
       "       1.05659587e-01, 1.05659587e-01, 1.05659587e-01, 1.05659587e-01,\n",
       "       1.05659587e-01, 1.05659587e-01, 1.05659587e-01, 1.05659587e-01,\n",
       "       1.05659587e-01, 1.05659587e-01, 1.05659587e-01, 1.05659587e-01,\n",
       "       1.05659587e-01, 1.05659587e-01, 1.05659587e-01, 1.05659587e-01,\n",
       "       1.05659587e-01, 1.05659587e-01, 1.05659587e-01, 1.05659587e-01,\n",
       "       1.05659587e-01, 1.05659587e-01, 1.05659587e-01, 1.05659587e-01,\n",
       "       1.05659587e-01, 1.05659587e-01, 1.05659587e-01, 1.05659587e-01,\n",
       "       1.05659587e-01, 1.05659587e-01, 1.05659587e-01, 1.05659587e-01,\n",
       "       1.05659587e-01, 1.05659587e-01, 1.05659587e-01, 1.05659587e-01,\n",
       "       1.05659587e-01, 1.05659587e-01, 1.05659587e-01, 1.05659587e-01,\n",
       "       1.05659587e-01, 1.05659587e-01, 1.05659587e-01, 1.05659587e-01,\n",
       "       1.05659587e-01, 1.05659587e-01, 1.05659587e-01, 1.05659587e-01,\n",
       "       1.05659587e-01, 1.05659587e-01, 1.05659587e-01, 1.05659587e-01,\n",
       "       1.05659587e-01, 1.05659587e-01, 1.05659587e-01, 1.05659587e-01,\n",
       "       1.05659587e-01, 1.05659587e-01, 1.05659587e-01, 1.05659587e-01,\n",
       "       1.05659587e-01, 1.05659587e-01, 1.05659587e-01, 1.05659587e-01,\n",
       "       1.05659587e-01])"
      ]
     },
     "execution_count": 52,
     "metadata": {},
     "output_type": "execute_result"
    }
   ],
   "source": [
    "np.diag(DS['wCOV'])"
   ]
  },
  {
   "cell_type": "code",
   "execution_count": 53,
   "metadata": {},
   "outputs": [
    {
     "name": "stdout",
     "output_type": "stream",
     "text": [
      "\n",
      "1.003521987767179\n"
     ]
    },
    {
     "data": {
      "image/png": "[encoded data removed]",
      "text/plain": [
       "<Figure size 432x288 with 1 Axes>"
      ]
     },
     "metadata": {
      "needs_background": "light"
     },
     "output_type": "display_data"
    }
   ],
   "source": [
    "zmean21 = DS['zmean']\n",
    "wmean21 = DS['wmean']\n",
    "zmean21[np.where(np.diag(DS['wCOV'])>5e-4)] = 0\n",
    "plt.stem(zmean21)\n",
    "wmean21[np.where(np.diag(DS['wCOV'])>5e-4)] = 0\n",
    "print()\n",
    "print(np.sqrt(wmean21[0]))"
   ]
  },
  {
   "cell_type": "code",
   "execution_count": 54,
   "metadata": {},
   "outputs": [],
   "source": [
    "zmeanS21 = DS['zmean']"
   ]
  },
  {
   "cell_type": "code",
   "execution_count": 25,
   "metadata": {},
   "outputs": [
    {
     "data": {
      "image/png": "[encoded data removed]",
      "text/plain": [
       "<Figure size 864x144 with 1 Axes>"
      ]
     },
     "metadata": {
      "needs_background": "light"
     },
     "output_type": "display_data"
    }
   ],
   "source": [
    "plt.rcParams[\"font.family\"] = \"Times New Roman\"\n",
    "plt.rcParams['font.size'] = 24\n",
    "\n",
    "figure1=plt.figure(figsize = (12, 2))\n",
    "xr = np.array(range(len(D[1,:])))\n",
    "plt.stem(xr,zmeanS21, use_line_collection = True, linefmt='blue', basefmt=\"k\")\n",
    "plt.axhline(y= 0.5, color='r', linestyle='-.')\n",
    "plt.xlabel('basis functions',fontweight='bold')\n",
    "plt.ylabel('PIP', fontweight='bold');\n",
    "plt.title('(a) 21st DOF', fontweight='bold')\n",
    "plt.grid(True); plt.ylim(0,1.05)\n",
    "plt.xticks(fontweight='bold'); plt.yticks(fontweight='bold');\n",
    "figure1.savefig('MDOF_Diff_21.pdf',format='pdf',dpi=600,bbox_inches='tight')"
   ]
  },
  {
   "cell_type": "code",
   "execution_count": 26,
   "metadata": {},
   "outputs": [],
   "source": [
    "xdts = xzs22"
   ]
  },
  {
   "cell_type": "code",
   "execution_count": 27,
   "metadata": {},
   "outputs": [
    {
     "name": "stdout",
     "output_type": "stream",
     "text": [
      "{'Relevant': matlab.double([[1.0],[3.0],[7.0],[11.0],[14.0],[22.0],[33.0],[57.0],[64.0],[73.0]]), 'Value': matlab.double([[1.0091846008703866],[2.429582323364784],[2.330516849804251],[1.330512004452653],[0.014250350260624805],[-0.07881647569388553],[-75.37782043650094],[-2.1383648735396967],[0.445369865427977],[-0.7637924306420544]])}\n"
     ]
    }
   ],
   "source": [
    "#!/usr/bin/env python\n",
    "\"\"\"\n",
    "Sample script that uses the SparseBayes module created using\n",
    "MATLAB Compiler SDK.\n",
    "\n",
    "Refer to the MATLAB Compiler SDK documentation for more information.\n",
    "\"\"\"\n",
    "\n",
    "from __future__ import print_function\n",
    "import SparseBayes\n",
    "import matlab\n",
    "\n",
    "my_SparseBayes = SparseBayes.initialize()\n",
    "\n",
    "DictIn = matlab.double(Dict, size=(D.shape[0], D.shape[1]))\n",
    "targetIn = matlab.double(xdts, size=(D.shape[0], 1))\n",
    "DMOut = my_SparseBayes.SparseBayes(DictIn, targetIn)\n",
    "print(DMOut, sep='\\n')\n",
    "\n",
    "my_SparseBayes.terminate()"
   ]
  },
  {
   "cell_type": "code",
   "execution_count": 28,
   "metadata": {},
   "outputs": [
    {
     "name": "stdout",
     "output_type": "stream",
     "text": [
      "1.0091846008703866\n"
     ]
    }
   ],
   "source": [
    "print(abs(DMOut['Value'][0][0]))"
   ]
  },
  {
   "cell_type": "code",
   "execution_count": 29,
   "metadata": {},
   "outputs": [
    {
     "name": "stdout",
     "output_type": "stream",
     "text": [
      "[1. 0. 1. 0. 0. 0. 1. 0. 0. 0. 1. 0. 0. 1. 0. 0. 0. 0. 0. 0. 0. 1. 0. 0.\n",
      " 0. 0. 0. 0. 0. 0. 0. 0. 1. 0. 0. 0. 0. 0. 0. 0. 0. 0. 0. 0. 0. 0. 0. 0.\n",
      " 0. 0. 0. 0. 0. 0. 0. 0. 1. 0. 0. 0. 0. 0. 0. 1. 0. 0. 0. 0. 0. 0. 0. 0.\n",
      " 1. 0. 0. 0. 0. 0. 0. 0. 0.]\n"
     ]
    }
   ],
   "source": [
    "c = np.array(DMOut['Value'])\n",
    "d = []\n",
    "for j in c:\n",
    "    d.append(j[0])\n",
    "    \n",
    "a = np.array(DMOut['Relevant'])\n",
    "b = []\n",
    "for i in a:\n",
    "    b.append(int((i[0])-1))\n",
    "    \n",
    "initz0 = np.zeros(D.shape[1])\n",
    "for i in b:\n",
    "    initz0[i] = 1\n",
    "    \n",
    "print(initz0)"
   ]
  },
  {
   "cell_type": "code",
   "execution_count": 30,
   "metadata": {},
   "outputs": [
    {
     "name": "stderr",
     "output_type": "stream",
     "text": [
      "C:\\Users\\USER\\AppData\\Local\\Temp/ipykernel_3928/3512855728.py:147: RuntimeWarning: divide by zero encountered in log\n",
      "  + np.nansum((1-zm)*(np.log(1-p0) - np.log(1-zm))))\n",
      "C:\\Users\\USER\\AppData\\Local\\Temp/ipykernel_3928/3512855728.py:147: RuntimeWarning: invalid value encountered in multiply\n",
      "  + np.nansum((1-zm)*(np.log(1-p0) - np.log(1-zm))))\n",
      "C:\\Users\\USER\\AppData\\Local\\Temp/ipykernel_3928/3512855728.py:174: RuntimeWarning: overflow encountered in exp\n",
      "  expitC = 1./(1 + np.exp(-C))\n"
     ]
    },
    {
     "name": "stdout",
     "output_type": "stream",
     "text": [
      "Iteration = 0  log(Likelihood) = 7992.116701362584\n"
     ]
    },
    {
     "name": "stderr",
     "output_type": "stream",
     "text": [
      "C:\\Users\\USER\\AppData\\Local\\Temp/ipykernel_3928/3512855728.py:146: RuntimeWarning: divide by zero encountered in log\n",
      "  + np.nansum(zm*(np.log(p0) - np.log(zm)))\n",
      "C:\\Users\\USER\\AppData\\Local\\Temp/ipykernel_3928/3512855728.py:146: RuntimeWarning: invalid value encountered in multiply\n",
      "  + np.nansum(zm*(np.log(p0) - np.log(zm)))\n"
     ]
    },
    {
     "name": "stdout",
     "output_type": "stream",
     "text": [
      "Iteration = 1  log(Likelihood) = 8052.8781108596795\n",
      "Iteration = 2  log(Likelihood) = 8052.8793215155765\n",
      "Iteration = 3  log(Likelihood) = 8052.879321593269\n",
      "{'zmean': array([1.00000000e+00, 2.29600830e-50, 8.78612670e-23, 6.04666528e-41,\n",
      "       9.06022906e-23, 3.35181974e-38, 9.41734261e-23, 3.30423442e-45,\n",
      "       9.62959431e-23, 0.00000000e+00, 1.00000000e+00, 0.00000000e+00,\n",
      "       3.00316964e-46, 1.00000000e+00, 5.06772138e-45, 0.00000000e+00,\n",
      "       6.75275797e-44, 2.09032484e-38, 1.76221634e-22, 6.78521108e-28,\n",
      "       1.76697287e-22, 4.02364418e-26, 1.77038786e-22, 2.66788400e-26,\n",
      "       1.76510944e-22, 1.63624761e-22, 1.91884096e-22, 1.70012298e-22,\n",
      "       1.91925416e-22, 1.66577351e-22, 1.91983017e-22, 1.69975550e-22,\n",
      "       1.92036644e-22, 8.12332012e-27, 1.78866716e-22, 6.94266340e-32,\n",
      "       1.80586138e-22, 4.93378592e-26, 1.81902980e-22, 5.65387871e-25,\n",
      "       1.81982903e-22, 1.65716879e-22, 1.91925759e-22, 1.71582246e-22,\n",
      "       1.91946805e-22, 1.67024696e-22, 1.91990983e-22, 1.71150761e-22,\n",
      "       1.92046061e-22, 3.69285619e-26, 1.77251082e-22, 1.30030769e-25,\n",
      "       1.77861265e-22, 7.99460753e-30, 1.80000761e-22, 4.17972143e-25,\n",
      "       1.81312677e-22, 1.66885936e-22, 1.91984023e-22, 1.74195568e-22,\n",
      "       1.91992030e-22, 1.68789045e-22, 1.92018714e-22, 1.71442676e-22,\n",
      "       1.92065931e-22, 1.25765080e-27, 1.72425376e-22, 1.21861843e-25,\n",
      "       1.74122519e-22, 6.68738701e-26, 1.75528533e-22, 1.09633025e-30,\n",
      "       1.77977523e-22, 1.68451699e-22, 1.92038072e-22, 1.75297823e-22,\n",
      "       1.92047163e-22, 1.71211979e-22, 1.92065790e-22, 1.72508968e-22,\n",
      "       1.92088739e-22]), 'wmean': array([ 1.00308299e+00, -1.08337355e-49, -1.71497252e-24, -3.36019740e-40,\n",
      "       -2.71404299e-24, -1.97226281e-37,  1.88206847e-24, -7.63594615e-45,\n",
      "        2.08867423e-24,  0.00000000e+00,  6.21384375e-01,  0.00000000e+00,\n",
      "        1.94202415e-46,  1.08081537e-01,  2.77441353e-45,  0.00000000e+00,\n",
      "        3.06874174e-44, -8.50141505e-38, -1.18210243e-23, -6.32658626e-28,\n",
      "       -1.13802605e-23, -1.01213135e-25, -1.12117565e-23, -5.29461009e-26,\n",
      "       -1.52510089e-23, -4.32089481e-25, -4.75748273e-24, -1.17090776e-24,\n",
      "       -3.99662314e-24,  8.27038217e-24, -3.35685760e-24,  1.40116163e-23,\n",
      "       -3.65465813e-24, -2.46970928e-26, -4.52424520e-23, -2.15589452e-31,\n",
      "       -4.50440572e-23, -1.69938972e-25, -4.22756388e-23, -1.28942570e-24,\n",
      "       -4.31901650e-23, -9.79431175e-25, -3.99841449e-24,  8.51066768e-25,\n",
      "       -3.25163812e-24,  6.29356332e-24, -2.69761252e-24,  1.26923620e-23,\n",
      "       -2.96178415e-24, -9.61262355e-26, -6.42508678e-23, -4.19000776e-25,\n",
      "       -6.49213923e-23, -3.92804037e-29, -5.90535641e-23, -6.34057713e-25,\n",
      "       -5.62342768e-23,  1.51564785e-24, -3.27462235e-24,  3.50711749e-24,\n",
      "       -2.65755124e-24,  1.04168156e-23, -2.12696832e-24,  1.75394174e-23,\n",
      "       -2.32479407e-24, -2.34014806e-27, -4.46357308e-23, -2.06528154e-25,\n",
      "       -4.59142154e-23, -7.48714467e-26, -4.32337702e-23, -2.55019086e-30,\n",
      "       -4.54219944e-23,  5.21420718e-24, -3.32172969e-24,  2.69166198e-24,\n",
      "       -2.80481741e-24,  1.23559098e-23, -2.29655628e-24,  1.62302797e-23,\n",
      "       -2.29051837e-24]), 'wCOV': array([[ 2.75306074e-05, -7.11111084e-53,  5.63370536e-27, ...,\n",
      "         2.15832722e-27,  1.08289418e-26,  1.80261077e-27],\n",
      "       [-7.11111084e-53,  1.13008414e-01,  1.79436035e-74, ...,\n",
      "         8.24270790e-75,  1.04329248e-73,  6.54911935e-75],\n",
      "       [ 5.63370536e-27,  1.79436035e-74,  1.13008414e-01, ...,\n",
      "        -2.29347821e-47, -2.61467884e-47, -2.10859065e-47],\n",
      "       ...,\n",
      "       [ 2.15832722e-27,  8.24270790e-75, -2.29347821e-47, ...,\n",
      "         1.13008414e-01, -1.12522070e-47, -4.83314746e-48],\n",
      "       [ 1.08289418e-26,  1.04329248e-73, -2.61467884e-47, ...,\n",
      "        -1.12522070e-47,  1.13008414e-01, -1.06044746e-47],\n",
      "       [ 1.80261077e-27,  6.54911935e-75, -2.10859065e-47, ...,\n",
      "        -4.83314746e-48, -1.06044746e-47,  1.13008414e-01]]), 'sig2': 0.011300846982081135, 'modelIdx': array([ 9, 12]), 'Zmed': array([1., 1.]), 'Wsel': array([0.62138438, 0.10808154]), 'Wcov': array([0.03102679, 0.00112802])}\n"
     ]
    }
   ],
   "source": [
    "\n",
    "\n",
    "X = D\n",
    "y = xdts\n",
    "initz0 = initz0\n",
    "tol = 0.0001\n",
    "verbosity = True\n",
    "DS = Variational_Bayes_Code(X, y, initz0, tol, verbosity)\n",
    "print(DS)"
   ]
  },
  {
   "cell_type": "code",
   "execution_count": 33,
   "metadata": {},
   "outputs": [
    {
     "name": "stdout",
     "output_type": "stream",
     "text": [
      "\n",
      "1.0015403079287326\n"
     ]
    },
    {
     "data": {
      "image/png": "[encoded data removed]",
      "text/plain": [
       "<Figure size 432x288 with 1 Axes>"
      ]
     },
     "metadata": {
      "needs_background": "light"
     },
     "output_type": "display_data"
    }
   ],
   "source": [
    "zmean20 = DS['zmean']\n",
    "wmean20 = DS['wmean']\n",
    "zmean20[np.where(np.diag(DS['wCOV'])>5e-4)] = 0\n",
    "plt.stem(zmean20)\n",
    "wmean20[np.where(np.diag(DS['wCOV'])>5e-4)] = 0\n",
    "print()\n",
    "print(np.sqrt(wmean20[0]))"
   ]
  },
  {
   "cell_type": "code",
   "execution_count": 34,
   "metadata": {},
   "outputs": [],
   "source": [
    "zmeanS21 = DS['zmean']"
   ]
  },
  {
   "cell_type": "code",
   "execution_count": 36,
   "metadata": {},
   "outputs": [
    {
     "data": {
      "image/png": "[encoded data removed]",
      "text/plain": [
       "<Figure size 864x144 with 1 Axes>"
      ]
     },
     "metadata": {
      "needs_background": "light"
     },
     "output_type": "display_data"
    }
   ],
   "source": [
    "plt.rcParams[\"font.family\"] = \"Times New Roman\"\n",
    "plt.rcParams['font.size'] = 24\n",
    "\n",
    "figure1=plt.figure(figsize = (12, 2))\n",
    "xr = np.array(range(len(D[1,:])))\n",
    "plt.stem(xr,zmeanS21, use_line_collection = True, linefmt='blue', basefmt=\"k\")\n",
    "plt.axhline(y= 0.5, color='r', linestyle='-.')\n",
    "plt.xlabel('basis functions',fontweight='bold')\n",
    "plt.ylabel('PIP', fontweight='bold');\n",
    "plt.title('(a) 21st DOF', fontweight='bold')\n",
    "plt.grid(True); plt.ylim(0,1.05)\n",
    "plt.xticks(fontweight='bold'); plt.yticks(fontweight='bold');\n",
    "figure1.savefig('MDOF_Diff_20.pdf',format='pdf',dpi=600,bbox_inches='tight')"
   ]
  },
  {
   "cell_type": "code",
   "execution_count": null,
   "metadata": {},
   "outputs": [],
   "source": []
  }
 ],
 "metadata": {
  "kernelspec": {
   "display_name": "Python 3 (ipykernel)",
   "language": "python",
   "name": "python3"
  },
  "language_info": {
   "codemirror_mode": {
    "name": "ipython",
    "version": 3
   },
   "file_extension": ".py",
   "mimetype": "text/x-python",
   "name": "python",
   "nbconvert_exporter": "python",
   "pygments_lexer": "ipython3",
   "version": "3.9.7"
  },
  "toc": {
   "base_numbering": 1,
   "nav_menu": {},
   "number_sections": true,
   "sideBar": true,
   "skip_h1_title": false,
   "title_cell": "Table of Contents",
   "title_sidebar": "Contents",
   "toc_cell": false,
   "toc_position": {},
   "toc_section_display": true,
   "toc_window_display": false
  },
  "varInspector": {
   "cols": {
    "lenName": 16,
    "lenType": 16,
    "lenVar": 40
   },
   "kernels_config": {
    "python": {
     "delete_cmd_postfix": "",
     "delete_cmd_prefix": "del ",
     "library": "var_list.py",
     "varRefreshCmd": "print(var_dic_list())"
    },
    "r": {
     "delete_cmd_postfix": ") ",
     "delete_cmd_prefix": "rm(",
     "library": "var_list.r",
     "varRefreshCmd": "cat(var_dic_list()) "
    }
   },
   "types_to_exclude": [
    "module",
    "function",
    "builtin_function_or_method",
    "instance",
    "_Feature"
   ],
   "window_display": false
  },
  "vscode": {
   "interpreter": {
    "hash": "263930470851f494f0ed2879c35b57985588df20f9e529b86e97dd5eb9ddc466"
   }
  }
 },
 "nbformat": 4,
 "nbformat_minor": 4
}
