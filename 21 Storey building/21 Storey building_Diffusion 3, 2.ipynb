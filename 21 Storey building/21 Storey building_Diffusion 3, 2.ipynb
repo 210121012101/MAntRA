{
 "cells": [
  {
   "cell_type": "code",
   "execution_count": 1,
   "metadata": {},
   "outputs": [
    {
     "data": {
      "text/plain": [
       "'\\nThis code belongs to the paper:\\n-- YC Mathpati, KS More, T Tripura, R Nayek, S Chakraborty (2023)\\n   MAntRA: A framework for model agnostic reliability analysis\\n   \\n-- This code is for 21 Storey building.\\n'"
      ]
     },
     "execution_count": 1,
     "metadata": {},
     "output_type": "execute_result"
    }
   ],
   "source": [
    "\"\"\"\n",
    "This code belongs to the paper:\n",
    "-- YC Mathpati, KS More, T Tripura, R Nayek, S Chakraborty (2023)\n",
    "   MAntRA: A framework for model agnostic reliability analysis\n",
    "   \n",
    "-- This code is for 21 Storey building.\n",
    "\"\"\""
   ]
  },
  {
   "cell_type": "code",
   "execution_count": 1,
   "metadata": {},
   "outputs": [],
   "source": [
    "import numpy as np\n",
    "import matplotlib.pyplot as plt\n",
    "from scipy import linalg as LA\n",
    "from sklearn.metrics import mean_squared_error as MSE\n",
    "\n",
    "\"\"\"\n",
    "The Dictionary creation part:\n",
    "~~~~~~~~~~~~~~~~~~~~~~~~~~~~~~~~~~~~~~~~~~~~~~~~~~~~~~~~~~~~\n",
    "\"\"\"\n",
    "def library(xt, polyn, harmonic):\n",
    "    if polyn == 0:\n",
    "        polyn = 1\n",
    "    \n",
    "    # The polynomial is (x1 + x2)^p, with p is the order\n",
    "    # poly order 0\n",
    "    ind = 0\n",
    "    n = len(xt[0])\n",
    "    D = np.ones([n,1])\n",
    "    \n",
    "    if polyn >= 1:\n",
    "        # poly order 1\n",
    "        for i in range(len(xt)):\n",
    "            ind = ind+1\n",
    "            new = np.vstack(xt[i,:])\n",
    "            D = np.append(D, new, axis=1)\n",
    "     \n",
    "    if polyn >= 2: \n",
    "        # ploy order 2\n",
    "        for i in range(len(xt)):\n",
    "            for j in  range(i,len(xt)):\n",
    "                ind = ind+1\n",
    "                new = np.multiply(xt[i,:], xt[j,:])\n",
    "                new = np.vstack(new)\n",
    "                D = np.append(D, new, axis=1) \n",
    "    \n",
    "    if polyn >= 3:    \n",
    "        # ploy order 3\n",
    "        for i in range(len(xt)):\n",
    "            for j in  range(i,len(xt)):\n",
    "                for k in  range(j,len(xt)):\n",
    "                    ind = ind+1\n",
    "                    new = np.multiply(np.multiply(xt[i,:], xt[j,:]), xt[k,:])\n",
    "                    new = np.vstack(new)\n",
    "                    D = np.append(D, new, axis=1) \n",
    "    \n",
    "    if polyn >= 4:\n",
    "        # ploy order 4\n",
    "        for i in range(len(xt)):\n",
    "            for j in  range(i,len(xt)):\n",
    "                for k in  range(j,len(xt)):\n",
    "                    for l in range(k,len(xt)):\n",
    "                        ind = ind+1\n",
    "                        new = np.multiply(np.multiply(xt[i,:], xt[j,:]), xt[k,:])\n",
    "                        new = np.multiply(new, xt[l,:])\n",
    "                        new = np.vstack(new)\n",
    "                        D = np.append(D, new, axis=1) \n",
    "    \n",
    "    if polyn >= 5:\n",
    "        # ploy order 5\n",
    "        for i in range(len(xt)):\n",
    "            for j in  range(i,len(xt)):\n",
    "                for k in  range(j,len(xt)):\n",
    "                    for l in  range(k,len(xt)):\n",
    "                        for m in  range(l,len(xt)):\n",
    "                            ind = ind+1\n",
    "                            new = np.multiply(xt[i,:], xt[j,:])\n",
    "                            new = np.multiply(new, xt[k,:])\n",
    "                            new = np.multiply(new, xt[l,:])\n",
    "                            new = np.multiply(new, xt[m,:])\n",
    "                            new = np.vstack(new)\n",
    "                            D = np.append(D, new, axis=1) \n",
    "    \n",
    "    if polyn >= 6:\n",
    "        # ploy order 6\n",
    "        for i in range(len(xt)):\n",
    "            for j in  range(i,len(xt)):\n",
    "                for k in  range(j,len(xt)):\n",
    "                    for l in  range(k,len(xt)):\n",
    "                        for m in  range(l,len(xt)):\n",
    "                            for n in  range(m,len(xt)):\n",
    "                                ind = ind+1\n",
    "                                new = np.multiply(xt[i,:], xt[j,:])\n",
    "                                new = np.multiply(new, xt[k,:])\n",
    "                                new = np.multiply(new, xt[l,:])\n",
    "                                new = np.multiply(new, xt[m,:])\n",
    "                                new = np.multiply(new, xt[n,:])\n",
    "                                new = np.vstack(new)\n",
    "                                D = np.append(D, new, axis=1) \n",
    "    \n",
    "#     # for the signum or sign operator\n",
    "#     for i in range(len(xt)):\n",
    "#         ind = ind+1\n",
    "#         new = np.vstack(np.sign(xt[i,:]))+0.0001\n",
    "#         D = np.append(D, new, axis=1)\n",
    "    \n",
    "    # for the modulus operator\n",
    "    for i in range(len(xt)):\n",
    "        ind = ind+1\n",
    "        new = np.vstack(abs(xt[i,:]))\n",
    "        D = np.append(D, new, axis=1)\n",
    "      \n",
    "    # for the tensor operator\n",
    "    for i in range(len(xt)):\n",
    "        for j in  range(len(xt)):\n",
    "            ind = ind+1\n",
    "            new = np.multiply(xt[i,:],abs(xt[j,:]))\n",
    "            new = np.vstack(new)\n",
    "            D = np.append(D, new, axis=1)\n",
    "            \n",
    "    if harmonic == 1:\n",
    "        for i in range(len(xt)):\n",
    "            ind = ind+1\n",
    "            new = np.vstack(np.sin(xt[i,:]))\n",
    "            D = np.append(D, new, axis=1)\n",
    "\n",
    "        for i in range(len(xt)):\n",
    "            ind = ind+1\n",
    "            new = np.vstack(np.cos(xt[i,:]))\n",
    "            D = np.append(D, new, axis=1)\n",
    "            \n",
    "    ind = len(D[0])\n",
    "    \n",
    "    return D, ind"
   ]
  },
  {
   "cell_type": "code",
   "execution_count": 2,
   "metadata": {},
   "outputs": [],
   "source": [
    "import numpy as np\n",
    "import matplotlib.pyplot as plt\n",
    "\"\"\"\n",
    "A MDOF system excited by random noise\n",
    "----------------------------------------------------------------------\n",
    "\"\"\"\n",
    "\n",
    "def drift_mat(dof,k,c,m):\n",
    "    dim = 2 * dof\n",
    "    A = np.zeros((dim,dim))\n",
    "    \n",
    "    for i in range(dim):\n",
    "        if (i%2 == 0):\n",
    "            A[i][i+1] = 1\n",
    "    \n",
    "        elif(i==1):\n",
    "            A[i][i-1] = -(k+k)/m\n",
    "            A[i][i] = -(c+c)/m\n",
    "            A[i][i+1] = k/m\n",
    "            A[i][i+2] = c/m\n",
    "    \n",
    "        elif(i==dim-1):\n",
    "            A[i][i] = -c/m\n",
    "            A[i][i-1] = -k/m\n",
    "            A[i][i-2] = c/m\n",
    "            A[i][i-3] = k/m\n",
    "            \n",
    "        else:\n",
    "            A[i][i-3] = k/m \n",
    "            A[i][i-2] = c/m\n",
    "            A[i][i-1] = -(k+k)/m\n",
    "            A[i][i] = -(c+c)/m\n",
    "            A[i][i+1] = k/m\n",
    "            A[i][i+2] = c/m\n",
    "    return A\n",
    "\n",
    "def M_DOF_sys(x_initial, dof, T):\n",
    "    # parameters of M_DOF_sys in Equation\n",
    "    m = 1\n",
    "    c = 2\n",
    "    k = 3000\n",
    "    sigma = 1\n",
    "    \n",
    "    # solution by euler maruyama\n",
    "    # -------------------------------------------------------\n",
    "    dt = 0.0001\n",
    "    t = np.arange(0, T+dt, dt)\n",
    "    Nsamp = 200 # no. of samples in the run\n",
    "\n",
    "    y35 = []\n",
    "    y36 = []\n",
    "    y37 = []\n",
    "    y38 = []\n",
    "    y39 = []\n",
    "    y40 = []\n",
    "    y41 = []\n",
    "    y42 = []\n",
    "    \n",
    "    xz19 = []\n",
    "    xz20 = []\n",
    "    \n",
    "    xzs19 = []\n",
    "    xzs20 = []\n",
    "    \n",
    "    # Simulation Starts Here :\n",
    "    # -------------------------------------------------------\n",
    "    for ensemble in range(Nsamp):\n",
    "        x0 = x_initial\n",
    "        x = x0                              # initial condition.\n",
    "        for n in range(len(t)-1):\n",
    "            dW = np.sqrt(dt)*np.random.randn(2*dof)\n",
    "            \n",
    "            '''LINEAR PART DRIFT'''\n",
    "        \n",
    "            A = drift_mat(dof,k,c,m)\n",
    "            \n",
    "            '''DIFFUSION TERM  = b'''\n",
    "            diffu_arr = np.zeros(2*dof)\n",
    "            for i in range(2*dof):\n",
    "                if (i%2 != 0):\n",
    "                    diffu_arr[i] = sigma/m\n",
    "            \n",
    "            soln_arr = x0 + np.matmul(A,x0)*dt + diffu_arr*dW        \n",
    "            x0 = soln_arr\n",
    "            x = np.column_stack((x, x0))\n",
    "            \n",
    "\n",
    "        y35.append(x[-35,:])        \n",
    "        y36.append(x[-36,:])              \n",
    "        y37.append(x[-37,:])         # \n",
    "        y38.append(x[-38,:])\n",
    "        y39.append(x[-39,:])         #\n",
    "        y40.append(x[-40,:])\n",
    "        y41.append(x[-41,:])        \n",
    "        y42.append(x[-42,:])\n",
    "\n",
    "        \n",
    "        zint19 = x[-37, 0:-1]        # Velocity\n",
    "        xfinal19 = x[-37, 1:] \n",
    "        xmz19 = (xfinal19 - zint19)\n",
    "        \n",
    "        zint20 = x[-39, 0:-1]        # Velocity\n",
    "        xfinal20 = x[-39, 1:] \n",
    "        xmz20 = (xfinal20 - zint20) \n",
    "\n",
    "        xz19.append(xmz19)\n",
    "        xz20.append(xmz20)\n",
    "        \n",
    "        xmzsq19 = np.multiply(xmz19, xmz19)\n",
    "        xzs19.append(xmzsq19)\n",
    "        \n",
    "        xmzsq20 = np.multiply(xmz20, xmz20)\n",
    "        xzs20.append(xmzsq20)\n",
    "        \n",
    "    xz19 = pow(dt,-1)*np.mean(np.array(xz19), axis = 0)\n",
    "    xz20 = pow(dt,-1)*np.mean(np.array(xz20), axis = 0)\n",
    "\n",
    "    xzs19 = pow(dt,-1)*np.mean(np.array(xzs19), axis = 0)\n",
    "    xzs20 = pow(dt,-1)*np.mean(np.array(xzs20), axis = 0)\n",
    "\n",
    "    y35 = np.array(y35)\n",
    "    y36 = np.array(y36)\n",
    "    y37 = np.array(y37)\n",
    "    y38 = np.array(y38)\n",
    "    y39 = np.array(y39)\n",
    "    y40 = np.array(y40)\n",
    "    y41 = np.array(y41)\n",
    "    y42 = np.array(y42)\n",
    "\n",
    "    time = t[0:-1]\n",
    "    return xz19, xz20, xzs19, xzs20, y35, y36, y37, y38, y39, y40, y41, y42, time"
   ]
  },
  {
   "cell_type": "code",
   "execution_count": 3,
   "metadata": {},
   "outputs": [],
   "source": [
    "np.random.seed(0)\n",
    "T = 1\n",
    "dof = 21\n",
    "x_initial = np.zeros(2*dof)"
   ]
  },
  {
   "cell_type": "code",
   "execution_count": null,
   "metadata": {},
   "outputs": [],
   "source": [
    "import time\n",
    "start = time.time()\n",
    "xz19, xz20, xzs19, xzs20, y35, y36, y37, y38, y39, y40, y41, y42, time_ = M_DOF_sys(x_initial, dof, T)"
   ]
  },
  {
   "cell_type": "code",
   "execution_count": 5,
   "metadata": {},
   "outputs": [
    {
     "name": "stdout",
     "output_type": "stream",
     "text": [
      "\n"
     ]
    },
    {
     "data": {
      "text/plain": [
       "22.637791061401366"
      ]
     },
     "execution_count": 5,
     "metadata": {},
     "output_type": "execute_result"
    }
   ],
   "source": [
    "end= time.time()\n",
    "print()\n",
    "TIMES = (end - start)/60\n",
    "TIMES"
   ]
  },
  {
   "cell_type": "code",
   "execution_count": 6,
   "metadata": {},
   "outputs": [
    {
     "name": "stdout",
     "output_type": "stream",
     "text": [
      "\n"
     ]
    },
    {
     "data": {
      "text/plain": [
       "5.393276619911194"
      ]
     },
     "execution_count": 6,
     "metadata": {},
     "output_type": "execute_result"
    }
   ],
   "source": [
    "startD = time.time()\n",
    "# Expected Dictionary Creation:\n",
    "libr = []\n",
    "for j in range(len(y35)):\n",
    "    data = np.row_stack((y35[j,0:-1], y36[j,0:-1], y37[j,0:-1], y38[j,0:-1], y39[j,0:-1], y40[j,0:-1], y41[j,0:-1], y42[j,0:-1]))\n",
    "    Dtemp, nl = library(data, 1, 0)\n",
    "    libr.append(Dtemp)\n",
    "libr = np.array(libr)\n",
    "Dictionary= np.mean(libr, axis = 0)\n",
    "print()\n",
    "endD = time.time()\n",
    "TIMED = (endD - startD)/60\n",
    "TIMED"
   ]
  },
  {
   "cell_type": "code",
   "execution_count": 7,
   "metadata": {},
   "outputs": [],
   "source": [
    "xdts = xzs19\n",
    "D = Dictionary"
   ]
  },
  {
   "cell_type": "code",
   "execution_count": 8,
   "metadata": {},
   "outputs": [
    {
     "data": {
      "text/plain": [
       "(10000, 81)"
      ]
     },
     "execution_count": 8,
     "metadata": {},
     "output_type": "execute_result"
    }
   ],
   "source": [
    "D.shape"
   ]
  },
  {
   "cell_type": "code",
   "execution_count": 9,
   "metadata": {},
   "outputs": [
    {
     "data": {
      "text/plain": [
       "(810000,)"
      ]
     },
     "execution_count": 9,
     "metadata": {},
     "output_type": "execute_result"
    }
   ],
   "source": [
    "Dict = D.reshape(-1,order='F')\n",
    "Dict.shape"
   ]
  },
  {
   "cell_type": "code",
   "execution_count": 10,
   "metadata": {
    "scrolled": true
   },
   "outputs": [
    {
     "name": "stdout",
     "output_type": "stream",
     "text": [
      "{'Relevant': matlab.double([[1.0],[6.0],[13.0],[14.0],[16.0],[21.0],[27.0],[32.0],[38.0],[58.0]]), 'Value': matlab.double([[0.9904825352434724],[0.09945833063129142],[0.5275949022920007],[0.10789027323677451],[0.09969911004305786],[-1.253850794084635],[34.01246409006031],[1.042994287115904],[-0.4438090621349935],[-0.12908973332471121]])}\n"
     ]
    }
   ],
   "source": [
    "#!/usr/bin/env python\n",
    "\"\"\"\n",
    "Sample script that uses the SparseBayes module created using\n",
    "MATLAB Compiler SDK.\n",
    "\n",
    "Refer to the MATLAB Compiler SDK documentation for more information.\n",
    "\"\"\"\n",
    "\n",
    "from __future__ import print_function\n",
    "import SparseBayes\n",
    "import matlab\n",
    "\n",
    "my_SparseBayes = SparseBayes.initialize()\n",
    "\n",
    "DictIn = matlab.double(Dict, size=(D.shape[0], D.shape[1]))\n",
    "targetIn = matlab.double(xdts, size=(D.shape[0], 1))\n",
    "DMOut = my_SparseBayes.SparseBayes(DictIn, targetIn)\n",
    "print(DMOut, sep='\\n')\n",
    "\n",
    "my_SparseBayes.terminate()"
   ]
  },
  {
   "cell_type": "code",
   "execution_count": 11,
   "metadata": {},
   "outputs": [
    {
     "name": "stdout",
     "output_type": "stream",
     "text": [
      "[1. 0. 0. 0. 0. 1. 0. 0. 0. 0. 0. 0. 1. 1. 0. 1. 0. 0. 0. 0. 1. 0. 0. 0.\n",
      " 0. 0. 1. 0. 0. 0. 0. 1. 0. 0. 0. 0. 0. 1. 0. 0. 0. 0. 0. 0. 0. 0. 0. 0.\n",
      " 0. 0. 0. 0. 0. 0. 0. 0. 0. 1. 0. 0. 0. 0. 0. 0. 0. 0. 0. 0. 0. 0. 0. 0.\n",
      " 0. 0. 0. 0. 0. 0. 0. 0. 0.]\n"
     ]
    }
   ],
   "source": [
    "c = np.array(DMOut['Value'])\n",
    "d = []\n",
    "for j in c:\n",
    "    d.append(j[0])\n",
    "    \n",
    "a = np.array(DMOut['Relevant'])\n",
    "b = []\n",
    "for i in a:\n",
    "    b.append(int((i[0])-1))\n",
    "    \n",
    "initz0 = np.zeros(D.shape[1])\n",
    "for i in b:\n",
    "    initz0[i] = 1\n",
    "    \n",
    "print(initz0)"
   ]
  },
  {
   "cell_type": "code",
   "execution_count": 12,
   "metadata": {},
   "outputs": [],
   "source": [
    "import warnings\n",
    "import math\n",
    "import numpy as np\n",
    "import scipy as sp\n",
    "import sympy as smp\n",
    "from scipy import stats\n",
    "from numpy import linalg as la\n",
    "import matplotlib.pyplot as plt\n",
    "from numpy.random import gamma\n",
    "from scipy.special import loggamma\n",
    "\n",
    "def Variational_Bayes_Code(X, y, initz0, tol, verbosity):\n",
    "\n",
    "    if (len(X) == 0 or len(y) == 0):\n",
    "        raise Exception('X and or y is missing')\n",
    "        \n",
    "    if (len(X) != len(y)):\n",
    "        raise Exception('Number of observations do not match')\n",
    "        \n",
    "    # X = stats.zscore(X, ddof = 1)         \n",
    "    # X = np.c_[np.ones(len(X)),X]\n",
    "    # X = np.c_[np.ones(len(X)),X]          \n",
    "    # y = y - np.mean(y)\n",
    "    N = len(X)\n",
    "    # Prior parameters of noise variance (Inverse Gamma dist)\n",
    "    A = 1e-4\n",
    "    B = 1e-4\n",
    "    vs = 10\n",
    "    tau0 = 1000\n",
    "    \n",
    "    if (len(initz0) == 0):\n",
    "        raise Exception('No initial value of z found')\n",
    "    else:\n",
    "        p0 = expit(-0.5*(np.sqrt(N)))       \n",
    "        \n",
    "        # Adding the intercept indicator variable (slightly less than 1 to prevent log(0) values) \n",
    "        # initz = np.hstack((1,initz0))  \n",
    "        initz = initz0\n",
    "\n",
    "        DS,LLcvg  = run_VB2(X, y, vs, A, B, tau0, p0, initz, tol, verbosity)    \n",
    "        # This is function which will come first\n",
    "        \n",
    "    out_vb   = DS\n",
    "    a = DS['zmean'] > 0.5\n",
    "    count = 0\n",
    "    modelIdx = []\n",
    "    for i in a:\n",
    "        if i == True:\n",
    "            modelIdx.append(count)\n",
    "        count += 1\n",
    "            \n",
    "    modelIdx = np.setdiff1d(modelIdx,0)\n",
    "    out_vb['modelIdx'] = modelIdx-1\n",
    "    out_vb['Zmed'] = DS['zmean'][modelIdx]\n",
    "    out_vb['Wsel'] = DS['wmean'][modelIdx]\n",
    "    out_vb['Wcov'] = DS['wCOV'][modelIdx, modelIdx]\n",
    "    out_vb['sig2'] = DS['sig2']\n",
    "    \n",
    "    return out_vb\n",
    "\n",
    "DS = {}\n",
    "def run_VB2(Xc, yc, vs, A, B, tau0, p0, initz, tol, verbosity):\n",
    "    \"\"\"This function is the implementation of VB from John T. Ormerod paper (2014)\n",
    "       This implementation uses slab scaling by noise variance\n",
    "       vs    : treated as a constant\n",
    "       A,B   : constants of the IG prior over noise variance\n",
    "       tau0  : Expected value of (sigma^{-2})\n",
    "       p0    : inclusion probablility\n",
    "       initz : Initial value of z\n",
    "       Xc    : Centered and standardized dictionary except the first column\n",
    "       yc    : Centered observations \"\"\"\n",
    "    \n",
    "    Lambda    = logit(p0)\n",
    "    iter_     = 0\n",
    "    max_iter  = 100\n",
    "    LL        = np.zeros(max_iter)        \n",
    "    zm        = np.reshape(initz,(-1))            \n",
    "    taum      = tau0                      \n",
    "    invVs     = 1/vs\n",
    "    \n",
    "    X = Xc\n",
    "    y = yc\n",
    "    XtX = (X.T) @ X\n",
    "    XtX = 0.5*(XtX + (XtX).T)\n",
    "    Xty = (X.T) @ y                 \n",
    "    yty = (y.T) @ y\n",
    "\n",
    "    eyep = np.eye(len(XtX))\n",
    "    [N,p] = X.shape\n",
    "    allidx = np.arange(p)\n",
    "    zm[0] = 1                                                                   # Always include the intercept \n",
    "    Abar    = (A + 0.5*N + 0.5*p)\n",
    "    converged = 0\n",
    "    \n",
    "    while (converged==0):\n",
    "        if (iter_==100):\n",
    "            break\n",
    "        \n",
    "        Zm       = np.diag(zm)\n",
    "        Omg      = (np.reshape(zm,(-1,1)) @ np.reshape(zm,(1,-1))) + (Zm @ (eyep-Zm))\n",
    "        # Update the mean and covariance of the coefficients given mean of z\n",
    "        term1    = XtX * Omg                                                       # elementwisw multiplication\n",
    "        invSigma = taum * (term1 + invVs * eyep)\n",
    "        invSigma = 0.5*(invSigma + invSigma.T)                                     # symmetric\n",
    "        Sigma    = la.inv(invSigma) @ eyep\n",
    "        mu       = taum * (Sigma @ Zm @ Xty)                                       # @ ---> matrix multiplication\n",
    "        \n",
    "        # Update tau related to sigma\n",
    "        term2    = 2 * Xty @ Zm @ mu\n",
    "        term3    =  np.reshape(mu,(len(initz0),1)) @ np.reshape(mu,(1,len(initz0)))+ Sigma\n",
    "        term4    = yty - term2 + np.trace((term1 + invVs * eyep) @ term3)    \n",
    "        s        = B + 0.5*term4\n",
    "        \n",
    "        if s<0:\n",
    "            warnings.warn('s turned out be less than 0. Taking absolute value')\n",
    "            s = B + 0.5*abs(term4)\n",
    "        \n",
    "        taum     = Abar / s\n",
    "        zstr   = zm\n",
    "\n",
    "        order   = np.setdiff1d(np.random.permutation(p), 0, assume_unique=True)\n",
    "        for j in order: \n",
    "            muj     = mu[j]                            \n",
    "            sigmaj  = Sigma[j,j]\n",
    "            \n",
    "            remidx  = np.setdiff1d(allidx,j)\n",
    "            mu_j    = mu[remidx]\n",
    "            Sigma_jj= Sigma[remidx,j]\n",
    "            etaj    = (Lambda - 0.5 * taum * ((muj**2 + sigmaj) * XtX[j,j]) \n",
    "                       + taum * np.reshape(X[:,j],(1,-1)) @ (np.reshape(y,(-1,1))*muj \n",
    "                        -X[:,remidx] @ np.diag(zstr[remidx]) @ ((mu_j * muj + Sigma_jj).reshape(-1,1))))\n",
    "            zstr[j] = expit(etaj)\n",
    "            \n",
    "        zm = zstr\n",
    "        \n",
    "        # Calculate marginal log-likelihood\n",
    "        \n",
    "        LL[iter_] = ( 0.5*p \n",
    "                    - 0.5*N*np.log(2*np.pi) \n",
    "                    + 0.5*p*np.log(invVs) \n",
    "                    + A*np.log(B)\n",
    "                    - loggamma(A)\n",
    "                    + loggamma(Abar) \n",
    "                    - Abar*np.log(s)\n",
    "                    + 0.5*np.log(la.det(Sigma))\n",
    "                    + np.nansum(zm*(np.log(p0) - np.log(zm))) \n",
    "                    + np.nansum((1-zm)*(np.log(1-p0) - np.log(1-zm))))\n",
    "        \n",
    "        if(verbosity):\n",
    "            print(f'Iteration = {iter_}  log(Likelihood) = {LL[iter_]}')\n",
    "        \n",
    "        if(iter_>1):\n",
    "            cvg = LL[iter_] - LL[iter_-1]\n",
    "            \n",
    "            if (cvg < 0 and verbosity):\n",
    "                print('OOPS!  log(like) decreasing!!')\n",
    "            elif (cvg<tol or iter_> max_iter):\n",
    "                converged = 1\n",
    "                LL = LL[0:iter_]\n",
    "                \n",
    "        iter_    = iter_ + 1\n",
    "    DS['zmean'] = zm\n",
    "    DS['wmean'] = mu\n",
    "    DS['wCOV'] = Sigma\n",
    "    DS['sig2'] = 1/taum\n",
    "    LLcvg    = LL[-1]\n",
    "    return DS, LLcvg\n",
    "    \n",
    "def logit(C):\n",
    "    logitC = np.log(C) - np.log(1-C)\n",
    "    return logitC\n",
    "\n",
    "def expit(C):\n",
    "    expitC = 1./(1 + np.exp(-C))\n",
    "    return expitC"
   ]
  },
  {
   "cell_type": "code",
   "execution_count": 13,
   "metadata": {},
   "outputs": [
    {
     "data": {
      "text/plain": [
       "((10000, 81), (81,))"
      ]
     },
     "execution_count": 13,
     "metadata": {},
     "output_type": "execute_result"
    }
   ],
   "source": [
    "D.shape, initz0.shape"
   ]
  },
  {
   "cell_type": "code",
   "execution_count": 14,
   "metadata": {},
   "outputs": [
    {
     "name": "stderr",
     "output_type": "stream",
     "text": [
      "C:\\Users\\USER\\AppData\\Local\\Temp/ipykernel_12148/3512855728.py:147: RuntimeWarning: divide by zero encountered in log\n",
      "  + np.nansum((1-zm)*(np.log(1-p0) - np.log(1-zm))))\n",
      "C:\\Users\\USER\\AppData\\Local\\Temp/ipykernel_12148/3512855728.py:147: RuntimeWarning: invalid value encountered in multiply\n",
      "  + np.nansum((1-zm)*(np.log(1-p0) - np.log(1-zm))))\n"
     ]
    },
    {
     "name": "stdout",
     "output_type": "stream",
     "text": [
      "Iteration = 0  log(Likelihood) = 8132.523757226134\n"
     ]
    },
    {
     "name": "stderr",
     "output_type": "stream",
     "text": [
      "C:\\Users\\USER\\AppData\\Local\\Temp/ipykernel_12148/3512855728.py:174: RuntimeWarning: overflow encountered in exp\n",
      "  expitC = 1./(1 + np.exp(-C))\n",
      "C:\\Users\\USER\\AppData\\Local\\Temp/ipykernel_12148/3512855728.py:146: RuntimeWarning: divide by zero encountered in log\n",
      "  + np.nansum(zm*(np.log(p0) - np.log(zm)))\n",
      "C:\\Users\\USER\\AppData\\Local\\Temp/ipykernel_12148/3512855728.py:146: RuntimeWarning: invalid value encountered in multiply\n",
      "  + np.nansum(zm*(np.log(p0) - np.log(zm)))\n"
     ]
    },
    {
     "name": "stdout",
     "output_type": "stream",
     "text": [
      "Iteration = 1  log(Likelihood) = 8189.107744777155\n",
      "Iteration = 2  log(Likelihood) = 8189.109242724637\n",
      "Iteration = 3  log(Likelihood) = 8189.109242821238\n",
      "{'zmean': array([1.00000000e+00, 4.35228783e-34, 1.86407851e-22, 2.08590066e-34,\n",
      "       1.87572219e-22, 4.52267385e-34, 1.89351995e-22, 3.54356237e-34,\n",
      "       1.91190886e-22, 0.00000000e+00, 1.40364011e-26, 0.00000000e+00,\n",
      "       1.97031373e-25, 1.00000000e+00, 2.57159477e-24, 1.00000000e+00,\n",
      "       3.05353908e-23, 1.29388386e-27, 1.90856511e-22, 5.27069995e-24,\n",
      "       1.91596014e-22, 2.49168875e-24, 1.92086539e-22, 4.98654579e-24,\n",
      "       1.92576719e-22, 1.91300789e-22, 1.92866757e-22, 1.91971730e-22,\n",
      "       1.92869838e-22, 1.91736171e-22, 1.92872672e-22, 1.92216075e-22,\n",
      "       1.92874421e-22, 3.11465128e-24, 1.91277355e-22, 8.96336033e-26,\n",
      "       1.91716366e-22, 1.89265338e-24, 1.92145486e-22, 4.99544559e-24,\n",
      "       1.92534582e-22, 1.91801334e-22, 1.92869763e-22, 1.92146198e-22,\n",
      "       1.92871408e-22, 1.92067636e-22, 1.92873268e-22, 1.92286633e-22,\n",
      "       1.92874582e-22, 6.16301227e-24, 1.91569766e-22, 7.38513310e-24,\n",
      "       1.91947060e-22, 2.12685898e-27, 1.92141413e-22, 3.73729997e-24,\n",
      "       1.92551946e-22, 1.92264169e-22, 1.92872566e-22, 1.92318886e-22,\n",
      "       1.92873271e-22, 1.92295535e-22, 1.92873799e-22, 1.92483150e-22,\n",
      "       1.92874669e-22, 3.45851795e-24, 1.91738393e-22, 7.00553920e-24,\n",
      "       1.92066808e-22, 4.83647175e-24, 1.92379646e-22, 9.36494078e-27,\n",
      "       1.92637904e-22, 1.92584995e-22, 1.92874187e-22, 1.92634284e-22,\n",
      "       1.92874522e-22, 1.92548819e-22, 1.92874660e-22, 1.92675395e-22,\n",
      "       1.92874787e-22]), 'wmean': array([ 9.88237709e-01, -6.90436841e-34,  2.17490271e-23, -9.28168530e-34,\n",
      "        6.09470489e-24,  5.52546988e-34, -1.70708216e-24,  5.20649352e-34,\n",
      "        1.44842740e-24,  0.00000000e+00,  1.51573613e-27,  0.00000000e+00,\n",
      "        2.58381699e-26,  1.00777053e-01,  2.42548151e-25,  1.33904147e-01,\n",
      "        1.31646263e-24, -6.67765609e-28, -1.16254769e-23, -5.52788696e-24,\n",
      "       -9.31875091e-24, -3.87330676e-25, -3.08219962e-24, -1.00762587e-24,\n",
      "        7.59823248e-25,  5.26911922e-24,  8.10431308e-25,  7.72015044e-24,\n",
      "        5.20126918e-25,  8.47021734e-24,  3.02374922e-25,  1.15375547e-23,\n",
      "        7.95993042e-26, -3.19936553e-24, -1.79724331e-23, -2.63235380e-25,\n",
      "       -1.47600070e-23, -5.59574672e-24, -7.80013352e-24, -6.57338790e-24,\n",
      "       -4.11996439e-24, -4.23557716e-25,  5.22105723e-25,  3.14739644e-24,\n",
      "        2.81575270e-25,  1.51493585e-24,  8.52514718e-26,  6.39226192e-24,\n",
      "       -1.25350041e-26, -3.82430897e-24,  9.65506572e-25, -1.85780422e-24,\n",
      "        4.12020873e-24, -8.66915243e-28,  7.81102273e-24, -1.01512955e-24,\n",
      "        3.00831695e-24, -4.22000063e-24,  3.02984757e-25,  1.68793066e-24,\n",
      "        9.22547859e-26, -2.38580086e-24, -3.93810164e-26,  1.74110035e-24,\n",
      "       -6.78483849e-26,  1.61582971e-24,  4.31461058e-24,  6.01657774e-24,\n",
      "        7.42438154e-24, -3.39331213e-24,  6.58569704e-24,  1.07629344e-26,\n",
      "        5.33208328e-24, -1.20140843e-24,  1.56584369e-25,  7.08014052e-25,\n",
      "        5.79675613e-26, -1.65185005e-24, -3.84597457e-26,  1.92406272e-24,\n",
      "       -4.85576147e-26]), 'wCOV': array([[ 1.82958427e-05,  1.40211686e-37, -3.40330557e-27, ...,\n",
      "        -1.95468844e-29,  4.77146886e-28, -9.41239437e-30],\n",
      "       [ 1.40211686e-37,  1.09946233e-01,  1.74887012e-58, ...,\n",
      "         1.58675799e-59, -3.07720513e-60,  1.25070335e-59],\n",
      "       [-3.40330557e-27,  1.74887012e-58,  1.09946233e-01, ...,\n",
      "        -7.65539699e-49, -8.96758596e-48, -4.26362468e-49],\n",
      "       ...,\n",
      "       [-1.95468844e-29,  1.58675799e-59, -7.65539699e-49, ...,\n",
      "         1.09946233e-01, -1.32492987e-49, -8.33525757e-51],\n",
      "       [ 4.77146886e-28, -3.07720513e-60, -8.96758596e-48, ...,\n",
      "        -1.32492987e-49,  1.09946233e-01, -1.34657301e-49],\n",
      "       [-9.41239437e-30,  1.25070335e-59, -4.26362468e-49, ...,\n",
      "        -8.33525757e-51, -1.34657301e-49,  1.09946233e-01]]), 'sig2': 0.010994629367978218, 'modelIdx': array([12, 14]), 'Zmed': array([1., 1.]), 'Wsel': array([0.10077705, 0.13390415]), 'Wcov': array([0.00261713, 0.00308653])}\n"
     ]
    }
   ],
   "source": [
    "tol = 0.0001\n",
    "verbosity = True\n",
    "initz0 = initz0\n",
    "DS = Variational_Bayes_Code(D, xdts, initz0, tol, verbosity)\n",
    "\n",
    "print(DS) "
   ]
  },
  {
   "cell_type": "code",
   "execution_count": 16,
   "metadata": {},
   "outputs": [
    {
     "data": {
      "text/plain": [
       "array([1.82958427e-05, 1.09946233e-01, 1.09946233e-01, 1.09946233e-01,\n",
       "       1.09946233e-01, 1.09946233e-01, 1.09946233e-01, 1.09946233e-01,\n",
       "       1.09946233e-01, 1.09946233e-01, 1.09946233e-01, 1.09946233e-01,\n",
       "       1.09946233e-01, 2.61712901e-03, 1.09946233e-01, 3.08652998e-03,\n",
       "       1.09946233e-01, 1.09946233e-01, 1.09946233e-01, 1.09946233e-01,\n",
       "       1.09946233e-01, 1.09946233e-01, 1.09946233e-01, 1.09946233e-01,\n",
       "       1.09946233e-01, 1.09946233e-01, 1.09946233e-01, 1.09946233e-01,\n",
       "       1.09946233e-01, 1.09946233e-01, 1.09946233e-01, 1.09946233e-01,\n",
       "       1.09946233e-01, 1.09946233e-01, 1.09946233e-01, 1.09946233e-01,\n",
       "       1.09946233e-01, 1.09946233e-01, 1.09946233e-01, 1.09946233e-01,\n",
       "       1.09946233e-01, 1.09946233e-01, 1.09946233e-01, 1.09946233e-01,\n",
       "       1.09946233e-01, 1.09946233e-01, 1.09946233e-01, 1.09946233e-01,\n",
       "       1.09946233e-01, 1.09946233e-01, 1.09946233e-01, 1.09946233e-01,\n",
       "       1.09946233e-01, 1.09946233e-01, 1.09946233e-01, 1.09946233e-01,\n",
       "       1.09946233e-01, 1.09946233e-01, 1.09946233e-01, 1.09946233e-01,\n",
       "       1.09946233e-01, 1.09946233e-01, 1.09946233e-01, 1.09946233e-01,\n",
       "       1.09946233e-01, 1.09946233e-01, 1.09946233e-01, 1.09946233e-01,\n",
       "       1.09946233e-01, 1.09946233e-01, 1.09946233e-01, 1.09946233e-01,\n",
       "       1.09946233e-01, 1.09946233e-01, 1.09946233e-01, 1.09946233e-01,\n",
       "       1.09946233e-01, 1.09946233e-01, 1.09946233e-01, 1.09946233e-01,\n",
       "       1.09946233e-01])"
      ]
     },
     "execution_count": 16,
     "metadata": {},
     "output_type": "execute_result"
    }
   ],
   "source": [
    "np.diag(DS['wCOV'])"
   ]
  },
  {
   "cell_type": "code",
   "execution_count": 17,
   "metadata": {},
   "outputs": [
    {
     "name": "stdout",
     "output_type": "stream",
     "text": [
      "\n",
      "0.9941014579491846\n"
     ]
    },
    {
     "data": {
      "image/png": "[encoded data removed]",
      "text/plain": [
       "<Figure size 432x288 with 1 Axes>"
      ]
     },
     "metadata": {
      "needs_background": "light"
     },
     "output_type": "display_data"
    }
   ],
   "source": [
    "zmean13 = DS['zmean']\n",
    "wmean13 = DS['wmean']\n",
    "zmean13[np.where(np.diag(DS['wCOV'])>5e-4)] = 0\n",
    "plt.stem(zmean13)\n",
    "wmean13[np.where(np.diag(DS['wCOV'])>5e-4)] = 0\n",
    "print()\n",
    "print(np.sqrt(wmean13[0]))"
   ]
  },
  {
   "cell_type": "code",
   "execution_count": 18,
   "metadata": {},
   "outputs": [],
   "source": [
    "xdts = xzs20"
   ]
  },
  {
   "cell_type": "code",
   "execution_count": 19,
   "metadata": {},
   "outputs": [
    {
     "name": "stdout",
     "output_type": "stream",
     "text": [
      "{'Relevant': matlab.double([[1.0],[10.0],[15.0],[16.0],[20.0],[39.0],[50.0],[51.0],[52.0],[57.0],[70.0],[73.0],[81.0]]), 'Value': matlab.double([[0.9863877235342399],[0.1789696288868821],[1.2126479352123791],[0.027799401226600916],[-0.008110598775003393],[13.06618091201545],[0.6080261937592515],[8.55764887631481],[-0.5359061184082317],[-26.94846828259613],[-0.31954538263831705],[27.12007419340602],[946.9765652762065]])}\n"
     ]
    }
   ],
   "source": [
    "#!/usr/bin/env python\n",
    "\"\"\"\n",
    "Sample script that uses the SparseBayes module created using\n",
    "MATLAB Compiler SDK.\n",
    "\n",
    "Refer to the MATLAB Compiler SDK documentation for more information.\n",
    "\"\"\"\n",
    "\n",
    "from __future__ import print_function\n",
    "import SparseBayes\n",
    "import matlab\n",
    "\n",
    "my_SparseBayes = SparseBayes.initialize()\n",
    "\n",
    "DictIn = matlab.double(Dict, size=(D.shape[0], D.shape[1]))\n",
    "targetIn = matlab.double(xdts, size=(D.shape[0], 1))\n",
    "DMOut = my_SparseBayes.SparseBayes(DictIn, targetIn)\n",
    "print(DMOut, sep='\\n')\n",
    "\n",
    "my_SparseBayes.terminate()"
   ]
  },
  {
   "cell_type": "code",
   "execution_count": 20,
   "metadata": {},
   "outputs": [
    {
     "name": "stdout",
     "output_type": "stream",
     "text": [
      "[1. 0. 0. 0. 0. 0. 0. 0. 0. 1. 0. 0. 0. 0. 1. 1. 0. 0. 0. 1. 0. 0. 0. 0.\n",
      " 0. 0. 0. 0. 0. 0. 0. 0. 0. 0. 0. 0. 0. 0. 1. 0. 0. 0. 0. 0. 0. 0. 0. 0.\n",
      " 0. 1. 1. 1. 0. 0. 0. 0. 1. 0. 0. 0. 0. 0. 0. 0. 0. 0. 0. 0. 0. 1. 0. 0.\n",
      " 1. 0. 0. 0. 0. 0. 0. 0. 1.]\n"
     ]
    }
   ],
   "source": [
    "c = np.array(DMOut['Value'])\n",
    "d = []\n",
    "for j in c:\n",
    "    d.append(j[0])\n",
    "    \n",
    "a = np.array(DMOut['Relevant'])\n",
    "b = []\n",
    "for i in a:\n",
    "    b.append(int((i[0])-1))\n",
    "    \n",
    "initz0 = np.zeros(D.shape[1])\n",
    "for i in b:\n",
    "    initz0[i] = 1\n",
    "    \n",
    "print(initz0)"
   ]
  },
  {
   "cell_type": "code",
   "execution_count": 21,
   "metadata": {},
   "outputs": [
    {
     "name": "stderr",
     "output_type": "stream",
     "text": [
      "C:\\Users\\USER\\AppData\\Local\\Temp/ipykernel_12148/3512855728.py:147: RuntimeWarning: divide by zero encountered in log\n",
      "  + np.nansum((1-zm)*(np.log(1-p0) - np.log(1-zm))))\n",
      "C:\\Users\\USER\\AppData\\Local\\Temp/ipykernel_12148/3512855728.py:147: RuntimeWarning: invalid value encountered in multiply\n",
      "  + np.nansum((1-zm)*(np.log(1-p0) - np.log(1-zm))))\n",
      "C:\\Users\\USER\\AppData\\Local\\Temp/ipykernel_12148/3512855728.py:174: RuntimeWarning: overflow encountered in exp\n",
      "  expitC = 1./(1 + np.exp(-C))\n"
     ]
    },
    {
     "name": "stdout",
     "output_type": "stream",
     "text": [
      "Iteration = 0  log(Likelihood) = 8127.5447930044575\n"
     ]
    },
    {
     "name": "stderr",
     "output_type": "stream",
     "text": [
      "C:\\Users\\USER\\AppData\\Local\\Temp/ipykernel_12148/3512855728.py:146: RuntimeWarning: divide by zero encountered in log\n",
      "  + np.nansum(zm*(np.log(p0) - np.log(zm)))\n",
      "C:\\Users\\USER\\AppData\\Local\\Temp/ipykernel_12148/3512855728.py:146: RuntimeWarning: invalid value encountered in multiply\n",
      "  + np.nansum(zm*(np.log(p0) - np.log(zm)))\n"
     ]
    },
    {
     "name": "stdout",
     "output_type": "stream",
     "text": [
      "Iteration = 1  log(Likelihood) = 8186.536195892144\n",
      "Iteration = 2  log(Likelihood) = 8186.537584740578\n",
      "Iteration = 3  log(Likelihood) = 8186.537584830137\n",
      "{'zmean': array([1.00000000e+00, 4.35228545e-34, 1.86407851e-22, 2.08589949e-34,\n",
      "       1.87572219e-22, 4.52267138e-34, 1.89351995e-22, 3.54356042e-34,\n",
      "       1.91190886e-22, 1.00000000e+00, 1.40363983e-26, 0.00000000e+00,\n",
      "       1.97031345e-25, 0.00000000e+00, 2.57159455e-24, 1.00000000e+00,\n",
      "       3.05353897e-23, 1.29388354e-27, 1.90856511e-22, 5.27069956e-24,\n",
      "       1.91596014e-22, 2.49168852e-24, 1.92086539e-22, 4.98654542e-24,\n",
      "       1.92576719e-22, 1.91300789e-22, 1.92866757e-22, 1.91971730e-22,\n",
      "       1.92869838e-22, 1.91736171e-22, 1.92872672e-22, 1.92216075e-22,\n",
      "       1.92874421e-22, 3.11465102e-24, 1.91277355e-22, 8.96335892e-26,\n",
      "       1.91716366e-22, 1.89265320e-24, 1.92145486e-22, 4.99544522e-24,\n",
      "       1.92534582e-22, 1.91801334e-22, 1.92869763e-22, 1.92146198e-22,\n",
      "       1.92871408e-22, 1.92067636e-22, 1.92873268e-22, 1.92286633e-22,\n",
      "       1.92874582e-22, 6.16301184e-24, 1.91569766e-22, 7.38513261e-24,\n",
      "       1.91947060e-22, 2.12685849e-27, 1.92141413e-22, 3.73729967e-24,\n",
      "       1.92551946e-22, 1.92264169e-22, 1.92872566e-22, 1.92318886e-22,\n",
      "       1.92873271e-22, 1.92295535e-22, 1.92873799e-22, 1.92483150e-22,\n",
      "       1.92874669e-22, 3.45851766e-24, 1.91738393e-22, 7.00553872e-24,\n",
      "       1.92066808e-22, 4.83647139e-24, 1.92379646e-22, 9.36493888e-27,\n",
      "       1.92637904e-22, 1.92584995e-22, 1.92874187e-22, 1.92634284e-22,\n",
      "       1.92874522e-22, 1.92548819e-22, 1.92874660e-22, 1.92675395e-22,\n",
      "       1.92874787e-22]), 'wmean': array([ 9.81445819e-01,  1.10869432e-33,  3.50388777e-24,  6.30996155e-34,\n",
      "       -2.43703385e-24, -7.26850560e-34, -2.52930863e-24, -1.36619666e-33,\n",
      "        1.08544912e-23,  1.09374750e-01,  3.75946993e-27,  0.00000000e+00,\n",
      "        4.09375593e-26,  0.00000000e+00,  5.49342959e-25,  1.55121994e-01,\n",
      "        3.32539926e-24,  2.49993808e-27,  1.06953181e-23,  6.80433236e-25,\n",
      "        3.35807464e-24,  3.24414352e-24,  2.97346553e-24,  6.37046143e-24,\n",
      "        3.48842994e-24,  3.90849330e-24, -9.53888554e-26,  3.19975703e-24,\n",
      "       -2.22179213e-25,  6.39758055e-24, -8.20722458e-26,  7.63728402e-25,\n",
      "        7.23265194e-26,  3.39171290e-24,  7.03550955e-24,  5.63110620e-26,\n",
      "        8.68369036e-24,  4.02135639e-25,  1.13755627e-23,  4.75180451e-24,\n",
      "        5.68723532e-24,  2.28515940e-24, -2.38784284e-25,  2.28171195e-24,\n",
      "       -2.00854338e-25,  2.49202888e-24, -1.54202039e-26, -3.22956485e-25,\n",
      "        1.19760804e-25,  7.02750931e-24,  1.45119993e-24, -8.47358909e-24,\n",
      "       -1.38270889e-25, -2.59817076e-27,  8.15562063e-25, -7.46383782e-25,\n",
      "       -4.05508266e-24,  3.92101725e-24, -2.36473596e-25,  1.73180967e-24,\n",
      "       -4.80732682e-26,  2.60742072e-24,  1.26003375e-25, -2.25999369e-26,\n",
      "        2.03277402e-25, -4.37013092e-24, -1.59699767e-25, -6.38940814e-24,\n",
      "        2.72593136e-24, -7.83666118e-24,  4.78194098e-25, -2.89265409e-26,\n",
      "        1.96896187e-24,  9.24978060e-24, -9.11573440e-27,  5.03042353e-24,\n",
      "        1.39332946e-25,  7.66507678e-24,  2.32337318e-25,  4.44142710e-24,\n",
      "        2.77102380e-25]), 'wCOV': array([[ 1.84340356e-05,  2.02676751e-37, -4.56678602e-27, ...,\n",
      "        -1.45750351e-29,  5.83426963e-28, -5.94021236e-30],\n",
      "       [ 2.02676751e-37,  1.10000918e-01, -4.87347518e-58, ...,\n",
      "         1.06235293e-59, -4.41413738e-59,  9.14324943e-60],\n",
      "       [-4.56678602e-27, -4.87347518e-58,  1.10000918e-01, ...,\n",
      "        -8.30009594e-49, -1.01585224e-47, -4.70561865e-49],\n",
      "       ...,\n",
      "       [-1.45750351e-29,  1.06235293e-59, -8.30009594e-49, ...,\n",
      "         1.10000918e-01, -1.46124149e-49, -9.17103911e-51],\n",
      "       [ 5.83426963e-28, -4.41413738e-59, -1.01585224e-47, ...,\n",
      "        -1.46124149e-49,  1.10000918e-01, -1.43510459e-49],\n",
      "       [-5.94021236e-30,  9.14324943e-60, -4.70561865e-49, ...,\n",
      "        -9.17103911e-51, -1.43510459e-49,  1.10000918e-01]]), 'sig2': 0.011000097668982864, 'modelIdx': array([ 8, 14]), 'Zmed': array([1., 1.]), 'Wsel': array([0.10937475, 0.15512199]), 'Wcov': array([0.002207  , 0.00266952])}\n"
     ]
    }
   ],
   "source": [
    "tol = 0.0001\n",
    "verbosity = True\n",
    "initz0 = initz0\n",
    "DS = Variational_Bayes_Code(D, xdts, initz0, tol, verbosity)\n",
    "\n",
    "print(DS) "
   ]
  },
  {
   "cell_type": "code",
   "execution_count": 23,
   "metadata": {},
   "outputs": [
    {
     "data": {
      "text/plain": [
       "array([1.84340356e-05, 1.10000918e-01, 1.10000918e-01, 1.10000918e-01,\n",
       "       1.10000918e-01, 1.10000918e-01, 1.10000918e-01, 1.10000918e-01,\n",
       "       1.10000918e-01, 2.20699586e-03, 1.10000918e-01, 1.10000918e-01,\n",
       "       1.10000918e-01, 1.10000918e-01, 1.10000918e-01, 2.66951766e-03,\n",
       "       1.10000918e-01, 1.10000918e-01, 1.10000918e-01, 1.10000918e-01,\n",
       "       1.10000918e-01, 1.10000918e-01, 1.10000918e-01, 1.10000918e-01,\n",
       "       1.10000918e-01, 1.10000918e-01, 1.10000918e-01, 1.10000918e-01,\n",
       "       1.10000918e-01, 1.10000918e-01, 1.10000918e-01, 1.10000918e-01,\n",
       "       1.10000918e-01, 1.10000918e-01, 1.10000918e-01, 1.10000918e-01,\n",
       "       1.10000918e-01, 1.10000918e-01, 1.10000918e-01, 1.10000918e-01,\n",
       "       1.10000918e-01, 1.10000918e-01, 1.10000918e-01, 1.10000918e-01,\n",
       "       1.10000918e-01, 1.10000918e-01, 1.10000918e-01, 1.10000918e-01,\n",
       "       1.10000918e-01, 1.10000918e-01, 1.10000918e-01, 1.10000918e-01,\n",
       "       1.10000918e-01, 1.10000918e-01, 1.10000918e-01, 1.10000918e-01,\n",
       "       1.10000918e-01, 1.10000918e-01, 1.10000918e-01, 1.10000918e-01,\n",
       "       1.10000918e-01, 1.10000918e-01, 1.10000918e-01, 1.10000918e-01,\n",
       "       1.10000918e-01, 1.10000918e-01, 1.10000918e-01, 1.10000918e-01,\n",
       "       1.10000918e-01, 1.10000918e-01, 1.10000918e-01, 1.10000918e-01,\n",
       "       1.10000918e-01, 1.10000918e-01, 1.10000918e-01, 1.10000918e-01,\n",
       "       1.10000918e-01, 1.10000918e-01, 1.10000918e-01, 1.10000918e-01,\n",
       "       1.10000918e-01])"
      ]
     },
     "execution_count": 23,
     "metadata": {},
     "output_type": "execute_result"
    }
   ],
   "source": [
    "np.diag(DS['wCOV'])"
   ]
  },
  {
   "cell_type": "code",
   "execution_count": 24,
   "metadata": {},
   "outputs": [
    {
     "name": "stdout",
     "output_type": "stream",
     "text": [
      "\n",
      "0.9906794734779988\n"
     ]
    },
    {
     "data": {
      "image/png": "[encoded data removed]",
      "text/plain": [
       "<Figure size 432x288 with 1 Axes>"
      ]
     },
     "metadata": {
      "needs_background": "light"
     },
     "output_type": "display_data"
    }
   ],
   "source": [
    "zmean12 = DS['zmean']\n",
    "wmean12 = DS['wmean']\n",
    "zmean12[np.where(np.diag(DS['wCOV'])>3e-4)] = 0\n",
    "plt.stem(zmean12)\n",
    "wmean12[np.where(np.diag(DS['wCOV'])>3e-4)] = 0\n",
    "print()\n",
    "print(np.sqrt(wmean12[0]))"
   ]
  },
  {
   "cell_type": "code",
   "execution_count": null,
   "metadata": {},
   "outputs": [],
   "source": []
  }
 ],
 "metadata": {
  "interpreter": {
   "hash": "3f37e94951d1aba8aea1180f8978b4824e076f548924d8dec1753cbbb0da26fd"
  },
  "kernelspec": {
   "display_name": "Python 3 (ipykernel)",
   "language": "python",
   "name": "python3"
  },
  "language_info": {
   "codemirror_mode": {
    "name": "ipython",
    "version": 3
   },
   "file_extension": ".py",
   "mimetype": "text/x-python",
   "name": "python",
   "nbconvert_exporter": "python",
   "pygments_lexer": "ipython3",
   "version": "3.9.7"
  },
  "toc": {
   "base_numbering": 1,
   "nav_menu": {},
   "number_sections": true,
   "sideBar": true,
   "skip_h1_title": false,
   "title_cell": "Table of Contents",
   "title_sidebar": "Contents",
   "toc_cell": false,
   "toc_position": {},
   "toc_section_display": true,
   "toc_window_display": false
  },
  "varInspector": {
   "cols": {
    "lenName": 16,
    "lenType": 16,
    "lenVar": 40
   },
   "kernels_config": {
    "python": {
     "delete_cmd_postfix": "",
     "delete_cmd_prefix": "del ",
     "library": "var_list.py",
     "varRefreshCmd": "print(var_dic_list())"
    },
    "r": {
     "delete_cmd_postfix": ") ",
     "delete_cmd_prefix": "rm(",
     "library": "var_list.r",
     "varRefreshCmd": "cat(var_dic_list()) "
    }
   },
   "types_to_exclude": [
    "module",
    "function",
    "builtin_function_or_method",
    "instance",
    "_Feature"
   ],
   "window_display": false
  }
 },
 "nbformat": 4,
 "nbformat_minor": 4
}
