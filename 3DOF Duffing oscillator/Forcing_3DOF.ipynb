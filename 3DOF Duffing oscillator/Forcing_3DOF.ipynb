{
 "cells": [
  {
   "cell_type": "code",
   "execution_count": 1,
   "id": "a99680be",
   "metadata": {},
   "outputs": [],
   "source": [
    "import numpy as np\n",
    "import pickle\n",
    "\n",
    "Nsamp = 10000\n",
    "dt = 0.0005\n",
    "T = 30\n",
    "t = np.arange(0, T+dt, dt)\n",
    "dW1 = np.sqrt(dt)*np.random.randn(Nsamp, 60001)\n",
    "dW2 = np.sqrt(dt)*np.random.randn(Nsamp, 60001)\n",
    "dW3 = np.sqrt(dt)*np.random.randn(Nsamp, 60001)"
   ]
  },
  {
   "cell_type": "code",
   "execution_count": 2,
   "id": "a42dc1d5",
   "metadata": {},
   "outputs": [
    {
     "data": {
      "text/plain": [
       "3"
      ]
     },
     "execution_count": 2,
     "metadata": {},
     "output_type": "execute_result"
    }
   ],
   "source": [
    "dW = [dW1, dW2, dW3]\n",
    "len(dW)"
   ]
  },
  {
   "cell_type": "code",
   "execution_count": 3,
   "id": "58369cde",
   "metadata": {},
   "outputs": [],
   "source": [
    "pickle.dump(dW, open('Forcing_term_3DOF_new.p', 'wb'))"
   ]
  },
  {
   "cell_type": "code",
   "execution_count": null,
   "id": "7fc30dfd",
   "metadata": {},
   "outputs": [],
   "source": []
  }
 ],
 "metadata": {
  "kernelspec": {
   "display_name": "Python 3 (ipykernel)",
   "language": "python",
   "name": "python3"
  },
  "language_info": {
   "codemirror_mode": {
    "name": "ipython",
    "version": 3
   },
   "file_extension": ".py",
   "mimetype": "text/x-python",
   "name": "python",
   "nbconvert_exporter": "python",
   "pygments_lexer": "ipython3",
   "version": "3.9.7"
  }
 },
 "nbformat": 4,
 "nbformat_minor": 5
}
