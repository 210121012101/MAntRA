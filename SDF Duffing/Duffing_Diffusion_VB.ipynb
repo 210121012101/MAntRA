{
 "cells": [
  {
   "cell_type": "code",
   "execution_count": 1,
   "id": "4d363d96",
   "metadata": {},
   "outputs": [
    {
     "data": {
      "text/plain": [
       "'\\nThis code belongs to the paper:\\n-- YC Mathpati, KS More, T Tripura, R Nayek, S Chakraborty (2023)\\n   MAntRA: A framework for model agnostic reliability analysis\\n   \\n-- This code is for SDOF Duffing oscillator.\\n'"
      ]
     },
     "execution_count": 1,
     "metadata": {},
     "output_type": "execute_result"
    }
   ],
   "source": [
    "\"\"\"\n",
    "This code belongs to the paper:\n",
    "-- Y.C. Mathpati, K.S. More, T. Tripura, R. Nayek, S. Chakraborty (2023)\n",
    "   MAntRA: A framework for model agnostic reliability analysis\n",
    "   \n",
    "-- This code is for SDOF Duffing oscillator Diffusion.\n",
    "\"\"\""
   ]
  },
  {
   "cell_type": "code",
   "execution_count": 1,
   "id": "fbcfe1cd",
   "metadata": {
    "id": "fbcfe1cd"
   },
   "outputs": [],
   "source": [
    "import numpy as np\n",
    "np.random.seed(31)\n",
    "\"\"\"\n",
    "The Dictionary creation part:\n",
    "~~~~~~~~~~~~~~~~~~~~~~~~~~~~~~~~~~~~~~~~~~~~~~~~~~~~~~~~~~~~\n",
    "\"\"\"\n",
    "def library(xt, polyn, harmonic):\n",
    "    if polyn == 0:\n",
    "        polyn = 1\n",
    "    \n",
    "    # The polynomial is (x1 + x2)^p, with p is the order\n",
    "    # poly order 0\n",
    "    ind = 0\n",
    "    n = len(xt[0])\n",
    "    D = np.ones([n,1])\n",
    "    \n",
    "    if polyn >= 1:\n",
    "        # poly order 1\n",
    "        for i in range(len(xt)):\n",
    "            ind = ind+1\n",
    "            new = np.vstack(xt[i,:])\n",
    "            D = np.append(D, new, axis=1)\n",
    "     \n",
    "    if polyn >= 2: \n",
    "        # ploy order 2\n",
    "        for i in range(len(xt)):\n",
    "            for j in  range(i,len(xt)):\n",
    "                ind = ind+1\n",
    "                new = np.multiply(xt[i,:], xt[j,:])\n",
    "                new = np.vstack(new)\n",
    "                D = np.append(D, new, axis=1) \n",
    "    \n",
    "    if polyn >= 3:    \n",
    "        # ploy order 3\n",
    "        for i in range(len(xt)):\n",
    "            for j in  range(i,len(xt)):\n",
    "                for k in  range(j,len(xt)):\n",
    "                    ind = ind+1\n",
    "                    new = np.multiply(np.multiply(xt[i,:], xt[j,:]), xt[k,:])\n",
    "                    new = np.vstack(new)\n",
    "                    D = np.append(D, new, axis=1) \n",
    "    \n",
    "    if polyn >= 4:\n",
    "        # ploy order 4\n",
    "        for i in range(len(xt)):\n",
    "            for j in  range(i,len(xt)):\n",
    "                for k in  range(j,len(xt)):\n",
    "                    for l in range(k,len(xt)):\n",
    "                        ind = ind+1\n",
    "                        new = np.multiply(np.multiply(xt[i,:], xt[j,:]), xt[k,:])\n",
    "                        new = np.multiply(new, xt[l,:])\n",
    "                        new = np.vstack(new)\n",
    "                        D = np.append(D, new, axis=1) \n",
    "    \n",
    "    if polyn >= 5:\n",
    "        # ploy order 5\n",
    "        for i in range(len(xt)):\n",
    "            for j in  range(i,len(xt)):\n",
    "                for k in  range(j,len(xt)):\n",
    "                    for l in  range(k,len(xt)):\n",
    "                        for m in  range(l,len(xt)):\n",
    "                            ind = ind+1\n",
    "                            new = np.multiply(xt[i,:], xt[j,:])\n",
    "                            new = np.multiply(new, xt[k,:])\n",
    "                            new = np.multiply(new, xt[l,:])\n",
    "                            new = np.multiply(new, xt[m,:])\n",
    "                            new = np.vstack(new)\n",
    "                            D = np.append(D, new, axis=1) \n",
    "    \n",
    "    if polyn >= 6:\n",
    "        # ploy order 6\n",
    "        for i in range(len(xt)):\n",
    "            for j in  range(i,len(xt)):\n",
    "                for k in  range(j,len(xt)):\n",
    "                    for l in  range(k,len(xt)):\n",
    "                        for m in  range(l,len(xt)):\n",
    "                            for n in  range(m,len(xt)):\n",
    "                                ind = ind+1\n",
    "                                new = np.multiply(xt[i,:], xt[j,:])\n",
    "                                new = np.multiply(new, xt[k,:])\n",
    "                                new = np.multiply(new, xt[l,:])\n",
    "                                new = np.multiply(new, xt[m,:])\n",
    "                                new = np.multiply(new, xt[n,:])\n",
    "                                new = np.vstack(new)\n",
    "                                D = np.append(D, new, axis=1) \n",
    "    \n",
    "    \n",
    "    # for the modulus operator\n",
    "    for i in range(len(xt)):\n",
    "        ind = ind+1\n",
    "        new = np.vstack(abs(xt[i,:]))\n",
    "        D = np.append(D, new, axis=1)\n",
    "      \n",
    "    # for the tensor operator\n",
    "    for i in range(len(xt)):\n",
    "        for j in  range(len(xt)):\n",
    "            ind = ind+1\n",
    "            new = np.multiply(xt[i,:],abs(xt[j,:]))\n",
    "            new = np.vstack(new)\n",
    "            D = np.append(D, new, axis=1)\n",
    "            \n",
    "    if harmonic == 1:\n",
    "        # for sin(x)\n",
    "        for i in range(len(xt)):\n",
    "            ind = ind+1\n",
    "            new = np.vstack(np.sin(xt[i,:]))\n",
    "            D = np.append(D, new, axis=1)\n",
    "            #  or,\n",
    "            # ind = ind+1\n",
    "            # new = np.sin(xt[i,:])\n",
    "            # D = np.insert(D, ind, new, axis=1)\n",
    "            \n",
    "        # for cos(x)\n",
    "        for i in range(len(xt)):\n",
    "            ind = ind+1\n",
    "            new = np.vstack(np.cos(xt[i,:]))\n",
    "            D = np.append(D, new, axis=1)\n",
    "    \n",
    " \n",
    "    ind = len(D[0])\n",
    "    \n",
    "    return D, ind"
   ]
  },
  {
   "cell_type": "code",
   "execution_count": 2,
   "id": "a3c443d1",
   "metadata": {
    "id": "a3c443d1"
   },
   "outputs": [],
   "source": [
    "def duffing(x1, x2, T):\n",
    "    # parameters of Duffing oscillator in Equation\n",
    "    m = 1\n",
    "    c = 2\n",
    "    k = 1000\n",
    "    k3 = 100000\n",
    "    sigma = 1 \n",
    "    \n",
    "    dt = 0.001\n",
    "    t = np.arange(0, T+dt, dt)\n",
    "    Nsamp = 200 # no. of samples in the run\n",
    "    delmat = np.row_stack(([np.sqrt(dt), 0],[(dt**1.5)/2, (dt**1.5)/(2*np.sqrt(3))]))\n",
    "    \n",
    "    y1 = []\n",
    "    y2 = []\n",
    "    xz = []\n",
    "    xzs = []\n",
    "    # Simulation Starts Here ::\n",
    "    # -------------------------------------------------------\n",
    "    for ensemble in range(Nsamp):\n",
    "        x0 = np.array([x1, x2])\n",
    "        x = np.vstack(x0)  # Zero initial condition.\n",
    "        for n in range(len(t)-1):\n",
    "            delgen = np.dot(delmat, np.random.normal(0,1,2))\n",
    "            dW = delgen[0]\n",
    "            dZ = delgen[1]\n",
    "            a1 = x0[1]\n",
    "            a2 = -(c/m)*x0[1]-(k/m)*x0[0]-(k3/m)*(x0[0]**3)\n",
    "            b2 = (sigma/m)\n",
    "            sol1 = x0[0] + a1*dt \n",
    "            sol2 = x0[1] + a2*dt + b2*dW \n",
    "            x0 = np.array([sol1, sol2])\n",
    "            x = np.column_stack((x, x0))\n",
    "        y1.append(x[0,:])\n",
    "        y2.append(x[1,:])\n",
    "        \n",
    "        zint = x[1,0:-1]\n",
    "        xfinal = x[1,1:] \n",
    "        xmz = (xfinal - zint) \n",
    "        xmz2 = np.multiply(xmz, xmz)\n",
    "        xz.append(xmz)\n",
    "        xzs.append(xmz2)\n",
    "        \n",
    "    xz = pow(dt,-1)*np.mean(np.array(xz), axis = 0)\n",
    "    xzs = pow(dt,-1)*np.mean(np.array(xzs), axis = 0)\n",
    "    \n",
    "    y1 = np.array(y1)\n",
    "    y2 = np.array(y2)\n",
    "    time = t[0:-1]\n",
    "    \n",
    "    return xz, xzs, y1, y2, time"
   ]
  },
  {
   "cell_type": "code",
   "execution_count": 3,
   "id": "b9fc15b2",
   "metadata": {
    "id": "b9fc15b2"
   },
   "outputs": [],
   "source": [
    "import numpy as np\n",
    "import matplotlib.pyplot as plt\n",
    "\n",
    "T = 1\n",
    "\n",
    "# Response generation:\n",
    "\n",
    "x1, x2 = 0, 0 # initial displacement condition\n",
    "gg, xbt, y1, y2, t_eval = duffing(x1, x2, T)"
   ]
  },
  {
   "cell_type": "code",
   "execution_count": 4,
   "id": "a426d9cd",
   "metadata": {
    "id": "a426d9cd"
   },
   "outputs": [],
   "source": [
    "# Dictionary Creation:\n",
    "libr = []\n",
    "for j in range(len(y1)):\n",
    "    data = np.row_stack((y1[j,0:-1], y2[j,0:-1]))\n",
    "    Dtemp, nl = library(data, 4, 0)\n",
    "    libr.append(Dtemp)\n",
    "libr = np.array(libr)\n",
    "D = np.mean(libr, axis = 0)"
   ]
  },
  {
   "cell_type": "code",
   "execution_count": 5,
   "id": "1736ea3e",
   "metadata": {},
   "outputs": [],
   "source": [
    "xdts = xbt"
   ]
  },
  {
   "cell_type": "code",
   "execution_count": 6,
   "id": "8d9bb99f",
   "metadata": {
    "colab": {
     "base_uri": "https://localhost:8080/"
    },
    "executionInfo": {
     "elapsed": 11,
     "status": "ok",
     "timestamp": 1655983975942,
     "user": {
      "displayName": "Kalpesh More",
      "userId": "14275700854668811810"
     },
     "user_tz": -330
    },
    "id": "8d9bb99f",
    "outputId": "3d03b497-5109-43e5-cc24-656feb48ca39"
   },
   "outputs": [
    {
     "name": "stdout",
     "output_type": "stream",
     "text": [
      "(1000,)\n",
      "(1000, 21)\n"
     ]
    }
   ],
   "source": [
    "print(xdts.shape)\n",
    "print(D.shape)"
   ]
  },
  {
   "cell_type": "code",
   "execution_count": 7,
   "id": "b923dde2",
   "metadata": {},
   "outputs": [
    {
     "data": {
      "image/png": "[encoded data removed]",
      "text/plain": [
       "<Figure size 432x288 with 1 Axes>"
      ]
     },
     "metadata": {
      "needs_background": "light"
     },
     "output_type": "display_data"
    },
    {
     "data": {
      "image/png": "[encoded data removed]",
      "text/plain": [
       "<Figure size 432x288 with 1 Axes>"
      ]
     },
     "metadata": {
      "needs_background": "light"
     },
     "output_type": "display_data"
    }
   ],
   "source": [
    "plt.plot(np.mean(y1,axis=0))\n",
    "plt.show()\n",
    "plt.plot(np.mean(y2,axis=0))\n",
    "plt.show()"
   ]
  },
  {
   "cell_type": "code",
   "execution_count": 8,
   "id": "4ddc65ab",
   "metadata": {},
   "outputs": [
    {
     "data": {
      "text/plain": [
       "(21000,)"
      ]
     },
     "execution_count": 8,
     "metadata": {},
     "output_type": "execute_result"
    }
   ],
   "source": [
    "Dict = D.reshape(-1,order='F')\n",
    "Dict.shape"
   ]
  },
  {
   "cell_type": "code",
   "execution_count": 9,
   "id": "a7dd8f96",
   "metadata": {},
   "outputs": [
    {
     "name": "stdout",
     "output_type": "stream",
     "text": [
      "{'Relevant': matlab.double([[1.0],[4.0],[6.0],[8.0],[9.0],[11.0]]), 'Value': matlab.double([[0.9952531959652308],[1075.7448110374228],[0.02346821156832213],[-79.93439412324116],[0.4865315914409604],[126229.65155323812]])}\n"
     ]
    }
   ],
   "source": [
    "#!/usr/bin/env python\n",
    "\"\"\"\n",
    "Sample script that uses the SparseBayes module created using\n",
    "MATLAB Compiler SDK.\n",
    "\n",
    "Refer to the MATLAB Compiler SDK documentation for more information.\n",
    "\"\"\"\n",
    "\n",
    "from __future__ import print_function\n",
    "import SparseBayes\n",
    "import matlab\n",
    "\n",
    "my_SparseBayes = SparseBayes.initialize()\n",
    "\n",
    "DictIn = matlab.double(Dict, size=(D.shape[0], D.shape[1]))\n",
    "targetIn = matlab.double(xdts, size=(D.shape[0], 1))\n",
    "DMOut = my_SparseBayes.SparseBayes(DictIn, targetIn)\n",
    "print(DMOut, sep='\\n')\n",
    "\n",
    "my_SparseBayes.terminate()"
   ]
  },
  {
   "cell_type": "code",
   "execution_count": 10,
   "id": "8275f0af",
   "metadata": {},
   "outputs": [
    {
     "data": {
      "text/plain": [
       "array([1., 0., 0., 1., 0., 1., 0., 1., 1., 0., 1., 0., 0., 0., 0., 0., 0.,\n",
       "       0., 0., 0., 0.])"
      ]
     },
     "execution_count": 10,
     "metadata": {},
     "output_type": "execute_result"
    }
   ],
   "source": [
    "c = np.array(DMOut['Value'])\n",
    "d = []\n",
    "for j in c:\n",
    "    d.append(j[0])\n",
    "    \n",
    "a = np.array(DMOut['Relevant'])\n",
    "b = []\n",
    "for i in a:\n",
    "    b.append(int((i[0])-1))\n",
    "    \n",
    "initz0_1 = np.zeros(D.shape[1])\n",
    "for i in b:\n",
    "    initz0_1[i] = 1\n",
    "    \n",
    "initz0_1"
   ]
  },
  {
   "cell_type": "code",
   "execution_count": 11,
   "id": "e922ce1e",
   "metadata": {},
   "outputs": [],
   "source": [
    "import warnings\n",
    "import math\n",
    "import numpy as np\n",
    "import scipy as sp\n",
    "import sympy as smp\n",
    "from scipy import stats\n",
    "from numpy import linalg as la\n",
    "import matplotlib.pyplot as plt\n",
    "from numpy.random import gamma\n",
    "from scipy.special import loggamma\n",
    "\n",
    "def Variational_Bayes_Code(X, y, initz0, tol, verbosity):\n",
    "\n",
    "    if (len(X) == 0 or len(y) == 0):\n",
    "        raise Exception('X and or y is missing')\n",
    "        \n",
    "    if (len(X) != len(y)):\n",
    "        raise Exception('Number of observations do not match')\n",
    "        \n",
    "    # X = stats.zscore(X, ddof = 1)         \n",
    "    # X = np.c_[np.ones(len(X)),X]\n",
    "    # X = np.c_[np.ones(len(X)),X]          \n",
    "    # y = y - np.mean(y)\n",
    "    N = len(X)\n",
    "    # Prior parameters of noise variance (Inverse Gamma dist)\n",
    "    A = 1e-4\n",
    "    B = 1e-4\n",
    "    vs = 10\n",
    "    tau0 = 1000\n",
    "    \n",
    "    if (len(initz0) == 0):\n",
    "        raise Exception('No initial value of z found')\n",
    "    else:\n",
    "        p0 = expit(-0.5*(np.sqrt(N)))       \n",
    "        \n",
    "        # Adding the intercept indicator variable (slightly less than 1 to prevent log(0) values) \n",
    "        # initz = np.hstack((1,initz0))  \n",
    "        initz = initz0\n",
    "\n",
    "        DS,LLcvg  = run_VB2(X, y, vs, A, B, tau0, p0, initz, tol, verbosity)    \n",
    "        # This is function which will come first\n",
    "        \n",
    "    out_vb   = DS\n",
    "    a = DS['zmean'] > 0.5\n",
    "    count = 0\n",
    "    modelIdx = []\n",
    "    for i in a:\n",
    "        if i == True:\n",
    "            modelIdx.append(count)\n",
    "        count += 1\n",
    "            \n",
    "    modelIdx = np.setdiff1d(modelIdx,0)\n",
    "    out_vb['modelIdx'] = modelIdx-1\n",
    "    out_vb['Zmed'] = DS['zmean'][modelIdx]\n",
    "    out_vb['Wsel'] = DS['wmean'][modelIdx]\n",
    "    out_vb['Wcov'] = DS['wCOV'][modelIdx, modelIdx]\n",
    "    out_vb['sig2'] = DS['sig2']\n",
    "    \n",
    "    return out_vb\n",
    "\n",
    "DS = {}\n",
    "def run_VB2(Xc, yc, vs, A, B, tau0, p0, initz, tol, verbosity):\n",
    "    \"\"\"This function is the implementation of VB from John T. Ormerod paper (2014)\n",
    "       This implementation uses slab scaling by noise variance\n",
    "       vs    : treated as a constant\n",
    "       A,B   : constants of the IG prior over noise variance\n",
    "       tau0  : Expected value of (sigma^{-2})\n",
    "       p0    : inclusion probablility\n",
    "       initz : Initial value of z\n",
    "       Xc    : Centered and standardized dictionary except the first column\n",
    "       yc    : Centered observations \"\"\"\n",
    "    \n",
    "    Lambda    = logit(p0)\n",
    "    iter_     = 0\n",
    "    max_iter  = 100\n",
    "    LL        = np.zeros(max_iter)        \n",
    "    zm        = np.reshape(initz,(-1))            \n",
    "    taum      = tau0                      \n",
    "    invVs     = 1/vs\n",
    "    \n",
    "    X = Xc\n",
    "    y = yc\n",
    "    XtX = (X.T) @ X\n",
    "    XtX = 0.5*(XtX + (XtX).T)\n",
    "    Xty = (X.T) @ y                 \n",
    "    yty = (y.T) @ y\n",
    "\n",
    "    eyep = np.eye(len(XtX))\n",
    "    [N,p] = X.shape\n",
    "    allidx = np.arange(p)\n",
    "    zm[0] = 1                                                                   # Always include the intercept \n",
    "    Abar    = (A + 0.5*N + 0.5*p)\n",
    "    converged = 0\n",
    "    \n",
    "    while (converged==0):\n",
    "        if (iter_==100):\n",
    "            break\n",
    "        \n",
    "        Zm       = np.diag(zm)\n",
    "        Omg      = (np.reshape(zm,(-1,1)) @ np.reshape(zm,(1,-1))) + (Zm @ (eyep-Zm))\n",
    "        # Update the mean and covariance of the coefficients given mean of z\n",
    "        term1    = XtX * Omg                                                       # elementwisw multiplication\n",
    "        invSigma = taum * (term1 + invVs * eyep)\n",
    "        invSigma = 0.5*(invSigma + invSigma.T)                                     # symmetric\n",
    "        Sigma    = la.inv(invSigma) @ eyep\n",
    "        mu       = taum * (Sigma @ Zm @ Xty)                                       # @ ---> matrix multiplication\n",
    "        \n",
    "        # Update tau related to sigma\n",
    "        term2    = 2 * Xty @ Zm @ mu\n",
    "        term3    =  np.reshape(mu,(len(initz0),1)) @ np.reshape(mu,(1,len(initz0)))+ Sigma\n",
    "        term4    = yty - term2 + np.trace((term1 + invVs * eyep) @ term3)    \n",
    "        s        = B + 0.5*term4\n",
    "        \n",
    "        if s<0:\n",
    "            warnings.warn('s turned out be less than 0. Taking absolute value')\n",
    "            s = B + 0.5*abs(term4)\n",
    "        \n",
    "        taum     = Abar / s\n",
    "        zstr   = zm\n",
    "\n",
    "        order   = np.setdiff1d(np.random.permutation(p), 0, assume_unique=True)\n",
    "        for j in order: \n",
    "            muj     = mu[j]                            \n",
    "            sigmaj  = Sigma[j,j]\n",
    "            \n",
    "            remidx  = np.setdiff1d(allidx,j)\n",
    "            mu_j    = mu[remidx]\n",
    "            Sigma_jj= Sigma[remidx,j]\n",
    "            etaj    = (Lambda - 0.5 * taum * ((muj**2 + sigmaj) * XtX[j,j]) \n",
    "                       + taum * np.reshape(X[:,j],(1,-1)) @ (np.reshape(y,(-1,1))*muj \n",
    "                        -X[:,remidx] @ np.diag(zstr[remidx]) @ ((mu_j * muj + Sigma_jj).reshape(-1,1))))\n",
    "            zstr[j] = expit(etaj)\n",
    "            \n",
    "        zm = zstr\n",
    "        \n",
    "        # Calculate marginal log-likelihood\n",
    "        \n",
    "        LL[iter_] = ( 0.5*p \n",
    "                    - 0.5*N*np.log(2*np.pi) \n",
    "                    + 0.5*p*np.log(invVs) \n",
    "                    + A*np.log(B)\n",
    "                    - loggamma(A)\n",
    "                    + loggamma(Abar) \n",
    "                    - Abar*np.log(s)\n",
    "                    + 0.5*np.log(la.det(Sigma))\n",
    "                    + np.nansum(zm*(np.log(p0) - np.log(zm))) \n",
    "                    + np.nansum((1-zm)*(np.log(1-p0) - np.log(1-zm))))\n",
    "        \n",
    "        if(verbosity):\n",
    "            print(f'Iteration = {iter_}  log(Likelihood) = {LL[iter_]}')\n",
    "        \n",
    "        if(iter_>1):\n",
    "            cvg = LL[iter_] - LL[iter_-1]\n",
    "            \n",
    "            if (cvg < 0 and verbosity):\n",
    "                print('OOPS!  log(like) decreasing!!')\n",
    "            elif (cvg<tol or iter_> max_iter):\n",
    "                converged = 1\n",
    "                LL = LL[0:iter_]\n",
    "                \n",
    "        iter_    = iter_ + 1\n",
    "    DS['zmean'] = zm\n",
    "    DS['wmean'] = mu\n",
    "    DS['wCOV'] = Sigma\n",
    "    DS['sig2'] = 1/taum\n",
    "    LLcvg    = LL[-1]\n",
    "    return DS, LLcvg\n",
    "    \n",
    "def logit(C):\n",
    "    logitC = np.log(C) - np.log(1-C)\n",
    "    return logitC\n",
    "\n",
    "def expit(C):\n",
    "    expitC = 1./(1 + np.exp(-C))\n",
    "    return expitC"
   ]
  },
  {
   "cell_type": "code",
   "execution_count": 12,
   "id": "af6ff6c5",
   "metadata": {},
   "outputs": [
    {
     "name": "stdout",
     "output_type": "stream",
     "text": [
      "Iteration = 0  log(Likelihood) = 614.1290379577935\n",
      "Iteration = 1  log(Likelihood) = 632.6323061917775\n",
      "Iteration = 2  log(Likelihood) = 632.6342264269858\n",
      "Iteration = 3  log(Likelihood) = 632.6342272299777\n",
      "{'zmean': array([1.00000000e+000, 1.35208255e-007, 6.66089546e-010, 1.35864334e-007,\n",
      "       1.35695099e-007, 1.00000000e+000, 1.35894303e-007, 1.35894164e-007,\n",
      "       1.35769255e-007, 1.98634817e-010, 1.35894303e-007, 1.35894303e-007,\n",
      "       1.35891040e-007, 1.35628519e-007, 6.11189727e-123, 7.58626123e-008,\n",
      "       1.29267179e-275, 1.35893869e-007, 1.35757713e-007, 1.35732348e-007,\n",
      "       2.06026652e-009]), 'wmean': array([ 1.00123600e+000, -1.50493890e-009, -7.42481574e-012,\n",
      "        1.55132793e-009, -2.87249137e-010,  1.08172773e+000,\n",
      "        4.90990055e-012, -2.21853699e-010,  1.90096839e-009,\n",
      "       -5.09651688e-011,  2.04953091e-012, -7.78274409e-012,\n",
      "        3.07962699e-010, -7.33736155e-009,  2.27419595e-123,\n",
      "        2.63155780e-008,  4.43777381e-275,  4.92206532e-011,\n",
      "        2.36316708e-009, -4.58437345e-009,  9.84648443e-011]), 'wCOV': array([[ 6.71110109e-005,  1.46039217e-012,  8.60191296e-014,\n",
      "        -2.72855322e-013, -5.68791875e-012, -2.60551206e-004,\n",
      "         7.88924154e-016,  7.64497519e-015,  9.00524378e-013,\n",
      "        -9.66813924e-014,  1.00092271e-015, -1.50809370e-015,\n",
      "         4.43965743e-013, -1.49870818e-012,  8.45305708e-125,\n",
      "        -4.96030316e-011, -3.36697952e-277,  4.62080666e-014,\n",
      "         9.79595138e-013,  2.61858428e-013, -3.41583277e-013],\n",
      "       [ 1.46039217e-012,  1.49480815e-001,  4.17567489e-020,\n",
      "        -1.12366757e-020,  2.42027576e-019, -1.01998741e-011,\n",
      "        -1.56400774e-020,  1.67227577e-020, -4.96663999e-018,\n",
      "         4.53088238e-020, -2.68131878e-022,  6.09222343e-022,\n",
      "        -1.01017609e-019,  2.52706444e-019, -1.25638716e-131,\n",
      "         2.15116659e-018,  1.45598029e-284, -6.30528767e-019,\n",
      "        -9.96404775e-018,  5.61960495e-019,  3.45804263e-019],\n",
      "       [ 8.60191296e-014,  4.17567489e-020,  1.49480814e-001,\n",
      "         5.41111447e-021, -2.70978416e-019, -1.06854521e-013,\n",
      "        -2.05387409e-022, -3.06079599e-020, -7.10172060e-020,\n",
      "        -1.46285016e-019,  5.79961603e-025, -3.30956926e-022,\n",
      "         1.43019042e-021, -3.27398908e-019,  2.22932782e-133,\n",
      "         2.06720567e-019,  5.10514887e-286, -3.58153530e-021,\n",
      "        -3.80344691e-020, -1.73768620e-018, -1.71896897e-018],\n",
      "       [-2.72855322e-013, -1.12366757e-020,  5.41111447e-021,\n",
      "         1.49480815e-001,  5.28568831e-021, -1.75018081e-011,\n",
      "        -4.86304109e-023,  2.31479169e-021,  1.10745090e-020,\n",
      "         1.62339623e-021, -3.18708156e-023,  1.11257484e-022,\n",
      "        -5.93655687e-021,  1.36545825e-019,  1.13937940e-133,\n",
      "        -4.93966357e-019, -8.64354842e-286, -8.35660012e-022,\n",
      "        -3.58840018e-021,  6.19107812e-020,  1.07867890e-020],\n",
      "       [-5.68791875e-012,  2.42027576e-019, -2.70978416e-019,\n",
      "         5.28568831e-021,  1.49480815e-001,  2.56397034e-011,\n",
      "        -2.16550173e-021, -3.02476424e-020,  1.42293342e-019,\n",
      "        -1.31123795e-019, -8.54448537e-023, -5.30984466e-021,\n",
      "         1.25361034e-020, -5.79626659e-018,  1.01369869e-131,\n",
      "         3.80132936e-019, -5.90010090e-285, -3.35431604e-020,\n",
      "         3.52305543e-019, -1.02998944e-018, -1.09432050e-018],\n",
      "       [-2.60551206e-004, -1.01998741e-011, -1.06854521e-013,\n",
      "        -1.75018081e-011,  2.56397034e-011,  1.30140286e-003,\n",
      "        -6.90431841e-015,  8.54322293e-015, -6.63396618e-012,\n",
      "         9.01555428e-013, -1.93381890e-014,  1.04601845e-014,\n",
      "        -7.66851118e-012,  1.16801245e-011, -1.31911012e-123,\n",
      "        -3.32814482e-010, -2.39460954e-276, -3.02837452e-013,\n",
      "        -6.98671523e-012,  3.58711147e-013,  3.72835658e-012],\n",
      "       [ 7.88924154e-016, -1.56400774e-020, -2.05387409e-022,\n",
      "        -4.86304109e-023, -2.16550173e-021, -6.90431841e-015,\n",
      "         1.49480815e-001,  3.23233774e-024, -3.11994605e-021,\n",
      "        -1.17742612e-022, -2.61167762e-025, -1.00240143e-024,\n",
      "        -6.93090859e-023, -2.16097772e-021,  2.53588380e-135,\n",
      "         5.76581679e-022,  2.59964589e-288, -5.38135182e-022,\n",
      "        -6.08225549e-021, -2.22538170e-022, -9.07807223e-022],\n",
      "       [ 7.64497519e-015,  1.67227577e-020, -3.06079599e-020,\n",
      "         2.31479169e-021, -3.02476424e-020,  8.54322293e-015,\n",
      "         3.23233774e-024,  1.49480815e-001,  7.50148818e-021,\n",
      "        -7.99777371e-021,  2.53572870e-024, -4.57374395e-023,\n",
      "         1.07295888e-021, -5.43562873e-020, -2.38918515e-134,\n",
      "         4.09588766e-020,  2.76515886e-287,  2.41734769e-022,\n",
      "         1.21623785e-020, -1.68488333e-019, -8.55664766e-020],\n",
      "       [ 9.00524378e-013, -4.96663999e-018, -7.10172060e-020,\n",
      "         1.10745090e-020,  1.42293342e-019, -6.63396618e-012,\n",
      "        -3.11994605e-021,  7.50148818e-021,  1.49480815e-001,\n",
      "        -1.00385458e-020, -5.39557112e-023, -2.31923247e-023,\n",
      "        -3.34442427e-020,  8.66280734e-019, -3.01077374e-132,\n",
      "         6.73806116e-019,  1.90517980e-285, -1.28032641e-019,\n",
      "        -4.31296848e-018,  2.99286791e-020, -1.83488984e-019],\n",
      "       [-9.66813924e-014,  4.53088238e-020, -1.46285016e-019,\n",
      "         1.62339623e-021, -1.31123795e-019,  9.01555428e-013,\n",
      "        -1.17742612e-022, -7.99777371e-021, -1.00385458e-020,\n",
      "         1.49480815e-001,  3.58449527e-024, -1.46641800e-022,\n",
      "         6.84933656e-022, -2.03169541e-019,  6.23079449e-133,\n",
      "         2.33027759e-020, -3.11043659e-286, -1.25035601e-021,\n",
      "         2.24044088e-020, -4.34353977e-019, -5.75881155e-019],\n",
      "       [ 1.00092271e-015, -2.68131878e-022,  5.79961603e-025,\n",
      "        -3.18708156e-023, -8.54448537e-023, -1.93381890e-014,\n",
      "        -2.61167762e-025,  2.53572870e-024, -5.39557112e-023,\n",
      "         3.58449527e-024,  1.49480815e-001,  1.03418585e-025,\n",
      "        -1.27133114e-023,  1.15155666e-022, -1.00151813e-135,\n",
      "        -2.63268064e-022,  6.33725952e-289, -7.07902003e-024,\n",
      "        -1.01402287e-022,  5.86069040e-023,  7.72968194e-024],\n",
      "       [-1.50809370e-015,  6.09222343e-022, -3.30956926e-022,\n",
      "         1.11257484e-022, -5.30984466e-021,  1.04601845e-014,\n",
      "        -1.00240143e-024, -4.57374395e-023, -2.31923247e-023,\n",
      "        -1.46641800e-022,  1.03418585e-025,  1.49480815e-001,\n",
      "         4.93361331e-023, -2.78458830e-021,  7.82173947e-135,\n",
      "         1.75600945e-021, -3.84259164e-288, -8.36407368e-024,\n",
      "         3.21093415e-022, -1.34550177e-021, -1.25615983e-021],\n",
      "       [ 4.43965743e-013, -1.01017609e-019,  1.43019042e-021,\n",
      "        -5.93655687e-021,  1.25361034e-020, -7.66851118e-012,\n",
      "        -6.93090859e-023,  1.07295888e-021, -3.34442427e-020,\n",
      "         6.84933656e-022, -1.27133114e-023,  4.93361331e-023,\n",
      "         1.49480815e-001,  5.35128444e-020, -3.22595694e-133,\n",
      "        -9.50836265e-021,  3.64903739e-286, -2.31423962e-021,\n",
      "        -4.08043481e-020,  2.62427406e-020,  5.15881346e-021],\n",
      "       [-1.49870818e-012,  2.52706444e-019, -3.27398908e-019,\n",
      "         1.36545825e-019, -5.79626659e-018,  1.16801245e-011,\n",
      "        -2.16097772e-021, -5.43562873e-020,  8.66280734e-019,\n",
      "        -2.03169541e-019,  1.15155666e-022, -2.78458830e-021,\n",
      "         5.35128444e-020,  1.49480815e-001,  9.03306683e-132,\n",
      "         2.12098644e-018, -2.91759716e-285, -2.92354554e-020,\n",
      "         6.11041250e-019, -1.63146276e-018, -1.51312286e-018],\n",
      "       [ 8.45305708e-125, -1.25638716e-131,  2.22932782e-133,\n",
      "         1.13937940e-133,  1.01369869e-131, -1.31911012e-123,\n",
      "         2.53588380e-135, -2.38918515e-134, -3.01077374e-132,\n",
      "         6.23079449e-133, -1.00151813e-135,  7.82173947e-135,\n",
      "        -3.22595694e-133,  9.03306683e-132,  1.49480815e-001,\n",
      "         1.74316881e-131,  0.00000000e+000, -1.08207024e-133,\n",
      "        -3.84366020e-132,  4.41968212e-133,  3.07013231e-132],\n",
      "       [-4.96030316e-011,  2.15116659e-018,  2.06720567e-019,\n",
      "        -4.93966357e-019,  3.80132936e-019, -3.32814482e-010,\n",
      "         5.76581679e-022,  4.09588766e-020,  6.73806116e-019,\n",
      "         2.33027759e-020, -2.63268064e-022,  1.75600945e-021,\n",
      "        -9.50836265e-021,  2.12098644e-018,  1.74316881e-131,\n",
      "         1.49480802e-001, -4.31178142e-284,  3.59865527e-020,\n",
      "         7.22312273e-019,  1.22321047e-018,  3.16749190e-019],\n",
      "       [-3.36697952e-277,  1.45598029e-284,  5.10514887e-286,\n",
      "        -8.64354842e-286, -5.90010090e-285, -2.39460954e-276,\n",
      "         2.59964589e-288,  2.76515886e-287,  1.90517980e-285,\n",
      "        -3.11043659e-286,  6.33725952e-289, -3.84259164e-288,\n",
      "         3.64903739e-286, -2.91759716e-285,  0.00000000e+000,\n",
      "        -4.31178142e-284,  1.49480815e-001,  2.03327452e-286,\n",
      "         3.67544370e-285,  6.85659800e-286, -1.01718066e-285],\n",
      "       [ 4.62080666e-014, -6.30528767e-019, -3.58153530e-021,\n",
      "        -8.35660012e-022, -3.35431604e-020, -3.02837452e-013,\n",
      "        -5.38135182e-022,  2.41734769e-022, -1.28032641e-019,\n",
      "        -1.25035601e-021, -7.07902003e-024, -8.36407368e-024,\n",
      "        -2.31423962e-021, -2.92354554e-020, -1.08207024e-133,\n",
      "         3.59865527e-020,  2.03327452e-286,  1.49480815e-001,\n",
      "        -2.41017173e-019,  2.09154649e-021, -1.07074877e-020],\n",
      "       [ 9.79595138e-013, -9.96404775e-018, -3.80344691e-020,\n",
      "        -3.58840018e-021,  3.52305543e-019, -6.98671523e-012,\n",
      "        -6.08225549e-021,  1.21623785e-020, -4.31296848e-018,\n",
      "         2.24044088e-020, -1.01402287e-022,  3.21093415e-022,\n",
      "        -4.08043481e-020,  6.11041250e-019, -3.84366020e-132,\n",
      "         7.22312273e-019,  3.67544370e-285, -2.41017173e-019,\n",
      "         1.49480815e-001,  1.99396718e-019,  5.99904191e-020],\n",
      "       [ 2.61858428e-013,  5.61960495e-019, -1.73768620e-018,\n",
      "         6.19107812e-020, -1.02998944e-018,  3.58711147e-013,\n",
      "        -2.22538170e-022, -1.68488333e-019,  2.99286791e-020,\n",
      "        -4.34353977e-019,  5.86069040e-023, -1.34550177e-021,\n",
      "         2.62427406e-020, -1.63146276e-018,  4.41968212e-133,\n",
      "         1.22321047e-018,  6.85659800e-286,  2.09154649e-021,\n",
      "         1.99396718e-019,  1.49480815e-001, -4.64264884e-018],\n",
      "       [-3.41583277e-013,  3.45804263e-019, -1.71896897e-018,\n",
      "         1.07867890e-020, -1.09432050e-018,  3.72835658e-012,\n",
      "        -9.07807223e-022, -8.55664766e-020, -1.83488984e-019,\n",
      "        -5.75881155e-019,  7.72968194e-024, -1.25615983e-021,\n",
      "         5.15881346e-021, -1.51312286e-018,  3.07013231e-132,\n",
      "         3.16749190e-019, -1.01718066e-285, -1.07074877e-020,\n",
      "         5.99904191e-020, -4.64264884e-018,  1.49480812e-001]]), 'sig2': 0.014948200373191313, 'modelIdx': array([4]), 'Zmed': array([1.]), 'Wsel': array([1.08172773]), 'Wcov': array([0.0013014])}\n"
     ]
    },
    {
     "name": "stderr",
     "output_type": "stream",
     "text": [
      "C:\\Users\\hp\\AppData\\Local\\Temp\\ipykernel_9164\\3512855728.py:147: RuntimeWarning: divide by zero encountered in log\n",
      "  + np.nansum((1-zm)*(np.log(1-p0) - np.log(1-zm))))\n",
      "C:\\Users\\hp\\AppData\\Local\\Temp\\ipykernel_9164\\3512855728.py:147: RuntimeWarning: invalid value encountered in multiply\n",
      "  + np.nansum((1-zm)*(np.log(1-p0) - np.log(1-zm))))\n"
     ]
    }
   ],
   "source": [
    "tol = 0.0001\n",
    "verbosity = True\n",
    "initz0 = initz0_1\n",
    "DS = Variational_Bayes_Code(D, xdts, initz0, tol, verbosity)\n",
    "\n",
    "print(DS) "
   ]
  },
  {
   "cell_type": "code",
   "execution_count": 15,
   "id": "932fd1e0",
   "metadata": {},
   "outputs": [],
   "source": [
    "mut1 = DS['wmean']\n",
    "sigt = DS['wCOV']\n",
    "DS['zmean'][np.where(DS['zmean']<0.5)] = 0\n",
    "mut1[np.where(DS['zmean']<0.5)] = 0\n",
    "DS['zmean'][np.where(np.diag(sigt)>1e-4)] = 0\n",
    "mut1[np.where(np.diag(sigt)>1e-4)] = 0"
   ]
  },
  {
   "cell_type": "code",
   "execution_count": 16,
   "id": "30795038",
   "metadata": {},
   "outputs": [
    {
     "data": {
      "text/plain": [
       "<StemContainer object of 3 artists>"
      ]
     },
     "execution_count": 16,
     "metadata": {},
     "output_type": "execute_result"
    },
    {
     "data": {
      "image/png": "[encoded data removed]",
      "text/plain": [
       "<Figure size 720x432 with 1 Axes>"
      ]
     },
     "metadata": {
      "needs_background": "light"
     },
     "output_type": "display_data"
    }
   ],
   "source": [
    "plt.figure(figsize=(10,6))\n",
    "plt.stem(DS['zmean'])"
   ]
  },
  {
   "cell_type": "code",
   "execution_count": 17,
   "id": "c8c31e50",
   "metadata": {},
   "outputs": [
    {
     "data": {
      "text/plain": [
       "array([1.001236, 0.      , 0.      , 0.      , 0.      , 0.      ,\n",
       "       0.      , 0.      , 0.      , 0.      , 0.      , 0.      ,\n",
       "       0.      , 0.      , 0.      , 0.      , 0.      , 0.      ,\n",
       "       0.      , 0.      , 0.      ])"
      ]
     },
     "execution_count": 17,
     "metadata": {},
     "output_type": "execute_result"
    }
   ],
   "source": [
    "DS['wmean']"
   ]
  },
  {
   "cell_type": "code",
   "execution_count": 18,
   "id": "64da265b",
   "metadata": {},
   "outputs": [
    {
     "data": {
      "text/plain": [
       "array([1.00061781, 0.        , 0.        , 0.        , 0.        ,\n",
       "       0.        , 0.        , 0.        , 0.        , 0.        ,\n",
       "       0.        , 0.        , 0.        , 0.        , 0.        ,\n",
       "       0.        , 0.        , 0.        , 0.        , 0.        ,\n",
       "       0.        ])"
      ]
     },
     "execution_count": 18,
     "metadata": {},
     "output_type": "execute_result"
    }
   ],
   "source": [
    "xi_diff = np.sqrt(DS['wmean'])\n",
    "xi_diff"
   ]
  }
 ],
 "metadata": {
  "colab": {
   "collapsed_sections": [],
   "name": "02_Duffing_Diffusion_Final_Variational_Gibbs_Diffusion variational Correct Ans.ipynb",
   "provenance": []
  },
  "kernelspec": {
   "display_name": "Python 3 (ipykernel)",
   "language": "python",
   "name": "python3"
  },
  "language_info": {
   "codemirror_mode": {
    "name": "ipython",
    "version": 3
   },
   "file_extension": ".py",
   "mimetype": "text/x-python",
   "name": "python",
   "nbconvert_exporter": "python",
   "pygments_lexer": "ipython3",
   "version": "3.9.7"
  }
 },
 "nbformat": 4,
 "nbformat_minor": 5
}
